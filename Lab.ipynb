{
  "nbformat": 4,
  "nbformat_minor": 0,
  "metadata": {
    "colab": {
      "name": "Lab.ipynb",
      "provenance": [],
      "collapsed_sections": [],
      "authorship_tag": "ABX9TyMbvaVUtBYmeb4tRtotlNH/",
      "include_colab_link": true
    },
    "kernelspec": {
      "name": "python3",
      "display_name": "Python 3"
    },
    "language_info": {
      "name": "python"
    },
    "accelerator": "GPU"
  },
  "cells": [
    {
      "cell_type": "markdown",
      "metadata": {
        "id": "view-in-github",
        "colab_type": "text"
      },
      "source": [
        "<a href=\"https://colab.research.google.com/github/BecomeAllan/RNN/blob/main/Lab.ipynb\" target=\"_parent\"><img src=\"https://colab.research.google.com/assets/colab-badge.svg\" alt=\"Open In Colab\"/></a>"
      ]
    },
    {
      "cell_type": "markdown",
      "metadata": {
        "id": "BdgNtVwJtz4b"
      },
      "source": [
        "# Laboratório\n",
        "\n",
        "## Implementações com RNNs"
      ]
    },
    {
      "cell_type": "markdown",
      "metadata": {
        "id": "v4mmQSmK7UMI"
      },
      "source": [
        "# O que é uma RNN ?"
      ]
    },
    {
      "cell_type": "markdown",
      "metadata": {
        "id": "_cxqL5BZ9Yhf"
      },
      "source": [
        "Uma Recurrent neural network (RNN) é uma arquitetura de Rede Neural que processa dados sequenciais, como palavra por palavra em uma frase ou informações através do tempo.\n",
        "\n",
        "Algo notável na RNN é a capacidade de processar sequências independente do tamanho do vetor de entrada, não precisando ter um tamanho fixo para poder rodar a rede. Por exemplo, uma única rede poderia processar frases com 3, 5, 10 ou mais palavras na mesma rede.\n",
        "\n",
        "Algumas aplicações são mostradas na imagem a seguir, no qual a *one to one* seria uma rede do tipo *FeedFoward*.\n"
      ]
    },
    {
      "cell_type": "markdown",
      "metadata": {
        "id": "G-cbN7-q9SgL"
      },
      "source": [
        "![image](https://raw.githubusercontent.com/BecomeAllan/RNN/main/images/Aquitetura.png)\n",
        "\n",
        "[Imagem retirada daqui](http://karpathy.github.io/2015/05/21/rnn-effectiveness/)\n"
      ]
    },
    {
      "cell_type": "markdown",
      "metadata": {
        "id": "CB21kFiqdI-n"
      },
      "source": [
        "# Comportamento de uma RNN\n",
        "\n",
        "O comportamento de uma célula padrão de RNN é através de um loop, onde o $x_t$ é o input confome o tempo $t$ e está célula representada por $h_t$ transporta a informação para a próxima $h_{t+1}$ com a informação adicional para atualizar junto com o $x_{t+1}$.\n",
        "\n",
        "O comportamento de um estado de célula $h_t$ diz conforme a próxima informação vai ser processada, criando uma correlação do estado passado para o presente $t$."
      ]
    },
    {
      "cell_type": "markdown",
      "metadata": {
        "id": "a0zgJjW0HEYm"
      },
      "source": [
        "<img src=\"https://raw.githubusercontent.com/BecomeAllan/RNN/main/images/Esquelto.png\" alt=\"rnn\" width=\"700\"/>\n",
        "\n",
        "\n",
        "<img src=\"https://raw.githubusercontent.com/BecomeAllan/RNN/main/images/Feedfoward.png\" alt=\"rnn\" width=\"700\"/>\n",
        "\n",
        "[Imagens retiradas daqui](http://introtodeeplearning.com/slides/6S191_MIT_DeepLearning_L2.pdf)"
      ]
    },
    {
      "cell_type": "markdown",
      "metadata": {
        "id": "PUaIU0sSf2EI"
      },
      "source": [
        "## Pseudo-código de uma célula RNN\n",
        "\n",
        "Queremos que a célula de RNN complete a frase:\n",
        "+ \"I love recurrent neural\"\n",
        "\n",
        "prevendo na última interação a palavra:\n",
        "+ \"network\"."
      ]
    },
    {
      "cell_type": "code",
      "metadata": {
        "id": "xMH3-P_Af10R"
      },
      "source": [
        "rnn_cell = RNN()\n",
        "\n",
        "# Inicial h_t\n",
        "hidden_state = [0,0,0,0]\n",
        "\n",
        "X_t = ['I', 'love', 'recurrent', 'neural'] ## input [x_1, x_2, x_3, x_4 ] output da Y_4 = ['network']\n",
        "\n",
        "for word in X_t:\n",
        "  y_hat, hidden_state = rnn_cell(word, hidden_state)\n",
        "\n",
        "# ['network']\n",
        "next_word_predict = y_hat"
      ],
      "execution_count": null,
      "outputs": []
    },
    {
      "cell_type": "markdown",
      "metadata": {
        "id": "27QE7eEijWXP"
      },
      "source": [
        "## Pseudo-código de uma célula RNN para amantes do KERAS"
      ]
    },
    {
      "cell_type": "code",
      "metadata": {
        "cellView": "code",
        "colab": {
          "base_uri": "https://localhost:8080/"
        },
        "id": "I8YMBGjqjqco",
        "outputId": "96661f35-ebed-4601-fbf4-1bcdb7be3e5c"
      },
      "source": [
        "# Bibliotecas usadas\n",
        "import tensorflow as tf\n",
        "from tensorflow import keras\n",
        "import numpy as np\n",
        "    \n",
        "dot = tf.matmul\n",
        "t = tf.transpose\n",
        "   \n",
        "# Criando a layer RNN\n",
        "class RNN_cell(keras.layers.Layer):\n",
        "  def __init__(self, rnn_units, input_dim, output_dim):\n",
        "    super(RNN_cell, self).__init__()\n",
        "\n",
        "    # Pesos\n",
        "    self.W_xh = self.add_weight(shape = (rnn_units, input_dim), initializer=\"random_normal\", dtype='float32')\n",
        "    self.W_hh = self.add_weight(shape = (rnn_units, rnn_units), initializer=\"random_normal\", dtype='float32')\n",
        "    self.W_hy = self.add_weight(shape = (output_dim, rnn_units), initializer=\"random_normal\", dtype='float32')\n",
        "\n",
        "    # Estado (h_0) inicial \n",
        "    self.h = tf.zeros([rnn_units, 1])\n",
        "  \n",
        "  def call(self, x):\n",
        "    # x -> h\n",
        "    # Atualiza o estado h_t\n",
        "    self.h = tf.tanh( dot(self.W_hh, self.h) + dot( self.W_xh, x))\n",
        "\n",
        "    # h -> y\n",
        "    # \"Dense\"\n",
        "    predict = dot( self.W_hy, self.h)\n",
        "    return predict\n",
        "\n",
        "  def get_config(self):\n",
        "    return {\"W_xh\": self.W_xh.numpy(),\n",
        "            \"W_hh\": self.W_hh.numpy(),\n",
        "            \"W_hy\": self.W_hy.numpy(),\n",
        "            \"h\": self.h.numpy()}\n",
        "\n",
        "\n",
        "# Constantes\n",
        "RNN_UNITS = 2\n",
        "INPUT_DIM = 2 # VOCAB_SIZE\n",
        "OUTPUT_DIM = RNN_UNITS # ALWAYS\n",
        "\n",
        "\n",
        "x = np.array([[1,2],  # t0\n",
        "              [3,4],  # t1\n",
        "              [5,6],  # t2\n",
        "              [7,8],  # t3\n",
        "              [9,10]],# t4\n",
        "              dtype='float32')\n",
        "\n",
        "print(f'Shape do input \"fit()\": {x.shape}')\n",
        "print(f'Keras shape do layer.Input(): {x.shape}')\n",
        "\n",
        "hidden = RNN_cell(RNN_UNITS, INPUT_DIM, OUTPUT_DIM)\n",
        "\n",
        "time_steps = x.shape[0] # TIME_STEP\n",
        "\n",
        "config = hidden.get_config()\n",
        "####\n",
        "print(f\"Pesos: \\n W_xh:\\n{t(config['W_xh'])}\\n\\n W_hh:\\n{t(config['W_hh'])}\\n\\n W_hy:\\n{t(config['W_hy'])}\\n\\n h:\\n{config['h']}\")"
      ],
      "execution_count": null,
      "outputs": [
        {
          "output_type": "stream",
          "text": [
            "Shape do input \"fit()\": (5, 2)\n",
            "Keras shape do layer.Input(): (5, 2)\n",
            "Pesos: \n",
            " W_xh:\n",
            "[[-0.01161261  0.01598544]\n",
            " [-0.02484365  0.06555596]]\n",
            "\n",
            " W_hh:\n",
            "[[ 0.02932811  0.00081087]\n",
            " [-0.05952572  0.02293377]]\n",
            "\n",
            " W_hy:\n",
            "[[ 0.03772816 -0.06201411]\n",
            " [-0.08535503 -0.00933242]]\n",
            "\n",
            " h:\n",
            "[[0.]\n",
            " [0.]]\n"
          ],
          "name": "stdout"
        }
      ]
    },
    {
      "cell_type": "code",
      "metadata": {
        "colab": {
          "base_uri": "https://localhost:8080/"
        },
        "id": "aSZbN0zNO5p_",
        "outputId": "8454f494-51e7-4bd4-fce4-766a35ff0d96"
      },
      "source": [
        "print(f'rnn_units: {RNN_UNITS} | input_dim: {INPUT_DIM} | output_dim: {OUTPUT_DIM} |  Número de sequencias: {temp}')\n",
        "print(f\"Input: \\n {x}\\n\")\n",
        "for t in range(0, time_steps):\n",
        "  ht = hidden.get_config()\n",
        "  xt = x[t,:]\n",
        "  xt = xt.reshape((2,1))\n",
        "  print(f\">> Tempo (t): {t} \\n>> Valor do estado (h{t}):\\n{ht['h']}\\n\")\n",
        "  y_hat = hidden(xt)\n",
        "  print(f\">> Previu (y_hat{t}) dim{y_hat.shape}: \\n{y_hat}\")\n",
        "  print('----\\n')\n",
        "\n",
        "keras.backend.clear_session()"
      ],
      "execution_count": null,
      "outputs": [
        {
          "output_type": "stream",
          "text": [
            "rnn_units: 2 | input_dim: 2 | output_dim: 2 |  Número de sequencias: 2\n",
            "Input: \n",
            " [[ 1.  2.]\n",
            " [ 3.  4.]\n",
            " [ 5.  6.]\n",
            " [ 7.  8.]\n",
            " [ 9. 10.]]\n",
            "\n",
            ">> Tempo (t): 0 \n",
            ">> Valor do estado (h0):\n",
            "[[0.]\n",
            " [0.]]\n",
            "\n",
            ">> Previu (y_hat0) dim(2, 1): \n",
            "[[-0.01477556]\n",
            " [ 0.00243375]]\n",
            "----\n",
            "\n",
            ">> Tempo (t): 1 \n",
            ">> Valor do estado (h1):\n",
            "[[-0.06122325]\n",
            " [ 0.1460455 ]]\n",
            "\n",
            ">> Previu (y_hat1) dim(2, 1): \n",
            "[[-0.03133528]\n",
            " [ 0.0060781 ]]\n",
            "----\n",
            "\n",
            ">> Tempo (t): 2 \n",
            ">> Valor do estado (h2):\n",
            "[[-0.14369991]\n",
            " [ 0.30359954]]\n",
            "\n",
            ">> Previu (y_hat2) dim(2, 1): \n",
            "[[-0.04660315]\n",
            " [ 0.00981696]]\n",
            "----\n",
            "\n",
            ">> Tempo (t): 3 \n",
            ">> Valor do estado (h3):\n",
            "[[-0.22546972]\n",
            " [ 0.44633102]]\n",
            "\n",
            ">> Previu (y_hat3) dim(2, 1): \n",
            "[[-0.06003286]\n",
            " [ 0.01350034]]\n",
            "----\n",
            "\n",
            ">> Tempo (t): 4 \n",
            ">> Valor do estado (h4):\n",
            "[[-0.30336207]\n",
            " [ 0.5692408 ]]\n",
            "\n",
            ">> Previu (y_hat4) dim(2, 1): \n",
            "[[-0.07145485]\n",
            " [ 0.01707494]]\n",
            "----\n",
            "\n"
          ],
          "name": "stdout"
        }
      ]
    },
    {
      "cell_type": "markdown",
      "metadata": {
        "id": "uEUHJIYAckOI"
      },
      "source": [
        "## Quantidade de  células (unidades) de RNN\n",
        "\n",
        "+ Veja pelo diagrama que não existe conexão entre as unidades de RNN mas apenas entre suas próprias células.\n",
        "\n",
        "<img src=\"https://raw.githubusercontent.com/BecomeAllan/RNN/main/images/Units.png\" alt=\"units\" width=\"700\"/>"
      ]
    },
    {
      "cell_type": "markdown",
      "metadata": {
        "id": "cR_Qb7Li8uY7"
      },
      "source": [
        "# Quando usar uma RNN ?"
      ]
    },
    {
      "cell_type": "markdown",
      "metadata": {
        "id": "9SZyaa6wz4aP"
      },
      "source": [
        "Como já introduzido, uma RNN é usada quando os dados tem interação conforme o \"tempo\" passa, ou melhor dizendo, se suas variáveis de *input* tem uma correlação com as dadas sequências destas.\n",
        "\n",
        "Ou seja, se uma sequência é passada para uma RNN, como $x_1=[1,2,3]$ e sua \"resposta\" seria o inverso dela, $y=[3,2,1]$, observa-se que existe uma relação entre a sequência do *input* $x$ que diz muito sobre como será o *output*.\n",
        "\n",
        "Há muitos outros exemplos que podem ser explorados com RNNs e alguns deles serão abordados por este documento.\n",
        "\n",
        "Alguns tipos de dados que são usados para utilizar RNNs:\n",
        "+ **Tipo de dados:** Sequências, One-Hot-Encode, Embedding..."
      ]
    },
    {
      "cell_type": "code",
      "metadata": {
        "cellView": "form",
        "id": "lx5BHmXw6D6R"
      },
      "source": [
        "#@title Funções auxiliares\n",
        "\n",
        "from random import randint, seed\n",
        "\n",
        "def sequence(zero_to , n):\t\n",
        "  return [randint(0, zero_to) for _ in range(n)]\n",
        "\n",
        "def backsequence(seq):\n",
        "  return seq[::-1]\n",
        "\n",
        "def one_hot_encode(data, max_lenght):\n",
        "  new_data = list()\n",
        "  for x in data:\n",
        "    hot = [0]*(max_lenght)\n",
        "    hot[x] = 1\n",
        "    new_data.append(hot)\n",
        "\n",
        "  return new_data\n",
        "\n",
        "def one_hot_decode(data):\n",
        "  return [np.argmax(x) for x in data]\n",
        "\n",
        "\n",
        "def create_dataset(train_size, test_size, time_steps, vocabulary_size):\n",
        "  x = [sequence(vocabulary_size - 1 , time_steps) for _ in range(train_size)]\n",
        "  y = [backsequence(y) for y in x]\n",
        "  X_train = np.array([one_hot_encode(x, vocabulary_size) for x in x])\n",
        "  Y_train = np.array([one_hot_encode(y, vocabulary_size) for y in y])\n",
        "  \n",
        "  x = [sequence(vocabulary_size - 1 , time_steps) for _ in range(test_size)]\n",
        "  y = [backsequence(y) for y in x]\n",
        "  X_test = np.array([one_hot_encode(x, vocabulary_size) for x in x])\n",
        "  Y_test = np.array([one_hot_encode(y, vocabulary_size) for y in y])\n",
        "\n",
        "  return X_train, Y_train, X_test, \tY_test\n",
        "\n",
        "def plot(p):\n",
        "\tplt.plot(p.history['accuracy'])\n",
        "\tplt.plot(p.history['val_accuracy'])\n",
        "\tplt.title('accuracy')\n",
        "\tplt.ylabel('accuracy')\n",
        "\tplt.xlabel('epoch')\n",
        "\tplt.legend(['train', 'val'], loc='upper left')\n",
        "\tplt.show()\n",
        " \n",
        "\tplt.plot(p.history['loss'])\n",
        "\tplt.plot(p.history['val_loss'])\n",
        "\tplt.title('loss')\n",
        "\tplt.ylabel('loss')\n",
        "\tplt.xlabel('epoch')\n",
        "\tplt.legend(['train', 'val'], loc='upper left')\n",
        "\tplt.show()"
      ],
      "execution_count": null,
      "outputs": []
    },
    {
      "cell_type": "markdown",
      "metadata": {
        "id": "IWCVsWc4Jus6"
      },
      "source": [
        "### Criando o dataset"
      ]
    },
    {
      "cell_type": "code",
      "metadata": {
        "colab": {
          "base_uri": "https://localhost:8080/"
        },
        "id": "MaJWxyQ-3bb0",
        "outputId": "e1eeae71-5731-4388-9957-a08924b5d796"
      },
      "source": [
        "# Dados em one-hot-encode\n",
        "X_train, Y_train, X_test, Y_test = create_dataset(train_size=20000, test_size=200, time_steps=5, vocabulary_size=10)\n",
        "\n",
        "print(f'Amostra 1:\\n\\\n",
        "x = {one_hot_decode(X_train[0])}\\n \\\n",
        "one_hot_encode do x:\\n \\\n",
        "{X_train[0]}\\n\\n \\\n",
        "y = {one_hot_decode(Y_train[0])}\\n \\\n",
        "one_hot_encode do y:\\n \\\n",
        "{Y_train[0]}')"
      ],
      "execution_count": null,
      "outputs": [
        {
          "output_type": "stream",
          "text": [
            "Amostra 1:\n",
            "x = [6, 0, 7, 5, 3]\n",
            " one_hot_encode do x:\n",
            " [[0 0 0 0 0 0 1 0 0 0]\n",
            " [1 0 0 0 0 0 0 0 0 0]\n",
            " [0 0 0 0 0 0 0 1 0 0]\n",
            " [0 0 0 0 0 1 0 0 0 0]\n",
            " [0 0 0 1 0 0 0 0 0 0]]\n",
            "\n",
            " y = [3, 5, 7, 0, 6]\n",
            " one_hot_encode do y:\n",
            " [[0 0 0 1 0 0 0 0 0 0]\n",
            " [0 0 0 0 0 1 0 0 0 0]\n",
            " [0 0 0 0 0 0 0 1 0 0]\n",
            " [1 0 0 0 0 0 0 0 0 0]\n",
            " [0 0 0 0 0 0 1 0 0 0]]\n"
          ],
          "name": "stdout"
        }
      ]
    },
    {
      "cell_type": "markdown",
      "metadata": {
        "id": "J-88GFwW3cBa"
      },
      "source": [
        "## Exemplo 1.1: Artificial neural network\n",
        "\n",
        "Conforme o exemplo da sequência $x_1=[1,2,3]$ e $y=[3,2,1]$, exploramos estes dados com uma rede neural *feedfoward* para avaliar sua resposta."
      ]
    },
    {
      "cell_type": "markdown",
      "metadata": {
        "id": "4MItf7-ycatD"
      },
      "source": [
        "### Modelo"
      ]
    },
    {
      "cell_type": "code",
      "metadata": {
        "colab": {
          "base_uri": "https://localhost:8080/",
          "height": 995
        },
        "id": "MCEt6XynNfIL",
        "outputId": "795a711c-cb1c-43fa-8f2c-b0a9fdee5787"
      },
      "source": [
        "from tensorflow import keras\n",
        "from keras import layers\n",
        "import matplotlib.pyplot as plt\n",
        "\n",
        "VOCAB_SIZE = 10\n",
        "TIME_STEPS = 5\n",
        "\n",
        "# Modelo RNA feedfoward\n",
        "modelo = keras.Sequential(\n",
        "    [\n",
        "     keras.Input(shape=(TIME_STEPS ,VOCAB_SIZE), name=\"Input\"),\n",
        "     layers.Dense(32, activation='sigmoid'),\n",
        "     layers.BatchNormalization(),\n",
        "     layers.Dense(64, activation='sigmoid'),\n",
        "     layers.BatchNormalization(),\n",
        "     layers.Dense(10, activation= \"softmax\")\n",
        "    ]\n",
        ")\n",
        "\n",
        "modelo.summary()\n",
        "\n",
        "# Treinando modelo\n",
        "modelo.compile(optimizer='adam', metrics=['accuracy'], loss= keras.losses.categorical_crossentropy)\n",
        "hist = modelo.fit(x = X_train,\n",
        "                  y = Y_train,\n",
        "                  validation_split=0.2,\n",
        "                  batch_size = 1000,\n",
        "                  epochs=200,\n",
        "                  callbacks=keras.callbacks.EarlyStopping('loss', patience=10),\n",
        "                  verbose=0)\n",
        "\n",
        "# Grafico\n",
        "plot(hist)\n",
        "\n",
        "# Previsões\n",
        "y_hat = modelo(X_test[0:10])\n",
        "\n",
        "\n",
        "x = [one_hot_decode(y) for y in X_test[0:10] ]\n",
        "y_hat_num = [[np.argmax(y) for y in k] for k in y_hat]\n",
        "y = [one_hot_decode(y) for y in Y_test[0:10] ]\n",
        "\n",
        "print(\"--Algumas previsões---\")\n",
        "print(f'x:\\n{x}\\ny_hat:\\n{y_hat_num}\\ny:\\n{y}')\n",
        "\n",
        "keras.backend.clear_session()"
      ],
      "execution_count": null,
      "outputs": [
        {
          "output_type": "stream",
          "text": [
            "Model: \"sequential\"\n",
            "_________________________________________________________________\n",
            "Layer (type)                 Output Shape              Param #   \n",
            "=================================================================\n",
            "dense (Dense)                (None, 5, 32)             352       \n",
            "_________________________________________________________________\n",
            "batch_normalization (BatchNo (None, 5, 32)             128       \n",
            "_________________________________________________________________\n",
            "dense_1 (Dense)              (None, 5, 64)             2112      \n",
            "_________________________________________________________________\n",
            "batch_normalization_1 (Batch (None, 5, 64)             256       \n",
            "_________________________________________________________________\n",
            "dense_2 (Dense)              (None, 5, 10)             650       \n",
            "=================================================================\n",
            "Total params: 3,498\n",
            "Trainable params: 3,306\n",
            "Non-trainable params: 192\n",
            "_________________________________________________________________\n"
          ],
          "name": "stdout"
        },
        {
          "output_type": "display_data",
          "data": {
            "image/png": "[encoded data removed]",
            "text/plain": [
              "<Figure size 432x288 with 1 Axes>"
            ]
          },
          "metadata": {
            "tags": [],
            "needs_background": "light"
          }
        },
        {
          "output_type": "display_data",
          "data": {
            "image/png": "[encoded data removed]",
            "text/plain": [
              "<Figure size 432x288 with 1 Axes>"
            ]
          },
          "metadata": {
            "tags": [],
            "needs_background": "light"
          }
        },
        {
          "output_type": "stream",
          "text": [
            "--Algumas previsões---\n",
            "x:\n",
            "[[6, 7, 5, 6, 2], [1, 9, 1, 1, 1], [6, 2, 1, 5, 4], [5, 5, 0, 1, 4], [8, 8, 1, 7, 8], [5, 2, 0, 9, 7], [5, 2, 4, 4, 4], [5, 9, 8, 3, 6], [5, 9, 6, 2, 4], [1, 6, 7, 2, 3]]\n",
            "y_hat:\n",
            "[[8, 8, 8, 8, 8], [8, 8, 8, 8, 8], [8, 8, 8, 8, 4], [8, 8, 8, 8, 4], [8, 8, 8, 8, 8], [8, 8, 8, 8, 8], [8, 8, 4, 4, 4], [8, 8, 8, 8, 8], [8, 8, 8, 8, 4], [8, 8, 8, 8, 8]]\n",
            "y:\n",
            "[[2, 6, 5, 7, 6], [1, 1, 1, 9, 1], [4, 5, 1, 2, 6], [4, 1, 0, 5, 5], [8, 7, 1, 8, 8], [7, 9, 0, 2, 5], [4, 4, 4, 2, 5], [6, 3, 8, 9, 5], [4, 2, 6, 9, 5], [3, 2, 7, 6, 1]]\n"
          ],
          "name": "stdout"
        }
      ]
    },
    {
      "cell_type": "markdown",
      "metadata": {
        "id": "GjkGqpXTb__R"
      },
      "source": [
        "## Exemplo 1.2: RNN\n",
        "\n",
        "Agora, o exemplo vai ser aplicado com uma RNN para avaliar sua capacidade."
      ]
    },
    {
      "cell_type": "markdown",
      "metadata": {
        "id": "bFKHpePMc1vm"
      },
      "source": [
        "### Modelo"
      ]
    },
    {
      "cell_type": "code",
      "metadata": {
        "colab": {
          "base_uri": "https://localhost:8080/",
          "height": 927
        },
        "id": "SiOx0WCOcyA_",
        "outputId": "3ed5acb3-b696-42fe-cc4c-5cf70a4b043e"
      },
      "source": [
        "from tensorflow import keras\n",
        "from keras import layers\n",
        "\n",
        "VOCAB_SIZE = 10\n",
        "TIME_STEPS = 5\n",
        "\n",
        "# Modelo RNN\n",
        "modelo = keras.Sequential(\n",
        "    [\n",
        "     keras.Input(shape=(TIME_STEPS, VOCAB_SIZE), name=\"Input\"),\n",
        "     # Output do RNN é o ultimo valor da sequencia\n",
        "     layers.SimpleRNN(16),\n",
        "     # Replica o valor do output TIME_STEPS vezes\n",
        "     layers.RepeatVector(TIME_STEPS),\n",
        "     layers.Dense(VOCAB_SIZE, activation= \"softmax\")\n",
        "    ]\n",
        ")\n",
        "\n",
        "modelo.summary()\n",
        "\n",
        "# Treinando modelo\n",
        "modelo.compile(optimizer='adam', metrics=['accuracy'], loss= keras.losses.categorical_crossentropy)\n",
        "hist = modelo.fit(x = X_train,\n",
        "                  y = Y_train,\n",
        "                  validation_split=0.2,\n",
        "                  batch_size = 1000,\n",
        "                  epochs=200,\n",
        "                  callbacks=keras.callbacks.EarlyStopping('loss', patience=10),\n",
        "                  verbose=0)\n",
        "\n",
        "# Grafico\n",
        "plot(hist)\n",
        "\n",
        "# Previsões\n",
        "y_hat = modelo(X_test[0:10])\n",
        "\n",
        "\n",
        "x = [one_hot_decode(y) for y in X_test[0:10] ]\n",
        "y_hat_num = [[np.argmax(y) for y in k] for k in y_hat]\n",
        "y = [one_hot_decode(y) for y in Y_test[0:10] ]\n",
        "\n",
        "print(\"--Algumas previsões---\")\n",
        "print(f'x:\\n{x}\\ny_hat:\\n{y_hat_num}\\ny:\\n{y}')\n",
        "\n",
        "keras.backend.clear_session()"
      ],
      "execution_count": null,
      "outputs": [
        {
          "output_type": "stream",
          "text": [
            "Model: \"sequential\"\n",
            "_________________________________________________________________\n",
            "Layer (type)                 Output Shape              Param #   \n",
            "=================================================================\n",
            "simple_rnn (SimpleRNN)       (None, 16)                432       \n",
            "_________________________________________________________________\n",
            "repeat_vector (RepeatVector) (None, 5, 16)             0         \n",
            "_________________________________________________________________\n",
            "dense (Dense)                (None, 5, 10)             170       \n",
            "=================================================================\n",
            "Total params: 602\n",
            "Trainable params: 602\n",
            "Non-trainable params: 0\n",
            "_________________________________________________________________\n"
          ],
          "name": "stdout"
        },
        {
          "output_type": "display_data",
          "data": {
            "image/png": "[encoded data removed]",
            "text/plain": [
              "<Figure size 432x288 with 1 Axes>"
            ]
          },
          "metadata": {
            "tags": [],
            "needs_background": "light"
          }
        },
        {
          "output_type": "display_data",
          "data": {
            "image/png": "[encoded data removed]",
            "text/plain": [
              "<Figure size 432x288 with 1 Axes>"
            ]
          },
          "metadata": {
            "tags": [],
            "needs_background": "light"
          }
        },
        {
          "output_type": "stream",
          "text": [
            "--Algumas previsões---\n",
            "x:\n",
            "[[6, 7, 5, 6, 2], [1, 9, 1, 1, 1], [6, 2, 1, 5, 4], [5, 5, 0, 1, 4], [8, 8, 1, 7, 8], [5, 2, 0, 9, 7], [5, 2, 4, 4, 4], [5, 9, 8, 3, 6], [5, 9, 6, 2, 4], [1, 6, 7, 2, 3]]\n",
            "y_hat:\n",
            "[[6, 6, 6, 6, 6], [1, 1, 1, 1, 1], [2, 2, 2, 2, 2], [5, 5, 5, 5, 5], [8, 8, 8, 8, 8], [2, 2, 2, 2, 2], [4, 4, 4, 4, 4], [8, 8, 8, 8, 8], [2, 2, 2, 2, 2], [2, 2, 2, 2, 2]]\n",
            "y:\n",
            "[[2, 6, 5, 7, 6], [1, 1, 1, 9, 1], [4, 5, 1, 2, 6], [4, 1, 0, 5, 5], [8, 7, 1, 8, 8], [7, 9, 0, 2, 5], [4, 4, 4, 2, 5], [6, 3, 8, 9, 5], [4, 2, 6, 9, 5], [3, 2, 7, 6, 1]]\n"
          ],
          "name": "stdout"
        }
      ]
    },
    {
      "cell_type": "markdown",
      "metadata": {
        "id": "Iq5niDHhplh9"
      },
      "source": [
        "### Diferentes quantidades de células de RNN"
      ]
    },
    {
      "cell_type": "code",
      "metadata": {
        "id": "eZMEuRp-h1A2",
        "cellView": "form"
      },
      "source": [
        "#@title Funções auxiliares\n",
        "def rnn_model(unn):\n",
        "  modelo = keras.Sequential(\n",
        "      [\n",
        "       keras.Input(shape=(TIME_STEPS, VOCAB_SIZE), name=\"Input\"),\n",
        "       # Output do RNN é o ultimo valor da sequencia\n",
        "       layers.SimpleRNN(unn),\n",
        "       # Replica o valor do output TIME_STEPS vezes\n",
        "       layers.RepeatVector(TIME_STEPS),\n",
        "       layers.Dense(VOCAB_SIZE, activation= \"softmax\")\n",
        "     ]\n",
        "    )\n",
        "  modelo.compile(optimizer='adam', metrics=['accuracy'],\n",
        "                 loss= keras.losses.categorical_crossentropy)\n",
        "  hist = modelo.fit(x = X_train,\n",
        "                  y = Y_train,\n",
        "                  validation_split=0.2,\n",
        "                  batch_size = 1000,\n",
        "                  epochs=200,\n",
        "                  callbacks=keras.callbacks.EarlyStopping('loss', patience=10),\n",
        "                  verbose=0)\n",
        "\n",
        "  # Previsões\n",
        "  y_hat = modelo(X_test[0:10])\n",
        "  y_hat_v = modelo.evaluate(X_test, Y_test, verbose=0)\n",
        "\n",
        "  x = [one_hot_decode(y) for y in X_test[0:10] ]\n",
        "  y_hat_num = [[np.argmax(y) for y in k] for k in y_hat]\n",
        "  y = [one_hot_decode(y) for y in Y_test[0:10] ]\n",
        "\n",
        "  print(f\"Acurácia: {round(y_hat_v[1],2)}\")\n",
        "  print(\"--Algumas previsões---\")\n",
        "  print(f'x:\\n{x}\\ny_hat:\\n{y_hat_num}\\ny:\\n{y}')\n",
        "  keras.backend.clear_session()\n"
      ],
      "execution_count": null,
      "outputs": []
    },
    {
      "cell_type": "code",
      "metadata": {
        "colab": {
          "base_uri": "https://localhost:8080/"
        },
        "id": "JSWx8sOAp-Wf",
        "outputId": "dbfc202e-61d3-4b17-c1a4-1a3ae15d9a18"
      },
      "source": [
        "## Unidades de RNN\n",
        "for u in [2,4,16,24]:\n",
        "  print(f'Unidades de RNN: {u}')\n",
        "  rnn_model(u)\n",
        "  print('\\n\\n')"
      ],
      "execution_count": null,
      "outputs": [
        {
          "output_type": "stream",
          "text": [
            "Unidades de RNN: 2\n",
            "Acurácia: 0.14\n",
            "--Algumas previsões---\n",
            "x:\n",
            "[[6, 7, 5, 6, 2], [1, 9, 1, 1, 1], [6, 2, 1, 5, 4], [5, 5, 0, 1, 4], [8, 8, 1, 7, 8], [5, 2, 0, 9, 7], [5, 2, 4, 4, 4], [5, 9, 8, 3, 6], [5, 9, 6, 2, 4], [1, 6, 7, 2, 3]]\n",
            "y_hat:\n",
            "[[2, 2, 2, 2, 2], [2, 2, 2, 2, 2], [9, 9, 9, 9, 9], [4, 4, 4, 4, 4], [2, 2, 2, 2, 2], [2, 2, 2, 2, 2], [0, 0, 0, 0, 0], [2, 2, 2, 2, 2], [9, 9, 9, 9, 9], [2, 2, 2, 2, 2]]\n",
            "y:\n",
            "[[2, 6, 5, 7, 6], [1, 1, 1, 9, 1], [4, 5, 1, 2, 6], [4, 1, 0, 5, 5], [8, 7, 1, 8, 8], [7, 9, 0, 2, 5], [4, 4, 4, 2, 5], [6, 3, 8, 9, 5], [4, 2, 6, 9, 5], [3, 2, 7, 6, 1]]\n",
            "\n",
            "\n",
            "\n",
            "Unidades de RNN: 4\n",
            "Acurácia: 0.31\n",
            "--Algumas previsões---\n",
            "x:\n",
            "[[6, 7, 5, 6, 2], [1, 9, 1, 1, 1], [6, 2, 1, 5, 4], [5, 5, 0, 1, 4], [8, 8, 1, 7, 8], [5, 2, 0, 9, 7], [5, 2, 4, 4, 4], [5, 9, 8, 3, 6], [5, 9, 6, 2, 4], [1, 6, 7, 2, 3]]\n",
            "y_hat:\n",
            "[[5, 5, 5, 5, 5], [1, 1, 1, 1, 1], [0, 0, 0, 0, 0], [0, 0, 0, 0, 0], [8, 8, 8, 8, 8], [5, 5, 5, 5, 5], [4, 4, 4, 4, 4], [9, 9, 9, 9, 9], [9, 9, 9, 9, 9], [3, 3, 3, 3, 3]]\n",
            "y:\n",
            "[[2, 6, 5, 7, 6], [1, 1, 1, 9, 1], [4, 5, 1, 2, 6], [4, 1, 0, 5, 5], [8, 7, 1, 8, 8], [7, 9, 0, 2, 5], [4, 4, 4, 2, 5], [6, 3, 8, 9, 5], [4, 2, 6, 9, 5], [3, 2, 7, 6, 1]]\n",
            "\n",
            "\n",
            "\n",
            "Unidades de RNN: 16\n",
            "Acurácia: 0.36\n",
            "--Algumas previsões---\n",
            "x:\n",
            "[[6, 7, 5, 6, 2], [1, 9, 1, 1, 1], [6, 2, 1, 5, 4], [5, 5, 0, 1, 4], [8, 8, 1, 7, 8], [5, 2, 0, 9, 7], [5, 2, 4, 4, 4], [5, 9, 8, 3, 6], [5, 9, 6, 2, 4], [1, 6, 7, 2, 3]]\n",
            "y_hat:\n",
            "[[6, 6, 6, 6, 6], [1, 1, 1, 1, 1], [1, 1, 1, 1, 1], [5, 5, 5, 5, 5], [8, 8, 8, 8, 8], [2, 2, 2, 2, 2], [4, 4, 4, 4, 4], [5, 5, 5, 5, 5], [6, 6, 6, 6, 6], [2, 2, 2, 2, 2]]\n",
            "y:\n",
            "[[2, 6, 5, 7, 6], [1, 1, 1, 9, 1], [4, 5, 1, 2, 6], [4, 1, 0, 5, 5], [8, 7, 1, 8, 8], [7, 9, 0, 2, 5], [4, 4, 4, 2, 5], [6, 3, 8, 9, 5], [4, 2, 6, 9, 5], [3, 2, 7, 6, 1]]\n",
            "\n",
            "\n",
            "\n",
            "Unidades de RNN: 24\n",
            "Acurácia: 0.36\n",
            "--Algumas previsões---\n",
            "x:\n",
            "[[6, 7, 5, 6, 2], [1, 9, 1, 1, 1], [6, 2, 1, 5, 4], [5, 5, 0, 1, 4], [8, 8, 1, 7, 8], [5, 2, 0, 9, 7], [5, 2, 4, 4, 4], [5, 9, 8, 3, 6], [5, 9, 6, 2, 4], [1, 6, 7, 2, 3]]\n",
            "y_hat:\n",
            "[[6, 6, 6, 6, 6], [1, 1, 1, 1, 1], [5, 5, 5, 5, 5], [5, 5, 5, 5, 5], [8, 8, 8, 8, 8], [2, 2, 2, 2, 2], [4, 4, 4, 4, 4], [3, 3, 3, 3, 3], [2, 2, 2, 2, 2], [7, 7, 7, 7, 7]]\n",
            "y:\n",
            "[[2, 6, 5, 7, 6], [1, 1, 1, 9, 1], [4, 5, 1, 2, 6], [4, 1, 0, 5, 5], [8, 7, 1, 8, 8], [7, 9, 0, 2, 5], [4, 4, 4, 2, 5], [6, 3, 8, 9, 5], [4, 2, 6, 9, 5], [3, 2, 7, 6, 1]]\n",
            "\n",
            "\n",
            "\n"
          ],
          "name": "stdout"
        }
      ]
    },
    {
      "cell_type": "markdown",
      "metadata": {
        "id": "svEFCbh3OlRR"
      },
      "source": [
        "### RNN com mais profundidade"
      ]
    },
    {
      "cell_type": "code",
      "metadata": {
        "cellView": "form",
        "id": "L3auUCpXJUPG"
      },
      "source": [
        "#@title Funções auxiliares\n",
        "def rnn_model_multilayer(unn):\n",
        "  modelo = keras.Sequential(\n",
        "      [\n",
        "       keras.Input(shape=(TIME_STEPS, VOCAB_SIZE), name=\"Input\"),\n",
        "       # Output do RNN é o ultimo valor da sequencia\n",
        "       layers.SimpleRNN(unn),\n",
        "       layers.RepeatVector(TIME_STEPS),\n",
        "       layers.SimpleRNN(unn),\n",
        "       layers.RepeatVector(TIME_STEPS),\n",
        "       layers.SimpleRNN(unn),\n",
        "       # Replica o valor do output TIME_STEPS vezes\n",
        "       layers.RepeatVector(TIME_STEPS),\n",
        "       layers.Dense(VOCAB_SIZE, activation= \"softmax\")\n",
        "     ]\n",
        "    )\n",
        "  modelo.compile(optimizer='adam', metrics=['accuracy'],\n",
        "                 loss= keras.losses.categorical_crossentropy)\n",
        "  hist = modelo.fit(x = X_train,\n",
        "                  y = Y_train,\n",
        "                  validation_split=0.2,\n",
        "                  batch_size = 1000,\n",
        "                  epochs=200,\n",
        "                  callbacks=keras.callbacks.EarlyStopping('loss', patience=10),\n",
        "                  verbose=0)\n",
        "\n",
        "  # Previsões\n",
        "  y_hat = modelo(X_test[0:10])\n",
        "  y_hat_v = modelo.evaluate(X_test, Y_test, verbose=0)\n",
        "\n",
        "  x = [one_hot_decode(y) for y in X_test[0:10] ]\n",
        "  y_hat_num = [[np.argmax(y) for y in k] for k in y_hat]\n",
        "  y = [one_hot_decode(y) for y in Y_test[0:10] ]\n",
        "\n",
        "  print(f\"Acurácia: {round(y_hat_v[1],2)}\")\n",
        "  print(\"--Algumas previsões---\")\n",
        "  print(f'x:\\n{x}\\ny_hat:\\n{y_hat_num}\\ny:\\n{y}')\n",
        "  keras.backend.clear_session()\n"
      ],
      "execution_count": null,
      "outputs": []
    },
    {
      "cell_type": "code",
      "metadata": {
        "colab": {
          "base_uri": "https://localhost:8080/"
        },
        "id": "zIk6NO8VJjjh",
        "outputId": "3dd4fdb5-ce9e-42b3-b12a-670ce4c5ccc8"
      },
      "source": [
        "\n",
        "## Unidades de RNN\n",
        "for u in [2,4,16,24]:\n",
        "  print(f'Unidades de RNN: {u}')\n",
        "  rnn_model_multilayer(u)\n",
        "  print('\\n\\n')\n"
      ],
      "execution_count": null,
      "outputs": [
        {
          "output_type": "stream",
          "text": [
            "Unidades de RNN: 2\n",
            "Acurácia: 0.18\n",
            "--Algumas previsões---\n",
            "x:\n",
            "[[6, 7, 5, 6, 2], [1, 9, 1, 1, 1], [6, 2, 1, 5, 4], [5, 5, 0, 1, 4], [8, 8, 1, 7, 8], [5, 2, 0, 9, 7], [5, 2, 4, 4, 4], [5, 9, 8, 3, 6], [5, 9, 6, 2, 4], [1, 6, 7, 2, 3]]\n",
            "y_hat:\n",
            "[[2, 2, 2, 2, 2], [1, 1, 1, 1, 1], [9, 9, 9, 9, 9], [6, 6, 6, 6, 6], [8, 8, 8, 8, 8], [2, 2, 2, 2, 2], [8, 8, 8, 8, 8], [4, 4, 4, 4, 4], [2, 2, 2, 2, 2], [3, 3, 3, 3, 3]]\n",
            "y:\n",
            "[[2, 6, 5, 7, 6], [1, 1, 1, 9, 1], [4, 5, 1, 2, 6], [4, 1, 0, 5, 5], [8, 7, 1, 8, 8], [7, 9, 0, 2, 5], [4, 4, 4, 2, 5], [6, 3, 8, 9, 5], [4, 2, 6, 9, 5], [3, 2, 7, 6, 1]]\n",
            "\n",
            "\n",
            "\n",
            "Unidades de RNN: 4\n",
            "Acurácia: 0.27\n",
            "--Algumas previsões---\n",
            "x:\n",
            "[[6, 7, 5, 6, 2], [1, 9, 1, 1, 1], [6, 2, 1, 5, 4], [5, 5, 0, 1, 4], [8, 8, 1, 7, 8], [5, 2, 0, 9, 7], [5, 2, 4, 4, 4], [5, 9, 8, 3, 6], [5, 9, 6, 2, 4], [1, 6, 7, 2, 3]]\n",
            "y_hat:\n",
            "[[6, 6, 6, 6, 6], [1, 1, 1, 1, 1], [6, 6, 6, 6, 6], [1, 1, 1, 1, 1], [8, 8, 8, 8, 8], [8, 8, 8, 8, 8], [2, 2, 2, 2, 2], [9, 9, 9, 9, 9], [2, 2, 2, 2, 2], [6, 6, 6, 6, 6]]\n",
            "y:\n",
            "[[2, 6, 5, 7, 6], [1, 1, 1, 9, 1], [4, 5, 1, 2, 6], [4, 1, 0, 5, 5], [8, 7, 1, 8, 8], [7, 9, 0, 2, 5], [4, 4, 4, 2, 5], [6, 3, 8, 9, 5], [4, 2, 6, 9, 5], [3, 2, 7, 6, 1]]\n",
            "\n",
            "\n",
            "\n",
            "Unidades de RNN: 16\n",
            "Acurácia: 0.36\n",
            "--Algumas previsões---\n",
            "x:\n",
            "[[6, 7, 5, 6, 2], [1, 9, 1, 1, 1], [6, 2, 1, 5, 4], [5, 5, 0, 1, 4], [8, 8, 1, 7, 8], [5, 2, 0, 9, 7], [5, 2, 4, 4, 4], [5, 9, 8, 3, 6], [5, 9, 6, 2, 4], [1, 6, 7, 2, 3]]\n",
            "y_hat:\n",
            "[[6, 6, 6, 6, 6], [1, 1, 1, 1, 1], [2, 2, 2, 2, 2], [5, 5, 5, 5, 5], [8, 8, 8, 8, 8], [0, 0, 0, 0, 0], [4, 4, 4, 4, 4], [6, 6, 6, 6, 6], [4, 4, 4, 4, 4], [7, 7, 7, 7, 7]]\n",
            "y:\n",
            "[[2, 6, 5, 7, 6], [1, 1, 1, 9, 1], [4, 5, 1, 2, 6], [4, 1, 0, 5, 5], [8, 7, 1, 8, 8], [7, 9, 0, 2, 5], [4, 4, 4, 2, 5], [6, 3, 8, 9, 5], [4, 2, 6, 9, 5], [3, 2, 7, 6, 1]]\n",
            "\n",
            "\n",
            "\n",
            "Unidades de RNN: 24\n",
            "Acurácia: 0.36\n",
            "--Algumas previsões---\n",
            "x:\n",
            "[[6, 7, 5, 6, 2], [1, 9, 1, 1, 1], [6, 2, 1, 5, 4], [5, 5, 0, 1, 4], [8, 8, 1, 7, 8], [5, 2, 0, 9, 7], [5, 2, 4, 4, 4], [5, 9, 8, 3, 6], [5, 9, 6, 2, 4], [1, 6, 7, 2, 3]]\n",
            "y_hat:\n",
            "[[6, 6, 6, 6, 6], [1, 1, 1, 1, 1], [5, 5, 5, 5, 5], [5, 5, 5, 5, 5], [8, 8, 8, 8, 8], [5, 5, 5, 5, 5], [4, 4, 4, 4, 4], [3, 3, 3, 3, 3], [5, 5, 5, 5, 5], [1, 1, 1, 1, 1]]\n",
            "y:\n",
            "[[2, 6, 5, 7, 6], [1, 1, 1, 9, 1], [4, 5, 1, 2, 6], [4, 1, 0, 5, 5], [8, 7, 1, 8, 8], [7, 9, 0, 2, 5], [4, 4, 4, 2, 5], [6, 3, 8, 9, 5], [4, 2, 6, 9, 5], [3, 2, 7, 6, 1]]\n",
            "\n",
            "\n",
            "\n"
          ],
          "name": "stdout"
        }
      ]
    },
    {
      "cell_type": "markdown",
      "metadata": {
        "id": "ZoOdeDVVOurd"
      },
      "source": [
        "### RNN com LSTM"
      ]
    },
    {
      "cell_type": "code",
      "metadata": {
        "cellView": "form",
        "id": "2Yj_GVcNOyk9"
      },
      "source": [
        "#@title Funções auxiliares\n",
        "def rnn_model_LSTM(unn):\n",
        "  modelo = keras.Sequential(\n",
        "      [\n",
        "       keras.Input(shape=(TIME_STEPS, VOCAB_SIZE), name=\"Input\"),\n",
        "       # Output do RNN é o ultimo valor da sequencia\n",
        "       layers.LSTM(unn),\n",
        "       layers.RepeatVector(TIME_STEPS),\n",
        "       layers.LSTM(unn),\n",
        "       layers.RepeatVector(TIME_STEPS),\n",
        "       layers.LSTM(unn),\n",
        "       # Replica o valor do output TIME_STEPS vezes\n",
        "       layers.RepeatVector(TIME_STEPS),\n",
        "       layers.Dense(VOCAB_SIZE, activation= \"softmax\")\n",
        "     ]\n",
        "    )\n",
        "  modelo.compile(optimizer='adam', metrics=['accuracy'],\n",
        "                 loss= keras.losses.categorical_crossentropy)\n",
        "  hist = modelo.fit(x = X_train,\n",
        "                  y = Y_train,\n",
        "                  validation_split=0.2,\n",
        "                  batch_size = 1000,\n",
        "                  epochs=200,\n",
        "                  callbacks=keras.callbacks.EarlyStopping('loss', patience=10),\n",
        "                  verbose=0)\n",
        "\n",
        "  # Previsões\n",
        "  y_hat = modelo(X_test[0:10])\n",
        "  y_hat_v = modelo.evaluate(X_test, Y_test, verbose=0)\n",
        "\n",
        "  x = [one_hot_decode(y) for y in X_test[0:10] ]\n",
        "  y_hat_num = [[np.argmax(y) for y in k] for k in y_hat]\n",
        "  y = [one_hot_decode(y) for y in Y_test[0:10] ]\n",
        "\n",
        "  print(f\"Acurácia: {round(y_hat_v[1],2)}\")\n",
        "  print(\"--Algumas previsões---\")\n",
        "  print(f'x:\\n{x}\\ny_hat:\\n{y_hat_num}\\ny:\\n{y}')\n",
        "  keras.backend.clear_session()\n"
      ],
      "execution_count": null,
      "outputs": []
    },
    {
      "cell_type": "code",
      "metadata": {
        "colab": {
          "base_uri": "https://localhost:8080/"
        },
        "id": "jPv6iulmOylN",
        "outputId": "824b43ed-fe14-4683-be47-24d33405eff8"
      },
      "source": [
        "\n",
        "## Unidades de RNN\n",
        "for u in [2,4,16,24]:\n",
        "  print(f'Unidades de RNN: {u}')\n",
        "  rnn_model_LSTM(u)\n",
        "  print('\\n\\n')\n"
      ],
      "execution_count": null,
      "outputs": [
        {
          "output_type": "stream",
          "text": [
            "Unidades de RNN: 2\n",
            "Acurácia: 0.23\n",
            "--Algumas previsões---\n",
            "x:\n",
            "[[6, 7, 5, 6, 2], [1, 9, 1, 1, 1], [6, 2, 1, 5, 4], [5, 5, 0, 1, 4], [8, 8, 1, 7, 8], [5, 2, 0, 9, 7], [5, 2, 4, 4, 4], [5, 9, 8, 3, 6], [5, 9, 6, 2, 4], [1, 6, 7, 2, 3]]\n",
            "y_hat:\n",
            "[[5, 5, 5, 5, 5], [1, 1, 1, 1, 1], [1, 1, 1, 1, 1], [5, 5, 5, 5, 5], [8, 8, 8, 8, 8], [2, 2, 2, 2, 2], [7, 7, 7, 7, 7], [8, 8, 8, 8, 8], [7, 7, 7, 7, 7], [2, 2, 2, 2, 2]]\n",
            "y:\n",
            "[[2, 6, 5, 7, 6], [1, 1, 1, 9, 1], [4, 5, 1, 2, 6], [4, 1, 0, 5, 5], [8, 7, 1, 8, 8], [7, 9, 0, 2, 5], [4, 4, 4, 2, 5], [6, 3, 8, 9, 5], [4, 2, 6, 9, 5], [3, 2, 7, 6, 1]]\n",
            "\n",
            "\n",
            "\n",
            "Unidades de RNN: 4\n",
            "Acurácia: 0.28\n",
            "--Algumas previsões---\n",
            "x:\n",
            "[[6, 7, 5, 6, 2], [1, 9, 1, 1, 1], [6, 2, 1, 5, 4], [5, 5, 0, 1, 4], [8, 8, 1, 7, 8], [5, 2, 0, 9, 7], [5, 2, 4, 4, 4], [5, 9, 8, 3, 6], [5, 9, 6, 2, 4], [1, 6, 7, 2, 3]]\n",
            "y_hat:\n",
            "[[6, 6, 6, 6, 6], [1, 1, 1, 1, 1], [6, 6, 6, 6, 6], [5, 5, 5, 5, 5], [8, 8, 8, 8, 8], [2, 2, 2, 2, 2], [7, 7, 7, 7, 7], [5, 5, 5, 5, 5], [6, 6, 6, 6, 6], [2, 2, 2, 2, 2]]\n",
            "y:\n",
            "[[2, 6, 5, 7, 6], [1, 1, 1, 9, 1], [4, 5, 1, 2, 6], [4, 1, 0, 5, 5], [8, 7, 1, 8, 8], [7, 9, 0, 2, 5], [4, 4, 4, 2, 5], [6, 3, 8, 9, 5], [4, 2, 6, 9, 5], [3, 2, 7, 6, 1]]\n",
            "\n",
            "\n",
            "\n",
            "Unidades de RNN: 16\n",
            "Acurácia: 0.36\n",
            "--Algumas previsões---\n",
            "x:\n",
            "[[6, 7, 5, 6, 2], [1, 9, 1, 1, 1], [6, 2, 1, 5, 4], [5, 5, 0, 1, 4], [8, 8, 1, 7, 8], [5, 2, 0, 9, 7], [5, 2, 4, 4, 4], [5, 9, 8, 3, 6], [5, 9, 6, 2, 4], [1, 6, 7, 2, 3]]\n",
            "y_hat:\n",
            "[[6, 6, 6, 6, 6], [1, 1, 1, 1, 1], [2, 2, 2, 2, 2], [5, 5, 5, 5, 5], [8, 8, 8, 8, 8], [2, 2, 2, 2, 2], [4, 4, 4, 4, 4], [9, 9, 9, 9, 9], [9, 9, 9, 9, 9], [1, 1, 1, 1, 1]]\n",
            "y:\n",
            "[[2, 6, 5, 7, 6], [1, 1, 1, 9, 1], [4, 5, 1, 2, 6], [4, 1, 0, 5, 5], [8, 7, 1, 8, 8], [7, 9, 0, 2, 5], [4, 4, 4, 2, 5], [6, 3, 8, 9, 5], [4, 2, 6, 9, 5], [3, 2, 7, 6, 1]]\n",
            "\n",
            "\n",
            "\n",
            "Unidades de RNN: 24\n",
            "Acurácia: 0.36\n",
            "--Algumas previsões---\n",
            "x:\n",
            "[[6, 7, 5, 6, 2], [1, 9, 1, 1, 1], [6, 2, 1, 5, 4], [5, 5, 0, 1, 4], [8, 8, 1, 7, 8], [5, 2, 0, 9, 7], [5, 2, 4, 4, 4], [5, 9, 8, 3, 6], [5, 9, 6, 2, 4], [1, 6, 7, 2, 3]]\n",
            "y_hat:\n",
            "[[6, 6, 6, 6, 6], [1, 1, 1, 1, 1], [6, 6, 6, 6, 6], [5, 5, 5, 5, 5], [8, 8, 8, 8, 8], [2, 2, 2, 2, 2], [4, 4, 4, 4, 4], [5, 5, 5, 5, 5], [5, 5, 5, 5, 5], [2, 2, 2, 2, 2]]\n",
            "y:\n",
            "[[2, 6, 5, 7, 6], [1, 1, 1, 9, 1], [4, 5, 1, 2, 6], [4, 1, 0, 5, 5], [8, 7, 1, 8, 8], [7, 9, 0, 2, 5], [4, 4, 4, 2, 5], [6, 3, 8, 9, 5], [4, 2, 6, 9, 5], [3, 2, 7, 6, 1]]\n",
            "\n",
            "\n",
            "\n"
          ],
          "name": "stdout"
        }
      ]
    },
    {
      "cell_type": "markdown",
      "metadata": {
        "id": "vwneC4YyPUkA"
      },
      "source": [
        "### RNN com LSTM e return_seq = TRUE"
      ]
    },
    {
      "cell_type": "code",
      "metadata": {
        "cellView": "form",
        "id": "RNMgVKOzPOU3"
      },
      "source": [
        "#@title Funções auxiliares\n",
        "def rnn_model_LSTM_SEQ(unn):\n",
        "  modelo = keras.Sequential(\n",
        "      [\n",
        "       keras.Input(shape=(TIME_STEPS, VOCAB_SIZE), name=\"Input\"),\n",
        "       # Output do RNN é o ultimo valor da sequencia\n",
        "       layers.LSTM(unn, return_sequences=True),\n",
        "       layers.LSTM(unn, return_sequences=True),\n",
        "       # Replica o valor do output TIME_STEPS vezes\n",
        "       layers.TimeDistributed(layers.Dense(VOCAB_SIZE, activation= \"softmax\"))\n",
        "     ]\n",
        "    )\n",
        "  modelo.compile(optimizer='adam', metrics=['accuracy'],\n",
        "                 loss= keras.losses.categorical_crossentropy)\n",
        "  hist = modelo.fit(x = X_train,\n",
        "                  y = Y_train,\n",
        "                  validation_split=0.2,\n",
        "                  batch_size = 1000,\n",
        "                  epochs=200,\n",
        "                  callbacks=keras.callbacks.EarlyStopping('loss', patience=10),\n",
        "                  verbose=0)\n",
        "\n",
        "  # Previsões\n",
        "  y_hat = modelo(X_test[0:10])\n",
        "  y_hat_v = modelo.evaluate(X_test, Y_test, verbose=0)\n",
        "\n",
        "  x = [one_hot_decode(y) for y in X_test[0:10] ]\n",
        "  y_hat_num = [[np.argmax(y) for y in k] for k in y_hat]\n",
        "  y = [one_hot_decode(y) for y in Y_test[0:10] ]\n",
        "\n",
        "  print(f\"Acurácia: {round(y_hat_v[1],2)}\")\n",
        "  print(\"--Algumas previsões---\")\n",
        "  print(f'x:\\n{x}\\ny_hat:\\n{y_hat_num}\\ny:\\n{y}')\n",
        "  keras.backend.clear_session()\n"
      ],
      "execution_count": null,
      "outputs": []
    },
    {
      "cell_type": "code",
      "metadata": {
        "colab": {
          "base_uri": "https://localhost:8080/"
        },
        "id": "4Uftx_FbPOU4",
        "outputId": "9e09028c-c335-4bb2-80f3-456627d72d58"
      },
      "source": [
        "\n",
        "## Unidades de RNN\n",
        "for u in [2,4,16,24]:\n",
        "  print(f'Unidades de RNN: {u}')\n",
        "  rnn_model_LSTM_SEQ(u)\n",
        "  print('\\n\\n')\n"
      ],
      "execution_count": null,
      "outputs": [
        {
          "output_type": "stream",
          "text": [
            "Unidades de RNN: 2\n",
            "Acurácia: 0.17\n",
            "--Algumas previsões---\n",
            "x:\n",
            "[[6, 7, 5, 6, 2], [1, 9, 1, 1, 1], [6, 2, 1, 5, 4], [5, 5, 0, 1, 4], [8, 8, 1, 7, 8], [5, 2, 0, 9, 7], [5, 2, 4, 4, 4], [5, 9, 8, 3, 6], [5, 9, 6, 2, 4], [1, 6, 7, 2, 3]]\n",
            "y_hat:\n",
            "[[6, 6, 6, 3, 3], [6, 1, 7, 0, 0], [6, 6, 6, 6, 6], [6, 9, 8, 8, 8], [6, 9, 8, 8, 8], [6, 4, 1, 8, 8], [6, 4, 4, 9, 8], [6, 9, 8, 8, 8], [6, 9, 8, 8, 8], [6, 4, 1, 1, 1]]\n",
            "y:\n",
            "[[2, 6, 5, 7, 6], [1, 1, 1, 9, 1], [4, 5, 1, 2, 6], [4, 1, 0, 5, 5], [8, 7, 1, 8, 8], [7, 9, 0, 2, 5], [4, 4, 4, 2, 5], [6, 3, 8, 9, 5], [4, 2, 6, 9, 5], [3, 2, 7, 6, 1]]\n",
            "\n",
            "\n",
            "\n",
            "Unidades de RNN: 4\n",
            "Acurácia: 0.29\n",
            "--Algumas previsões---\n",
            "x:\n",
            "[[6, 7, 5, 6, 2], [1, 9, 1, 1, 1], [6, 2, 1, 5, 4], [5, 5, 0, 1, 4], [8, 8, 1, 7, 8], [5, 2, 0, 9, 7], [5, 2, 4, 4, 4], [5, 9, 8, 3, 6], [5, 9, 6, 2, 4], [1, 6, 7, 2, 3]]\n",
            "y_hat:\n",
            "[[8, 2, 6, 6, 6], [8, 6, 1, 1, 1], [8, 2, 6, 6, 6], [8, 5, 5, 5, 5], [8, 8, 8, 8, 8], [8, 6, 6, 5, 5], [8, 6, 6, 4, 5], [8, 9, 9, 9, 5], [8, 9, 5, 5, 5], [8, 1, 1, 1, 1]]\n",
            "y:\n",
            "[[2, 6, 5, 7, 6], [1, 1, 1, 9, 1], [4, 5, 1, 2, 6], [4, 1, 0, 5, 5], [8, 7, 1, 8, 8], [7, 9, 0, 2, 5], [4, 4, 4, 2, 5], [6, 3, 8, 9, 5], [4, 2, 6, 9, 5], [3, 2, 7, 6, 1]]\n",
            "\n",
            "\n",
            "\n",
            "Unidades de RNN: 16\n",
            "Acurácia: 0.62\n",
            "--Algumas previsões---\n",
            "x:\n",
            "[[6, 7, 5, 6, 2], [1, 9, 1, 1, 1], [6, 2, 1, 5, 4], [5, 5, 0, 1, 4], [8, 8, 1, 7, 8], [5, 2, 0, 9, 7], [5, 2, 4, 4, 4], [5, 9, 8, 3, 6], [5, 9, 6, 2, 4], [1, 6, 7, 2, 3]]\n",
            "y_hat:\n",
            "[[9, 7, 5, 7, 6], [2, 9, 1, 9, 1], [9, 2, 1, 2, 6], [7, 5, 0, 5, 5], [7, 8, 1, 8, 8], [7, 2, 0, 2, 5], [7, 2, 4, 2, 5], [7, 5, 8, 9, 5], [7, 5, 6, 9, 5], [2, 6, 7, 6, 1]]\n",
            "y:\n",
            "[[2, 6, 5, 7, 6], [1, 1, 1, 9, 1], [4, 5, 1, 2, 6], [4, 1, 0, 5, 5], [8, 7, 1, 8, 8], [7, 9, 0, 2, 5], [4, 4, 4, 2, 5], [6, 3, 8, 9, 5], [4, 2, 6, 9, 5], [3, 2, 7, 6, 1]]\n",
            "\n",
            "\n",
            "\n",
            "Unidades de RNN: 24\n",
            "Acurácia: 0.63\n",
            "--Algumas previsões---\n",
            "x:\n",
            "[[6, 7, 5, 6, 2], [1, 9, 1, 1, 1], [6, 2, 1, 5, 4], [5, 5, 0, 1, 4], [8, 8, 1, 7, 8], [5, 2, 0, 9, 7], [5, 2, 4, 4, 4], [5, 9, 8, 3, 6], [5, 9, 6, 2, 4], [1, 6, 7, 2, 3]]\n",
            "y_hat:\n",
            "[[6, 4, 5, 7, 6], [1, 4, 1, 9, 1], [6, 2, 1, 2, 6], [2, 0, 0, 5, 5], [6, 8, 1, 8, 8], [2, 2, 0, 2, 5], [2, 2, 4, 2, 5], [2, 9, 8, 9, 5], [2, 9, 6, 9, 5], [1, 6, 7, 6, 1]]\n",
            "y:\n",
            "[[2, 6, 5, 7, 6], [1, 1, 1, 9, 1], [4, 5, 1, 2, 6], [4, 1, 0, 5, 5], [8, 7, 1, 8, 8], [7, 9, 0, 2, 5], [4, 4, 4, 2, 5], [6, 3, 8, 9, 5], [4, 2, 6, 9, 5], [3, 2, 7, 6, 1]]\n",
            "\n",
            "\n",
            "\n"
          ],
          "name": "stdout"
        }
      ]
    },
    {
      "cell_type": "markdown",
      "metadata": {
        "id": "Ev5tt6ec8JJr"
      },
      "source": [
        "### RNN com LSTM e return_state = TRUE, return_seq = TRUE"
      ]
    },
    {
      "cell_type": "code",
      "metadata": {
        "id": "YfTOTLUZPHGy",
        "cellView": "form"
      },
      "source": [
        "#@title Funções auxiliares\n",
        "def rnn_model_state(unn):\n",
        "  input = keras.Input(shape=(TIME_STEPS, VOCAB_SIZE))\n",
        "\n",
        "  lstm1 = layers.LSTM(unn, return_state= True)\n",
        "  LSTM_output, state_h, state_c = lstm1(input)\n",
        "  states = [state_h, state_c]\n",
        "\n",
        "  repeat = layers.RepeatVector(TIME_STEPS)\n",
        "  LSTM_output = repeat(LSTM_output)\n",
        "\n",
        "  lstm2 = layers.LSTM(unn, return_sequences=True)\n",
        "  all_state_h = lstm2(LSTM_output, initial_state = states)\n",
        "\n",
        "  dense = layers.TimeDistributed(layers.Dense(VOCAB_SIZE,\"softmax\" ))\n",
        "\n",
        "  out = dense(all_state_h)\n",
        "\n",
        "  modelo = keras.Model(input,out)\n",
        "  modelo.compile(optimizer='adam', metrics=['accuracy'],\n",
        "                 loss= keras.losses.categorical_crossentropy)\n",
        "  hist = modelo.fit(x = X_train,\n",
        "                  y = Y_train,\n",
        "                  validation_split=0.2,\n",
        "                  batch_size = 1000,\n",
        "                  epochs=200,\n",
        "                  callbacks=keras.callbacks.EarlyStopping('loss', patience=10),\n",
        "                  verbose=0)\n",
        "\n",
        "  # Previsões\n",
        "  y_hat = modelo(X_test[0:10])\n",
        "  y_hat_v = modelo.evaluate(X_test, Y_test, verbose=0)\n",
        "\n",
        "  x = [one_hot_decode(y) for y in X_test[0:10] ]\n",
        "  y_hat_num = [[np.argmax(y) for y in k] for k in y_hat]\n",
        "  y = [one_hot_decode(y) for y in Y_test[0:10] ]\n",
        "\n",
        "  print(f\"Acurácia: {round(y_hat_v[1],2)}\")\n",
        "  print(\"--Algumas previsões---\")\n",
        "  print(f'x:\\n{x}\\ny_hat:\\n{y_hat_num}\\ny:\\n{y}')\n",
        "  keras.backend.clear_session()\n"
      ],
      "execution_count": null,
      "outputs": []
    },
    {
      "cell_type": "code",
      "metadata": {
        "colab": {
          "base_uri": "https://localhost:8080/"
        },
        "id": "lOplTEEFPHHE",
        "outputId": "1f72eda5-7a32-46d4-d12f-d60317bc7e0b"
      },
      "source": [
        "\n",
        "## Unidades de RNN\n",
        "for u in [2,4,16,24]:\n",
        "  print(f'Unidades de RNN: {u}')\n",
        "  rnn_model_state(u)\n",
        "  print('\\n\\n')\n"
      ],
      "execution_count": null,
      "outputs": [
        {
          "output_type": "stream",
          "text": [
            "Unidades de RNN: 2\n",
            "Acurácia: 0.26\n",
            "--Algumas previsões---\n",
            "x:\n",
            "[[6, 7, 5, 6, 2], [1, 9, 1, 1, 1], [6, 2, 1, 5, 4], [5, 5, 0, 1, 4], [8, 8, 1, 7, 8], [5, 2, 0, 9, 7], [5, 2, 4, 4, 4], [5, 9, 8, 3, 6], [5, 9, 6, 2, 4], [1, 6, 7, 2, 3]]\n",
            "y_hat:\n",
            "[[2, 1, 5, 5, 5], [1, 1, 1, 1, 1], [2, 4, 2, 2, 2], [2, 1, 5, 5, 5], [8, 0, 8, 8, 8], [7, 2, 2, 2, 2], [2, 2, 2, 2, 2], [8, 3, 3, 3, 3], [2, 4, 2, 2, 2], [5, 7, 4, 7, 2]]\n",
            "y:\n",
            "[[2, 6, 5, 7, 6], [1, 1, 1, 9, 1], [4, 5, 1, 2, 6], [4, 1, 0, 5, 5], [8, 7, 1, 8, 8], [7, 9, 0, 2, 5], [4, 4, 4, 2, 5], [6, 3, 8, 9, 5], [4, 2, 6, 9, 5], [3, 2, 7, 6, 1]]\n",
            "\n",
            "\n",
            "\n",
            "Unidades de RNN: 4\n",
            "Acurácia: 0.4\n",
            "--Algumas previsões---\n",
            "x:\n",
            "[[6, 7, 5, 6, 2], [1, 9, 1, 1, 1], [6, 2, 1, 5, 4], [5, 5, 0, 1, 4], [8, 8, 1, 7, 8], [5, 2, 0, 9, 7], [5, 2, 4, 4, 4], [5, 9, 8, 3, 6], [5, 9, 6, 2, 4], [1, 6, 7, 2, 3]]\n",
            "y_hat:\n",
            "[[2, 5, 2, 3, 9], [1, 9, 1, 1, 1], [4, 5, 3, 6, 6], [8, 0, 5, 5, 4], [8, 1, 0, 4, 0], [7, 0, 5, 5, 5], [4, 5, 4, 5, 4], [6, 3, 9, 8, 8], [8, 2, 8, 6, 6], [3, 6, 3, 3, 9]]\n",
            "y:\n",
            "[[2, 6, 5, 7, 6], [1, 1, 1, 9, 1], [4, 5, 1, 2, 6], [4, 1, 0, 5, 5], [8, 7, 1, 8, 8], [7, 9, 0, 2, 5], [4, 4, 4, 2, 5], [6, 3, 8, 9, 5], [4, 2, 6, 9, 5], [3, 2, 7, 6, 1]]\n",
            "\n",
            "\n",
            "\n",
            "Unidades de RNN: 16\n",
            "Acurácia: 0.92\n",
            "--Algumas previsões---\n",
            "x:\n",
            "[[6, 7, 5, 6, 2], [1, 9, 1, 1, 1], [6, 2, 1, 5, 4], [5, 5, 0, 1, 4], [8, 8, 1, 7, 8], [5, 2, 0, 9, 7], [5, 2, 4, 4, 4], [5, 9, 8, 3, 6], [5, 9, 6, 2, 4], [1, 6, 7, 2, 3]]\n",
            "y_hat:\n",
            "[[2, 6, 5, 7, 6], [1, 1, 1, 1, 1], [4, 5, 1, 2, 6], [4, 1, 0, 5, 5], [8, 7, 1, 8, 8], [7, 0, 2, 2, 5], [4, 4, 4, 2, 5], [6, 3, 8, 9, 5], [4, 2, 6, 5, 5], [3, 3, 7, 6, 1]]\n",
            "y:\n",
            "[[2, 6, 5, 7, 6], [1, 1, 1, 9, 1], [4, 5, 1, 2, 6], [4, 1, 0, 5, 5], [8, 7, 1, 8, 8], [7, 9, 0, 2, 5], [4, 4, 4, 2, 5], [6, 3, 8, 9, 5], [4, 2, 6, 9, 5], [3, 2, 7, 6, 1]]\n",
            "\n",
            "\n",
            "\n",
            "Unidades de RNN: 24\n",
            "Acurácia: 0.99\n",
            "--Algumas previsões---\n",
            "x:\n",
            "[[6, 7, 5, 6, 2], [1, 9, 1, 1, 1], [6, 2, 1, 5, 4], [5, 5, 0, 1, 4], [8, 8, 1, 7, 8], [5, 2, 0, 9, 7], [5, 2, 4, 4, 4], [5, 9, 8, 3, 6], [5, 9, 6, 2, 4], [1, 6, 7, 2, 3]]\n",
            "y_hat:\n",
            "[[2, 6, 5, 7, 6], [1, 1, 1, 1, 1], [4, 5, 1, 2, 6], [4, 1, 0, 5, 5], [8, 7, 1, 8, 8], [7, 9, 0, 2, 5], [4, 4, 4, 2, 5], [6, 3, 8, 9, 5], [4, 2, 6, 9, 5], [3, 2, 7, 6, 1]]\n",
            "y:\n",
            "[[2, 6, 5, 7, 6], [1, 1, 1, 9, 1], [4, 5, 1, 2, 6], [4, 1, 0, 5, 5], [8, 7, 1, 8, 8], [7, 9, 0, 2, 5], [4, 4, 4, 2, 5], [6, 3, 8, 9, 5], [4, 2, 6, 9, 5], [3, 2, 7, 6, 1]]\n",
            "\n",
            "\n",
            "\n"
          ],
          "name": "stdout"
        }
      ]
    },
    {
      "cell_type": "markdown",
      "metadata": {
        "id": "qQhwSfMhqpVm"
      },
      "source": [
        "# Aplicações com RNN"
      ]
    },
    {
      "cell_type": "markdown",
      "metadata": {
        "id": "zk7F6x-GrFpU"
      },
      "source": [
        "Assim como foi visto"
      ]
    },
    {
      "cell_type": "code",
      "metadata": {
        "id": "N6WT2upL3RaF",
        "cellView": "form"
      },
      "source": [
        "#@title Funções Auxiliares\n",
        "\n",
        "def one_hot_decode(data):\n",
        "  return [np.argmax(x) for x in data]\n",
        "\n",
        "def plot(p):\n",
        "\tplt.plot(p.history['accuracy'])\n",
        "\tplt.plot(p.history['val_accuracy'])\n",
        "\tplt.title('accuracy')\n",
        "\tplt.ylabel('accuracy')\n",
        "\tplt.xlabel('epoch')\n",
        "\tplt.legend(['train', 'val'], loc='upper left')\n",
        "\tplt.show()\n",
        " \n",
        "\tplt.plot(p.history['loss'])\n",
        "\tplt.plot(p.history['val_loss'])\n",
        "\tplt.title('loss')\n",
        "\tplt.ylabel('loss')\n",
        "\tplt.xlabel('epoch')\n",
        "\tplt.legend(['train', 'val'], loc='upper left')\n",
        "\tplt.show()\n",
        " \n",
        "def one_hot_encode_K(data, max_lenght):\n",
        "  new_data = list()\n",
        "  for x in data:\n",
        "    hot = [0]*(max_lenght)\n",
        "    hot[x-1] = 1\n",
        "    new_data.append(hot)\n",
        "  return new_data\n",
        "\n",
        "def one_hot_encode(data, max_lenght):\n",
        "  new_data = list()\n",
        "  for x in data:\n",
        "    hot = [0]*(max_lenght)\n",
        "    hot[x] = 1\n",
        "    new_data.append(hot)\n",
        "  return new_data\n",
        "\n",
        "\n",
        "class Tokenizer_text():\n",
        "  def __init__(self):\n",
        "    self.regex = \"[\\'\\n\\t\\d\\\\!\\\"\\#\\$\\%\\&\\(\\)\\*\\+,-./:;<=>\\?@\\[\\]\\^_`\\{\\|\\}~]\"\n",
        "\n",
        "  def treat_text(self, text, regex = None):\n",
        "    if regex:\n",
        "      self.regex = regex\n",
        "    \n",
        "    return re.sub(self.regex, '', unidecode(text).lower())\n",
        "  \n",
        "  def treat_data(self, data, max_vocab = 0, regex = None):\n",
        "    if regex:\n",
        "      self.regex = regex\n",
        "      \n",
        "\n",
        "    treat = [self.treat_text(m) for m in data]\n",
        "    \n",
        "    join = ' '.join(treat)\n",
        "    vocab = set(join.split())\n",
        "\n",
        "    if (max_vocab==0):\n",
        "      max_vocab = vocab\n",
        "\n",
        "    elif len(vocab) <= max_vocab:\n",
        "      self.vocab = sorted(vocab)\n",
        "      self.dic = {u:(i+1) for i, u in enumerate(self.vocab)}\n",
        "      idx_data = self.text2idx(treat)\n",
        "      return idx_data\n",
        "\n",
        "    new_vocab = ['<OAV>'] + sorted(sample(vocab, max_vocab-1))\n",
        "    vocab = vocab - set(new_vocab)\n",
        "\n",
        "    self.vocab = new_vocab\n",
        "    self.dic = {u:i for i, u in enumerate(self.vocab)}\n",
        "    self.dic['<OAV>'] = 0\n",
        "\n",
        "   # text_data = [d.split(' ') for d in treat]\n",
        "    idx_data = self.text2idx(treat)\n",
        "\n",
        "    return idx_data\n",
        "\n",
        "  def idx2text(self, idex):\n",
        "    return [self.vocab[x] for x in idex]\n",
        "\n",
        "  def text2idx(self, text):\n",
        "    return [list(map(lambda x: self.dic[x] if x in self.dic else 0 , u.split(' '))) for u in text]\n",
        "\n",
        "  def for_idx_data2_text(self, data):\n",
        "    return [self.idx2text(x) for x in data]\n",
        "\n",
        "\n",
        "\n",
        "class Tokenizer_text_text():\n",
        "  def __init__(self):\n",
        "    return\n",
        "\n",
        "  def treat_text(self, text):\n",
        "    return unidecode(text).lower()\n",
        "  \n",
        "  def treat_data(self, data, max_vocab = 0):\n",
        "    treat = [self.treat_text(m) for m in data]\n",
        "    \n",
        "    join = '\\n\\n'.join(treat)\n",
        "    self.vocab = sorted(set(join))\n",
        "    self.dic = {u:(i+2) for i, u in enumerate(self.vocab)}\n",
        "    \n",
        "    if max_vocab <= len(self.vocab):\n",
        "      self.vocab = sorted(sample(self.vocab, max_vocab))\n",
        "      self.dic = {u:(i+2) for i, u in enumerate(self.vocab)}\n",
        "      idx_data = self.text2idx(join)\n",
        "      return idx_data\n",
        "    \n",
        "    idx_data = self.text2idx(join)\n",
        "\n",
        "    return idx_data\n",
        "\n",
        "  def idx2text(self, idex):\n",
        "    return [self.vocab[x] for x in idex]\n",
        "\n",
        "  def text2idx(self, text):\n",
        "    return [ self.dic[j] for j in text]\n",
        "\n",
        "  def for_idx_data2_text(self, data):\n",
        "    return [self.idx2text(x) for x in data]\n",
        "  \n",
        "\n",
        "def get_batch(vectorized_songs, seq_length, batch_size):\n",
        "  # the length of the vectorized songs string\n",
        "  n = vectorized_songs.shape[0] - 1\n",
        "  # randomly choose the starting indices for the examples in the training batch\n",
        "  idx = np.random.choice(n-seq_length, batch_size)\n",
        "\n",
        "  '''TODO: construct a list of input sequences for the training batch'''\n",
        "  input_batch = [vectorized_songs[i : i+seq_length] for i in idx]\n",
        "  # input_batch = # TODO\n",
        "  '''TODO: construct a list of output sequences for the training batch'''\n",
        "  output_batch = [vectorized_songs[i+1 : i+seq_length+1] for i in idx]\n",
        "  # output_batch = # TODO\n",
        "\n",
        "  # x_batch, y_batch provide the true inputs and targets for network training\n",
        "  x_batch = np.reshape(input_batch, [batch_size, seq_length])\n",
        "  y_batch = np.reshape(output_batch, [batch_size, seq_length])\n",
        "  return x_batch, y_batch\n"
      ],
      "execution_count": 4,
      "outputs": []
    },
    {
      "cell_type": "code",
      "metadata": {
        "id": "LqnJPUzMrbNx",
        "colab": {
          "base_uri": "https://localhost:8080/"
        },
        "cellView": "form",
        "outputId": "b53d1b9c-ca3d-4233-b973-dd9445fae98a"
      },
      "source": [
        "#@title Bibliotecas\n",
        "import pandas as pd\n",
        "import numpy as np\n",
        "import tensorflow as tf\n",
        "\n",
        "from tensorflow import keras\n",
        "from tensorflow.keras import layers\n",
        "\n",
        "from keras.preprocessing.text import Tokenizer\n",
        "from keras.preprocessing.sequence import pad_sequences\n",
        "\n",
        "from sklearn.model_selection import train_test_split\n",
        "\n",
        "from matplotlib import pyplot as plt\n",
        "from random import sample\n",
        "\n",
        "import os\n",
        "import time\n",
        "import re\n",
        "\n",
        "!pip install unidecode\n",
        "from unidecode import unidecode\n",
        "\n",
        "tf.config.list_physical_devices('GPU')"
      ],
      "execution_count": 3,
      "outputs": [
        {
          "output_type": "stream",
          "text": [
            "Requirement already satisfied: unidecode in /usr/local/lib/python3.7/dist-packages (1.2.0)\n"
          ],
          "name": "stdout"
        },
        {
          "output_type": "execute_result",
          "data": {
            "text/plain": [
              "[PhysicalDevice(name='/physical_device:GPU:0', device_type='GPU')]"
            ]
          },
          "metadata": {
            "tags": []
          },
          "execution_count": 3
        }
      ]
    },
    {
      "cell_type": "markdown",
      "metadata": {
        "id": "Q-bCz5eclRam"
      },
      "source": [
        "## Tratamento de dados"
      ]
    },
    {
      "cell_type": "code",
      "metadata": {
        "id": "LAfxkvsat4A0",
        "cellView": "form",
        "colab": {
          "base_uri": "https://localhost:8080/"
        },
        "outputId": "819511f6-81c4-4367-e113-d4f1099b355c"
      },
      "source": [
        "#@title Baixando os dados\n",
        "# Baixar dataset\n",
        "!gdown --id 15FhPHu7Hx6ul_k-EEBZwzpUWznK0gBR3\n",
        "\n",
        "!gdown --id 1Eq9oi3_1PuSZ5hoZS5M1A5pTMSyy3K_a\n",
        "\n",
        "!gdown --id 1uqM4Mc2kynrFZQaDMpnfFOuYa0vw3vhn\n"
      ],
      "execution_count": 3,
      "outputs": [
        {
          "output_type": "stream",
          "text": [
            "Downloading...\n",
            "From: https://drive.google.com/uc?id=15FhPHu7Hx6ul_k-EEBZwzpUWznK0gBR3\n",
            "To: /content/portuguese-poems.csv\n",
            "13.3MB [00:00, 36.4MB/s]\n",
            "Downloading...\n",
            "From: https://drive.google.com/uc?id=1Eq9oi3_1PuSZ5hoZS5M1A5pTMSyy3K_a\n",
            "To: /content/Ethereum Historical Data.csv\n",
            "100% 130k/130k [00:00<00:00, 1.15MB/s]\n",
            "Downloading...\n",
            "From: https://drive.google.com/uc?id=1uqM4Mc2kynrFZQaDMpnfFOuYa0vw3vhn\n",
            "To: /content/Historico_de_materias.csv\n",
            "33.4MB [00:02, 11.4MB/s]\n"
          ],
          "name": "stdout"
        }
      ]
    },
    {
      "cell_type": "code",
      "metadata": {
        "id": "rlafdjkFuxw4",
        "cellView": "form"
      },
      "source": [
        "#@title Dados\n",
        "# Data1\n",
        "poem_data = pd.read_csv(\"portuguese-poems.csv\", encoding='UTF-8')\n",
        "\n",
        "# Data2\n",
        "cript_data = pd.read_csv(\"Ethereum Historical Data.csv\", encoding='UTF-8')\n",
        "\n",
        "# Data3\n",
        "materias_data = pd.read_csv(\"Historico_de_materias.csv\", encoding='UTF-8')\n",
        "\n",
        "poem_data = poem_data.dropna()\n",
        "cript_data = cript_data.dropna()\n",
        "materias_data = materias_data.dropna()"
      ],
      "execution_count": 5,
      "outputs": []
    },
    {
      "cell_type": "markdown",
      "metadata": {
        "id": "GDMOUkDvp1Yy"
      },
      "source": [
        "### Tratamento portuguese-poems.csv"
      ]
    },
    {
      "cell_type": "code",
      "metadata": {
        "colab": {
          "base_uri": "https://localhost:8080/",
          "height": 202
        },
        "id": "KfLrdY6Rr02i",
        "cellView": "form",
        "outputId": "574d40ef-bbec-467a-bc05-902cce9f4520"
      },
      "source": [
        "#@title Dados(poem_data): portuguese-poems.csv\n",
        "poem_data.head()"
      ],
      "execution_count": null,
      "outputs": [
        {
          "output_type": "execute_result",
          "data": {
            "text/html": [
              "<div>\n",
              "<style scoped>\n",
              "    .dataframe tbody tr th:only-of-type {\n",
              "        vertical-align: middle;\n",
              "    }\n",
              "\n",
              "    .dataframe tbody tr th {\n",
              "        vertical-align: top;\n",
              "    }\n",
              "\n",
              "    .dataframe thead th {\n",
              "        text-align: right;\n",
              "    }\n",
              "</style>\n",
              "<table border=\"1\" class=\"dataframe\">\n",
              "  <thead>\n",
              "    <tr style=\"text-align: right;\">\n",
              "      <th></th>\n",
              "      <th>Author</th>\n",
              "      <th>Title</th>\n",
              "      <th>Content</th>\n",
              "      <th>Views</th>\n",
              "    </tr>\n",
              "  </thead>\n",
              "  <tbody>\n",
              "    <tr>\n",
              "      <th>0</th>\n",
              "      <td>Cecília Meireles</td>\n",
              "      <td>Retrato</td>\n",
              "      <td>Eu não tinha este rosto de hoje,\\r\\nAssim calm...</td>\n",
              "      <td>1018431</td>\n",
              "    </tr>\n",
              "    <tr>\n",
              "      <th>1</th>\n",
              "      <td>Fernando Pessoa</td>\n",
              "      <td>Para ser grande, sê inteiro: nada</td>\n",
              "      <td>Para ser grande, sê inteiro: nada\\r\\nTeu exage...</td>\n",
              "      <td>1979413</td>\n",
              "    </tr>\n",
              "    <tr>\n",
              "      <th>2</th>\n",
              "      <td>Marina Colasanti</td>\n",
              "      <td>Eu sei, mas não devia</td>\n",
              "      <td>Eu sei que a gente se acostuma. Mas não devia....</td>\n",
              "      <td>301509</td>\n",
              "    </tr>\n",
              "    <tr>\n",
              "      <th>3</th>\n",
              "      <td>Carlos Drummond de Andrade</td>\n",
              "      <td>Quadrilha</td>\n",
              "      <td>João amava Teresa que amava Raimundo\\r\\nque am...</td>\n",
              "      <td>1421206</td>\n",
              "    </tr>\n",
              "    <tr>\n",
              "      <th>4</th>\n",
              "      <td>Eugénio de Andrade</td>\n",
              "      <td>É urgente o amor</td>\n",
              "      <td>É urgente o amor.\\r\\nÉ urgente um barco no mar...</td>\n",
              "      <td>621197</td>\n",
              "    </tr>\n",
              "  </tbody>\n",
              "</table>\n",
              "</div>"
            ],
            "text/plain": [
              "                       Author  ...    Views\n",
              "0            Cecília Meireles  ...  1018431\n",
              "1             Fernando Pessoa  ...  1979413\n",
              "2            Marina Colasanti  ...   301509\n",
              "3  Carlos Drummond de Andrade  ...  1421206\n",
              "4          Eugénio de Andrade  ...   621197\n",
              "\n",
              "[5 rows x 4 columns]"
            ]
          },
          "metadata": {
            "tags": []
          },
          "execution_count": 7
        }
      ]
    },
    {
      "cell_type": "code",
      "metadata": {
        "cellView": "form",
        "id": "lUzqx4kdsfFZ"
      },
      "source": [
        "#@title Dados(cript_data): Ethereum Historical Data.csv\n",
        "\n",
        "cript_data.head()"
      ],
      "execution_count": null,
      "outputs": []
    },
    {
      "cell_type": "markdown",
      "metadata": {
        "id": "rGhT3eFX4lyu"
      },
      "source": [
        "### Tratamento Historico_de_materias.csv"
      ]
    },
    {
      "cell_type": "code",
      "metadata": {
        "colab": {
          "base_uri": "https://localhost:8080/",
          "height": 202
        },
        "id": "YV2DJ2cqu32h",
        "cellView": "form",
        "outputId": "d6738197-7785-4261-d5ad-6a97ff722160"
      },
      "source": [
        "#@title Dados(materias_data): Historico_de_materias.csv\n",
        "materias_data.head()"
      ],
      "execution_count": null,
      "outputs": [
        {
          "output_type": "execute_result",
          "data": {
            "text/html": [
              "<div>\n",
              "<style scoped>\n",
              "    .dataframe tbody tr th:only-of-type {\n",
              "        vertical-align: middle;\n",
              "    }\n",
              "\n",
              "    .dataframe tbody tr th {\n",
              "        vertical-align: top;\n",
              "    }\n",
              "\n",
              "    .dataframe thead th {\n",
              "        text-align: right;\n",
              "    }\n",
              "</style>\n",
              "<table border=\"1\" class=\"dataframe\">\n",
              "  <thead>\n",
              "    <tr style=\"text-align: right;\">\n",
              "      <th></th>\n",
              "      <th>data</th>\n",
              "      <th>url_noticia</th>\n",
              "      <th>url_noticia_curto</th>\n",
              "      <th>titulo</th>\n",
              "      <th>conteudo_noticia</th>\n",
              "      <th>assunto</th>\n",
              "    </tr>\n",
              "  </thead>\n",
              "  <tbody>\n",
              "    <tr>\n",
              "      <th>0</th>\n",
              "      <td>2014-01-25</td>\n",
              "      <td>https://web.archive.org/web/20140125123631/htt...</td>\n",
              "      <td>http://g1.globo.com/economia/noticia/2014/01/m...</td>\n",
              "      <td>Mesmo com alta do dólar, gastos de brasileiros...</td>\n",
              "      <td>\\n\\tA alta de 15% no dólar em 2013, a maior do...</td>\n",
              "      <td>economia</td>\n",
              "    </tr>\n",
              "    <tr>\n",
              "      <th>1</th>\n",
              "      <td>2014-01-25</td>\n",
              "      <td>https://web.archive.org/web/20140125123631/htt...</td>\n",
              "      <td>http://g1.globo.com/economia/noticia/2014/01/p...</td>\n",
              "      <td>Para Dilma, é 'apressada' a tese de que emerge...</td>\n",
              "      <td>\\n\\tA presidente Dilma Rousseff afirmou nesta ...</td>\n",
              "      <td>economia</td>\n",
              "    </tr>\n",
              "    <tr>\n",
              "      <th>2</th>\n",
              "      <td>2014-01-25</td>\n",
              "      <td>https://web.archive.org/web/20140125123631/htt...</td>\n",
              "      <td>http://g1.globo.com/economia/noticia/2014/01/t...</td>\n",
              "      <td>Temos sido capazes de reduzir a inflação', diz...</td>\n",
              "      <td>\\n\\tO presidente do Banco Central, Alexandre T...</td>\n",
              "      <td>economia</td>\n",
              "    </tr>\n",
              "    <tr>\n",
              "      <th>3</th>\n",
              "      <td>2014-01-25</td>\n",
              "      <td>https://web.archive.org/web/20140125123631/htt...</td>\n",
              "      <td>http://g1.globo.com/economia/noticia/2014/01/g...</td>\n",
              "      <td>Governo argentino autoriza compra de dólares a...</td>\n",
              "      <td>\\n\\tO governo argentino anunciou nesta sexta-f...</td>\n",
              "      <td>economia</td>\n",
              "    </tr>\n",
              "    <tr>\n",
              "      <th>4</th>\n",
              "      <td>2014-01-25</td>\n",
              "      <td>https://web.archive.org/web/20140125123631/htt...</td>\n",
              "      <td>http://g1.globo.com/economia/noticia/2014/01/p...</td>\n",
              "      <td>Petrobras desiste de parte da área de Bem-te-v...</td>\n",
              "      <td>\\n\\tA Petrobras afirmou que propôs à Agência N...</td>\n",
              "      <td>economia</td>\n",
              "    </tr>\n",
              "  </tbody>\n",
              "</table>\n",
              "</div>"
            ],
            "text/plain": [
              "         data  ...   assunto\n",
              "0  2014-01-25  ...  economia\n",
              "1  2014-01-25  ...  economia\n",
              "2  2014-01-25  ...  economia\n",
              "3  2014-01-25  ...  economia\n",
              "4  2014-01-25  ...  economia\n",
              "\n",
              "[5 rows x 6 columns]"
            ]
          },
          "metadata": {
            "tags": []
          },
          "execution_count": 10
        }
      ]
    },
    {
      "cell_type": "markdown",
      "metadata": {
        "id": "43FCVoZxTx0x"
      },
      "source": [
        "## Seq2value"
      ]
    },
    {
      "cell_type": "markdown",
      "metadata": {
        "id": "KxA3ZbhYpPLG"
      },
      "source": [
        "### Dataset"
      ]
    },
    {
      "cell_type": "code",
      "metadata": {
        "id": "uSUOwIcriHlO"
      },
      "source": [
        "from keras.preprocessing.text import Tokenizer\n",
        "from keras.layers.experimental.preprocessing import TextVectorization\n",
        "from keras.preprocessing.sequence import pad_sequences\n",
        "\n",
        "###### TITULOS ######\n",
        "\n",
        "# Menor quantidade de textos pra cada assunto\n",
        "texts_qnt = min([len(materias_data[materias_data['assunto'] == assunto]['titulo']) for assunto in  materias_data['assunto'].unique()])\n",
        "\n",
        "# Amostras com mesmo tamnho com base no assunto\n",
        "materias_data_samp = materias_data.groupby('assunto').sample(texts_qnt)\n",
        "\n",
        "# Remover caracteres especiais\n",
        "titulo = [\" \"+ unidecode(x).lower() + \" \" for x in materias_data_samp['titulo']]\n",
        "titulo = [re.sub('([, .][a-z]{1,3}[, .])|[0-9]|[:;/\\+,.?\"\\'(){}\\[\\]]|-', ' ', x) for x in titulo]\n",
        "titulo = np.array([re.sub('([, .][a-z]{1,3}[, .])', ' ', x) for x in titulo])\n",
        "\n",
        "#for materias_data['assunto'].unique()\n",
        "\n",
        "# Aprende as palavras\n",
        "tk_titulo = Tokenizer(char_level=False, lower=True, oov_token='[OAV]')\n",
        "tk_titulo.fit_on_texts(titulo)\n",
        "\n",
        "# Ordena por maior quantidade de ocorrência\n",
        "word_count = dict(sorted(tk_titulo.word_counts.items(), key=lambda item: item[1], reverse=True))\n",
        "word_count = list(word_count.keys())\n",
        "\n",
        "# Pega as 5000 palavras que mais ocorrem\n",
        "NUM_WORDS = 5000\n",
        "dic_titulo = {i:(u+2) for u,i in enumerate(word_count[1:(NUM_WORDS-1)])}\n",
        "\n",
        "# Adiciona quando n existe a palavra e qnd acaba\n",
        "dic_titulo['[OAV]'] = 1\n",
        "dic_titulo['[END]'] = 0\n",
        "\n",
        "tk_titulo.word_index = dic_titulo\n",
        "tk_titulo.index_word = {i:u for u,i in dic_titulo.items()}\n",
        "\n",
        "# Cria pad para as sequencias\n",
        "titulo_data = tk_titulo.texts_to_sequences(titulo)\n",
        "train_titulo = pad_sequences(titulo_data,padding='post', truncating='post')\n",
        "\n",
        "\n",
        "###### ASSUNTOS ######\n",
        "\n",
        "assuntos = materias_data_samp['assunto']\n",
        "\n",
        "tk_assunto = Tokenizer()\n",
        "\n",
        "tk_assunto.fit_on_texts(assuntos)\n",
        "\n",
        "assunto_data = tk_assunto.texts_to_sequences(assuntos)\n",
        "\n",
        "train_assunto = [one_hot_encode_K(x, 5) for x in  assunto_data]\n",
        "\n",
        "#### DATA\n",
        "\n",
        "X_train, X_test, Y_train, Y_test = train_test_split(train_titulo, train_assunto, test_size = 0.2, random_state=5)\n",
        "\n",
        "X_train = np.array(X_train)\n",
        "X_test = np.array(X_test)\n",
        "Y_train = np.array(Y_train).squeeze()\n",
        "Y_test = np.array(Y_test).squeeze()"
      ],
      "execution_count": null,
      "outputs": []
    },
    {
      "cell_type": "markdown",
      "metadata": {
        "id": "NJVapiQ6pVgj"
      },
      "source": [
        "### Modelo"
      ]
    },
    {
      "cell_type": "code",
      "metadata": {
        "colab": {
          "base_uri": "https://localhost:8080/",
          "height": 1000
        },
        "id": "0vP-K8-ShRJQ",
        "outputId": "41fec678-9cd4-4d41-9322-eaabbf6369ce"
      },
      "source": [
        "from tensorflow import keras\n",
        "from keras import layers\n",
        "\n",
        "# VOCAB_SIZE_X = len(tk_titulo.word_index) # 1000\n",
        "# TIME_STEPS = MAX_LENGTH_TITLE # 77\n",
        "# VOCAB_SIZE_Y = len(assuntos_tokenizer.word_index) # 5\n",
        "\n",
        "\n",
        "# Modelo RNN\n",
        "\n",
        "Input = keras.Input(shape=(15))\n",
        "x = layers.Embedding(5000, 256, mask_zero=0)(Input)\n",
        "lstm1 = layers.LSTM(25, return_sequences=True)(x)\n",
        "lstm2 = layers.LSTM(15, return_sequences=True)(lstm1)\n",
        "lstm3 = layers.LSTM(10)(lstm2)\n",
        "norm = layers.BatchNormalization()(lstm3)\n",
        "d1 = layers.Dense(5, activation='softmax')(norm)\n",
        "\n",
        "modelo = keras.Model(Input, d1)\n",
        "\n",
        "modelo.summary()\n",
        "\n",
        "# Treinando modelo\n",
        "modelo.compile(optimizer='adam', metrics=['accuracy'], loss= keras.losses.categorical_crossentropy)\n",
        "\n",
        "\n",
        "hist = modelo.fit(x = X_train,\n",
        "                  y = Y_train,\n",
        "                  validation_split=0.2,\n",
        "                  batch_size = 1000,\n",
        "                  epochs=300,\n",
        "                  verbose=0,\n",
        "                  callbacks=keras.callbacks.EarlyStopping('val_accuracy',verbose=1,\n",
        "                                                          patience=50,\n",
        "                                                          min_delta=0.05,\n",
        "                                                          restore_best_weights=True)\n",
        "                  )\n",
        "\n",
        "# Grafico\n",
        "plot(hist)\n",
        "\n",
        "# # Previsões\n",
        "num = np.random.randint(0,540, 10)\n",
        "\n",
        "y_hat = modelo(X_test[num])\n",
        "\n",
        "x = [[tk_titulo.index_word[x] for x in y ] for y in X_test[num] ]\n",
        "y_hat_num = [np.argmax(k) for k in y_hat]\n",
        "y = [x+1 for x in one_hot_decode(Y_test[num])]\n",
        "\n",
        "x_tx = [re.sub(\"\\[END\\]\",\"\",\" \".join(xt)) for xt in x]\n",
        "y__hat_tx = [tk_assunto.index_word[n+1 ] for n in y_hat_num]\n",
        "y_tx = [tk_assunto.index_word[n] for n in y]\n",
        "\n",
        "y_hat_v = modelo.evaluate(X_test, Y_test, verbose=0)\n",
        "x_tx = \"\\n\".join([\">> \"+ re.sub(\"\\[OAV\\]\",\"*\", x) for x in x_tx])\n",
        "\n",
        "print(\"--Algumas previsões---\")\n",
        "print(f'Acurácia no banco de teste: {round(y_hat_v[1]*100, 2)}%')\n",
        "print(f'x:\\n{x_tx}\\ny_hat:\\n{y__hat_tx}\\ny:\\n{y_tx}')\n",
        "\n",
        "keras.backend.clear_session()"
      ],
      "execution_count": null,
      "outputs": [
        {
          "output_type": "stream",
          "text": [
            "Model: \"model\"\n",
            "_________________________________________________________________\n",
            "Layer (type)                 Output Shape              Param #   \n",
            "=================================================================\n",
            "input_1 (InputLayer)         [(None, 15)]              0         \n",
            "_________________________________________________________________\n",
            "embedding (Embedding)        (None, 15, 256)           1280000   \n",
            "_________________________________________________________________\n",
            "lstm (LSTM)                  (None, 15, 25)            28200     \n",
            "_________________________________________________________________\n",
            "lstm_1 (LSTM)                (None, 15, 15)            2460      \n",
            "_________________________________________________________________\n",
            "lstm_2 (LSTM)                (None, 10)                1040      \n",
            "_________________________________________________________________\n",
            "batch_normalization (BatchNo (None, 10)                40        \n",
            "_________________________________________________________________\n",
            "dense (Dense)                (None, 5)                 55        \n",
            "=================================================================\n",
            "Total params: 1,311,795\n",
            "Trainable params: 1,311,775\n",
            "Non-trainable params: 20\n",
            "_________________________________________________________________\n",
            "Restoring model weights from the end of the best epoch.\n",
            "Epoch 00083: early stopping\n"
          ],
          "name": "stdout"
        },
        {
          "output_type": "display_data",
          "data": {
            "image/png": "[encoded data removed]",
            "text/plain": [
              "<Figure size 432x288 with 1 Axes>"
            ]
          },
          "metadata": {
            "tags": [],
            "needs_background": "light"
          }
        },
        {
          "output_type": "display_data",
          "data": {
            "image/png": "[encoded data removed]",
            "text/plain": [
              "<Figure size 432x288 with 1 Axes>"
            ]
          },
          "metadata": {
            "tags": [],
            "needs_background": "light"
          }
        },
        {
          "output_type": "stream",
          "text": [
            "--Algumas previsões---\n",
            "Acurácia no banco de teste: 80.19%\n",
            "x:\n",
            ">> mais paulo acerta contratacao atacante morato ituano        \n",
            ">> justica reafirma vinculo trabalhista entre uber motoristas reino unido      \n",
            ">> argentina paga divida fundos abutres pais deixa moratoria       \n",
            ">> levar conta * escolher melhor antivirus         \n",
            ">> temer sanciona combate bullying *          \n",
            ">> palmeiras rompe federacao provas interferencia externa cobra arbitro video      \n",
            ">> laura muller muda visual questiona padroes mundo exige gente seja jovem vida inteira  \n",
            ">> oficial * brasil ainda caso cada minutos        \n",
            ">> lewandowski aponta * democracia gilmar mendes critica        \n",
            ">> valentina bulc comemora maioridade nao pensa morar sozinha       \n",
            "y_hat:\n",
            "['esportes', 'tecnologia', 'politica', 'tecnologia', 'politica', 'esportes', 'famosos', 'tecnologia', 'politica', 'economia']\n",
            "y:\n",
            "['esportes', 'tecnologia', 'economia', 'tecnologia', 'politica', 'esportes', 'famosos', 'politica', 'politica', 'famosos']\n"
          ],
          "name": "stdout"
        }
      ]
    },
    {
      "cell_type": "markdown",
      "metadata": {
        "id": "akrp1IGzah0n"
      },
      "source": [
        "## Seq-Seq"
      ]
    },
    {
      "cell_type": "markdown",
      "metadata": {
        "id": "yR_hrMnuDZdJ"
      },
      "source": [
        "### Dataset"
      ]
    },
    {
      "cell_type": "code",
      "metadata": {
        "id": "21_tNZs_Dd7F"
      },
      "source": [
        "#from keras.layers.experimental.preprocessing import TextVectorization\n",
        "from keras.preprocessing.text import Tokenizer\n",
        "from keras.preprocessing.text import one_hot\n",
        "\n",
        "# Seleciona os poemas de 'Carlos Drummond de Andrade'\n",
        "poem_Drommond = poem_data[poem_data['Author']=='Carlos Drummond de Andrade']['Content']\n",
        "\n",
        "# Transforma em um data_set\n",
        "poem_data_Drommond = \"\\n\\n\".join(poem_Drommond)\n",
        "poem_data_Drommond = re.sub(\"   \", \" \", poem_data_Drommond)\n",
        "poem_data_Drommond = np.array([unidecode(poem_data_Drommond).lower()])\n",
        "\n",
        "# Cria os token\n",
        "tk_poem = Tokenizer(char_level=True, filters='')\n",
        "\n",
        "# Treina os tokens\n",
        "tk_poem.fit_on_texts(poem_data_Drommond)\n",
        "\n",
        "# tk_poem.word_counts (Quantas palavras)\n",
        "# Tokeniza os dados\n",
        "poem_data_Drommond_token = np.array(tk_poem.texts_to_sequences(poem_data_Drommond))\n",
        "\n",
        "# Cria um data set\n",
        "X_train, Y_train = get_batch(poem_data_Drommond_token[0], 100, 20000)\n",
        "Y_train = np.array([one_hot_encode(y, len(tk_poem.word_index) +1 ) for y in Y_train])\n",
        "\n",
        "print(\"\".join([tk_poem.index_word[x] for x in X_train[0]]))"
      ],
      "execution_count": null,
      "outputs": []
    },
    {
      "cell_type": "markdown",
      "metadata": {
        "id": "Y4gw0BKj_TWs"
      },
      "source": [
        "### Modelo: *teaching forcing*\n",
        "\n",
        "Em vez de calcular o erro das predições colocando estes como input, treinamos a rede com a resposta $y$ como input para prever a próxima predição e assim sucessivamente para os outputs no qual o modelo pode se adequar mais rápido."
      ]
    },
    {
      "cell_type": "code",
      "metadata": {
        "colab": {
          "base_uri": "https://localhost:8080/",
          "height": 1000
        },
        "id": "D458rH_d_TW2",
        "outputId": "2a59d0d3-d9d7-4c39-9d5f-3a2d43525f43"
      },
      "source": [
        "from tensorflow.keras import layers\n",
        "\n",
        "\n",
        "VOCAB_SIZE = len(tk_poem.index_word)\n",
        "TIME_STEPS = 100\n",
        "\n",
        "# Modelo RNN\n",
        "Input = keras.Input(shape=(TIME_STEPS, ), name=\"Input\")\n",
        "x = keras.layers.Embedding(input_dim=VOCAB_SIZE + 1, output_dim=100)(Input)\n",
        "\n",
        "d = layers.Dense(10, activation= 'sigmoid')(x)\n",
        "\n",
        "lstm1_out, s_h, s_c = layers.LSTM(20, return_sequences=True, return_state=True)(d)\n",
        "states1 = [s_h, s_c]\n",
        "\n",
        "norm1 = layers.BatchNormalization()(lstm1_out)\n",
        "d1 = layers.Dense(30, activation= \"sigmoid\")(norm1)\n",
        "norm2 = layers.BatchNormalization()(d1)\n",
        "d2 = layers.Dense(30, activation= \"sigmoid\")(norm2)\n",
        "\n",
        "lstm2 = layers.LSTM(20, return_sequences=True)(d2, initial_state = states1)\n",
        "lstm3 = layers.LSTM(20, return_sequences=True)(lstm2, initial_state = states1)\n",
        "\n",
        "\n",
        "norm2 = layers.BatchNormalization()(lstm3)\n",
        "d3 = layers.TimeDistributed(layers.Dense(30, activation= \"sigmoid\"))(norm2)\n",
        "norm3 = layers.BatchNormalization()(d3)\n",
        "d4 = layers.TimeDistributed(layers.Dense(30, activation= \"sigmoid\"))(norm3)\n",
        "out = layers.Dense(VOCAB_SIZE + 1, activation= \"softmax\")(d4)\n",
        "\n",
        "modelo = keras.Model(Input, out)\n",
        "\n",
        "\n",
        "modelo.summary()\n",
        "\n",
        "# Treinando modelo\n",
        "modelo.compile(optimizer=keras.optimizers.Adam(0.05),\n",
        "               metrics=['accuracy'],\n",
        "               loss= keras.losses.categorical_crossentropy)\n",
        "\n",
        "y = modelo(X_train[0:2])\n",
        "\n",
        "y = np.array([[np.argmax(x) for x in k] for k in y ])\n",
        "\n",
        "\n",
        "hist = modelo.fit(x = X_train,\n",
        "                  y = Y_train,\n",
        "                  validation_split=0.2,\n",
        "                  batch_size = 1000,\n",
        "                  epochs=200,\n",
        "                  verbose=1,\n",
        "                  callbacks=keras.callbacks.EarlyStopping('accuracy',\n",
        "                                                          patience=10,\n",
        "                                                          min_delta=0.005,\n",
        "                                                          restore_best_weights=True)\n",
        "                  )\n",
        "\n",
        "# Grafico\n",
        "plot(hist)\n",
        "\n",
        "y_hat = modelo(X_train[0:2])\n",
        "# Previsões\n",
        "y_hat = np.array([[np.argmax(x) for x in k] for k in y_hat ])\n",
        "y_hat = np.array([[tk_poem.index_word[x] for x in k] for k in y_hat ])\n",
        "\n",
        "print(\"\".join(y_hat.reshape((1,200))[0]))\n",
        "\n",
        "keras.backend.clear_session()"
      ],
      "execution_count": null,
      "outputs": [
        {
          "output_type": "stream",
          "text": [
            "Model: \"model\"\n",
            "__________________________________________________________________________________________________\n",
            "Layer (type)                    Output Shape         Param #     Connected to                     \n",
            "==================================================================================================\n",
            "Input (InputLayer)              [(None, 100)]        0                                            \n",
            "__________________________________________________________________________________________________\n",
            "embedding_1 (Embedding)         (None, 100, 100)     4500        Input[0][0]                      \n",
            "__________________________________________________________________________________________________\n",
            "dense (Dense)                   (None, 100, 10)      1010        embedding_1[0][0]                \n",
            "__________________________________________________________________________________________________\n",
            "lstm (LSTM)                     [(None, 100, 20), (N 2480        dense[0][0]                      \n",
            "__________________________________________________________________________________________________\n",
            "batch_normalization (BatchNorma (None, 100, 20)      80          lstm[0][0]                       \n",
            "__________________________________________________________________________________________________\n",
            "dense_1 (Dense)                 (None, 100, 30)      630         batch_normalization[0][0]        \n",
            "__________________________________________________________________________________________________\n",
            "batch_normalization_1 (BatchNor (None, 100, 30)      120         dense_1[0][0]                    \n",
            "__________________________________________________________________________________________________\n",
            "dense_2 (Dense)                 (None, 100, 30)      930         batch_normalization_1[0][0]      \n",
            "__________________________________________________________________________________________________\n",
            "lstm_1 (LSTM)                   (None, 100, 20)      4080        dense_2[0][0]                    \n",
            "                                                                 lstm[0][1]                       \n",
            "                                                                 lstm[0][2]                       \n",
            "__________________________________________________________________________________________________\n",
            "lstm_2 (LSTM)                   (None, 100, 20)      3280        lstm_1[0][0]                     \n",
            "                                                                 lstm[0][1]                       \n",
            "                                                                 lstm[0][2]                       \n",
            "__________________________________________________________________________________________________\n",
            "batch_normalization_2 (BatchNor (None, 100, 20)      80          lstm_2[0][0]                     \n",
            "__________________________________________________________________________________________________\n",
            "time_distributed (TimeDistribut (None, 100, 30)      630         batch_normalization_2[0][0]      \n",
            "__________________________________________________________________________________________________\n",
            "batch_normalization_3 (BatchNor (None, 100, 30)      120         time_distributed[0][0]           \n",
            "__________________________________________________________________________________________________\n",
            "time_distributed_1 (TimeDistrib (None, 100, 30)      930         batch_normalization_3[0][0]      \n",
            "__________________________________________________________________________________________________\n",
            "dense_5 (Dense)                 (None, 100, 45)      1395        time_distributed_1[0][0]         \n",
            "==================================================================================================\n",
            "Total params: 20,265\n",
            "Trainable params: 20,065\n",
            "Non-trainable params: 200\n",
            "__________________________________________________________________________________________________\n",
            "Epoch 1/200\n",
            "16/16 [==============================] - 21s 1s/step - loss: 2.9099 - accuracy: 0.1906 - val_loss: 2.9543 - val_accuracy: 0.2163\n",
            "Epoch 2/200\n",
            "16/16 [==============================] - 16s 981ms/step - loss: 2.4979 - accuracy: 0.2594 - val_loss: 3.2652 - val_accuracy: 0.1055\n",
            "Epoch 3/200\n",
            "16/16 [==============================] - 16s 982ms/step - loss: 2.3462 - accuracy: 0.2837 - val_loss: 3.4661 - val_accuracy: 0.1055\n",
            "Epoch 4/200\n",
            "16/16 [==============================] - 16s 978ms/step - loss: 2.2741 - accuracy: 0.2952 - val_loss: 3.5617 - val_accuracy: 0.0349\n",
            "Epoch 5/200\n",
            "16/16 [==============================] - 16s 981ms/step - loss: 2.2092 - accuracy: 0.3227 - val_loss: 3.4774 - val_accuracy: 0.0349\n",
            "Epoch 6/200\n",
            "16/16 [==============================] - 16s 979ms/step - loss: 2.1579 - accuracy: 0.3372 - val_loss: 3.4754 - val_accuracy: 0.0451\n",
            "Epoch 7/200\n",
            "16/16 [==============================] - 16s 993ms/step - loss: 2.1271 - accuracy: 0.3404 - val_loss: 3.5863 - val_accuracy: 0.0465\n",
            "Epoch 8/200\n",
            "16/16 [==============================] - 16s 995ms/step - loss: 2.1010 - accuracy: 0.3447 - val_loss: 3.4259 - val_accuracy: 0.0742\n",
            "Epoch 9/200\n",
            "16/16 [==============================] - 16s 984ms/step - loss: 2.0787 - accuracy: 0.3490 - val_loss: 3.2775 - val_accuracy: 0.0928\n",
            "Epoch 10/200\n",
            "16/16 [==============================] - 16s 988ms/step - loss: 2.0590 - accuracy: 0.3530 - val_loss: 3.1466 - val_accuracy: 0.1469\n",
            "Epoch 11/200\n",
            "16/16 [==============================] - 16s 995ms/step - loss: 2.0456 - accuracy: 0.3575 - val_loss: 3.1276 - val_accuracy: 0.1413\n",
            "Epoch 12/200\n",
            "16/16 [==============================] - 16s 994ms/step - loss: 2.0347 - accuracy: 0.3613 - val_loss: 3.1358 - val_accuracy: 0.1884\n",
            "Epoch 13/200\n",
            "16/16 [==============================] - 16s 991ms/step - loss: 2.0292 - accuracy: 0.3592 - val_loss: 2.9011 - val_accuracy: 0.2073\n",
            "Epoch 14/200\n",
            "16/16 [==============================] - 16s 989ms/step - loss: 2.0012 - accuracy: 0.3703 - val_loss: 2.8506 - val_accuracy: 0.2070\n",
            "Epoch 15/200\n",
            "16/16 [==============================] - 16s 995ms/step - loss: 2.0244 - accuracy: 0.3651 - val_loss: 2.7735 - val_accuracy: 0.2120\n",
            "Epoch 16/200\n",
            "16/16 [==============================] - 16s 994ms/step - loss: 1.9848 - accuracy: 0.3737 - val_loss: 2.5969 - val_accuracy: 0.2376\n",
            "Epoch 17/200\n",
            "16/16 [==============================] - 16s 1s/step - loss: 1.9613 - accuracy: 0.3820 - val_loss: 2.7013 - val_accuracy: 0.2330\n",
            "Epoch 18/200\n",
            "16/16 [==============================] - 16s 997ms/step - loss: 1.9503 - accuracy: 0.3859 - val_loss: 2.6370 - val_accuracy: 0.2351\n",
            "Epoch 19/200\n",
            "16/16 [==============================] - 16s 995ms/step - loss: 1.9446 - accuracy: 0.3870 - val_loss: 2.6169 - val_accuracy: 0.2395\n",
            "Epoch 20/200\n",
            "16/16 [==============================] - 16s 1s/step - loss: 1.9222 - accuracy: 0.3930 - val_loss: 2.5240 - val_accuracy: 0.2547\n",
            "Epoch 21/200\n",
            "16/16 [==============================] - 16s 1s/step - loss: 1.9090 - accuracy: 0.3970 - val_loss: 2.3793 - val_accuracy: 0.2959\n",
            "Epoch 22/200\n",
            "16/16 [==============================] - 16s 1s/step - loss: 1.8991 - accuracy: 0.4010 - val_loss: 2.2881 - val_accuracy: 0.3110\n",
            "Epoch 23/200\n",
            "16/16 [==============================] - 16s 1s/step - loss: 1.8882 - accuracy: 0.4042 - val_loss: 2.3104 - val_accuracy: 0.3033\n",
            "Epoch 24/200\n",
            "16/16 [==============================] - 16s 1s/step - loss: 1.8790 - accuracy: 0.4079 - val_loss: 2.3355 - val_accuracy: 0.3088\n",
            "Epoch 25/200\n",
            "16/16 [==============================] - 16s 997ms/step - loss: 1.8671 - accuracy: 0.4121 - val_loss: 2.1723 - val_accuracy: 0.3337\n",
            "Epoch 26/200\n",
            "16/16 [==============================] - 16s 1s/step - loss: 1.8630 - accuracy: 0.4131 - val_loss: 2.0951 - val_accuracy: 0.3534\n",
            "Epoch 27/200\n",
            "16/16 [==============================] - 16s 1s/step - loss: 1.8555 - accuracy: 0.4160 - val_loss: 2.1673 - val_accuracy: 0.3528\n",
            "Epoch 28/200\n",
            "16/16 [==============================] - 16s 1s/step - loss: 1.8438 - accuracy: 0.4199 - val_loss: 2.0590 - val_accuracy: 0.3612\n",
            "Epoch 29/200\n",
            "16/16 [==============================] - 16s 995ms/step - loss: 1.8416 - accuracy: 0.4209 - val_loss: 2.0538 - val_accuracy: 0.3696\n",
            "Epoch 30/200\n",
            "16/16 [==============================] - 16s 1s/step - loss: 1.8312 - accuracy: 0.4232 - val_loss: 1.9967 - val_accuracy: 0.3793\n",
            "Epoch 31/200\n",
            "16/16 [==============================] - 16s 1s/step - loss: 1.8394 - accuracy: 0.4209 - val_loss: 1.9646 - val_accuracy: 0.3870\n",
            "Epoch 32/200\n",
            "16/16 [==============================] - 16s 1s/step - loss: 1.8235 - accuracy: 0.4261 - val_loss: 1.9173 - val_accuracy: 0.4045\n",
            "Epoch 33/200\n",
            "16/16 [==============================] - 16s 1s/step - loss: 1.8140 - accuracy: 0.4297 - val_loss: 1.9008 - val_accuracy: 0.4054\n",
            "Epoch 34/200\n",
            "16/16 [==============================] - 16s 1s/step - loss: 1.8094 - accuracy: 0.4311 - val_loss: 1.8801 - val_accuracy: 0.4064\n",
            "Epoch 35/200\n",
            "16/16 [==============================] - 16s 1s/step - loss: 1.8099 - accuracy: 0.4306 - val_loss: 1.8586 - val_accuracy: 0.4164\n",
            "Epoch 36/200\n",
            "16/16 [==============================] - 16s 1s/step - loss: 1.7954 - accuracy: 0.4354 - val_loss: 1.8671 - val_accuracy: 0.4170\n",
            "Epoch 37/200\n",
            "16/16 [==============================] - 16s 1s/step - loss: 1.7908 - accuracy: 0.4371 - val_loss: 1.8329 - val_accuracy: 0.4233\n",
            "Epoch 38/200\n",
            "16/16 [==============================] - 16s 1s/step - loss: 1.7920 - accuracy: 0.4370 - val_loss: 1.8219 - val_accuracy: 0.4255\n",
            "Epoch 39/200\n",
            "16/16 [==============================] - 16s 1s/step - loss: 1.7865 - accuracy: 0.4384 - val_loss: 1.8568 - val_accuracy: 0.4137\n",
            "Epoch 40/200\n",
            "16/16 [==============================] - 16s 1s/step - loss: 1.7837 - accuracy: 0.4387 - val_loss: 1.8248 - val_accuracy: 0.4261\n",
            "Epoch 41/200\n",
            "16/16 [==============================] - 16s 1s/step - loss: 1.7824 - accuracy: 0.4390 - val_loss: 1.8122 - val_accuracy: 0.4295\n",
            "Epoch 42/200\n",
            "16/16 [==============================] - 16s 1s/step - loss: 1.7701 - accuracy: 0.4431 - val_loss: 1.7978 - val_accuracy: 0.4339\n",
            "Epoch 43/200\n",
            "16/16 [==============================] - 16s 1s/step - loss: 1.7699 - accuracy: 0.4433 - val_loss: 1.8055 - val_accuracy: 0.4316\n",
            "Epoch 44/200\n",
            "16/16 [==============================] - 16s 1s/step - loss: 1.7743 - accuracy: 0.4416 - val_loss: 1.8035 - val_accuracy: 0.4306\n",
            "Epoch 45/200\n",
            "16/16 [==============================] - 16s 1s/step - loss: 1.7579 - accuracy: 0.4466 - val_loss: 1.7755 - val_accuracy: 0.4402\n",
            "Epoch 46/200\n",
            "16/16 [==============================] - 16s 1s/step - loss: 1.7493 - accuracy: 0.4496 - val_loss: 1.8240 - val_accuracy: 0.4314\n",
            "Epoch 47/200\n",
            "16/16 [==============================] - 16s 1s/step - loss: 1.7668 - accuracy: 0.4436 - val_loss: 1.8204 - val_accuracy: 0.4318\n",
            "Epoch 48/200\n",
            "16/16 [==============================] - 16s 1s/step - loss: 1.7577 - accuracy: 0.4463 - val_loss: 1.8005 - val_accuracy: 0.4306\n",
            "Epoch 49/200\n",
            "16/16 [==============================] - 16s 1s/step - loss: 1.7556 - accuracy: 0.4477 - val_loss: 1.7693 - val_accuracy: 0.4439\n",
            "Epoch 50/200\n",
            "16/16 [==============================] - 16s 1s/step - loss: 1.7545 - accuracy: 0.4471 - val_loss: 1.7747 - val_accuracy: 0.4375\n",
            "Epoch 51/200\n",
            "16/16 [==============================] - 16s 1s/step - loss: 1.7437 - accuracy: 0.4509 - val_loss: 1.7712 - val_accuracy: 0.4427\n",
            "Epoch 52/200\n",
            "16/16 [==============================] - 16s 1s/step - loss: 1.7392 - accuracy: 0.4526 - val_loss: 1.7545 - val_accuracy: 0.4475\n",
            "Epoch 53/200\n",
            "16/16 [==============================] - 16s 1s/step - loss: 1.7374 - accuracy: 0.4532 - val_loss: 1.7622 - val_accuracy: 0.4454\n",
            "Epoch 54/200\n",
            "16/16 [==============================] - 16s 1s/step - loss: 1.7356 - accuracy: 0.4537 - val_loss: 1.7457 - val_accuracy: 0.4490\n",
            "Epoch 55/200\n",
            "16/16 [==============================] - 16s 1s/step - loss: 1.7344 - accuracy: 0.4536 - val_loss: 1.7667 - val_accuracy: 0.4428\n",
            "Epoch 56/200\n",
            "16/16 [==============================] - 16s 1s/step - loss: 1.7264 - accuracy: 0.4569 - val_loss: 1.7490 - val_accuracy: 0.4476\n",
            "Epoch 57/200\n",
            "16/16 [==============================] - 16s 1s/step - loss: 1.7289 - accuracy: 0.4555 - val_loss: 1.7607 - val_accuracy: 0.4464\n",
            "Epoch 58/200\n",
            "16/16 [==============================] - 16s 1s/step - loss: 1.7323 - accuracy: 0.4542 - val_loss: 1.7627 - val_accuracy: 0.4435\n",
            "Epoch 59/200\n",
            "16/16 [==============================] - 16s 1s/step - loss: 1.7324 - accuracy: 0.4536 - val_loss: 1.7721 - val_accuracy: 0.4412\n",
            "Epoch 60/200\n",
            "16/16 [==============================] - 16s 1s/step - loss: 1.7240 - accuracy: 0.4570 - val_loss: 1.7476 - val_accuracy: 0.4493\n",
            "Epoch 61/200\n",
            "16/16 [==============================] - 16s 1s/step - loss: 1.7138 - accuracy: 0.4604 - val_loss: 1.7403 - val_accuracy: 0.4520\n",
            "Epoch 62/200\n",
            "16/16 [==============================] - 16s 1s/step - loss: 1.7118 - accuracy: 0.4612 - val_loss: 1.7421 - val_accuracy: 0.4531\n",
            "Epoch 63/200\n",
            "16/16 [==============================] - 16s 1s/step - loss: 1.7083 - accuracy: 0.4621 - val_loss: 1.7478 - val_accuracy: 0.4479\n",
            "Epoch 64/200\n",
            "16/16 [==============================] - 16s 1s/step - loss: 1.7144 - accuracy: 0.4603 - val_loss: 1.7431 - val_accuracy: 0.4528\n",
            "Epoch 65/200\n",
            "16/16 [==============================] - 16s 1s/step - loss: 1.7137 - accuracy: 0.4606 - val_loss: 1.7410 - val_accuracy: 0.4529\n",
            "Epoch 66/200\n",
            "16/16 [==============================] - 16s 1s/step - loss: 1.7097 - accuracy: 0.4612 - val_loss: 1.7417 - val_accuracy: 0.4514\n",
            "Epoch 67/200\n",
            "16/16 [==============================] - 16s 1s/step - loss: 1.7055 - accuracy: 0.4627 - val_loss: 1.7357 - val_accuracy: 0.4524\n",
            "Epoch 68/200\n",
            "16/16 [==============================] - 16s 1s/step - loss: 1.7059 - accuracy: 0.4628 - val_loss: 1.7647 - val_accuracy: 0.4434\n",
            "Epoch 69/200\n",
            "16/16 [==============================] - 16s 1s/step - loss: 1.7108 - accuracy: 0.4597 - val_loss: 1.7166 - val_accuracy: 0.4594\n",
            "Epoch 70/200\n",
            "16/16 [==============================] - 16s 1s/step - loss: 1.6988 - accuracy: 0.4646 - val_loss: 1.7096 - val_accuracy: 0.4622\n",
            "Epoch 71/200\n",
            "16/16 [==============================] - 16s 1s/step - loss: 1.6890 - accuracy: 0.4682 - val_loss: 1.7720 - val_accuracy: 0.4451\n",
            "Epoch 72/200\n",
            "16/16 [==============================] - 16s 1s/step - loss: 1.7026 - accuracy: 0.4635 - val_loss: 1.7127 - val_accuracy: 0.4629\n",
            "Epoch 73/200\n",
            "16/16 [==============================] - 16s 1s/step - loss: 1.6920 - accuracy: 0.4670 - val_loss: 1.7339 - val_accuracy: 0.4543\n",
            "Epoch 74/200\n",
            "16/16 [==============================] - 16s 1s/step - loss: 1.6931 - accuracy: 0.4665 - val_loss: 1.7260 - val_accuracy: 0.4573\n",
            "Epoch 75/200\n",
            "16/16 [==============================] - 16s 1s/step - loss: 1.6896 - accuracy: 0.4680 - val_loss: 1.7305 - val_accuracy: 0.4564\n",
            "Epoch 76/200\n",
            "16/16 [==============================] - 16s 1s/step - loss: 1.6902 - accuracy: 0.4678 - val_loss: 1.6954 - val_accuracy: 0.4674\n",
            "Epoch 77/200\n",
            "16/16 [==============================] - 16s 1s/step - loss: 1.6817 - accuracy: 0.4705 - val_loss: 1.7121 - val_accuracy: 0.4587\n",
            "Epoch 78/200\n",
            "16/16 [==============================] - 16s 1s/step - loss: 1.6841 - accuracy: 0.4695 - val_loss: 1.6951 - val_accuracy: 0.4670\n",
            "Epoch 79/200\n",
            "16/16 [==============================] - 16s 1s/step - loss: 1.6915 - accuracy: 0.4671 - val_loss: 1.7074 - val_accuracy: 0.4634\n",
            "Epoch 80/200\n",
            "16/16 [==============================] - 16s 1s/step - loss: 1.6811 - accuracy: 0.4709 - val_loss: 1.6977 - val_accuracy: 0.4666\n",
            "Epoch 81/200\n",
            "16/16 [==============================] - 16s 1s/step - loss: 1.6776 - accuracy: 0.4715 - val_loss: 1.7195 - val_accuracy: 0.4580\n"
          ],
          "name": "stdout"
        },
        {
          "output_type": "display_data",
          "data": {
            "image/png": "[encoded data removed]",
            "text/plain": [
              "<Figure size 432x288 with 1 Axes>"
            ]
          },
          "metadata": {
            "tags": [],
            "needs_background": "light"
          }
        },
        {
          "output_type": "display_data",
          "data": {
            "image/png": "[encoded data removed]",
            "text/plain": [
              "<Figure size 432x288 with 1 Axes>"
            ]
          },
          "metadata": {
            "tags": [],
            "needs_background": "light"
          }
        },
        {
          "output_type": "stream",
          "text": [
            " dadasdinhls\r\n",
            "  ea  re eo ceuao d turo d  ro decea a \r\r\n",
            "  e aempre eo  meu  mrlos d camita.\r\n",
            "  e aem ma  eitta d aza\r\n",
            " a  aajse  e dalta  ee eno  \r\r\n",
            "  herta errsa doena de crrda\r  \n",
            " orda  aaasda\r droc\n"
          ],
          "name": "stdout"
        }
      ]
    },
    {
      "cell_type": "markdown",
      "metadata": {
        "id": "gLMulGF5IFmy"
      },
      "source": [
        "# (EM DESENVOLVIMENTO)"
      ]
    },
    {
      "cell_type": "markdown",
      "metadata": {
        "id": "b06KTcSQGYDt"
      },
      "source": [
        "## Encode-Decode (Seq2Seq)"
      ]
    },
    {
      "cell_type": "markdown",
      "metadata": {
        "id": "AgdjLALHKGid"
      },
      "source": [
        "### Dataset"
      ]
    },
    {
      "cell_type": "code",
      "metadata": {
        "id": "Yu4A0lR4KCxC",
        "outputId": "448d2a14-c08a-476b-8a35-7082d6fd06ac",
        "colab": {
          "base_uri": "https://localhost:8080/"
        }
      },
      "source": [
        "from keras.preprocessing.text import Tokenizer\n",
        "from keras.preprocessing.sequence import pad_sequences\n",
        "\n",
        "### TITLE\n",
        "title_data = poem_data['Title'].apply(lambda x: re.sub('[.,\\'\\\"?!%\\(\\)\\[\\]\\{\\}+\\-;:]|\\s',' ', unidecode(x).lower() ))\n",
        "\n",
        "tk_title = Tokenizer(filters='', num_words= 5000, lower=False, oov_token='[OAV]')\n",
        "tk_title.fit_on_texts(title_data)\n",
        "\n",
        "tk_title.word_index['[END]'] = 0 \n",
        "\n",
        "tk_title.index_word = {i:u for u,i in tk_title.word_index.items()}\n",
        "\n",
        "title_train = tk_title.texts_to_sequences(title_data)\n",
        "title_train = np.array(pad_sequences(title_train, padding='post', truncating='post'))\n",
        "\n",
        "\n",
        "### CONTENT\n",
        "\n",
        "content_data = poem_data['Content'].apply(lambda x: \" \"+ re.sub('[\\.,\\'\\\"?!%\\(\\)\\[\\]\\{\\}+\\-;:]|\\s',' ', unidecode(x).lower()) + \" \" )\n",
        "content_data = content_data.apply(lambda x: re.sub('( [a-z]{1,2} )',' ', re.sub('( [a-z]{1,2} )',' ', x)))\n",
        "\n",
        "tk_content = Tokenizer(filters='', num_words= 100, lower=False, oov_token='[OAV]')\n",
        "tk_content.fit_on_texts(content_data)\n",
        "\n",
        "tk_content.word_index = {u:(i+1) for u,i in tk_content.word_index.items()}\n",
        "tk_content.word_index[\"[STR]\"] = 1\n",
        "tk_content.word_index[\"[END]\"] = 0\n",
        "tk_content.index_word = {i:u for u,i in tk_content.word_index.items()}\n",
        "\n",
        "content_data = content_data.apply(lambda x: \"[STR]\" + x + '[END]')\n",
        "\n",
        "content_train = tk_content.texts_to_sequences(content_data)\n",
        "content_train = [one_hot_encode(x, 100) for x in content_train]\n",
        "content_train = np.array(pad_sequences(content_train, maxlen=100, padding= 'post', truncating='post' ))\n",
        "\n",
        "####\n",
        "# content_train = pad_sequences(content_train, padding= 'post', truncating='post')\n",
        "\n",
        "X_train, X_test, Y_train, Y_test = train_test_split(title_train, content_train, test_size = 0.2)\n"
      ],
      "execution_count": 95,
      "outputs": [
        {
          "output_type": "execute_result",
          "data": {
            "text/plain": [
              "array([[[0, 1, 0, ..., 0, 0, 0],\n",
              "        [0, 0, 0, ..., 0, 0, 0],\n",
              "        [0, 0, 0, ..., 0, 0, 0],\n",
              "        ...,\n",
              "        [0, 0, 0, ..., 0, 0, 0],\n",
              "        [0, 0, 0, ..., 0, 0, 0],\n",
              "        [0, 0, 0, ..., 0, 0, 0]],\n",
              "\n",
              "       [[0, 1, 0, ..., 0, 0, 0],\n",
              "        [0, 0, 1, ..., 0, 0, 0],\n",
              "        [0, 0, 1, ..., 0, 0, 0],\n",
              "        ...,\n",
              "        [0, 0, 0, ..., 0, 0, 0],\n",
              "        [0, 0, 0, ..., 0, 0, 0],\n",
              "        [0, 0, 0, ..., 0, 0, 0]],\n",
              "\n",
              "       [[0, 1, 0, ..., 0, 0, 0],\n",
              "        [0, 0, 1, ..., 0, 0, 0],\n",
              "        [0, 0, 0, ..., 0, 0, 0],\n",
              "        ...,\n",
              "        [0, 0, 1, ..., 0, 0, 0],\n",
              "        [0, 0, 1, ..., 0, 0, 0],\n",
              "        [0, 0, 1, ..., 0, 0, 0]],\n",
              "\n",
              "       ...,\n",
              "\n",
              "       [[0, 1, 0, ..., 0, 0, 0],\n",
              "        [0, 0, 0, ..., 0, 0, 0],\n",
              "        [0, 0, 1, ..., 0, 0, 0],\n",
              "        ...,\n",
              "        [0, 0, 0, ..., 0, 0, 0],\n",
              "        [0, 0, 0, ..., 0, 0, 0],\n",
              "        [0, 0, 0, ..., 0, 0, 0]],\n",
              "\n",
              "       [[0, 1, 0, ..., 0, 0, 0],\n",
              "        [0, 0, 0, ..., 0, 0, 0],\n",
              "        [0, 0, 1, ..., 0, 0, 0],\n",
              "        ...,\n",
              "        [0, 0, 0, ..., 0, 0, 0],\n",
              "        [0, 0, 0, ..., 0, 0, 0],\n",
              "        [0, 0, 0, ..., 0, 0, 0]],\n",
              "\n",
              "       [[0, 1, 0, ..., 0, 0, 0],\n",
              "        [0, 0, 0, ..., 0, 0, 0],\n",
              "        [0, 0, 0, ..., 0, 0, 0],\n",
              "        ...,\n",
              "        [0, 0, 0, ..., 0, 0, 0],\n",
              "        [0, 0, 0, ..., 0, 0, 0],\n",
              "        [0, 0, 0, ..., 0, 0, 0]]], dtype=int32)"
            ]
          },
          "metadata": {
            "tags": []
          },
          "execution_count": 95
        }
      ]
    },
    {
      "cell_type": "markdown",
      "metadata": {
        "id": "OZDyApCDS6w2"
      },
      "source": [
        "### Treinando Modelo: TEACHING FORCING"
      ]
    },
    {
      "cell_type": "code",
      "metadata": {
        "id": "G0P2ENXSPMj-",
        "outputId": "3b283726-0551-49e3-f79f-3c927d989727",
        "colab": {
          "base_uri": "https://localhost:8080/"
        }
      },
      "source": [
        "from tensorflow.keras import layers\n",
        "from tensorflow.keras import Model\n",
        "\n",
        "# Encoder\n",
        "encode_input = layers.Input(shape=(21,), name='Encoder_input')\n",
        "encode_embedding = layers.Embedding(5000, 3, mask_zero= 0)(encode_input)\n",
        "encode_lstm1_out, enc_state_h, enc_state_c  = layers.LSTM(2, return_state=True)(encode_embedding)\n",
        "\n",
        "encode_states = [enc_state_h, enc_state_c]\n",
        "\n",
        "# Decoder\n",
        "decode_input = layers.Input(shape=(21,), name ='Decoder_input')\n",
        "dencode_embedding = layers.Embedding(5000, 3, mask_zero= 0)(decode_input)\n",
        "dencode_lstm1_out, _, _  = layers.LSTM(2, return_state=True, return_sequences=True)(dencode_embedding, initial_state = encode_states)\n",
        "\n",
        "# Output\n",
        "\n",
        "d1 = layers.Dense(100, activation='softmax')(dencode_lstm1_out)\n",
        "\n",
        "# Modelo\n",
        "model = Model([encode_input, decode_input], d1)\n",
        "\n",
        "model.summary()\n",
        "\n",
        "\n",
        "model.compile(optimizer=keras.optimizers.Adam(0.05),\n",
        "               metrics=['accuracy'],\n",
        "               loss= keras.losses.categorical_crossentropy)\n",
        "\n",
        "# y = modelo(X_train[0:2])\n",
        "\n",
        "# y = np.array([[np.argmax(x) for x in k] for k in y ])\n",
        "\n",
        "# DECODER START (input x)\n",
        "SIZE_TRAIN = X_train.shape[0]\n",
        "start = np.zeros((SIZE_TRAIN, 21))\n",
        "start[:,1] = 1\n",
        "\n",
        "#\n",
        "hist = model.fit(x = [X_train, start],\n",
        "                  y = Y_train,\n",
        "                  validation_split=0.2,\n",
        "                  batch_size = 1000,\n",
        "                  epochs=200,\n",
        "                  verbose=1,\n",
        "                  callbacks=keras.callbacks.EarlyStopping('accuracy',\n",
        "                                                          patience=10,\n",
        "                                                          min_delta=0.005,\n",
        "                                                          restore_best_weights=True)\n",
        "                  )\n",
        "\n",
        "# Grafico\n",
        "plot(hist)\n",
        "\n",
        "keras.utils.plot_model(model)\n",
        "\n",
        "\n",
        "\n",
        "model([X_train[0].reshape((1,21)), strt])\n",
        "\n",
        "model([X_train[0:2], strt])\n",
        "\n",
        "\n",
        "\n",
        "np.array(Y_train[1]).shape\n",
        "\n",
        "keras.backend.clear_session()"
      ],
      "execution_count": 98,
      "outputs": [
        {
          "output_type": "execute_result",
          "data": {
            "text/plain": [
              "array([[0., 1., 0., ..., 0., 0., 0.],\n",
              "       [0., 1., 0., ..., 0., 0., 0.],\n",
              "       [0., 1., 0., ..., 0., 0., 0.],\n",
              "       ...,\n",
              "       [0., 1., 0., ..., 0., 0., 0.],\n",
              "       [0., 1., 0., ..., 0., 0., 0.],\n",
              "       [0., 1., 0., ..., 0., 0., 0.]])"
            ]
          },
          "metadata": {
            "tags": []
          },
          "execution_count": 98
        }
      ]
    },
    {
      "cell_type": "code",
      "metadata": {
        "id": "aOc5EeBnVQ75",
        "outputId": "b91757f4-e75a-492e-87d6-5996f069551c",
        "colab": {
          "base_uri": "https://localhost:8080/"
        }
      },
      "source": [
        "a = 1, 2, 3\n"
      ],
      "execution_count": 26,
      "outputs": [
        {
          "output_type": "execute_result",
          "data": {
            "text/plain": [
              "(1, 2, 3)"
            ]
          },
          "metadata": {
            "tags": []
          },
          "execution_count": 26
        }
      ]
    },
    {
      "cell_type": "markdown",
      "metadata": {
        "id": "6RSEQLlbJ2_v"
      },
      "source": [
        "# Diferentes tipos de saida com LSTM"
      ]
    },
    {
      "cell_type": "code",
      "metadata": {
        "id": "UGMSiG_owcWt",
        "colab": {
          "base_uri": "https://localhost:8080/"
        },
        "outputId": "36da299b-ea2f-43aa-d50e-6e651d7ce530"
      },
      "source": [
        "#@title Diferentes saidas conforme a especificação da LSTM { display-mode: \"form\" }\n",
        "\n",
        "from tensorflow import keras\n",
        "from keras import layers\n",
        "\n",
        "x = layers.Input(shape=(2,3))\n",
        "lstm = layers.LSTM(2)(x)\n",
        "model_LSTM = keras.Model(x, lstm)\n",
        "\n",
        "out = layers.RepeatVector(2)(lstm)\n",
        "model_REPEAT = keras.Model(x, out)\n",
        "\n",
        "lstm1 = layers.LSTM(2, return_sequences=True)(x)\n",
        "model_SEQ = keras.Model(x, lstm1)\n",
        "\n",
        "# Conecta com o Dense com o ultimo output\n",
        "dense = layers.Dense(3)(lstm1)\n",
        "model_DENSE = keras.Model(x, dense)\n",
        "\n",
        "# Conecta com o Dense com todos os output do LSTM\n",
        "denseTime = layers.TimeDistributed(layers.Dense(3))(lstm1)\n",
        "model_DENSETIME = keras.Model(x, denseTime)\n",
        "\n",
        "#lstm2 = layers.LSTM(2, return_sequences=True, return_state=True)(x)\n",
        "#model = keras.Model(x, lstm2)\n",
        "\n",
        "#model1 = keras.Model(x, dense)\n",
        "\n",
        "t = np.random.randint(0,10, size=(1,2,3))\n",
        "\n",
        "print(f'RNN units: 2 \\n\\nInput/shape{t.shape}:\\n{t}\\\n",
        "      \\n\\nOutput(LSTM[2]):\\n{model_LSTM(t)}\\\n",
        "      \\n\\nOutput(LSTM[2]-Repeat):\\n{model_REPEAT(t)}\\\n",
        "      \\n\\nOutput(LSTM[2][SEQ]):\\n{model_SEQ(t)}\\\n",
        "      \\n\\nOutput(LSTM[2][SEQ]-Dense[3]):\\n{model_DENSE(t)}\\\n",
        "      \\n\\nOutput(LSTM[2][SEQ]-DenseTime[3]):\\n{model_DENSETIME(t)}\\\n",
        "      ')\n",
        "keras.backend.clear_session()"
      ],
      "execution_count": null,
      "outputs": [
        {
          "output_type": "stream",
          "text": [
            "RNN units: 2 \n",
            "\n",
            "Input/shape(1, 2, 3):\n",
            "[[[0 8 7]\n",
            "  [8 9 6]]]      \n",
            "\n",
            "Output(LSTM[2]):\n",
            "[[ 0.0003969  -0.27552396]]      \n",
            "\n",
            "Output(LSTM[2]-Repeat):\n",
            "[[[ 0.0003969  -0.27552396]\n",
            "  [ 0.0003969  -0.27552396]]]      \n",
            "\n",
            "Output(LSTM[2][SEQ]):\n",
            "[[[ 6.8574138e-03  1.6537347e-01]\n",
            "  [ 1.5930480e-05 -5.1087722e-02]]]      \n",
            "\n",
            "Output(LSTM[2][SEQ]-Dense[3]):\n",
            "[[[-0.01584511 -0.12376808 -0.00461421]\n",
            "  [ 0.00465964  0.03678471  0.00074546]]]      \n",
            "\n",
            "Output(LSTM[2][SEQ]-DenseTime[3]):\n",
            "[[[ 0.12558722 -0.07354748 -0.07400706]\n",
            "  [-0.04039086  0.02334368  0.02316542]]]      \n"
          ],
          "name": "stdout"
        }
      ]
    }
  ]
}