{
  "nbformat": 4,
  "nbformat_minor": 0,
  "metadata": {
    "colab": {
      "name": "Lab.ipynb",
      "provenance": [],
      "collapsed_sections": [],
      "authorship_tag": "ABX9TyN7rAgr8s1s/7RwzH/XuCoH",
      "include_colab_link": true
    },
    "kernelspec": {
      "name": "python3",
      "display_name": "Python 3"
    },
    "language_info": {
      "name": "python"
    },
    "accelerator": "GPU"
  },
  "cells": [
    {
      "cell_type": "markdown",
      "metadata": {
        "id": "view-in-github",
        "colab_type": "text"
      },
      "source": [
        "<a href=\"https://colab.research.google.com/github/BecomeAllan/RNN/blob/main/Lab.ipynb\" target=\"_parent\"><img src=\"https://colab.research.google.com/assets/colab-badge.svg\" alt=\"Open In Colab\"/></a>"
      ]
    },
    {
      "cell_type": "markdown",
      "metadata": {
        "id": "BdgNtVwJtz4b"
      },
      "source": [
        "# Laboratório\n",
        "\n",
        "## Implementações com RNNs"
      ]
    },
    {
      "cell_type": "markdown",
      "metadata": {
        "id": "v4mmQSmK7UMI"
      },
      "source": [
        "# O que é uma RNN ?"
      ]
    },
    {
      "cell_type": "markdown",
      "metadata": {
        "id": "_cxqL5BZ9Yhf"
      },
      "source": [
        "Uma Recurrent neural network (RNN) é uma arquitetura de Rede Neural que processa dados sequenciais, como palavra por palavra em uma frase ou informações através do tempo.\n",
        "\n",
        "Algo notável na RNN é a capacidade de processar sequências independente do tamanho do vetor de entrada, não precisando ter um tamanho fixo para poder rodar a rede. Por exemplo, uma única rede poderia processar frases com 3, 5, 10 ou mais palavras na mesma rede.\n",
        "\n",
        "Algumas aplicações são mostradas na imagem a seguir, no qual a *one to one* seria uma rede do tipo *FeedFoward*.\n"
      ]
    },
    {
      "cell_type": "markdown",
      "metadata": {
        "id": "G-cbN7-q9SgL"
      },
      "source": [
        "![image](https://raw.githubusercontent.com/BecomeAllan/RNN/main/images/Aquitetura.png)\n",
        "\n",
        "[Imagem retirada daqui](http://karpathy.github.io/2015/05/21/rnn-effectiveness/)\n"
      ]
    },
    {
      "cell_type": "markdown",
      "metadata": {
        "id": "CB21kFiqdI-n"
      },
      "source": [
        "# Comportamento de uma RNN\n",
        "\n",
        "O comportamento de uma célula padrão de RNN é através de um loop, onde o $x_t$ é o input confome o tempo $t$ e está célula representada por $h_t$ transporta a informação para a próxima $h_{t+1}$ com a informação adicional para atualizar junto com o $x_{t+1}$.\n",
        "\n",
        "O comportamento de um estado de célula $h_t$ diz conforme a próxima informação vai ser processada, criando uma correlação do estado passado para o presente $t$."
      ]
    },
    {
      "cell_type": "markdown",
      "metadata": {
        "id": "a0zgJjW0HEYm"
      },
      "source": [
        "<img src=\"https://raw.githubusercontent.com/BecomeAllan/RNN/main/images/Esquelto.png\" alt=\"rnn\" width=\"700\"/>\n",
        "\n",
        "\n",
        "<img src=\"https://raw.githubusercontent.com/BecomeAllan/RNN/main/images/Feedfoward.png\" alt=\"rnn\" width=\"700\"/>\n",
        "\n",
        "[Imagens retiradas daqui](http://introtodeeplearning.com/slides/6S191_MIT_DeepLearning_L2.pdf)"
      ]
    },
    {
      "cell_type": "markdown",
      "metadata": {
        "id": "PUaIU0sSf2EI"
      },
      "source": [
        "## Pseudo-código de uma célula RNN\n",
        "\n",
        "Queremos que a célula de RNN complete a frase:\n",
        "+ \"I love recurrent neural\"\n",
        "\n",
        "prevendo na última interação a palavra:\n",
        "+ \"network\"."
      ]
    },
    {
      "cell_type": "code",
      "metadata": {
        "id": "xMH3-P_Af10R"
      },
      "source": [
        "rnn_cell = RNN()\n",
        "\n",
        "# Inicial h_t\n",
        "hidden_state = [0,0,0,0]\n",
        "\n",
        "X_t = ['I', 'love', 'recurrent', 'neural'] ## input [x_1, x_2, x_3, x_4 ] output da Y_4 = ['network']\n",
        "\n",
        "for word in X_t:\n",
        "  y_hat, hidden_state = rnn_cell(word, hidden_state)\n",
        "\n",
        "# ['network']\n",
        "next_word_predict = y_hat"
      ],
      "execution_count": null,
      "outputs": []
    },
    {
      "cell_type": "markdown",
      "metadata": {
        "id": "27QE7eEijWXP"
      },
      "source": [
        "## Pseudo-código de uma célula RNN para amantes do KERAS"
      ]
    },
    {
      "cell_type": "code",
      "metadata": {
        "cellView": "code",
        "colab": {
          "base_uri": "https://localhost:8080/"
        },
        "id": "I8YMBGjqjqco",
        "outputId": "86e48236-d355-43ac-9203-0430e858ed3e"
      },
      "source": [
        "# Bibliotecas usadas\n",
        "import tensorflow as tf\n",
        "from tensorflow import keras\n",
        "import numpy as np\n",
        "    \n",
        "dot = tf.matmul\n",
        "   \n",
        "# Criando a layer RNN\n",
        "class RNN_cell(keras.layers.Layer):\n",
        "  def __init__(self, rnn_units, input_dim, output_dim):\n",
        "    super(RNN_cell, self).__init__()\n",
        "\n",
        "    # Pesos\n",
        "    self.W_xh = self.add_weight(shape = (rnn_units, input_dim), initializer=\"random_normal\", dtype='float32')\n",
        "    self.W_hh = self.add_weight(shape = (rnn_units, rnn_units), initializer=\"random_normal\", dtype='float32')\n",
        "    self.W_hy = self.add_weight(shape = (output_dim, rnn_units), initializer=\"random_normal\", dtype='float32')\n",
        "\n",
        "    # Estado (h_0) inicial \n",
        "    self.h = tf.zeros([rnn_units, 1])\n",
        "  \n",
        "  def call(self, x):\n",
        "    # x -> h\n",
        "    # Atualiza o estado h_t\n",
        "    self.h = tf.tanh( dot(self.W_hh, self.h) + dot( self.W_xh, x))\n",
        "\n",
        "    # h -> y\n",
        "    # 'Dense'\n",
        "    predict = dot( self.W_hy, self.h)\n",
        "    return predict\n",
        "\n",
        "  def get_config(self):\n",
        "    return {\"W_xh\": self.W_xh.numpy(),\n",
        "            \"W_hh\": self.W_hh.numpy(),\n",
        "            \"W_hy\": self.W_hy.numpy(),\n",
        "            \"h\": self.h.numpy()}\n",
        "\n",
        "\n",
        "# Constantes\n",
        "RNN_UNITS = 2\n",
        "INPUT_DIM = 2\n",
        "OUTPUT_DIM = 1\n",
        "\n",
        "\n",
        "\n",
        "x = np.array([[1,3,5,7,9],\n",
        "              [2,4,6,8,10]], dtype='float32')\n",
        "print(f'Shape do input: {x.shape}')\n",
        "\n",
        "hidden = RNN_cell(RNN_UNITS, INPUT_DIM, OUTPUT_DIM)\n",
        "\n",
        "temp = x.shape[1]\n",
        "\n",
        "config = hidden.get_config()\n",
        "####\n",
        "print(f\"Pesos: \\n W_xh:\\n{config['W_xh']}\\n\\n W_hh:\\n{config['W_hh']}\\n\\n W_hy:\\n{config['W_hy']}\\n\\n h:\\n{config['h']}\")"
      ],
      "execution_count": 1,
      "outputs": [
        {
          "output_type": "stream",
          "text": [
            "Shape do input: (2, 5)\n",
            "Pesos: \n",
            " W_xh:\n",
            "[[ 0.05334038 -0.03994577]\n",
            " [-0.08501535 -0.04697952]]\n",
            "\n",
            " W_hh:\n",
            "[[ 0.01305127  0.06617929]\n",
            " [-0.11289008 -0.0809973 ]]\n",
            "\n",
            " W_hy:\n",
            "[[0.01771818 0.00290708]]\n",
            "\n",
            " h:\n",
            "[[0.]\n",
            " [0.]]\n"
          ],
          "name": "stdout"
        }
      ]
    },
    {
      "cell_type": "code",
      "metadata": {
        "colab": {
          "base_uri": "https://localhost:8080/"
        },
        "id": "aSZbN0zNO5p_",
        "outputId": "f9dad508-0bc1-43e7-fe5a-7f859494f9d7"
      },
      "source": [
        "print(f'rnn_units: {RNN_UNITS} | input_dim: {INPUT_DIM} | output_dim: {OUTPUT_DIM} |  Número de sequencias: {temp}')\n",
        "print(f\"Input: \\n {x}\\n\")\n",
        "for t in range(0, temp):\n",
        "  ht = hidden.get_config()\n",
        "  xt = x[:,t]\n",
        "  xt = xt.reshape((2,1))\n",
        "  y_hat = hidden(xt)\n",
        "  print(f\"> Tempo (t):{t} \\n> Valor do estado (h):\\n{ht['h']} \\n> Previu (y_hat): \\n{y_hat}\")\n",
        "  print('----\\n')\n",
        "\n",
        "keras.backend.clear_session()"
      ],
      "execution_count": 2,
      "outputs": [
        {
          "output_type": "stream",
          "text": [
            "rnn_units: 2 | input_dim: 2 | output_dim: 1 |  Número de sequencias: 5\n",
            "Input: \n",
            " [[ 1.  3.  5.  7.  9.]\n",
            " [ 2.  4.  6.  8. 10.]]\n",
            "\n",
            "> Tempo (t):0 \n",
            "> Valor do estado (h):\n",
            "[[0.]\n",
            " [0.]] \n",
            "> Previu (y_hat): \n",
            "[[-0.00098514]]\n",
            "----\n",
            "\n",
            "> Tempo (t):1 \n",
            "> Valor do estado (h):\n",
            "[[-0.02654492]\n",
            " [-0.17708758]] \n",
            "> Previu (y_hat): \n",
            "[[-0.00137721]]\n",
            "----\n",
            "\n",
            "> Tempo (t):2 \n",
            "> Valor do estado (h):\n",
            "[[-0.01182738]\n",
            " [-0.40165758]] \n",
            "> Previu (y_hat): \n",
            "[[-0.00170131]]\n",
            "----\n",
            "\n",
            "> Tempo (t):3 \n",
            "> Valor do estado (h):\n",
            "[[ 2.9147230e-04]\n",
            " [-5.8700585e-01]] \n",
            "> Previu (y_hat): \n",
            "[[-0.00184968]]\n",
            "----\n",
            "\n",
            "> Tempo (t):4 \n",
            "> Valor do estado (h):\n",
            "[[ 0.01497152]\n",
            " [-0.7275163 ]] \n",
            "> Previu (y_hat): \n",
            "[[-0.00182498]]\n",
            "----\n",
            "\n"
          ],
          "name": "stdout"
        }
      ]
    },
    {
      "cell_type": "markdown",
      "metadata": {
        "id": "uEUHJIYAckOI"
      },
      "source": [
        "## Quantidade de  células (unidades) de RNN\n",
        "\n",
        "+ Veja pelo diagrama que não existe conexão entre as unidades de RNN mas apenas entre suas próprias células.\n",
        "\n",
        "<img src=\"https://raw.githubusercontent.com/BecomeAllan/RNN/main/images/Units.png\" alt=\"units\" width=\"700\"/>"
      ]
    },
    {
      "cell_type": "markdown",
      "metadata": {
        "id": "cR_Qb7Li8uY7"
      },
      "source": [
        "# Quando usar uma RNN ?"
      ]
    },
    {
      "cell_type": "markdown",
      "metadata": {
        "id": "9SZyaa6wz4aP"
      },
      "source": [
        "Como já introduzido, uma RNN é usada quando os dados tem interação conforme o \"tempo\" passa, ou melhor dizendo, se suas variáveis de *input* tem uma correlação com as dadas sequências destas.\n",
        "\n",
        "Ou seja, se uma sequência é passada para uma RNN, como $x_1=[1,2,3]$ e sua \"resposta\" seria o inverso dela, $y=[3,2,1]$, observa-se que existe uma relação entre a sequência do *input* $x$ que diz muito sobre como será o *output*.\n",
        "\n",
        "Há muitos outros exemplos que podem ser explorados com RNNs e alguns deles serão abordados por este documento.\n",
        "\n",
        "Alguns tipos de dados que são usados para utilizar RNNs:\n",
        "+ **Tipo de dados:** Sequências, One-Hot-Encode..."
      ]
    },
    {
      "cell_type": "code",
      "metadata": {
        "cellView": "form",
        "id": "lx5BHmXw6D6R"
      },
      "source": [
        "#@title Funções auxiliares\n",
        "\n",
        "from random import randint, seed\n",
        "\n",
        "def sequence(zero_to , n):\t\n",
        "  return [randint(0, zero_to) for _ in range(n)]\n",
        "\n",
        "def backsequence(seq):\n",
        "  return seq[::-1]\n",
        "\n",
        "def one_hot_encode(data, max_lenght):\n",
        "  new_data = list()\n",
        "  for x in data:\n",
        "    hot = [0]*(max_lenght)\n",
        "    hot[x] = 1\n",
        "    new_data.append(hot)\n",
        "\n",
        "  return new_data\n",
        "\n",
        "def one_hot_decode(data):\n",
        "  return [np.argmax(x) for x in data]\n",
        "\n",
        "\n",
        "def create_dataset(train_size, test_size, time_steps, vocabulary_size):\n",
        "  x = [sequence(vocabulary_size - 1 , time_steps) for _ in range(train_size)]\n",
        "  y = [backsequence(y) for y in x]\n",
        "  X_train = np.array([one_hot_encode(x, vocabulary_size) for x in x])\n",
        "  Y_train = np.array([one_hot_encode(y, vocabulary_size) for y in y])\n",
        "  \n",
        "  x = [sequence(vocabulary_size - 1 , time_steps) for _ in range(test_size)]\n",
        "  y = [backsequence(y) for y in x]\n",
        "  X_test = np.array([one_hot_encode(x, vocabulary_size) for x in x])\n",
        "  Y_test = np.array([one_hot_encode(y, vocabulary_size) for y in y])\n",
        "\n",
        "  return X_train, Y_train, X_test, \tY_test\n",
        "\n",
        "def plot(p):\n",
        "\tplt.plot(p.history['accuracy'])\n",
        "\tplt.plot(p.history['val_accuracy'])\n",
        "\tplt.title('accuracy')\n",
        "\tplt.ylabel('accuracy')\n",
        "\tplt.xlabel('epoch')\n",
        "\tplt.legend(['train', 'val'], loc='upper left')\n",
        "\tplt.show()\n",
        " \n",
        "\tplt.plot(p.history['loss'])\n",
        "\tplt.plot(p.history['val_loss'])\n",
        "\tplt.title('loss')\n",
        "\tplt.ylabel('loss')\n",
        "\tplt.xlabel('epoch')\n",
        "\tplt.legend(['train', 'val'], loc='upper left')\n",
        "\tplt.show()"
      ],
      "execution_count": 3,
      "outputs": []
    },
    {
      "cell_type": "markdown",
      "metadata": {
        "id": "J-88GFwW3cBa"
      },
      "source": [
        "## Exemplo 1.1: Artificial neural network\n",
        "\n",
        "Conforme o exemplo da sequência $x_1=[1,2,3]$ e $y=[3,2,1]$, exploramos estes dados com uma rede neural *feedfoward* para avaliar sua resposta."
      ]
    },
    {
      "cell_type": "markdown",
      "metadata": {
        "id": "IWCVsWc4Jus6"
      },
      "source": [
        "### Criando o dataset"
      ]
    },
    {
      "cell_type": "code",
      "metadata": {
        "colab": {
          "base_uri": "https://localhost:8080/"
        },
        "id": "MaJWxyQ-3bb0",
        "outputId": "d8d2c362-af9d-4e38-df30-47bc34e2cbac"
      },
      "source": [
        "# Dados em one-hot-encode\n",
        "X_train, Y_train, X_test, Y_test = create_dataset(train_size=20000, test_size=200, time_steps=5, vocabulary_size=10)\n",
        "\n",
        "print(f'Amostra 1:\\n\\\n",
        "x = {one_hot_decode(X_train[0])}\\n \\\n",
        "one_hot_encode do x:\\n \\\n",
        "{X_train[0]}\\n\\n \\\n",
        "y = {one_hot_decode(Y_train[0])}\\n \\\n",
        "one_hot_encode do y:\\n \\\n",
        "{Y_train[0]}')"
      ],
      "execution_count": 4,
      "outputs": [
        {
          "output_type": "stream",
          "text": [
            "Amostra 1:\n",
            "x = [2, 0, 2, 5, 0]\n",
            " one_hot_encode do x:\n",
            " [[0 0 1 0 0 0 0 0 0 0]\n",
            " [1 0 0 0 0 0 0 0 0 0]\n",
            " [0 0 1 0 0 0 0 0 0 0]\n",
            " [0 0 0 0 0 1 0 0 0 0]\n",
            " [1 0 0 0 0 0 0 0 0 0]]\n",
            "\n",
            " y = [0, 5, 2, 0, 2]\n",
            " one_hot_encode do y:\n",
            " [[1 0 0 0 0 0 0 0 0 0]\n",
            " [0 0 0 0 0 1 0 0 0 0]\n",
            " [0 0 1 0 0 0 0 0 0 0]\n",
            " [1 0 0 0 0 0 0 0 0 0]\n",
            " [0 0 1 0 0 0 0 0 0 0]]\n"
          ],
          "name": "stdout"
        }
      ]
    },
    {
      "cell_type": "markdown",
      "metadata": {
        "id": "4MItf7-ycatD"
      },
      "source": [
        "### Modelo"
      ]
    },
    {
      "cell_type": "code",
      "metadata": {
        "colab": {
          "base_uri": "https://localhost:8080/",
          "height": 0
        },
        "id": "MCEt6XynNfIL",
        "outputId": "1b3781f7-cbd1-46c0-e6c9-d63f32ed4bdf"
      },
      "source": [
        "from tensorflow import keras\n",
        "from keras import layers\n",
        "import matplotlib.pyplot as plt\n",
        "\n",
        "VOCAB_SIZE = 10\n",
        "TIME_STEPS = 5\n",
        "\n",
        "# Modelo RNA feedfoward\n",
        "modelo = keras.Sequential(\n",
        "    [\n",
        "     keras.Input(shape=(TIME_STEPS ,VOCAB_SIZE), name=\"Input\"),\n",
        "     layers.Dense(32, activation='sigmoid'),\n",
        "     layers.BatchNormalization(),\n",
        "     layers.Dense(64, activation='sigmoid'),\n",
        "     layers.BatchNormalization(),\n",
        "     layers.Dense(10, activation= \"softmax\")\n",
        "    ]\n",
        ")\n",
        "\n",
        "modelo.summary()\n",
        "\n",
        "# Treinando modelo\n",
        "modelo.compile(optimizer='adam', metrics=['accuracy'], loss= keras.losses.categorical_crossentropy)\n",
        "hist = modelo.fit(x = X_train,\n",
        "                  y = Y_train,\n",
        "                  validation_split=0.2,\n",
        "                  batch_size = 1000,\n",
        "                  epochs=200,\n",
        "                  callbacks=keras.callbacks.EarlyStopping('loss', patience=10),\n",
        "                  verbose=0)\n",
        "\n",
        "# Grafico\n",
        "plot(hist)\n",
        "\n",
        "# Previsões\n",
        "y_hat = modelo(X_test[0:10])\n",
        "\n",
        "\n",
        "x = [one_hot_decode(y) for y in X_test[0:10] ]\n",
        "y_hat_num = [[np.argmax(y) for y in k] for k in y_hat]\n",
        "y = [one_hot_decode(y) for y in Y_test[0:10] ]\n",
        "\n",
        "print(\"--Algumas previsões---\")\n",
        "print(f'x:\\n{x}\\ny_hat:\\n{y_hat_num}\\ny:\\n{y}')\n",
        "\n",
        "keras.backend.clear_session()"
      ],
      "execution_count": 5,
      "outputs": [
        {
          "output_type": "stream",
          "text": [
            "Model: \"sequential\"\n",
            "_________________________________________________________________\n",
            "Layer (type)                 Output Shape              Param #   \n",
            "=================================================================\n",
            "dense (Dense)                (None, 5, 32)             352       \n",
            "_________________________________________________________________\n",
            "batch_normalization (BatchNo (None, 5, 32)             128       \n",
            "_________________________________________________________________\n",
            "dense_1 (Dense)              (None, 5, 64)             2112      \n",
            "_________________________________________________________________\n",
            "batch_normalization_1 (Batch (None, 5, 64)             256       \n",
            "_________________________________________________________________\n",
            "dense_2 (Dense)              (None, 5, 10)             650       \n",
            "=================================================================\n",
            "Total params: 3,498\n",
            "Trainable params: 3,306\n",
            "Non-trainable params: 192\n",
            "_________________________________________________________________\n"
          ],
          "name": "stdout"
        },
        {
          "output_type": "display_data",
          "data": {
            "image/png": "[encoded data removed]",
            "text/plain": [
              "<Figure size 432x288 with 1 Axes>"
            ]
          },
          "metadata": {
            "tags": [],
            "needs_background": "light"
          }
        },
        {
          "output_type": "display_data",
          "data": {
            "image/png": "[encoded data removed]",
            "text/plain": [
              "<Figure size 432x288 with 1 Axes>"
            ]
          },
          "metadata": {
            "tags": [],
            "needs_background": "light"
          }
        },
        {
          "output_type": "stream",
          "text": [
            "--Algumas previsões---\n",
            "x:\n",
            "[[9, 3, 0, 6, 3], [7, 2, 1, 6, 7], [7, 5, 0, 2, 2], [2, 8, 8, 9, 2], [8, 4, 3, 6, 7], [2, 4, 8, 6, 9], [3, 7, 2, 3, 0], [3, 2, 5, 2, 4], [7, 5, 0, 6, 2], [0, 5, 8, 9, 5]]\n",
            "y_hat:\n",
            "[[9, 3, 0, 6, 3], [7, 2, 1, 6, 7], [7, 5, 0, 2, 2], [2, 9, 9, 9, 2], [9, 4, 3, 6, 7], [2, 4, 9, 6, 9], [3, 7, 2, 3, 0], [3, 2, 5, 2, 4], [7, 5, 0, 6, 2], [0, 5, 9, 9, 5]]\n",
            "y:\n",
            "[[3, 6, 0, 3, 9], [7, 6, 1, 2, 7], [2, 2, 0, 5, 7], [2, 9, 8, 8, 2], [7, 6, 3, 4, 8], [9, 6, 8, 4, 2], [0, 3, 2, 7, 3], [4, 2, 5, 2, 3], [2, 6, 0, 5, 7], [5, 9, 8, 5, 0]]\n"
          ],
          "name": "stdout"
        }
      ]
    },
    {
      "cell_type": "markdown",
      "metadata": {
        "id": "GjkGqpXTb__R"
      },
      "source": [
        "## Exemplo 1.2: RNN\n",
        "\n",
        "Agora, o exemplo vai ser aplicado com uma RNN para avaliar sua capacidade."
      ]
    },
    {
      "cell_type": "markdown",
      "metadata": {
        "id": "bFKHpePMc1vm"
      },
      "source": [
        "### Modelo"
      ]
    },
    {
      "cell_type": "code",
      "metadata": {
        "colab": {
          "base_uri": "https://localhost:8080/",
          "height": 927
        },
        "id": "SiOx0WCOcyA_",
        "outputId": "2e0b8ee6-ba77-43cf-cc92-1e7c16091006"
      },
      "source": [
        "from tensorflow import keras\n",
        "from keras import layers\n",
        "\n",
        "VOCAB_SIZE = 10\n",
        "TIME_STEPS = 5\n",
        "\n",
        "# Modelo RNN\n",
        "modelo = keras.Sequential(\n",
        "    [\n",
        "     keras.Input(shape=(TIME_STEPS, VOCAB_SIZE), name=\"Input\"),\n",
        "     # Output do RNN é o ultimo valor da sequencia\n",
        "     layers.SimpleRNN(16),\n",
        "     # Replica o valor do output TIME_STEPS vezes\n",
        "     layers.RepeatVector(TIME_STEPS),\n",
        "     layers.Dense(VOCAB_SIZE, activation= \"softmax\")\n",
        "    ]\n",
        ")\n",
        "\n",
        "modelo.summary()\n",
        "\n",
        "# Treinando modelo\n",
        "modelo.compile(optimizer='adam', metrics=['accuracy'], loss= keras.losses.categorical_crossentropy)\n",
        "hist = modelo.fit(x = X_train,\n",
        "                  y = Y_train,\n",
        "                  validation_split=0.2,\n",
        "                  batch_size = 1000,\n",
        "                  epochs=200,\n",
        "                  callbacks=keras.callbacks.EarlyStopping('loss', patience=10),\n",
        "                  verbose=0)\n",
        "\n",
        "# Grafico\n",
        "plot(hist)\n",
        "\n",
        "# Previsões\n",
        "y_hat = modelo(X_test[0:10])\n",
        "\n",
        "\n",
        "x = [one_hot_decode(y) for y in X_test[0:10] ]\n",
        "y_hat_num = [[np.argmax(y) for y in k] for k in y_hat]\n",
        "y = [one_hot_decode(y) for y in Y_test[0:10] ]\n",
        "\n",
        "print(\"--Algumas previsões---\")\n",
        "print(f'x:\\n{x}\\ny_hat:\\n{y_hat_num}\\ny:\\n{y}')\n",
        "\n",
        "keras.backend.clear_session()"
      ],
      "execution_count": 6,
      "outputs": [
        {
          "output_type": "stream",
          "text": [
            "Model: \"sequential\"\n",
            "_________________________________________________________________\n",
            "Layer (type)                 Output Shape              Param #   \n",
            "=================================================================\n",
            "simple_rnn (SimpleRNN)       (None, 16)                432       \n",
            "_________________________________________________________________\n",
            "repeat_vector (RepeatVector) (None, 5, 16)             0         \n",
            "_________________________________________________________________\n",
            "dense (Dense)                (None, 5, 10)             170       \n",
            "=================================================================\n",
            "Total params: 602\n",
            "Trainable params: 602\n",
            "Non-trainable params: 0\n",
            "_________________________________________________________________\n"
          ],
          "name": "stdout"
        },
        {
          "output_type": "display_data",
          "data": {
            "image/png": "[encoded data removed]",
            "text/plain": [
              "<Figure size 432x288 with 1 Axes>"
            ]
          },
          "metadata": {
            "tags": [],
            "needs_background": "light"
          }
        },
        {
          "output_type": "display_data",
          "data": {
            "image/png": "[encoded data removed]",
            "text/plain": [
              "<Figure size 432x288 with 1 Axes>"
            ]
          },
          "metadata": {
            "tags": [],
            "needs_background": "light"
          }
        },
        {
          "output_type": "stream",
          "text": [
            "--Algumas previsões---\n",
            "x:\n",
            "[[9, 3, 0, 6, 3], [7, 2, 1, 6, 7], [7, 5, 0, 2, 2], [2, 8, 8, 9, 2], [8, 4, 3, 6, 7], [2, 4, 8, 6, 9], [3, 7, 2, 3, 0], [3, 2, 5, 2, 4], [7, 5, 0, 6, 2], [0, 5, 8, 9, 5]]\n",
            "y_hat:\n",
            "[[3, 3, 3, 3, 3], [7, 7, 7, 7, 7], [2, 2, 2, 2, 2], [2, 2, 2, 2, 2], [3, 3, 3, 3, 3], [2, 2, 2, 2, 2], [3, 3, 3, 3, 3], [2, 2, 2, 2, 2], [0, 0, 0, 0, 0], [5, 5, 5, 5, 5]]\n",
            "y:\n",
            "[[3, 6, 0, 3, 9], [7, 6, 1, 2, 7], [2, 2, 0, 5, 7], [2, 9, 8, 8, 2], [7, 6, 3, 4, 8], [9, 6, 8, 4, 2], [0, 3, 2, 7, 3], [4, 2, 5, 2, 3], [2, 6, 0, 5, 7], [5, 9, 8, 5, 0]]\n"
          ],
          "name": "stdout"
        }
      ]
    },
    {
      "cell_type": "markdown",
      "metadata": {
        "id": "Iq5niDHhplh9"
      },
      "source": [
        "### Diferentes quantidades de células de RNN"
      ]
    },
    {
      "cell_type": "code",
      "metadata": {
        "cellView": "form",
        "id": "eZMEuRp-h1A2"
      },
      "source": [
        "#@title Funções auxiliares\n",
        "def rnn_model(unn):\n",
        "  modelo = keras.Sequential(\n",
        "      [\n",
        "       keras.Input(shape=(TIME_STEPS, VOCAB_SIZE), name=\"Input\"),\n",
        "       # Output do RNN é o ultimo valor da sequencia\n",
        "       layers.SimpleRNN(unn),\n",
        "       # Replica o valor do output TIME_STEPS vezes\n",
        "       layers.RepeatVector(TIME_STEPS),\n",
        "       layers.Dense(VOCAB_SIZE, activation= \"softmax\")\n",
        "     ]\n",
        "    )\n",
        "  modelo.compile(optimizer='adam', metrics=['accuracy'],\n",
        "                 loss= keras.losses.categorical_crossentropy)\n",
        "  hist = modelo.fit(x = X_train,\n",
        "                  y = Y_train,\n",
        "                  validation_split=0.2,\n",
        "                  batch_size = 1000,\n",
        "                  epochs=200,\n",
        "                  callbacks=keras.callbacks.EarlyStopping('loss', patience=10),\n",
        "                  verbose=0)\n",
        "\n",
        "  # Previsões\n",
        "  y_hat = modelo(X_test[0:10])\n",
        "  y_hat_v = modelo.evaluate(X_test, Y_test, verbose=0)\n",
        "\n",
        "  x = [one_hot_decode(y) for y in X_test[0:10] ]\n",
        "  y_hat_num = [[np.argmax(y) for y in k] for k in y_hat]\n",
        "  y = [one_hot_decode(y) for y in Y_test[0:10] ]\n",
        "\n",
        "  print(f\"Acurácia: {round(y_hat_v[1],2)}\")\n",
        "  print(\"--Algumas previsões---\")\n",
        "  print(f'x:\\n{x}\\ny_hat:\\n{y_hat_num}\\ny:\\n{y}')\n",
        "  keras.backend.clear_session()\n"
      ],
      "execution_count": 7,
      "outputs": []
    },
    {
      "cell_type": "code",
      "metadata": {
        "colab": {
          "base_uri": "https://localhost:8080/"
        },
        "id": "JSWx8sOAp-Wf",
        "outputId": "68557ddf-407b-4853-f12a-0b499ead212b"
      },
      "source": [
        "## Unidades de RNN\n",
        "for u in [2,4,16]:\n",
        "  print(f'Unidades de RNN: {u}')\n",
        "  rnn_model(u)\n",
        "  print('\\n\\n')"
      ],
      "execution_count": 8,
      "outputs": [
        {
          "output_type": "stream",
          "text": [
            "Unidades de RNN: 2\n",
            "Acurácia: 0.22\n",
            "--Algumas previsões---\n",
            "x:\n",
            "[[9, 3, 0, 6, 3], [7, 2, 1, 6, 7], [7, 5, 0, 2, 2], [2, 8, 8, 9, 2], [8, 4, 3, 6, 7], [2, 4, 8, 6, 9], [3, 7, 2, 3, 0], [3, 2, 5, 2, 4], [7, 5, 0, 6, 2], [0, 5, 8, 9, 5]]\n",
            "y_hat:\n",
            "[[3, 3, 3, 3, 3], [7, 7, 7, 7, 7], [1, 1, 1, 1, 1], [3, 3, 3, 3, 3], [7, 7, 7, 7, 7], [4, 4, 4, 4, 4], [3, 3, 3, 3, 3], [1, 1, 1, 1, 1], [4, 4, 4, 4, 4], [5, 5, 5, 5, 5]]\n",
            "y:\n",
            "[[3, 6, 0, 3, 9], [7, 6, 1, 2, 7], [2, 2, 0, 5, 7], [2, 9, 8, 8, 2], [7, 6, 3, 4, 8], [9, 6, 8, 4, 2], [0, 3, 2, 7, 3], [4, 2, 5, 2, 3], [2, 6, 0, 5, 7], [5, 9, 8, 5, 0]]\n",
            "\n",
            "\n",
            "\n",
            "Unidades de RNN: 4\n",
            "Acurácia: 0.3\n",
            "--Algumas previsões---\n",
            "x:\n",
            "[[9, 3, 0, 6, 3], [7, 2, 1, 6, 7], [7, 5, 0, 2, 2], [2, 8, 8, 9, 2], [8, 4, 3, 6, 7], [2, 4, 8, 6, 9], [3, 7, 2, 3, 0], [3, 2, 5, 2, 4], [7, 5, 0, 6, 2], [0, 5, 8, 9, 5]]\n",
            "y_hat:\n",
            "[[3, 3, 3, 3, 3], [7, 7, 7, 7, 7], [5, 5, 5, 5, 5], [9, 9, 9, 9, 9], [8, 8, 8, 8, 8], [9, 9, 9, 9, 9], [3, 3, 3, 3, 3], [2, 2, 2, 2, 2], [5, 5, 5, 5, 5], [8, 8, 8, 8, 8]]\n",
            "y:\n",
            "[[3, 6, 0, 3, 9], [7, 6, 1, 2, 7], [2, 2, 0, 5, 7], [2, 9, 8, 8, 2], [7, 6, 3, 4, 8], [9, 6, 8, 4, 2], [0, 3, 2, 7, 3], [4, 2, 5, 2, 3], [2, 6, 0, 5, 7], [5, 9, 8, 5, 0]]\n",
            "\n",
            "\n",
            "\n",
            "Unidades de RNN: 16\n",
            "Acurácia: 0.35\n",
            "--Algumas previsões---\n",
            "x:\n",
            "[[9, 3, 0, 6, 3], [7, 2, 1, 6, 7], [7, 5, 0, 2, 2], [2, 8, 8, 9, 2], [8, 4, 3, 6, 7], [2, 4, 8, 6, 9], [3, 7, 2, 3, 0], [3, 2, 5, 2, 4], [7, 5, 0, 6, 2], [0, 5, 8, 9, 5]]\n",
            "y_hat:\n",
            "[[3, 3, 3, 3, 3], [7, 7, 7, 7, 7], [2, 2, 2, 2, 2], [2, 2, 2, 2, 2], [3, 3, 3, 3, 3], [8, 8, 8, 8, 8], [3, 3, 3, 3, 3], [2, 2, 2, 2, 2], [0, 0, 0, 0, 0], [5, 5, 5, 5, 5]]\n",
            "y:\n",
            "[[3, 6, 0, 3, 9], [7, 6, 1, 2, 7], [2, 2, 0, 5, 7], [2, 9, 8, 8, 2], [7, 6, 3, 4, 8], [9, 6, 8, 4, 2], [0, 3, 2, 7, 3], [4, 2, 5, 2, 3], [2, 6, 0, 5, 7], [5, 9, 8, 5, 0]]\n",
            "\n",
            "\n",
            "\n"
          ],
          "name": "stdout"
        }
      ]
    },
    {
      "cell_type": "markdown",
      "metadata": {
        "id": "svEFCbh3OlRR"
      },
      "source": [
        "### RNN com mais profundidade"
      ]
    },
    {
      "cell_type": "code",
      "metadata": {
        "cellView": "form",
        "id": "L3auUCpXJUPG"
      },
      "source": [
        "#@title Funções auxiliares\n",
        "def rnn_model_multilayer(unn):\n",
        "  modelo = keras.Sequential(\n",
        "      [\n",
        "       keras.Input(shape=(TIME_STEPS, VOCAB_SIZE), name=\"Input\"),\n",
        "       # Output do RNN é o ultimo valor da sequencia\n",
        "       layers.SimpleRNN(unn),\n",
        "       layers.RepeatVector(TIME_STEPS),\n",
        "       layers.SimpleRNN(unn),\n",
        "       layers.RepeatVector(TIME_STEPS),\n",
        "       layers.SimpleRNN(unn),\n",
        "       # Replica o valor do output TIME_STEPS vezes\n",
        "       layers.RepeatVector(TIME_STEPS),\n",
        "       layers.Dense(VOCAB_SIZE, activation= \"softmax\")\n",
        "     ]\n",
        "    )\n",
        "  modelo.compile(optimizer='adam', metrics=['accuracy'],\n",
        "                 loss= keras.losses.categorical_crossentropy)\n",
        "  hist = modelo.fit(x = X_train,\n",
        "                  y = Y_train,\n",
        "                  validation_split=0.2,\n",
        "                  batch_size = 1000,\n",
        "                  epochs=200,\n",
        "                  callbacks=keras.callbacks.EarlyStopping('loss', patience=10),\n",
        "                  verbose=0)\n",
        "\n",
        "  # Previsões\n",
        "  y_hat = modelo(X_test[0:10])\n",
        "  y_hat_v = modelo.evaluate(X_test, Y_test, verbose=0)\n",
        "\n",
        "  x = [one_hot_decode(y) for y in X_test[0:10] ]\n",
        "  y_hat_num = [[np.argmax(y) for y in k] for k in y_hat]\n",
        "  y = [one_hot_decode(y) for y in Y_test[0:10] ]\n",
        "\n",
        "  print(f\"Acurácia: {round(y_hat_v[1],2)}\")\n",
        "  print(\"--Algumas previsões---\")\n",
        "  print(f'x:\\n{x}\\ny_hat:\\n{y_hat_num}\\ny:\\n{y}')\n",
        "  keras.backend.clear_session()\n"
      ],
      "execution_count": 9,
      "outputs": []
    },
    {
      "cell_type": "code",
      "metadata": {
        "colab": {
          "base_uri": "https://localhost:8080/"
        },
        "id": "zIk6NO8VJjjh",
        "outputId": "9936bf35-bbb9-4123-c2e0-12add891134e"
      },
      "source": [
        "\n",
        "## Unidades de RNN\n",
        "for u in [2,4,16]:\n",
        "  print(f'Unidades de RNN: {u}')\n",
        "  rnn_model_multilayer(u)\n",
        "  print('\\n\\n')\n"
      ],
      "execution_count": 10,
      "outputs": [
        {
          "output_type": "stream",
          "text": [
            "Unidades de RNN: 2\n",
            "Acurácia: 0.2\n",
            "--Algumas previsões---\n",
            "x:\n",
            "[[9, 3, 0, 6, 3], [7, 2, 1, 6, 7], [7, 5, 0, 2, 2], [2, 8, 8, 9, 2], [8, 4, 3, 6, 7], [2, 4, 8, 6, 9], [3, 7, 2, 3, 0], [3, 2, 5, 2, 4], [7, 5, 0, 6, 2], [0, 5, 8, 9, 5]]\n",
            "y_hat:\n",
            "[[6, 6, 6, 6, 6], [9, 9, 9, 9, 9], [5, 5, 5, 5, 5], [8, 8, 8, 8, 8], [7, 7, 7, 7, 7], [9, 9, 9, 9, 9], [0, 0, 0, 0, 0], [5, 5, 5, 5, 5], [0, 0, 0, 0, 0], [5, 5, 5, 5, 5]]\n",
            "y:\n",
            "[[3, 6, 0, 3, 9], [7, 6, 1, 2, 7], [2, 2, 0, 5, 7], [2, 9, 8, 8, 2], [7, 6, 3, 4, 8], [9, 6, 8, 4, 2], [0, 3, 2, 7, 3], [4, 2, 5, 2, 3], [2, 6, 0, 5, 7], [5, 9, 8, 5, 0]]\n",
            "\n",
            "\n",
            "\n",
            "Unidades de RNN: 4\n",
            "Acurácia: 0.27\n",
            "--Algumas previsões---\n",
            "x:\n",
            "[[9, 3, 0, 6, 3], [7, 2, 1, 6, 7], [7, 5, 0, 2, 2], [2, 8, 8, 9, 2], [8, 4, 3, 6, 7], [2, 4, 8, 6, 9], [3, 7, 2, 3, 0], [3, 2, 5, 2, 4], [7, 5, 0, 6, 2], [0, 5, 8, 9, 5]]\n",
            "y_hat:\n",
            "[[3, 3, 3, 3, 3], [5, 5, 5, 5, 5], [0, 0, 0, 0, 0], [8, 8, 8, 8, 8], [4, 4, 4, 4, 4], [6, 6, 6, 6, 6], [3, 3, 3, 3, 3], [3, 3, 3, 3, 3], [6, 6, 6, 6, 6], [5, 5, 5, 5, 5]]\n",
            "y:\n",
            "[[3, 6, 0, 3, 9], [7, 6, 1, 2, 7], [2, 2, 0, 5, 7], [2, 9, 8, 8, 2], [7, 6, 3, 4, 8], [9, 6, 8, 4, 2], [0, 3, 2, 7, 3], [4, 2, 5, 2, 3], [2, 6, 0, 5, 7], [5, 9, 8, 5, 0]]\n",
            "\n",
            "\n",
            "\n",
            "Unidades de RNN: 16\n",
            "Acurácia: 0.35\n",
            "--Algumas previsões---\n",
            "x:\n",
            "[[9, 3, 0, 6, 3], [7, 2, 1, 6, 7], [7, 5, 0, 2, 2], [2, 8, 8, 9, 2], [8, 4, 3, 6, 7], [2, 4, 8, 6, 9], [3, 7, 2, 3, 0], [3, 2, 5, 2, 4], [7, 5, 0, 6, 2], [0, 5, 8, 9, 5]]\n",
            "y_hat:\n",
            "[[3, 3, 3, 3, 3], [7, 7, 7, 7, 7], [2, 2, 2, 2, 2], [2, 2, 2, 2, 2], [7, 7, 7, 7, 7], [6, 6, 6, 6, 6], [3, 3, 3, 3, 3], [2, 2, 2, 2, 2], [7, 7, 7, 7, 7], [5, 5, 5, 5, 5]]\n",
            "y:\n",
            "[[3, 6, 0, 3, 9], [7, 6, 1, 2, 7], [2, 2, 0, 5, 7], [2, 9, 8, 8, 2], [7, 6, 3, 4, 8], [9, 6, 8, 4, 2], [0, 3, 2, 7, 3], [4, 2, 5, 2, 3], [2, 6, 0, 5, 7], [5, 9, 8, 5, 0]]\n",
            "\n",
            "\n",
            "\n"
          ],
          "name": "stdout"
        }
      ]
    },
    {
      "cell_type": "markdown",
      "metadata": {
        "id": "ZoOdeDVVOurd"
      },
      "source": [
        "### RNN com LSTM"
      ]
    },
    {
      "cell_type": "code",
      "metadata": {
        "cellView": "form",
        "id": "2Yj_GVcNOyk9"
      },
      "source": [
        "#@title Funções auxiliares\n",
        "def rnn_model_LSTM(unn):\n",
        "  modelo = keras.Sequential(\n",
        "      [\n",
        "       keras.Input(shape=(TIME_STEPS, VOCAB_SIZE), name=\"Input\"),\n",
        "       # Output do RNN é o ultimo valor da sequencia\n",
        "       layers.LSTM(unn),\n",
        "       layers.RepeatVector(TIME_STEPS),\n",
        "       layers.LSTM(unn),\n",
        "       layers.RepeatVector(TIME_STEPS),\n",
        "       layers.LSTM(unn),\n",
        "       # Replica o valor do output TIME_STEPS vezes\n",
        "       layers.RepeatVector(TIME_STEPS),\n",
        "       layers.Dense(VOCAB_SIZE, activation= \"softmax\")\n",
        "     ]\n",
        "    )\n",
        "  modelo.compile(optimizer='adam', metrics=['accuracy'],\n",
        "                 loss= keras.losses.categorical_crossentropy)\n",
        "  hist = modelo.fit(x = X_train,\n",
        "                  y = Y_train,\n",
        "                  validation_split=0.2,\n",
        "                  batch_size = 1000,\n",
        "                  epochs=200,\n",
        "                  callbacks=keras.callbacks.EarlyStopping('loss', patience=10),\n",
        "                  verbose=0)\n",
        "\n",
        "  # Previsões\n",
        "  y_hat = modelo(X_test[0:10])\n",
        "  y_hat_v = modelo.evaluate(X_test, Y_test, verbose=0)\n",
        "\n",
        "  x = [one_hot_decode(y) for y in X_test[0:10] ]\n",
        "  y_hat_num = [[np.argmax(y) for y in k] for k in y_hat]\n",
        "  y = [one_hot_decode(y) for y in Y_test[0:10] ]\n",
        "\n",
        "  print(f\"Acurácia: {round(y_hat_v[1],2)}\")\n",
        "  print(\"--Algumas previsões---\")\n",
        "  print(f'x:\\n{x}\\ny_hat:\\n{y_hat_num}\\ny:\\n{y}')\n",
        "  keras.backend.clear_session()\n"
      ],
      "execution_count": 11,
      "outputs": []
    },
    {
      "cell_type": "code",
      "metadata": {
        "colab": {
          "base_uri": "https://localhost:8080/"
        },
        "id": "jPv6iulmOylN",
        "outputId": "d4e65844-9f1b-45be-d700-c12a63950e21"
      },
      "source": [
        "\n",
        "## Unidades de RNN\n",
        "for u in [2,4,16]:\n",
        "  print(f'Unidades de RNN: {u}')\n",
        "  rnn_model_LSTM(u)\n",
        "  print('\\n\\n')\n"
      ],
      "execution_count": 12,
      "outputs": [
        {
          "output_type": "stream",
          "text": [
            "Unidades de RNN: 2\n",
            "Acurácia: 0.21\n",
            "--Algumas previsões---\n",
            "x:\n",
            "[[9, 3, 0, 6, 3], [7, 2, 1, 6, 7], [7, 5, 0, 2, 2], [2, 8, 8, 9, 2], [8, 4, 3, 6, 7], [2, 4, 8, 6, 9], [3, 7, 2, 3, 0], [3, 2, 5, 2, 4], [7, 5, 0, 6, 2], [0, 5, 8, 9, 5]]\n",
            "y_hat:\n",
            "[[3, 3, 3, 3, 3], [7, 7, 7, 7, 7], [0, 0, 0, 0, 0], [0, 0, 0, 0, 0], [7, 7, 7, 7, 7], [3, 3, 3, 3, 3], [2, 2, 2, 2, 2], [2, 2, 2, 2, 2], [0, 0, 0, 0, 0], [8, 8, 8, 8, 8]]\n",
            "y:\n",
            "[[3, 6, 0, 3, 9], [7, 6, 1, 2, 7], [2, 2, 0, 5, 7], [2, 9, 8, 8, 2], [7, 6, 3, 4, 8], [9, 6, 8, 4, 2], [0, 3, 2, 7, 3], [4, 2, 5, 2, 3], [2, 6, 0, 5, 7], [5, 9, 8, 5, 0]]\n",
            "\n",
            "\n",
            "\n",
            "Unidades de RNN: 4\n",
            "Acurácia: 0.29\n",
            "--Algumas previsões---\n",
            "x:\n",
            "[[9, 3, 0, 6, 3], [7, 2, 1, 6, 7], [7, 5, 0, 2, 2], [2, 8, 8, 9, 2], [8, 4, 3, 6, 7], [2, 4, 8, 6, 9], [3, 7, 2, 3, 0], [3, 2, 5, 2, 4], [7, 5, 0, 6, 2], [0, 5, 8, 9, 5]]\n",
            "y_hat:\n",
            "[[3, 3, 3, 3, 3], [7, 7, 7, 7, 7], [2, 2, 2, 2, 2], [8, 8, 8, 8, 8], [7, 7, 7, 7, 7], [2, 2, 2, 2, 2], [2, 2, 2, 2, 2], [3, 3, 3, 3, 3], [0, 0, 0, 0, 0], [9, 9, 9, 9, 9]]\n",
            "y:\n",
            "[[3, 6, 0, 3, 9], [7, 6, 1, 2, 7], [2, 2, 0, 5, 7], [2, 9, 8, 8, 2], [7, 6, 3, 4, 8], [9, 6, 8, 4, 2], [0, 3, 2, 7, 3], [4, 2, 5, 2, 3], [2, 6, 0, 5, 7], [5, 9, 8, 5, 0]]\n",
            "\n",
            "\n",
            "\n",
            "Unidades de RNN: 16\n",
            "Acurácia: 0.35\n",
            "--Algumas previsões---\n",
            "x:\n",
            "[[9, 3, 0, 6, 3], [7, 2, 1, 6, 7], [7, 5, 0, 2, 2], [2, 8, 8, 9, 2], [8, 4, 3, 6, 7], [2, 4, 8, 6, 9], [3, 7, 2, 3, 0], [3, 2, 5, 2, 4], [7, 5, 0, 6, 2], [0, 5, 8, 9, 5]]\n",
            "y_hat:\n",
            "[[3, 3, 3, 3, 3], [7, 7, 7, 7, 7], [2, 2, 2, 2, 2], [8, 8, 8, 8, 8], [8, 8, 8, 8, 8], [9, 9, 9, 9, 9], [3, 3, 3, 3, 3], [2, 2, 2, 2, 2], [2, 2, 2, 2, 2], [5, 5, 5, 5, 5]]\n",
            "y:\n",
            "[[3, 6, 0, 3, 9], [7, 6, 1, 2, 7], [2, 2, 0, 5, 7], [2, 9, 8, 8, 2], [7, 6, 3, 4, 8], [9, 6, 8, 4, 2], [0, 3, 2, 7, 3], [4, 2, 5, 2, 3], [2, 6, 0, 5, 7], [5, 9, 8, 5, 0]]\n",
            "\n",
            "\n",
            "\n"
          ],
          "name": "stdout"
        }
      ]
    },
    {
      "cell_type": "markdown",
      "metadata": {
        "id": "vwneC4YyPUkA"
      },
      "source": [
        "RNN com LSTM e return_seq = TRUE"
      ]
    },
    {
      "cell_type": "code",
      "metadata": {
        "cellView": "form",
        "id": "RNMgVKOzPOU3"
      },
      "source": [
        "#@title Funções auxiliares\n",
        "def rnn_model_LSTM_SEQ(unn):\n",
        "  modelo = keras.Sequential(\n",
        "      [\n",
        "       keras.Input(shape=(TIME_STEPS, VOCAB_SIZE), name=\"Input\"),\n",
        "       # Output do RNN é o ultimo valor da sequencia\n",
        "       layers.LSTM(unn, return_sequences=True),\n",
        "       layers.LSTM(unn, return_sequences=True),\n",
        "       # Replica o valor do output TIME_STEPS vezes\n",
        "       layers.TimeDistributed(layers.Dense(VOCAB_SIZE, activation= \"softmax\"))\n",
        "     ]\n",
        "    )\n",
        "  modelo.compile(optimizer='adam', metrics=['accuracy'],\n",
        "                 loss= keras.losses.categorical_crossentropy)\n",
        "  hist = modelo.fit(x = X_train,\n",
        "                  y = Y_train,\n",
        "                  validation_split=0.2,\n",
        "                  batch_size = 1000,\n",
        "                  epochs=200,\n",
        "                  callbacks=keras.callbacks.EarlyStopping('loss', patience=10),\n",
        "                  verbose=0)\n",
        "\n",
        "  # Previsões\n",
        "  y_hat = modelo(X_test[0:10])\n",
        "  y_hat_v = modelo.evaluate(X_test, Y_test, verbose=0)\n",
        "\n",
        "  x = [one_hot_decode(y) for y in X_test[0:10] ]\n",
        "  y_hat_num = [[np.argmax(y) for y in k] for k in y_hat]\n",
        "  y = [one_hot_decode(y) for y in Y_test[0:10] ]\n",
        "\n",
        "  print(f\"Acurácia: {round(y_hat_v[1],2)}\")\n",
        "  print(\"--Algumas previsões---\")\n",
        "  print(f'x:\\n{x}\\ny_hat:\\n{y_hat_num}\\ny:\\n{y}')\n",
        "  keras.backend.clear_session()\n"
      ],
      "execution_count": 13,
      "outputs": []
    },
    {
      "cell_type": "code",
      "metadata": {
        "colab": {
          "base_uri": "https://localhost:8080/"
        },
        "id": "4Uftx_FbPOU4",
        "outputId": "c5cd4c12-a9b8-4570-f3d1-59f6e9b066fc"
      },
      "source": [
        "\n",
        "## Unidades de RNN\n",
        "for u in [2,4,16]:\n",
        "  print(f'Unidades de RNN: {u}')\n",
        "  rnn_model_LSTM_SEQ(u)\n",
        "  print('\\n\\n')\n"
      ],
      "execution_count": 14,
      "outputs": [
        {
          "output_type": "stream",
          "text": [
            "Unidades de RNN: 2\n",
            "Acurácia: 0.16\n",
            "--Algumas previsões---\n",
            "x:\n",
            "[[9, 3, 0, 6, 3], [7, 2, 1, 6, 7], [7, 5, 0, 2, 2], [2, 8, 8, 9, 2], [8, 4, 3, 6, 7], [2, 4, 8, 6, 9], [3, 7, 2, 3, 0], [3, 2, 5, 2, 4], [7, 5, 0, 6, 2], [0, 5, 8, 9, 5]]\n",
            "y_hat:\n",
            "[[5, 8, 8, 8, 8], [0, 3, 3, 3, 7], [0, 3, 3, 3, 3], [0, 9, 9, 9, 6], [0, 9, 8, 8, 8], [0, 5, 5, 5, 5], [0, 3, 3, 7, 7], [0, 3, 3, 3, 3], [0, 3, 3, 3, 3], [0, 0, 0, 0, 4]]\n",
            "y:\n",
            "[[3, 6, 0, 3, 9], [7, 6, 1, 2, 7], [2, 2, 0, 5, 7], [2, 9, 8, 8, 2], [7, 6, 3, 4, 8], [9, 6, 8, 4, 2], [0, 3, 2, 7, 3], [4, 2, 5, 2, 3], [2, 6, 0, 5, 7], [5, 9, 8, 5, 0]]\n",
            "\n",
            "\n",
            "\n",
            "Unidades de RNN: 4\n",
            "Acurácia: 0.29\n",
            "--Algumas previsões---\n",
            "x:\n",
            "[[9, 3, 0, 6, 3], [7, 2, 1, 6, 7], [7, 5, 0, 2, 2], [2, 8, 8, 9, 2], [8, 4, 3, 6, 7], [2, 4, 8, 6, 9], [3, 7, 2, 3, 0], [3, 2, 5, 2, 4], [7, 5, 0, 6, 2], [0, 5, 8, 9, 5]]\n",
            "y_hat:\n",
            "[[4, 9, 9, 9, 9], [4, 7, 7, 7, 7], [4, 9, 9, 4, 4], [2, 5, 1, 6, 2], [0, 3, 8, 8, 8], [2, 4, 2, 2, 2], [0, 3, 3, 3, 3], [0, 9, 9, 3, 3], [4, 9, 9, 4, 7], [0, 5, 5, 0, 0]]\n",
            "y:\n",
            "[[3, 6, 0, 3, 9], [7, 6, 1, 2, 7], [2, 2, 0, 5, 7], [2, 9, 8, 8, 2], [7, 6, 3, 4, 8], [9, 6, 8, 4, 2], [0, 3, 2, 7, 3], [4, 2, 5, 2, 3], [2, 6, 0, 5, 7], [5, 9, 8, 5, 0]]\n",
            "\n",
            "\n",
            "\n",
            "Unidades de RNN: 16\n",
            "Acurácia: 0.64\n",
            "--Algumas previsões---\n",
            "x:\n",
            "[[9, 3, 0, 6, 3], [7, 2, 1, 6, 7], [7, 5, 0, 2, 2], [2, 8, 8, 9, 2], [8, 4, 3, 6, 7], [2, 4, 8, 6, 9], [3, 7, 2, 3, 0], [3, 2, 5, 2, 4], [7, 5, 0, 6, 2], [0, 5, 8, 9, 5]]\n",
            "y_hat:\n",
            "[[5, 3, 0, 3, 9], [1, 2, 1, 2, 7], [1, 5, 0, 5, 7], [6, 8, 8, 8, 2], [3, 4, 3, 4, 8], [6, 4, 8, 4, 2], [3, 7, 2, 7, 3], [3, 2, 5, 2, 3], [1, 5, 0, 5, 7], [9, 5, 8, 5, 0]]\n",
            "y:\n",
            "[[3, 6, 0, 3, 9], [7, 6, 1, 2, 7], [2, 2, 0, 5, 7], [2, 9, 8, 8, 2], [7, 6, 3, 4, 8], [9, 6, 8, 4, 2], [0, 3, 2, 7, 3], [4, 2, 5, 2, 3], [2, 6, 0, 5, 7], [5, 9, 8, 5, 0]]\n",
            "\n",
            "\n",
            "\n"
          ],
          "name": "stdout"
        }
      ]
    },
    {
      "cell_type": "code",
      "metadata": {
        "cellView": "form",
        "id": "YfTOTLUZPHGy"
      },
      "source": [
        "#@title Funções auxiliares\n",
        "def rnn_model_state(unn):\n",
        "  input = keras.Input(shape=(TIME_STEPS, VOCAB_SIZE))\n",
        "\n",
        "  lstm1 = layers.LSTM(unn, return_state= True)\n",
        "  LSTM_output, state_h, state_c = lstm1(input)\n",
        "  states = [state_h, state_c]\n",
        "\n",
        "  repeat = layers.RepeatVector(TIME_STEPS)\n",
        "  LSTM_output = repeat(LSTM_output)\n",
        "\n",
        "  lstm2 = layers.LSTM(unn, return_sequences=True)\n",
        "  all_state_h = lstm2(LSTM_output, initial_state = states)\n",
        "\n",
        "  dense = layers.TimeDistributed(layers.Dense(VOCAB_SIZE,\"softmax\" ))\n",
        "\n",
        "  out = dense(all_state_h)\n",
        "\n",
        "  modelo = keras.Model(input,out)\n",
        "  modelo.compile(optimizer='adam', metrics=['accuracy'],\n",
        "                 loss= keras.losses.categorical_crossentropy)\n",
        "  hist = modelo.fit(x = X_train,\n",
        "                  y = Y_train,\n",
        "                  validation_split=0.2,\n",
        "                  batch_size = 1000,\n",
        "                  epochs=200,\n",
        "                  callbacks=keras.callbacks.EarlyStopping('loss', patience=10),\n",
        "                  verbose=0)\n",
        "\n",
        "  # Previsões\n",
        "  y_hat = modelo(X_test[0:10])\n",
        "  y_hat_v = modelo.evaluate(X_test, Y_test, verbose=0)\n",
        "\n",
        "  x = [one_hot_decode(y) for y in X_test[0:10] ]\n",
        "  y_hat_num = [[np.argmax(y) for y in k] for k in y_hat]\n",
        "  y = [one_hot_decode(y) for y in Y_test[0:10] ]\n",
        "\n",
        "  print(f\"Acurácia: {round(y_hat_v[1],2)}\")\n",
        "  print(\"--Algumas previsões---\")\n",
        "  print(f'x:\\n{x}\\ny_hat:\\n{y_hat_num}\\ny:\\n{y}')\n",
        "  keras.backend.clear_session()\n"
      ],
      "execution_count": 15,
      "outputs": []
    },
    {
      "cell_type": "code",
      "metadata": {
        "colab": {
          "base_uri": "https://localhost:8080/"
        },
        "id": "lOplTEEFPHHE",
        "outputId": "f0e913c5-a0cd-476a-b689-df5c80e1231f"
      },
      "source": [
        "\n",
        "## Unidades de RNN\n",
        "for u in [2,4,16]:\n",
        "  print(f'Unidades de RNN: {u}')\n",
        "  rnn_model_state(u)\n",
        "  print('\\n\\n')\n"
      ],
      "execution_count": 16,
      "outputs": [
        {
          "output_type": "stream",
          "text": [
            "Unidades de RNN: 2\n",
            "Acurácia: 0.25\n",
            "--Algumas previsões---\n",
            "x:\n",
            "[[9, 3, 0, 6, 3], [7, 2, 1, 6, 7], [7, 5, 0, 2, 2], [2, 8, 8, 9, 2], [8, 4, 3, 6, 7], [2, 4, 8, 6, 9], [3, 7, 2, 3, 0], [3, 2, 5, 2, 4], [7, 5, 0, 6, 2], [0, 5, 8, 9, 5]]\n",
            "y_hat:\n",
            "[[4, 0, 6, 6, 6], [7, 9, 0, 6, 6], [5, 5, 8, 7, 9], [5, 5, 3, 5, 3], [6, 6, 0, 0, 0], [6, 6, 0, 0, 0], [3, 8, 8, 8, 3], [3, 5, 5, 5, 3], [7, 7, 0, 6, 6], [5, 5, 3, 5, 8]]\n",
            "y:\n",
            "[[3, 6, 0, 3, 9], [7, 6, 1, 2, 7], [2, 2, 0, 5, 7], [2, 9, 8, 8, 2], [7, 6, 3, 4, 8], [9, 6, 8, 4, 2], [0, 3, 2, 7, 3], [4, 2, 5, 2, 3], [2, 6, 0, 5, 7], [5, 9, 8, 5, 0]]\n",
            "\n",
            "\n",
            "\n",
            "Unidades de RNN: 4\n",
            "Acurácia: 0.44\n",
            "--Algumas previsões---\n",
            "x:\n",
            "[[9, 3, 0, 6, 3], [7, 2, 1, 6, 7], [7, 5, 0, 2, 2], [2, 8, 8, 9, 2], [8, 4, 3, 6, 7], [2, 4, 8, 6, 9], [3, 7, 2, 3, 0], [3, 2, 5, 2, 4], [7, 5, 0, 6, 2], [0, 5, 8, 9, 5]]\n",
            "y_hat:\n",
            "[[3, 5, 0, 0, 7], [7, 6, 6, 6, 6], [0, 0, 0, 0, 0], [2, 4, 8, 8, 8], [7, 8, 8, 8, 8], [9, 6, 6, 6, 6], [2, 3, 3, 7, 3], [4, 6, 2, 0, 0], [2, 0, 0, 0, 0], [5, 5, 5, 5, 5]]\n",
            "y:\n",
            "[[3, 6, 0, 3, 9], [7, 6, 1, 2, 7], [2, 2, 0, 5, 7], [2, 9, 8, 8, 2], [7, 6, 3, 4, 8], [9, 6, 8, 4, 2], [0, 3, 2, 7, 3], [4, 2, 5, 2, 3], [2, 6, 0, 5, 7], [5, 9, 8, 5, 0]]\n",
            "\n",
            "\n",
            "\n",
            "Unidades de RNN: 16\n",
            "Acurácia: 0.93\n",
            "--Algumas previsões---\n",
            "x:\n",
            "[[9, 3, 0, 6, 3], [7, 2, 1, 6, 7], [7, 5, 0, 2, 2], [2, 8, 8, 9, 2], [8, 4, 3, 6, 7], [2, 4, 8, 6, 9], [3, 7, 2, 3, 0], [3, 2, 5, 2, 4], [7, 5, 0, 6, 2], [0, 5, 8, 9, 5]]\n",
            "y_hat:\n",
            "[[3, 6, 0, 3, 9], [7, 6, 1, 2, 7], [2, 2, 0, 5, 7], [2, 9, 8, 2, 2], [7, 6, 3, 4, 8], [9, 6, 8, 4, 2], [0, 3, 2, 7, 3], [4, 2, 5, 2, 3], [2, 6, 0, 5, 7], [5, 9, 8, 5, 0]]\n",
            "y:\n",
            "[[3, 6, 0, 3, 9], [7, 6, 1, 2, 7], [2, 2, 0, 5, 7], [2, 9, 8, 8, 2], [7, 6, 3, 4, 8], [9, 6, 8, 4, 2], [0, 3, 2, 7, 3], [4, 2, 5, 2, 3], [2, 6, 0, 5, 7], [5, 9, 8, 5, 0]]\n",
            "\n",
            "\n",
            "\n"
          ],
          "name": "stdout"
        }
      ]
    },
    {
      "cell_type": "markdown",
      "metadata": {
        "id": "qQhwSfMhqpVm"
      },
      "source": [
        "# Aplicações com RNN"
      ]
    },
    {
      "cell_type": "markdown",
      "metadata": {
        "id": "zk7F6x-GrFpU"
      },
      "source": [
        "Assim como foi visto"
      ]
    },
    {
      "cell_type": "code",
      "metadata": {
        "cellView": "form",
        "id": "N6WT2upL3RaF"
      },
      "source": [
        "#@title Funções Auxiliares\n",
        "\n",
        "def one_hot_decode(data):\n",
        "  return [np.argmax(x) for x in data]\n",
        "\n",
        "def plot(p):\n",
        "\tplt.plot(p.history['accuracy'])\n",
        "\tplt.plot(p.history['val_accuracy'])\n",
        "\tplt.title('accuracy')\n",
        "\tplt.ylabel('accuracy')\n",
        "\tplt.xlabel('epoch')\n",
        "\tplt.legend(['train', 'val'], loc='upper left')\n",
        "\tplt.show()\n",
        " \n",
        "\tplt.plot(p.history['loss'])\n",
        "\tplt.plot(p.history['val_loss'])\n",
        "\tplt.title('loss')\n",
        "\tplt.ylabel('loss')\n",
        "\tplt.xlabel('epoch')\n",
        "\tplt.legend(['train', 'val'], loc='upper left')\n",
        "\tplt.show()\n",
        " \n",
        "def one_hot_encode_K(data, max_lenght):\n",
        "  new_data = list()\n",
        "  for x in data:\n",
        "    hot = [0]*(max_lenght)\n",
        "    hot[x-1] = 1\n",
        "    new_data.append(hot)\n",
        "  return new_data\n",
        "\n",
        "def one_hot_encode(data, max_lenght):\n",
        "  new_data = list()\n",
        "  for x in data:\n",
        "    hot = [0]*(max_lenght)\n",
        "    hot[x] = 1\n",
        "    new_data.append(hot)\n",
        "  return new_data\n",
        "\n",
        "\n",
        "class Tokenizer_text():\n",
        "  def __init__(self):\n",
        "    self.regex = \"[\\'\\n\\t\\d\\\\!\\\"\\#\\$\\%\\&\\(\\)\\*\\+,-./:;<=>\\?@\\[\\]\\^_`\\{\\|\\}~]\"\n",
        "\n",
        "  def treat_text(self, text, regex = None):\n",
        "    if regex:\n",
        "      self.regex = regex\n",
        "    \n",
        "    return re.sub(self.regex, '', unidecode(text).lower())\n",
        "  \n",
        "  def treat_data(self, data, max_vocab = 0, regex = None):\n",
        "    if regex:\n",
        "      self.regex = regex\n",
        "      \n",
        "\n",
        "    treat = [self.treat_text(m) for m in data]\n",
        "    \n",
        "    join = ' '.join(treat)\n",
        "    vocab = set(join.split())\n",
        "\n",
        "    if (max_vocab==0):\n",
        "      max_vocab = vocab\n",
        "\n",
        "    elif len(vocab) <= max_vocab:\n",
        "      self.vocab = sorted(vocab)\n",
        "      self.dic = {u:(i+1) for i, u in enumerate(self.vocab)}\n",
        "      idx_data = self.text2idx(treat)\n",
        "      return idx_data\n",
        "\n",
        "    new_vocab = ['<OAV>'] + sorted(sample(vocab, max_vocab-1))\n",
        "    vocab = vocab - set(new_vocab)\n",
        "\n",
        "    self.vocab = new_vocab\n",
        "    self.dic = {u:i for i, u in enumerate(self.vocab)}\n",
        "    self.dic['<OAV>'] = 0\n",
        "\n",
        "   # text_data = [d.split(' ') for d in treat]\n",
        "    idx_data = self.text2idx(treat)\n",
        "\n",
        "    return idx_data\n",
        "\n",
        "  def idx2text(self, idex):\n",
        "    return [self.vocab[x] for x in idex]\n",
        "\n",
        "  def text2idx(self, text):\n",
        "    return [list(map(lambda x: self.dic[x] if x in self.dic else 0 , u.split(' '))) for u in text]\n",
        "\n",
        "  def for_idx_data2_text(self, data):\n",
        "    return [self.idx2text(x) for x in data]\n",
        "\n",
        "\n",
        "\n",
        "class Tokenizer_text_text():\n",
        "  def __init__(self):\n",
        "    return\n",
        "\n",
        "  def treat_text(self, text):\n",
        "    return unidecode(text).lower()\n",
        "  \n",
        "  def treat_data(self, data, max_vocab = 0):\n",
        "    treat = [self.treat_text(m) for m in data]\n",
        "    \n",
        "    join = '\\n\\n'.join(treat)\n",
        "    self.vocab = sorted(set(join))\n",
        "    self.dic = {u:(i+2) for i, u in enumerate(self.vocab)}\n",
        "    \n",
        "    if max_vocab <= len(self.vocab):\n",
        "      self.vocab = sorted(sample(self.vocab, max_vocab))\n",
        "      self.dic = {u:(i+2) for i, u in enumerate(self.vocab)}\n",
        "      idx_data = self.text2idx(join)\n",
        "      return idx_data\n",
        "    \n",
        "    idx_data = self.text2idx(join)\n",
        "\n",
        "    return idx_data\n",
        "\n",
        "  def idx2text(self, idex):\n",
        "    return [self.vocab[x] for x in idex]\n",
        "\n",
        "  def text2idx(self, text):\n",
        "    return [ self.dic[j] for j in text]\n",
        "\n",
        "  def for_idx_data2_text(self, data):\n",
        "    return [self.idx2text(x) for x in data]\n",
        "  \n",
        "\n",
        "def get_batch(vectorized_songs, seq_length, batch_size):\n",
        "  # the length of the vectorized songs string\n",
        "  n = vectorized_songs.shape[0] - 1\n",
        "  # randomly choose the starting indices for the examples in the training batch\n",
        "  idx = np.random.choice(n-seq_length, batch_size)\n",
        "\n",
        "  '''TODO: construct a list of input sequences for the training batch'''\n",
        "  input_batch = [vectorized_songs[i : i+seq_length] for i in idx]\n",
        "  # input_batch = # TODO\n",
        "  '''TODO: construct a list of output sequences for the training batch'''\n",
        "  output_batch = [vectorized_songs[i+1 : i+seq_length+1] for i in idx]\n",
        "  # output_batch = # TODO\n",
        "\n",
        "  # x_batch, y_batch provide the true inputs and targets for network training\n",
        "  x_batch = np.reshape(input_batch, [batch_size, seq_length])\n",
        "  y_batch = np.reshape(output_batch, [batch_size, seq_length])\n",
        "  return x_batch, y_batch\n"
      ],
      "execution_count": 5,
      "outputs": []
    },
    {
      "cell_type": "code",
      "metadata": {
        "id": "LqnJPUzMrbNx",
        "colab": {
          "base_uri": "https://localhost:8080/"
        },
        "cellView": "form",
        "outputId": "fae6e942-901b-4fb6-8eb7-f1320a3a8ef7"
      },
      "source": [
        "#@title Bibliotecas\n",
        "import pandas as pd\n",
        "import numpy as np\n",
        "import tensorflow as tf\n",
        "\n",
        "from tensorflow import keras\n",
        "from tensorflow.keras import layers\n",
        "\n",
        "from keras.preprocessing.text import Tokenizer\n",
        "from keras.preprocessing.sequence import pad_sequences\n",
        "\n",
        "from sklearn.model_selection import train_test_split\n",
        "\n",
        "from matplotlib import pyplot as plt\n",
        "from random import sample\n",
        "\n",
        "import os\n",
        "import time\n",
        "import re\n",
        "\n",
        "!pip install unidecode\n",
        "from unidecode import unidecode\n",
        "\n",
        "tf.config.list_physical_devices('GPU')"
      ],
      "execution_count": 4,
      "outputs": [
        {
          "output_type": "stream",
          "text": [
            "Requirement already satisfied: unidecode in /usr/local/lib/python3.7/dist-packages (1.2.0)\n"
          ],
          "name": "stdout"
        },
        {
          "output_type": "execute_result",
          "data": {
            "text/plain": [
              "[PhysicalDevice(name='/physical_device:GPU:0', device_type='GPU')]"
            ]
          },
          "metadata": {
            "tags": []
          },
          "execution_count": 4
        }
      ]
    },
    {
      "cell_type": "markdown",
      "metadata": {
        "id": "Q-bCz5eclRam"
      },
      "source": [
        "## Tratamento de dados"
      ]
    },
    {
      "cell_type": "code",
      "metadata": {
        "id": "LAfxkvsat4A0",
        "cellView": "form"
      },
      "source": [
        "#@title Baixando os dados\n",
        "# Baixar dataset\n",
        "!gdown --id 15FhPHu7Hx6ul_k-EEBZwzpUWznK0gBR3\n",
        "\n",
        "!gdown --id 1Eq9oi3_1PuSZ5hoZS5M1A5pTMSyy3K_a\n",
        "\n",
        "!gdown --id 1uqM4Mc2kynrFZQaDMpnfFOuYa0vw3vhn\n"
      ],
      "execution_count": null,
      "outputs": []
    },
    {
      "cell_type": "code",
      "metadata": {
        "id": "rlafdjkFuxw4",
        "cellView": "form"
      },
      "source": [
        "#@title Dados\n",
        "# Data1\n",
        "poem_data = pd.read_csv(\"portuguese-poems.csv\", encoding='UTF-8')\n",
        "\n",
        "# Data2\n",
        "cript_data = pd.read_csv(\"Ethereum Historical Data.csv\", encoding='UTF-8')\n",
        "\n",
        "# Data3\n",
        "materias_data = pd.read_csv(\"Historico_de_materias.csv\", encoding='UTF-8')\n",
        "\n",
        "poem_data = poem_data.dropna()\n",
        "cript_data = cript_data.dropna()\n",
        "materias_data = materias_data.dropna()"
      ],
      "execution_count": 6,
      "outputs": []
    },
    {
      "cell_type": "markdown",
      "metadata": {
        "id": "GDMOUkDvp1Yy"
      },
      "source": [
        "### Tratamento portuguese-poems.csv"
      ]
    },
    {
      "cell_type": "code",
      "metadata": {
        "colab": {
          "base_uri": "https://localhost:8080/",
          "height": 202
        },
        "cellView": "form",
        "id": "KfLrdY6Rr02i",
        "outputId": "574d40ef-bbec-467a-bc05-902cce9f4520"
      },
      "source": [
        "#@title Dados(poem_data): portuguese-poems.csv\n",
        "poem_data.head()"
      ],
      "execution_count": 7,
      "outputs": [
        {
          "output_type": "execute_result",
          "data": {
            "text/html": [
              "<div>\n",
              "<style scoped>\n",
              "    .dataframe tbody tr th:only-of-type {\n",
              "        vertical-align: middle;\n",
              "    }\n",
              "\n",
              "    .dataframe tbody tr th {\n",
              "        vertical-align: top;\n",
              "    }\n",
              "\n",
              "    .dataframe thead th {\n",
              "        text-align: right;\n",
              "    }\n",
              "</style>\n",
              "<table border=\"1\" class=\"dataframe\">\n",
              "  <thead>\n",
              "    <tr style=\"text-align: right;\">\n",
              "      <th></th>\n",
              "      <th>Author</th>\n",
              "      <th>Title</th>\n",
              "      <th>Content</th>\n",
              "      <th>Views</th>\n",
              "    </tr>\n",
              "  </thead>\n",
              "  <tbody>\n",
              "    <tr>\n",
              "      <th>0</th>\n",
              "      <td>Cecília Meireles</td>\n",
              "      <td>Retrato</td>\n",
              "      <td>Eu não tinha este rosto de hoje,\\r\\nAssim calm...</td>\n",
              "      <td>1018431</td>\n",
              "    </tr>\n",
              "    <tr>\n",
              "      <th>1</th>\n",
              "      <td>Fernando Pessoa</td>\n",
              "      <td>Para ser grande, sê inteiro: nada</td>\n",
              "      <td>Para ser grande, sê inteiro: nada\\r\\nTeu exage...</td>\n",
              "      <td>1979413</td>\n",
              "    </tr>\n",
              "    <tr>\n",
              "      <th>2</th>\n",
              "      <td>Marina Colasanti</td>\n",
              "      <td>Eu sei, mas não devia</td>\n",
              "      <td>Eu sei que a gente se acostuma. Mas não devia....</td>\n",
              "      <td>301509</td>\n",
              "    </tr>\n",
              "    <tr>\n",
              "      <th>3</th>\n",
              "      <td>Carlos Drummond de Andrade</td>\n",
              "      <td>Quadrilha</td>\n",
              "      <td>João amava Teresa que amava Raimundo\\r\\nque am...</td>\n",
              "      <td>1421206</td>\n",
              "    </tr>\n",
              "    <tr>\n",
              "      <th>4</th>\n",
              "      <td>Eugénio de Andrade</td>\n",
              "      <td>É urgente o amor</td>\n",
              "      <td>É urgente o amor.\\r\\nÉ urgente um barco no mar...</td>\n",
              "      <td>621197</td>\n",
              "    </tr>\n",
              "  </tbody>\n",
              "</table>\n",
              "</div>"
            ],
            "text/plain": [
              "                       Author  ...    Views\n",
              "0            Cecília Meireles  ...  1018431\n",
              "1             Fernando Pessoa  ...  1979413\n",
              "2            Marina Colasanti  ...   301509\n",
              "3  Carlos Drummond de Andrade  ...  1421206\n",
              "4          Eugénio de Andrade  ...   621197\n",
              "\n",
              "[5 rows x 4 columns]"
            ]
          },
          "metadata": {
            "tags": []
          },
          "execution_count": 7
        }
      ]
    },
    {
      "cell_type": "code",
      "metadata": {
        "id": "C7GFpA5Tp1Y8"
      },
      "source": [
        "### Poemas dados\n",
        "poem_data.shape\n",
        "# Quantos assuntos\n",
        "len(poem_data['Author'].unique())\n",
        "\n",
        "poem_data = poem_data[poem_data['Author']=='Carlos Drummond de Andrade']\n",
        "\n",
        "# Assuntos\n",
        "\n",
        "content_tokenizer = Tokenizer_text_text()\n",
        "Content_tk = content_tokenizer.treat_data(poem_data['Content'], max_vocab = 3000)\n",
        "\n",
        "content_tokenizer.dic['<SRT>'] = 1\n",
        "content_tokenizer.dic['<END>'] = 0\n",
        "\n",
        "SEQ_LENGTH=10\n",
        "\n",
        "X_batch, Y_batch = get_batch(np.array(Content_tk), batch_size=10000, seq_length=SEQ_LENGTH)\n",
        "\n",
        "\n",
        "X_batch = [np.concatenate([[1], x, [0]]) for x in X_batch]\n",
        "Y_batch = [np.concatenate([[1], x, [0]]) for x in Y_batch]\n",
        "\n",
        "n = len(content_tokenizer.dic)\n",
        "one_hot_encode_K(X_batch[0], max_lenght= n )\n",
        "\n",
        "hot_X = np.array([np.array(one_hot_encode_K(x, n)) for x in X_batch ])\n",
        "hot_Y = np.array([np.array(one_hot_encode_K(x, n)) for x in Y_batch ])"
      ],
      "execution_count": 8,
      "outputs": []
    },
    {
      "cell_type": "code",
      "metadata": {
        "colab": {
          "base_uri": "https://localhost:8080/",
          "height": 202
        },
        "cellView": "form",
        "id": "lUzqx4kdsfFZ",
        "outputId": "d1134fd2-d2f5-46ab-a8c7-a5572c2d5e57"
      },
      "source": [
        "#@title Dados(cript_data): Ethereum Historical Data.csv\n",
        "\n",
        "cript_data.head()"
      ],
      "execution_count": 9,
      "outputs": [
        {
          "output_type": "execute_result",
          "data": {
            "text/html": [
              "<div>\n",
              "<style scoped>\n",
              "    .dataframe tbody tr th:only-of-type {\n",
              "        vertical-align: middle;\n",
              "    }\n",
              "\n",
              "    .dataframe tbody tr th {\n",
              "        vertical-align: top;\n",
              "    }\n",
              "\n",
              "    .dataframe thead th {\n",
              "        text-align: right;\n",
              "    }\n",
              "</style>\n",
              "<table border=\"1\" class=\"dataframe\">\n",
              "  <thead>\n",
              "    <tr style=\"text-align: right;\">\n",
              "      <th></th>\n",
              "      <th>Date</th>\n",
              "      <th>Price</th>\n",
              "      <th>Open</th>\n",
              "      <th>High</th>\n",
              "      <th>Low</th>\n",
              "      <th>Vol.</th>\n",
              "      <th>Change %</th>\n",
              "    </tr>\n",
              "  </thead>\n",
              "  <tbody>\n",
              "    <tr>\n",
              "      <th>0</th>\n",
              "      <td>Mar 10, 2016</td>\n",
              "      <td>11.75</td>\n",
              "      <td>11.20</td>\n",
              "      <td>11.85</td>\n",
              "      <td>11.07</td>\n",
              "      <td>0.00K</td>\n",
              "      <td>4.91%</td>\n",
              "    </tr>\n",
              "    <tr>\n",
              "      <th>1</th>\n",
              "      <td>Mar 11, 2016</td>\n",
              "      <td>11.95</td>\n",
              "      <td>11.75</td>\n",
              "      <td>11.95</td>\n",
              "      <td>11.75</td>\n",
              "      <td>0.18K</td>\n",
              "      <td>1.70%</td>\n",
              "    </tr>\n",
              "    <tr>\n",
              "      <th>2</th>\n",
              "      <td>Mar 12, 2016</td>\n",
              "      <td>12.92</td>\n",
              "      <td>11.95</td>\n",
              "      <td>13.45</td>\n",
              "      <td>11.95</td>\n",
              "      <td>0.83K</td>\n",
              "      <td>8.12%</td>\n",
              "    </tr>\n",
              "    <tr>\n",
              "      <th>3</th>\n",
              "      <td>Mar 13, 2016</td>\n",
              "      <td>15.07</td>\n",
              "      <td>12.92</td>\n",
              "      <td>15.07</td>\n",
              "      <td>12.92</td>\n",
              "      <td>1.30K</td>\n",
              "      <td>16.64%</td>\n",
              "    </tr>\n",
              "    <tr>\n",
              "      <th>4</th>\n",
              "      <td>Mar 14, 2016</td>\n",
              "      <td>12.50</td>\n",
              "      <td>15.07</td>\n",
              "      <td>15.07</td>\n",
              "      <td>11.40</td>\n",
              "      <td>92.18K</td>\n",
              "      <td>-17.05%</td>\n",
              "    </tr>\n",
              "  </tbody>\n",
              "</table>\n",
              "</div>"
            ],
            "text/plain": [
              "           Date  Price   Open   High    Low    Vol. Change %\n",
              "0  Mar 10, 2016  11.75  11.20  11.85  11.07   0.00K    4.91%\n",
              "1  Mar 11, 2016  11.95  11.75  11.95  11.75   0.18K    1.70%\n",
              "2  Mar 12, 2016  12.92  11.95  13.45  11.95   0.83K    8.12%\n",
              "3  Mar 13, 2016  15.07  12.92  15.07  12.92   1.30K   16.64%\n",
              "4  Mar 14, 2016  12.50  15.07  15.07  11.40  92.18K  -17.05%"
            ]
          },
          "metadata": {
            "tags": []
          },
          "execution_count": 9
        }
      ]
    },
    {
      "cell_type": "markdown",
      "metadata": {
        "id": "rGhT3eFX4lyu"
      },
      "source": [
        "### Tratamento Historico_de_materias.csv"
      ]
    },
    {
      "cell_type": "code",
      "metadata": {
        "colab": {
          "base_uri": "https://localhost:8080/",
          "height": 202
        },
        "id": "YV2DJ2cqu32h",
        "outputId": "d6738197-7785-4261-d5ad-6a97ff722160"
      },
      "source": [
        "#@title Dados(materias_data): Historico_de_materias.csv\n",
        "materias_data.head()"
      ],
      "execution_count": 10,
      "outputs": [
        {
          "output_type": "execute_result",
          "data": {
            "text/html": [
              "<div>\n",
              "<style scoped>\n",
              "    .dataframe tbody tr th:only-of-type {\n",
              "        vertical-align: middle;\n",
              "    }\n",
              "\n",
              "    .dataframe tbody tr th {\n",
              "        vertical-align: top;\n",
              "    }\n",
              "\n",
              "    .dataframe thead th {\n",
              "        text-align: right;\n",
              "    }\n",
              "</style>\n",
              "<table border=\"1\" class=\"dataframe\">\n",
              "  <thead>\n",
              "    <tr style=\"text-align: right;\">\n",
              "      <th></th>\n",
              "      <th>data</th>\n",
              "      <th>url_noticia</th>\n",
              "      <th>url_noticia_curto</th>\n",
              "      <th>titulo</th>\n",
              "      <th>conteudo_noticia</th>\n",
              "      <th>assunto</th>\n",
              "    </tr>\n",
              "  </thead>\n",
              "  <tbody>\n",
              "    <tr>\n",
              "      <th>0</th>\n",
              "      <td>2014-01-25</td>\n",
              "      <td>https://web.archive.org/web/20140125123631/htt...</td>\n",
              "      <td>http://g1.globo.com/economia/noticia/2014/01/m...</td>\n",
              "      <td>Mesmo com alta do dólar, gastos de brasileiros...</td>\n",
              "      <td>\\n\\tA alta de 15% no dólar em 2013, a maior do...</td>\n",
              "      <td>economia</td>\n",
              "    </tr>\n",
              "    <tr>\n",
              "      <th>1</th>\n",
              "      <td>2014-01-25</td>\n",
              "      <td>https://web.archive.org/web/20140125123631/htt...</td>\n",
              "      <td>http://g1.globo.com/economia/noticia/2014/01/p...</td>\n",
              "      <td>Para Dilma, é 'apressada' a tese de que emerge...</td>\n",
              "      <td>\\n\\tA presidente Dilma Rousseff afirmou nesta ...</td>\n",
              "      <td>economia</td>\n",
              "    </tr>\n",
              "    <tr>\n",
              "      <th>2</th>\n",
              "      <td>2014-01-25</td>\n",
              "      <td>https://web.archive.org/web/20140125123631/htt...</td>\n",
              "      <td>http://g1.globo.com/economia/noticia/2014/01/t...</td>\n",
              "      <td>Temos sido capazes de reduzir a inflação', diz...</td>\n",
              "      <td>\\n\\tO presidente do Banco Central, Alexandre T...</td>\n",
              "      <td>economia</td>\n",
              "    </tr>\n",
              "    <tr>\n",
              "      <th>3</th>\n",
              "      <td>2014-01-25</td>\n",
              "      <td>https://web.archive.org/web/20140125123631/htt...</td>\n",
              "      <td>http://g1.globo.com/economia/noticia/2014/01/g...</td>\n",
              "      <td>Governo argentino autoriza compra de dólares a...</td>\n",
              "      <td>\\n\\tO governo argentino anunciou nesta sexta-f...</td>\n",
              "      <td>economia</td>\n",
              "    </tr>\n",
              "    <tr>\n",
              "      <th>4</th>\n",
              "      <td>2014-01-25</td>\n",
              "      <td>https://web.archive.org/web/20140125123631/htt...</td>\n",
              "      <td>http://g1.globo.com/economia/noticia/2014/01/p...</td>\n",
              "      <td>Petrobras desiste de parte da área de Bem-te-v...</td>\n",
              "      <td>\\n\\tA Petrobras afirmou que propôs à Agência N...</td>\n",
              "      <td>economia</td>\n",
              "    </tr>\n",
              "  </tbody>\n",
              "</table>\n",
              "</div>"
            ],
            "text/plain": [
              "         data  ...   assunto\n",
              "0  2014-01-25  ...  economia\n",
              "1  2014-01-25  ...  economia\n",
              "2  2014-01-25  ...  economia\n",
              "3  2014-01-25  ...  economia\n",
              "4  2014-01-25  ...  economia\n",
              "\n",
              "[5 rows x 6 columns]"
            ]
          },
          "metadata": {
            "tags": []
          },
          "execution_count": 10
        }
      ]
    },
    {
      "cell_type": "code",
      "metadata": {
        "id": "pirlCPfptiF5",
        "colab": {
          "base_uri": "https://localhost:8080/"
        },
        "outputId": "fc0a48b3-31c0-4a8e-f96c-86d5c386ef3a"
      },
      "source": [
        "### Noticias dados\n",
        "materias_data.shape\n",
        "# Quantos assuntos\n",
        "len(materias_data['assunto'].unique())\n",
        "\n",
        "# Assuntos\n",
        "assuntos_tokenizer = Tokenizer(char_level=False, lower=True)\n",
        "assuntos_tokenizer.fit_on_texts(materias_data['assunto'])\n",
        "\n",
        "dictionary_Encoder = assuntos_tokenizer.word_index\n",
        "\n",
        "assuntos_tk = assuntos_tokenizer.texts_to_sequences(materias_data['assunto'][0:1])\n",
        "assuntos_tx = assuntos_tokenizer.sequences_to_texts(assuntos_tk)\n",
        "\n",
        "print(dictionary_Encoder)\n",
        "print(f'O input: {materias_data[\"assunto\"][0]}')\n",
        "print(f'O Token do input: {assuntos_tk}')\n",
        "print(f'O decode do Token do input: {assuntos_tx}')\n",
        "\n",
        "n = len(dictionary_Encoder)\n",
        "\n",
        "assuntos_tk = assuntos_tokenizer.texts_to_sequences(materias_data['assunto'])\n",
        "assuntos_tk = np.array(assuntos_tk)\n",
        "assuntos_tk = assuntos_tk.squeeze()\n",
        "\n",
        "hot_assuntos = np.array(one_hot_encode_K(assuntos_tk, n))\n",
        "\n",
        "hot_assuntos.shape\n",
        "\n",
        "print('\\n')\n",
        "\n",
        "# Titulo\n",
        "\n",
        "materias_data['titulo'].shape\n",
        "\n",
        "titulo_tokenizer = Tokenizer_text()\n",
        "titulos_tk = titulo_tokenizer.treat_data(materias_data['titulo'], max_vocab = 3000)\n",
        "\n",
        "\n",
        "dictionary_Encoder = titulo_tokenizer.dic\n",
        "len(dictionary_Encoder)\n",
        "\n",
        "titulo_tx = titulo_tokenizer.idx2text(titulos_tk[0])\n",
        "\n",
        "\n",
        "print(dictionary_Encoder)\n",
        "print(f'O input: {materias_data[\"titulo\"][0]}')\n",
        "print(f'O Token do input: {titulos_tk[0]}')\n",
        "print(f'O decode do Token do input: {titulo_tx}')\n",
        "\n",
        "n = len(dictionary_Encoder)\n",
        "\n",
        "\n",
        "hot_titulos = np.array([np.array(one_hot_encode(x, n)) for x in titulos_tk ])"
      ],
      "execution_count": 11,
      "outputs": [
        {
          "output_type": "stream",
          "text": [
            "{'esportes': 1, 'economia': 2, 'politica': 3, 'tecnologia': 4, 'famosos': 5}\n",
            "O input: economia\n",
            "O Token do input: [[2]]\n",
            "O decode do Token do input: ['economia']\n",
            "\n",
            "\n",
            "{'<OAV>': 0, 'aangelim': 1, 'abaixoassinado': 2, 'abandonado': 3, 'abaxial': 4, 'abdominais': 5, 'abduziu': 6, 'abecip': 7, 'abel': 8, 'aberta': 9, 'abin': 10, 'abordou': 11, 'abortar': 12, 'abra': 13, 'abre': 14, 'abrem': 15, 'abri': 16, 'abusa': 17, 'acaba': 18, 'academia': 19, 'academias': 20, 'access': 21, 'aceitacao': 22, 'acerta': 23, 'acertos': 24, 'acessou': 25, 'acharam': 26, 'achocolatado': 27, 'acima': 28, 'acionado': 29, 'acirra': 30, 'acoes': 31, 'acompanha': 32, 'acompanham': 33, 'acompanhando': 34, 'acontece': 35, 'acontecem': 36, 'acostumados': 37, 'acostumar': 38, 'acreditar': 39, 'acredito': 40, 'acusacoes': 41, 'acusado': 42, 'adalberto': 43, 'ademir': 44, 'adesivos': 45, 'adido': 46, 'administracao': 47, 'admitem': 48, 'adobe': 49, 'adolescente': 50, 'adota': 51, 'adriano': 52, 'adulterada': 53, 'adulteradas': 54, 'adversarios': 55, 'advogada': 56, 'advogados': 57, 'aedes': 58, 'aereo': 59, 'aerohonda': 60, 'aeronautica': 61, 'afasta': 62, 'afastado': 63, 'afastar': 64, 'afc': 65, 'afetou': 66, 'afronta': 67, 'agencias': 68, 'agiotagem': 69, 'agitada': 70, 'agradeco': 71, 'agravar': 72, 'agressao': 73, 'agressores': 74, 'agricultura': 75, 'agu': 76, 'aguardam': 77, 'aguardar': 78, 'aires': 79, 'airlines': 80, 'airways': 81, 'ajuda': 82, 'ajustadas': 83, 'akim': 84, 'alagoas': 85, 'alan': 86, 'albania': 87, 'alegam': 88, 'alegorico': 89, 'alemaes': 90, 'alencar': 91, 'alexa': 92, 'alexis': 93, 'alfarroba': 94, 'alfinetada': 95, 'algo': 96, 'alguem': 97, 'algumas': 98, 'alicerce': 99, 'alisson': 100, 'alivia': 101, 'aloysio': 102, 'altera': 103, 'alteracoes': 104, 'altidore': 105, 'altitude': 106, 'alugueis': 107, 'aluguel': 108, 'alvara': 109, 'alwehda': 110, 'amador': 111, 'amanha': 112, 'amargam': 113, 'amassa': 114, 'amassar': 115, 'amazonas': 116, 'amazonense': 117, 'ambas': 118, 'ambev': 119, 'ambicao': 120, 'ambiental': 121, 'ameaca': 122, 'amedronta': 123, 'americana': 124, 'americanas': 125, 'amigdalas': 126, 'amplamente': 127, 'ampliada': 128, 'amuleto': 129, 'anaju': 130, 'analisa': 131, 'analisara': 132, 'analise': 133, 'analistas': 134, 'analytica': 135, 'anavitoria': 136, 'anderson': 137, 'anhanguera': 138, 'animador': 139, 'anjo': 140, 'anos': 141, 'anota': 142, 'ante': 143, 'anteriores': 144, 'antirronco': 145, 'antonio': 146, 'anulada': 147, 'anunciada': 148, 'anunciam': 149, 'anuncios': 150, 'anvisa': 151, 'apagao': 152, 'aparecem': 153, 'aparecida': 154, 'apaziguador': 155, 'apegada': 156, 'apela': 157, 'apelam': 158, 'apenas': 159, 'apertados': 160, 'aplicativos': 161, 'apoiado': 162, 'apoiadores': 163, 'apoiara': 164, 'apontados': 165, 'apontamos': 166, 'apontou': 167, 'aporte': 168, 'apos': 169, 'aposentadorias': 170, 'aprendemos': 171, 'apresenta': 172, 'apresentacoes': 173, 'apresentada': 174, 'apresentadas': 175, 'apresentam': 176, 'apressada': 177, 'aprova': 178, 'arabia': 179, 'aracaju': 180, 'aragao': 181, 'arana': 182, 'aranha': 183, 'arantes': 184, 'arapiraca': 185, 'aras': 186, 'araujo': 187, 'arbitral': 188, 'arbitraria': 189, 'arbitros': 190, 'arcanjo': 191, 'arda': 192, 'areas': 193, 'areias': 194, 'argel': 195, 'arlington': 196, 'armada': 197, 'armado': 198, 'armando': 199, 'armstrong': 200, 'aroucapor': 201, 'arquivado': 202, 'arquivar': 203, 'arranca': 204, 'arrascaeta': 205, 'arrecada': 206, 'arremessou': 207, 'arrepiar': 208, 'arroz': 209, 'arsene': 210, 'articulacao': 211, 'artificial': 212, 'artista': 213, 'artur': 214, 'as': 215, 'asa': 216, 'asia': 217, 'assaltado': 218, 'assassinado': 219, 'assassinato': 220, 'assegura': 221, 'assegurado': 222, 'assegurar': 223, 'assessor': 224, 'assinada': 225, 'assinar': 226, 'assinaturas': 227, 'assiste': 228, 'assistencias': 229, 'assistenteavatar': 230, 'associcao': 231, 'assumem': 232, 'assumir': 233, 'assumirao': 234, 'assuntos': 235, 'assustada': 236, 'asus': 237, 'atacante': 238, 'atadas': 239, 'atentado': 240, 'atesanduiche': 241, 'atestam': 242, 'athletico': 243, 'atingidos': 244, 'atingir': 245, 'atipicas': 246, 'ativar': 247, 'atividades': 248, 'ativos': 249, 'atlantic': 250, 'atletas': 251, 'atletico': 252, 'atomico': 253, 'ator': 254, 'atores': 255, 'atp': 256, 'atravessa': 257, 'atropelado': 258, 'atropelados': 259, 'atropelam': 260, 'atualizacao': 261, 'atuam': 262, 'aubinmercier': 263, 'audiencias': 264, 'auditoria': 265, 'aumentara': 266, 'aumentaram': 267, 'aumento': 268, 'austera': 269, 'austria': 270, 'autoestima': 271, 'automotivo': 272, 'automoveis': 273, 'autorizado': 274, 'auxilie': 275, 'auxiliomoradia': 276, 'aval': 277, 'avaliam': 278, 'avaliara': 279, 'avancada': 280, 'avancar': 281, 'avelar': 282, 'aves': 283, 'avianca': 284, 'avisa': 285, 'avulsa': 286, 'azaroes': 287, 'azedo': 288, 'azuis': 289, 'azul': 290, 'babaioff': 291, 'bach': 292, 'bader': 293, 'baia': 294, 'baile': 295, 'baixa': 296, 'baixarem': 297, 'baixista': 298, 'baixos': 299, 'balancar': 300, 'banca': 301, 'bancarios': 302, 'banda': 303, 'bandeira': 304, 'bandeiraco': 305, 'banho': 306, 'bap': 307, 'barbarie': 308, 'barco': 309, 'barkley': 310, 'barra': 311, 'barrava': 312, 'barreto': 313, 'barrigao': 314, 'barril': 315, 'barroso': 316, 'barty': 317, 'basicos': 318, 'basquete': 319, 'bastao': 320, 'bastidor': 321, 'bateboca': 322, 'bateu': 323, 'batido': 324, 'bayern': 325, 'bb': 326, 'bba': 327, 'bbc': 328, 'be': 329, 'beal': 330, 'bebe': 331, 'bedforawayfans': 332, 'beijos': 333, 'beisebol': 334, 'beleza': 335, 'belfort': 336, 'belga': 337, 'belletti': 338, 'bellucci': 339, 'bem': 340, 'benavidez': 341, 'beneficente': 342, 'beneficiado': 343, 'beneficio': 344, 'beneficiou': 345, 'benefico': 346, 'bens': 347, 'bento': 348, 'berco': 349, 'berdych': 350, 'berkshire': 351, 'berlim': 352, 'bernardinho': 353, 'bhp': 354, 'bi': 355, 'bid': 356, 'bienal': 357, 'big': 358, 'bilionarias': 359, 'bill': 360, 'biometrico': 361, 'bira': 362, 'bitributacao': 363, 'bj': 364, 'blackberry': 365, 'blazers': 366, 'blindar': 367, 'bo': 368, 'bobsled': 369, 'bocha': 370, 'bodao': 371, 'bodyboard': 372, 'boletos': 373, 'bologna': 374, 'bomba': 375, 'bombam': 376, 'boninho': 377, 'bonita': 378, 'bonito': 379, 'bons': 380, 'boston': 381, 'botafogo': 382, 'bottas': 383, 'bowl': 384, 'boyca': 385, 'braga': 386, 'brait': 387, 'branca': 388, 'brasil': 389, 'brasileira': 390, 'brasileirae': 391, 'brasiliense': 392, 'brasuca': 393, 'brecha': 394, 'brenneman': 395, 'brf': 396, 'brigam': 397, 'brigando': 398, 'brigar': 399, 'brilho': 400, 'brinca': 401, 'brincadeiras': 402, 'brincam': 403, 'brinco': 404, 'britanica': 405, 'britanico': 406, 'brumadinho': 407, 'bruno': 408, 'brunson': 409, 'brutais': 410, 'bruxas': 411, 'buffett': 412, 'bug': 413, 'bulgaria': 414, 'bullying': 415, 'burrice': 416, 'buscape': 417, 'buscar': 418, 'busco': 419, 'cabeca': 420, 'cabral': 421, 'caca': 422, 'cachaca': 423, 'cachoeira': 424, 'cachorrinhos': 425, 'cachorro': 426, 'cadastros': 427, 'cade': 428, 'cadeias': 429, 'cadeiras': 430, 'cafeina': 431, 'cafona': 432, 'cagada': 433, 'cage': 434, 'caged': 435, 'cairo': 436, 'caixa': 437, 'caja': 438, 'caju': 439, 'calam': 440, 'callejon': 441, 'calorias': 442, 'camargo': 443, 'camas': 444, 'camburao': 445, 'caminhaobau': 446, 'caminhoes': 447, 'caminhos': 448, 'camiseta': 449, 'camp': 450, 'candidatos': 451, 'canelo': 452, 'canhota': 453, 'canibal': 454, 'cannavaro': 455, 'cantadas': 456, 'cantillo': 457, 'cantor': 458, 'cantos': 459, 'capello': 460, 'capitalizacao': 461, 'capitulos': 462, 'capoeira': 463, 'caprio': 464, 'caraglio': 465, 'caras': 466, 'caravana': 467, 'card': 468, 'cardiff': 469, 'carga': 470, 'carismade': 471, 'carissimo': 472, 'carlo': 473, 'carmo': 474, 'carmont': 475, 'carnaval': 476, 'carneiro': 477, 'carolina': 478, 'carpi': 479, 'carrega': 480, 'cartaoe': 481, 'cartaz': 482, 'cartolas': 483, 'casa': 484, 'casado': 485, 'casal': 486, 'casas': 487, 'casco': 488, 'casei': 489, 'casinha': 490, 'casou': 491, 'cassa': 492, 'cassar': 493, 'cat': 494, 'catar': 495, 'causado': 496, 'cavadinha': 497, 'cavs': 498, 'cbda': 499, 'cblol': 500, 'cbn': 501, 'cbtkd': 502, 'ccee': 503, 'ceara': 504, 'cebolinha': 505, 'cedido': 506, 'cegou': 507, 'celebra': 508, 'celebracao': 509, 'celta': 510, 'celular': 511, 'celulose': 512, 'cem': 513, 'centenario': 514, 'centenas': 515, 'cento': 516, 'cep': 517, 'cercada': 518, 'cercados': 519, 'ceretta': 520, 'certos': 521, 'cervero': 522, 'ces': 523, 'cezar': 524, 'champanhe': 525, 'chapecoense': 526, 'chapecoenseo': 527, 'chapeleiro': 528, 'charles': 529, 'charry': 530, 'chave': 531, 'chegar': 532, 'chegaram': 533, 'chegaria': 534, 'cheio': 535, 'chico': 536, 'chiliques': 537, 'china': 538, 'chinelo': 539, 'chineses': 540, 'chip': 541, 'chocou': 542, 'chorar': 543, 'chuvas': 544, 'cibernetica': 545, 'cibulkova': 546, 'cid': 547, 'ciencia': 548, 'cifrao': 549, 'cigarro': 550, 'cinema': 551, 'cinemas': 552, 'cinturoes': 553, 'circuito': 554, 'cisne': 555, 'citam': 556, 'citi': 557, 'civica': 558, 'civil': 559, 'clara': 560, 'clarosmg': 561, 'classificado': 562, 'clavicula': 563, 'clayson': 564, 'cleo': 565, 'clezar': 566, 'clique': 567, 'clonada': 568, 'clube': 569, 'cnb': 570, 'cnc': 571, 'cndl': 572, 'coadjuvante': 573, 'cobrado': 574, 'coelho': 575, 'coercitiva': 576, 'cogitei': 577, 'coibir': 578, 'cola': 579, 'colaterais': 580, 'colecao': 581, 'colecionadas': 582, 'coleta': 583, 'coletados': 584, 'coletavam': 585, 'coletiva': 586, 'coletivo': 587, 'colocado': 588, 'colocava': 589, 'colocolo': 590, 'coluna': 591, 'com': 592, 'comanda': 593, 'comandado': 594, 'comandantes': 595, 'comando': 596, 'comandos': 597, 'combatecom': 598, 'combinou': 599, 'combustivel': 600, 'comemoracoes': 601, 'comemos': 602, 'comer': 603, 'comercial': 604, 'comerciantes': 605, 'comercio': 606, 'cometendo': 607, 'cometida': 608, 'companhia': 609, 'comparacoes': 610, 'compare': 611, 'compartilha': 612, 'compativeis': 613, 'compatriota': 614, 'compensacao': 615, 'competir': 616, 'competitivo': 617, 'completam': 618, 'completo': 619, 'complica': 620, 'compra': 621, 'compras': 622, 'compromete': 623, 'computadores': 624, 'comunicativo': 625, 'concachampions': 626, 'conceder': 627, 'concluida': 628, 'concluido': 629, 'conclusao': 630, 'concorda': 631, 'condecorado': 632, 'condensado': 633, 'conducao': 634, 'confianca': 635, 'confidencias': 636, 'configuraria': 637, 'confira': 638, 'congelar': 639, 'congresso': 640, 'conheca': 641, 'conheceu': 642, 'conquistar': 643, 'conquistas': 644, 'consecutivo': 645, 'consegui': 646, 'conselheiros': 647, 'consenso': 648, 'consensual': 649, 'considerados': 650, 'constitucional': 651, 'constitucionalmente': 652, 'constrangedora': 653, 'constrangimento': 654, 'construir': 655, 'consultar': 656, 'contagem': 657, 'contaminado': 658, 'contar': 659, 'contatos': 660, 'continua': 661, 'continuam': 662, 'continuem': 663, 'contracenaram': 664, 'contratado': 665, 'contratos': 666, 'contribuem': 667, 'controlar': 668, 'controverso': 669, 'convencer': 670, 'conversado': 671, 'convidado': 672, 'convive': 673, 'convulsao': 674, 'cookie': 675, 'coordenacao': 676, 'coordenador': 677, 'copacabana': 678, 'copae': 679, 'coracao': 680, 'cordas': 681, 'corey': 682, 'coringa': 683, 'corintiano': 684, 'corintianos': 685, 'corner': 686, 'cornetas': 687, 'coroam': 688, 'coroar': 689, 'coronel': 690, 'corpoacorpo': 691, 'corporativos': 692, 'corpos': 693, 'corpus': 694, 'correia': 695, 'corretoras': 696, 'corrigido': 697, 'corrupcao': 698, 'corujao': 699, 'coruna': 700, 'cousins': 701, 'covid': 702, 'cpmf': 703, 'craniano': 704, 'crb': 705, 'credita': 706, 'crefisa': 707, 'crespos': 708, 'criacao': 709, 'criador': 710, 'criavam': 711, 'criciuma': 712, 'criminosos': 713, 'criou': 714, 'criptomoeda': 715, 'criptomoedas': 716, 'cristiano': 717, 'cristo': 718, 'criterios': 719, 'critica': 720, 'criticado': 721, 'cse': 722, 'csgo': 723, 'cubanos': 724, 'cuellar': 725, 'cui': 726, 'cuidado': 727, 'culminou': 728, 'culpado': 729, 'cumpriu': 730, 'cung': 731, 'cupulas': 732, 'curada': 733, 'curiosa': 734, 'curran': 735, 'custara': 736, 'dado': 737, 'dalavia': 738, 'dalby': 739, 'daly': 740, 'damme': 741, 'damos': 742, 'dancam': 743, 'dancei': 744, 'dando': 745, 'dangelo': 746, 'danilo': 747, 'dao': 748, 'das': 749, 'david': 750, 'deadline': 751, 'dean': 752, 'debocha': 753, 'decidirao': 754, 'decisao': 755, 'decisivos': 756, 'decisoes': 757, 'declaracao': 758, 'deco': 759, 'decreta': 760, 'dedada': 761, 'dedica': 762, 'defasado': 763, 'defendem': 764, 'defesas': 765, 'deficiente': 766, 'definitivas': 767, 'degola': 768, 'degustacoes': 769, 'deixar': 770, 'delatores': 771, 'delgatti': 772, 'demencia': 773, 'demetrious': 774, 'demitilo': 775, 'demitir': 776, 'demitiram': 777, 'demonstram': 778, 'demorar': 779, 'demos': 780, 'dentinho': 781, 'denunciar': 782, 'depende': 783, 'deportados': 784, 'depositos': 785, 'depredado': 786, 'deputados': 787, 'derby': 788, 'derrete': 789, 'derruba': 790, 'desabafam': 791, 'desabafo': 792, 'desanima': 793, 'desaparecem': 794, 'desaparecimento': 795, 'desaposentacao': 796, 'desatencao': 797, 'desbanca': 798, 'desbloqueio': 799, 'descabida': 800, 'descarta': 801, 'desconhece': 802, 'descontos': 803, 'descubra': 804, 'descumprir': 805, 'deseduca': 806, 'desejam': 807, 'deselegante': 808, 'desempregados': 809, 'desenvolver': 810, 'desestruturam': 811, 'desfalcada': 812, 'desfalcado': 813, 'desfalcados': 814, 'desfalque': 815, 'desfavor': 816, 'desfruta': 817, 'desgaste': 818, 'desinvestir': 819, 'desistir': 820, 'desligar': 821, 'desnecessarios': 822, 'despacho': 823, 'despenca': 824, 'desperta': 825, 'despesa': 826, 'despir': 827, 'desqualificadas': 828, 'desrespeito': 829, 'desta': 830, 'destaca': 831, 'destacam': 832, 'destina': 833, 'destinados': 834, 'destino': 835, 'destoam': 836, 'destroi': 837, 'destruicao': 838, 'desumano': 839, 'desvio': 840, 'desvios': 841, 'detalhes': 842, 'detectar': 843, 'detectores': 844, 'detidos': 845, 'detroit': 846, 'deu': 847, 'deve': 848, 'devemos': 849, 'deyverson': 850, 'dhabi': 851, 'diante': 852, 'diegues': 853, 'dietas': 854, 'diferenca': 855, 'dificeis': 856, 'dificuldade': 857, 'dificulta': 858, 'digitais': 859, 'dignidade': 860, 'dillashaw': 861, 'dilma': 862, 'diminui': 863, 'dinamite': 864, 'dinamo': 865, 'diploma': 866, 'diplomado': 867, 'dirceu': 868, 'direcao': 869, 'diretorias': 870, 'disco': 871, 'discordam': 872, 'discute': 873, 'discutem': 874, 'dispoe': 875, 'disponibiliza': 876, 'disponibilizou': 877, 'dispositivos': 878, 'disputado': 879, 'distancia': 880, 'distracoes': 881, 'distrai': 882, 'distribuicao': 883, 'diversidade': 884, 'divertido': 885, 'dividas': 886, 'divide': 887, 'dividira': 888, 'divisoes': 889, 'divulga': 890, 'djalminha': 891, 'dlink': 892, 'doa': 893, 'doacao': 894, 'dobram': 895, 'documentacao': 896, 'documentos': 897, 'doda': 898, 'dodig': 899, 'doendo': 900, 'dois': 901, 'dom': 902, 'domestica': 903, 'domesticas': 904, 'dominado': 905, 'dominante': 906, 'dopam': 907, 'dores': 908, 'dormindo': 909, 'dossie': 910, 'doutrinacao': 911, 'draft': 912, 'dragoes': 913, 'dribla': 914, 'droga': 915, 'drone': 916, 'dryworld': 917, 'dublin': 918, 'dudu': 919, 'duffy': 920, 'duflo': 921, 'duncan': 922, 'dupla': 923, 'duplas': 924, 'duploduplo': 925, 'durant': 926, 'durinho': 927, 'durissimas': 928, 'duro': 929, 'dustin': 930, 'dutra': 931, 'eanuncia': 932, 'ecard': 933, 'ecclestone': 934, 'econfirma': 935, 'economatica': 936, 'economica': 937, 'ederson': 938, 'edicao': 939, 'edmundo': 940, 'edredom': 941, 'edu': 942, 'eduardo': 943, 'educar': 944, 'ego': 945, 'elastico': 946, 'elegivel': 947, 'eleito': 948, 'elenco': 949, 'elencos': 950, 'eletrica': 951, 'eletricas': 952, 'eletricos': 953, 'eletronica': 954, 'elevador': 955, 'elevam': 956, 'elevar': 957, 'elevaria': 958, 'eliminacao': 959, 'eliminada': 960, 'elkeson': 961, 'elkins': 962, 'ellenberger': 963, 'eloisa': 964, 'embaixada': 965, 'embalado': 966, 'embalados': 967, 'embalo': 968, 'embarca': 969, 'embarcam': 970, 'embarque': 971, 'emergencia': 972, 'emociona': 973, 'emoji': 974, 'empatada': 975, 'empate': 976, 'emplaca': 977, 'empolgado': 978, 'empregador': 979, 'empresaria': 980, 'emprestado': 981, 'emprestados': 982, 'emretorno': 983, 'enaltece': 984, 'encaminhados': 985, 'encerra': 986, 'encerram': 987, 'enche': 988, 'enchem': 989, 'encher': 990, 'encontrada': 991, 'energumeno': 992, 'enfrentalo': 993, 'enfrentam': 994, 'enfrentei': 995, 'engasgado': 996, 'engata': 997, 'engorda': 998, 'enquadrada': 999, 'ensina': 1000, 'ensino': 1001, 'enterrado': 1002, 'entram': 1003, 'entrara': 1004, 'entrega': 1005, 'entregadores': 1006, 'entregam': 1007, 'entro': 1008, 'entrosada': 1009, 'entrosamento': 1010, 'entulhos': 1011, 'envelhecimento': 1012, 'envergonha': 1013, 'enviados': 1014, 'enviar': 1015, 'enxergo': 1016, 'ep': 1017, 'epl': 1018, 'equatorianos': 1019, 'equipamentos': 1020, 'equipe': 1021, 'equipes': 1022, 'eramos': 1023, 'erazo': 1024, 'ergueria': 1025, 'ericka': 1026, 'erika': 1027, 'erra': 1028, 'erros': 1029, 'es': 1030, 'esboca': 1031, 'escalacao': 1032, 'escalacoes': 1033, 'escalou': 1034, 'escancara': 1035, 'escandalode': 1036, 'escanteio': 1037, 'esclarecimentos': 1038, 'escola': 1039, 'escolha': 1040, 'escolham': 1041, 'escolta': 1042, 'esfriada': 1043, 'esfriou': 1044, 'esgotados': 1045, 'esl': 1046, 'esloveno': 1047, 'espaco': 1048, 'espancado': 1049, 'especiais': 1050, 'espelha': 1051, 'espelho': 1052, 'espera': 1053, 'esperado': 1054, 'esperancas': 1055, 'esperava': 1056, 'espero': 1057, 'esperto': 1058, 'espionagem': 1059, 'espirito': 1060, 'esportivas': 1061, 'esqueceu': 1062, 'esquecido': 1063, 'esquentam': 1064, 'esquerda': 1065, 'esses': 1066, 'estabilidade': 1067, 'estado': 1068, 'estadual': 1069, 'estanca': 1070, 'estao': 1071, 'estar': 1072, 'estatistico': 1073, 'estatua': 1074, 'estavel': 1075, 'estender': 1076, 'esteroides': 1077, 'estilo': 1078, 'estilos': 1079, 'estimativa': 1080, 'estouro': 1081, 'estrangeira': 1082, 'estreando': 1083, 'estreante': 1084, 'estreantes': 1085, 'estrear': 1086, 'estrepolias': 1087, 'estrogenio': 1088, 'estudado': 1089, 'estudam': 1090, 'estudantes': 1091, 'estudara': 1092, 'estupros': 1093, 'esvaziados': 1094, 'eternizar': 1095, 'eternizou': 1096, 'etiqueta': 1097, 'eunicio': 1098, 'eur': 1099, 'europa': 1100, 'evans': 1101, 'eventos': 1102, 'eventuais': 1103, 'evitem': 1104, 'evo': 1105, 'evoluo': 1106, 'exaltado': 1107, 'exaustao': 1108, 'excelente': 1109, 'exconjuge': 1110, 'excursao': 1111, 'exdiretor': 1112, 'execucao': 1113, 'executiva': 1114, 'executivo': 1115, 'exercito': 1116, 'exfla': 1117, 'exfluminense': 1118, 'exgoleiro': 1119, 'exgovernador': 1120, 'exibe': 1121, 'exibicao': 1122, 'exibir': 1123, 'exinter': 1124, 'existe': 1125, 'exjogadores': 1126, 'exmeia': 1127, 'exministros': 1128, 'exotica': 1129, 'expansao': 1130, 'expiatorio': 1131, 'explicam': 1132, 'explicar': 1133, 'explode': 1134, 'expoem': 1135, 'exportado': 1136, 'exposicao': 1137, 'expostos': 1138, 'expulsa': 1139, 'expulsaorelampago': 1140, 'expulso': 1141, 'exrivais': 1142, 'exsao': 1143, 'exsenador': 1144, 'exteriores': 1145, 'extimao': 1146, 'extraordinario': 1147, 'exvitoria': 1148, 'f': 1149, 'fa': 1150, 'fabiula': 1151, 'fabricas': 1152, 'fabuloso': 1153, 'facanha': 1154, 'facao': 1155, 'facas': 1156, 'faceid': 1157, 'fachin': 1158, 'facial': 1159, 'facilidade': 1160, 'facilitar': 1161, 'facilmente': 1162, 'faculdade': 1163, 'fadiga': 1164, 'fagundes': 1165, 'fair': 1166, 'falando': 1167, 'falas': 1168, 'falcao': 1169, 'falida': 1170, 'falsos': 1171, 'familiar': 1172, 'fanfarroes': 1173, 'faqs': 1174, 'fara': 1175, 'faro': 1176, 'farra': 1177, 'fas': 1178, 'fase': 1179, 'fatos': 1180, 'faturam': 1181, 'favorito': 1182, 'fazem': 1183, 'fazenda': 1184, 'fazia': 1185, 'febraban': 1186, 'fechadas': 1187, 'fecham': 1188, 'fecharam': 1189, 'fed': 1190, 'federativo': 1191, 'feijao': 1192, 'feira': 1193, 'feito': 1194, 'feldman': 1195, 'felicia': 1196, 'felipao': 1197, 'felipe': 1198, 'feminino': 1199, 'femininos': 1200, 'feminista': 1201, 'ferias': 1202, 'feridos': 1203, 'ferino': 1204, 'fernandao': 1205, 'fernandez': 1206, 'ferreira': 1207, 'ferro': 1208, 'ferrovia': 1209, 'ferroviario': 1210, 'festa': 1211, 'festeja': 1212, 'fevereiro': 1213, 'fibria': 1214, 'fiesp': 1215, 'fight': 1216, 'figo': 1217, 'figueira': 1218, 'fiji': 1219, 'filantropicas': 1220, 'fili': 1221, 'filiacao': 1222, 'filipe': 1223, 'finalizado': 1224, 'financeiras': 1225, 'fio': 1226, 'fiocruz': 1227, 'fiorentina': 1228, 'firefox': 1229, 'firmino': 1230, 'fiscal': 1231, 'fisicas': 1232, 'fisico': 1233, 'fita': 1234, 'fivb': 1235, 'fixara': 1236, 'flagelo': 1237, 'flagrados': 1238, 'flapi': 1239, 'flavia': 1240, 'flexao': 1241, 'flexibilizacao': 1242, 'florianopolis': 1243, 'florida': 1244, 'fluminense': 1245, 'fmi': 1246, 'foca': 1247, 'foice': 1248, 'folego': 1249, 'follmann': 1250, 'folmann': 1251, 'fomos': 1252, 'fone': 1253, 'fonte': 1254, 'fora': 1255, 'forca': 1256, 'forma': 1257, 'formacao': 1258, 'formula': 1259, 'formulas': 1260, 'fornece': 1261, 'fornecimento': 1262, 'fortnite': 1263, 'foto': 1264, 'fotografo': 1265, 'four': 1266, 'fpf': 1267, 'fraca': 1268, 'fracassar': 1269, 'fracasso': 1270, 'fraco': 1271, 'fraga': 1272, 'fragilidade': 1273, 'frambach': 1274, 'frances': 1275, 'franceses': 1276, 'frango': 1277, 'franquia': 1278, 'fraturado': 1279, 'fred': 1280, 'freddie': 1281, 'freitas': 1282, 'frio': 1283, 'frios': 1284, 'fronteira': 1285, 'frye': 1286, 'fuga': 1287, 'fugidinha': 1288, 'funai': 1289, 'funciona': 1290, 'funcional': 1291, 'funcionar': 1292, 'funcionarios': 1293, 'fundador': 1294, 'fundamental': 1295, 'funeraria': 1296, 'fungo': 1297, 'furlan': 1298, 'furtado': 1299, 'fury': 1300, 'futeoke': 1301, 'futsal': 1302, 'gaal': 1303, 'gabaritar': 1304, 'gabigol': 1305, 'gabriela': 1306, 'gaciba': 1307, 'gafe': 1308, 'galatasaray': 1309, 'galesa': 1310, 'galhardo': 1311, 'galinha': 1312, 'galloro': 1313, 'galos': 1314, 'galvao': 1315, 'gambas': 1316, 'gaming': 1317, 'ganha': 1318, 'ganhe': 1319, 'ganhos': 1320, 'ganhou': 1321, 'garcons': 1322, 'gas': 1323, 'gasol': 1324, 'gavea': 1325, 'ge': 1326, 'gegard': 1327, 'geladeira': 1328, 'genesis': 1329, 'gentil': 1330, 'geografico': 1331, 'georges': 1332, 'gerdau': 1333, 'gerente': 1334, 'geromel': 1335, 'gerson': 1336, 'giannis': 1337, 'giants': 1338, 'gigante': 1339, 'gil': 1340, 'ginasta': 1341, 'ginastas': 1342, 'giovana': 1343, 'giovanni': 1344, 'giuliano': 1345, 'giullia': 1346, 'giuseppe': 1347, 'gladiadora': 1348, 'glamour': 1349, 'gleici': 1350, 'glo': 1351, 'globo': 1352, 'gloria': 1353, 'gol': 1354, 'golacoda': 1355, 'golacos': 1356, 'goleada': 1357, 'goleia': 1358, 'golfe': 1359, 'gols': 1360, 'gonzo': 1361, 'google': 1362, 'gostam': 1363, 'governo': 1364, 'grama': 1365, 'gramado': 1366, 'grampear': 1367, 'granada': 1368, 'granizo': 1369, 'gravacao': 1370, 'gravacoes': 1371, 'gravida': 1372, 'gray': 1373, 'grecco': 1374, 'green': 1375, 'gremio': 1376, 'gremistas': 1377, 'greve': 1378, 'grid': 1379, 'grito': 1380, 'grosseiro': 1381, 'guarani': 1382, 'guardados': 1383, 'guardo': 1384, 'guedes': 1385, 'gugu': 1386, 'guia': 1387, 'guilherme': 1388, 'guilhermina': 1389, 'guiou': 1390, 'guns': 1391, 'haaland': 1392, 'hackeadas': 1393, 'hackeou': 1394, 'halterofilismo': 1395, 'halving': 1396, 'harmony': 1397, 'harry': 1398, 'harvard': 1399, 'hassan': 1400, 'hattrick': 1401, 'havai': 1402, 'havan': 1403, 'havia': 1404, 'hazard': 1405, 'hematomas': 1406, 'henderson': 1407, 'hendricks': 1408, 'henry': 1409, 'herbert': 1410, 'hermano': 1411, 'hernandez': 1412, 'hernanes': 1413, 'hernia': 1414, 'hero': 1415, 'herson': 1416, 'heslaine': 1417, 'hexagonal': 1418, 'hibernar': 1419, 'hidreletricas': 1420, 'hillsborough': 1421, 'historicasde': 1422, 'historicos': 1423, 'hockenheim': 1424, 'holeinone': 1425, 'homenagear': 1426, 'homenagem': 1427, 'homofobicos': 1428, 'hong': 1429, 'honras': 1430, 'honrosa': 1431, 'hope': 1432, 'horizontal': 1433, 'horizonte': 1434, 'horizontes': 1435, 'hospital': 1436, 'hossegor': 1437, 'hostilidade': 1438, 'hrc': 1439, 'hulk': 1440, 'humanitaria': 1441, 'humor': 1442, 'hypolito': 1443, 'i': 1444, 'iarley': 1445, 'iata': 1446, 'iberoamericana': 1447, 'ibrahimovicem': 1448, 'icatu': 1449, 'identifica': 1450, 'ideologico': 1451, 'idiota': 1452, 'idolatrado': 1453, 'idolatria': 1454, 'idosa': 1455, 'idosos': 1456, 'iesa': 1457, 'igpm': 1458, 'igual': 1459, 'ilegal': 1460, 'ilesos': 1461, 'ilustram': 1462, 'imaginava': 1463, 'imagine': 1464, 'imbativel': 1465, 'immortals': 1466, 'imoveis': 1467, 'impacto': 1468, 'impasse': 1469, 'impede': 1470, 'impedido': 1471, 'implementacao': 1472, 'implora': 1473, 'impopularidade': 1474, 'impor': 1475, 'importacoes': 1476, 'imposta': 1477, 'impressiona': 1478, 'impresso': 1479, 'improrrogavel': 1480, 'improvisar': 1481, 'imprudente': 1482, 'impulsiona': 1483, 'impulsionar': 1484, 'inacessiveis': 1485, 'inacio': 1486, 'inadmissiveis': 1487, 'incandescentes': 1488, 'incendios': 1489, 'incentivo': 1490, 'incentivou': 1491, 'incerta': 1492, 'incertezas': 1493, 'incide': 1494, 'incluem': 1495, 'inclui': 1496, 'incluido': 1497, 'incomodo': 1498, 'incredulo': 1499, 'indexacao': 1500, 'indica': 1501, 'indicacao': 1502, 'indicados': 1503, 'indicios': 1504, 'indicou': 1505, 'indiferente': 1506, 'indio': 1507, 'indireta': 1508, 'ineficientes': 1509, 'inesqueciveis': 1510, 'inesquecivel': 1511, 'infeccao': 1512, 'infeliz': 1513, 'inferiores': 1514, 'inferno': 1515, 'influenciar': 1516, 'informais': 1517, 'informal': 1518, 'infracao': 1519, 'infringir': 1520, 'ingresso': 1521, 'inicia': 1522, 'inicial': 1523, 'iniciara': 1524, 'iniesta': 1525, 'inimigos': 1526, 'injetar': 1527, 'injetara': 1528, 'injusta': 1529, 'injusticado': 1530, 'injusticas': 1531, 'inocencia': 1532, 'inocentado': 1533, 'inocente': 1534, 'inquietacao': 1535, 'insalubres': 1536, 'insano': 1537, 'inscrever': 1538, 'inscrevo': 1539, 'insiste': 1540, 'inspirados': 1541, 'inspiram': 1542, 'inss': 1543, 'instalacoes': 1544, 'instancia': 1545, 'instituicoes': 1546, 'insuficiente': 1547, 'intensificam': 1548, 'intensificaram': 1549, 'intenso': 1550, 'inter': 1551, 'interagem': 1552, 'interessante': 1553, 'interferindo': 1554, 'interferir': 1555, 'intermitentes': 1556, 'internado': 1557, 'internazionale': 1558, 'interpol': 1559, 'interporto': 1560, 'interrogatorio': 1561, 'interrompeu': 1562, 'intertemporada': 1563, 'intimidacao': 1564, 'inusitadas': 1565, 'invalidez': 1566, 'invenciveis': 1567, 'investidor': 1568, 'investigacoes': 1569, 'investimentos': 1570, 'investira': 1571, 'inviavel': 1572, 'ios': 1573, 'iraniano': 1574, 'irlanda': 1575, 'irlandes': 1576, 'irma': 1577, 'iron': 1578, 'ironizado': 1579, 'ironizapresidente': 1580, 'irredutivel': 1581, 'irritacao': 1582, 'irritado': 1583, 'ismail': 1584, 'isola': 1585, 'isonomia': 1586, 'israel': 1587, 'italiana': 1588, 'itaquerao': 1589, 'itau': 1590, 'ivan': 1591, 'iwcq': 1592, 'jaba': 1593, 'jacare': 1594, 'jack': 1595, 'jacqueline': 1596, 'jaime': 1597, 'jair': 1598, 'jajaja': 1599, 'jan': 1600, 'januario': 1601, 'januza': 1602, 'japan': 1603, 'jays': 1604, 'jeans': 1605, 'jec': 1606, 'jerez': 1607, 'jessica': 1608, 'jf': 1609, 'jhenny': 1610, 'jimmy': 1611, 'jinping': 1612, 'jk': 1613, 'jmpi': 1614, 'jo': 1615, 'joga': 1616, 'jogada': 1617, 'jogadoras': 1618, 'jogados': 1619, 'jogando': 1620, 'jogao': 1621, 'joia': 1622, 'jonatas': 1623, 'jones': 1624, 'joorabchian': 1625, 'jordan': 1626, 'jordania': 1627, 'jorgensen': 1628, 'jornalistas': 1629, 'jose': 1630, 'jucilei': 1631, 'judiciais': 1632, 'judiciario': 1633, 'juizes': 1634, 'julgue': 1635, 'junina': 1636, 'juninho': 1637, 'junior': 1638, 'junta': 1639, 'juntou': 1640, 'jurado': 1641, 'juridica': 1642, 'jury': 1643, 'justifica': 1644, 'jutahy': 1645, 'kanaan': 1646, 'kawhi': 1647, 'kayky': 1648, 'kazim': 1649, 'keane': 1650, 'kelly': 1651, 'kelvin': 1652, 'kennedy': 1653, 'keno': 1654, 'khabib': 1655, 'kieza': 1656, 'kimi': 1657, 'kinross': 1658, 'kkkkk': 1659, 'klabin': 1660, 'klay': 1661, 'klebber': 1662, 'knicks': 1663, 'kolarov': 1664, 'kosovo': 1665, 'koulibaly': 1666, 'kraft': 1667, 'kvyat': 1668, 'laconico': 1669, 'lady': 1670, 'lakers': 1671, 'lamento': 1672, 'lampadas': 1673, 'lancados': 1674, 'lancamento': 1675, 'lancar': 1676, 'lance': 1677, 'largam': 1678, 'lavagem': 1679, 'lazaro': 1680, 'league': 1681, 'leandrinho': 1682, 'leandro': 1683, 'lebron': 1684, 'lee': 1685, 'leeds': 1686, 'legais': 1687, 'leila': 1688, 'leiloada': 1689, 'leiloado': 1690, 'leiloes': 1691, 'lembrar': 1692, 'lemmertz': 1693, 'lenda': 1694, 'lengalenga': 1695, 'lenk': 1696, 'leoa': 1697, 'lera': 1698, 'levado': 1699, 'levantada': 1700, 'levantamento': 1701, 'levantou': 1702, 'liberacao': 1703, 'liberado': 1704, 'liberdades': 1705, 'libra': 1706, 'libras': 1707, 'licitacao': 1708, 'lidando': 1709, 'liderancas': 1710, 'liga': 1711, 'ligado': 1712, 'light': 1713, 'liminares': 1714, 'limitacoes': 1715, 'limitada': 1716, 'limitar': 1717, 'lindalva': 1718, 'lineageos': 1719, 'linux': 1720, 'lipe': 1721, 'lisura': 1722, 'litro': 1723, 'livrou': 1724, 'locais': 1725, 'localizacao': 1726, 'locutor': 1727, 'logistica': 1728, 'logistico': 1729, 'loiro': 1730, 'lomba': 1731, 'lorenzoni': 1732, 'los': 1733, 'lotada': 1734, 'lote': 1735, 'loterias': 1736, 'luan': 1737, 'luca': 1738, 'lucao': 1739, 'lucas': 1740, 'lucciola': 1741, 'lucros': 1742, 'lugano': 1743, 'luis': 1744, 'luisa': 1745, 'luisinho': 1746, 'luma': 1747, 'luneng': 1748, 'lutara': 1749, 'lutarao': 1750, 'lutei': 1751, 'luto': 1752, 'luzes': 1753, 'lyra': 1754, 'ma': 1755, 'macaca': 1756, 'macaco': 1757, 'macae': 1758, 'macapa': 1759, 'macbook': 1760, 'maceio': 1761, 'machado': 1762, 'madonna': 1763, 'maezinha': 1764, 'mafia': 1765, 'maga': 1766, 'magra': 1767, 'magrao': 1768, 'maioridade': 1769, 'major': 1770, 'makashvili': 1771, 'mala': 1772, 'malas': 1773, 'maldicao': 1774, 'maldini': 1775, 'maliciosos': 1776, 'malta': 1777, 'maluquinho': 1778, 'manaus': 1779, 'mancando': 1780, 'mancham': 1781, 'mancini': 1782, 'manda': 1783, 'mandantes': 1784, 'mandos': 1785, 'mane': 1786, 'mangas': 1787, 'manifestacoes': 1788, 'manifesto': 1789, 'mano': 1790, 'manoela': 1791, 'mantega': 1792, 'mantem': 1793, 'maradona': 1794, 'marcelo': 1795, 'marcha': 1796, 'marciais': 1797, 'marcos': 1798, 'maria': 1799, 'marielle': 1800, 'marilia': 1801, 'marinho': 1802, 'marino': 1803, 'marocas': 1804, 'marquez': 1805, 'martinelli': 1806, 'martino': 1807, 'masculinas': 1808, 'massa': 1809, 'massacre': 1810, 'master': 1811, 'masters': 1812, 'mata': 1813, 'mataram': 1814, 'match': 1815, 'matematica': 1816, 'maternidade': 1817, 'matheus': 1818, 'matinal': 1819, 'matos': 1820, 'matou': 1821, 'maxima': 1822, 'maximo': 1823, 'maynard': 1824, 'mcgregor': 1825, 'mcmann': 1826, 'medalhadiz': 1827, 'medalhista': 1828, 'mede': 1829, 'medellin': 1830, 'medem': 1831, 'medio': 1832, 'medvedovski': 1833, 'meias': 1834, 'meiomedio': 1835, 'meiomedios': 1836, 'melbourne': 1837, 'melhores': 1838, 'melhorou': 1839, 'membros': 1840, 'mendes': 1841, 'mendonca': 1842, 'menor': 1843, 'menores': 1844, 'menos': 1845, 'mensagens': 1846, 'mentirosa': 1847, 'mercadao': 1848, 'mercedes': 1849, 'mercosulue': 1850, 'mereceu': 1851, 'merecia': 1852, 'merecido': 1853, 'merito': 1854, 'metade': 1855, 'metatarso': 1856, 'meus': 1857, 'mexe': 1858, 'mgm': 1859, 'miami': 1860, 'microcredito': 1861, 'milhares': 1862, 'milhem': 1863, 'milton': 1864, 'mimimi': 1865, 'minima': 1866, 'minimo': 1867, 'ministerial': 1868, 'ministerios': 1869, 'mir': 1870, 'mirabolante': 1871, 'mista': 1872, 'misterio': 1873, 'misto': 1874, 'mitrione': 1875, 'mkhitaryan': 1876, 'mma': 1877, 'moauba': 1878, 'mobilizacao': 1879, 'modems': 1880, 'moderna': 1881, 'moicano': 1882, 'moises': 1883, 'mojave': 1884, 'moldado': 1885, 'momentos': 1886, 'momo': 1887, 'monaco': 1888, 'monetaria': 1889, 'monique': 1890, 'monitorava': 1891, 'monitorou': 1892, 'monopolio': 1893, 'monopolios': 1894, 'montagens': 1895, 'montaleone': 1896, 'montanha': 1897, 'montanharussa': 1898, 'montenegro': 1899, 'monterrey': 1900, 'montillo': 1901, 'moodys': 1902, 'moradia': 1903, 'moraliza': 1904, 'morango': 1905, 'morcego': 1906, 'mordo': 1907, 'moreno': 1908, 'morgado': 1909, 'morinigo': 1910, 'morning': 1911, 'moro': 1912, 'morre': 1913, 'morrer': 1914, 'mortos': 1915, 'mosaico': 1916, 'moscas': 1917, 'mossoro': 1918, 'mostert': 1919, 'moteis': 1920, 'motocicleta': 1921, 'motorista': 1922, 'motta': 1923, 'movimenta': 1924, 'movimentam': 1925, 'mudancas': 1926, 'muhammad': 1927, 'muleta': 1928, 'mulheres': 1929, 'multa': 1930, 'multas': 1931, 'multipla': 1932, 'mumuzinho': 1933, 'mundiais': 1934, 'murray': 1935, 'musa': 1936, 'muscular': 1937, 'musculosa': 1938, 'musto': 1939, 'nac': 1940, 'nacional': 1941, 'nada': 1942, 'nadal': 1943, 'najila': 1944, 'namorada': 1945, 'nanda': 1946, 'nantes': 1947, 'nasce': 1948, 'nascemos': 1949, 'nasceu': 1950, 'nascidos': 1951, 'natacao': 1952, 'naturaliza': 1953, 'nautico': 1954, 'naval': 1955, 'navegacao': 1956, 'nazismo': 1957, 'nbb': 1958, 'necessariamente': 1959, 'negativo': 1960, 'negligencia': 1961, 'negocia': 1962, 'negociam': 1963, 'negou': 1964, 'negro': 1965, 'neles': 1966, 'nene': 1967, 'nenhuma': 1968, 'nesta': 1969, 'netflix': 1970, 'newcastle': 1971, 'nezinho': 1972, 'nico': 1973, 'nigeria': 1974, 'nildo': 1975, 'ninguem': 1976, 'nintendo': 1977, 'nobel': 1978, 'nocauteador': 1979, 'nocivos': 1980, 'noite': 1981, 'noronha': 1982, 'norteamericana': 1983, 'nortecoreano': 1984, 'nosso': 1985, 'notificar': 1986, 'nou': 1987, 'noval': 1988, 'novembro': 1989, 'novinho': 1990, 'novo': 1991, 'nsac': 1992, 'numa': 1993, 'numeracao': 1994, 'numero': 1995, 'nutro': 1996, 'oas': 1997, 'objetivo': 1998, 'obra': 1999, 'obrigados': 2000, 'observando': 2001, 'ocde': 2002, 'october': 2003, 'odeio': 2004, 'ofensas': 2005, 'ofensivos': 2006, 'oferece': 2007, 'oferecem': 2008, 'oferecido': 2009, 'ofertarem': 2010, 'ofertas': 2011, 'oficializam': 2012, 'ofuro': 2013, 'oi': 2014, 'ola': 2015, 'olha': 2016, 'olho': 2017, 'olimpia': 2018, 'olimpica': 2019, 'olimpicos': 2020, 'olivia': 2021, 'olivinha': 2022, 'one': 2023, 'ong': 2024, 'onibus': 2025, 'opcoes': 2026, 'operador': 2027, 'operar': 2028, 'operariopr': 2029, 'opinam': 2030, 'opiniao': 2031, 'oposicionista': 2032, 'opostos': 2033, 'ordena': 2034, 'organizada': 2035, 'orgaos': 2036, 'oriente': 2037, 'origem': 2038, 'orlando': 2039, 'ornamentais': 2040, 'ortiz': 2041, 'osasuna': 2042, 'oscar': 2043, 'oscila': 2044, 'oswaldo': 2045, 'otavio': 2046, 'othon': 2047, 'otimistas': 2048, 'ousada': 2049, 'outorgas': 2050, 'ouvido': 2051, 'ovacionado': 2052, 'ovince': 2053, 'paco': 2054, 'pacquiao': 2055, 'padarias': 2056, 'padilha': 2057, 'paes': 2058, 'pagamento': 2059, 'pager': 2060, 'pago': 2061, 'pagode': 2062, 'paisana': 2063, 'palace': 2064, 'palavrao': 2065, 'palocci': 2066, 'panamericano': 2067, 'pandemia': 2068, 'pane': 2069, 'panelaco': 2070, 'panthers': 2071, 'papo': 2072, 'paragominas': 2073, 'paraguai': 2074, 'paraiso': 2075, 'paralimpico': 2076, 'paralisacao': 2077, 'paralisadas': 2078, 'parana': 2079, 'paranaense': 2080, 'parapan': 2081, 'parar': 2082, 'parasita': 2083, 'parceiro': 2084, 'parcelas': 2085, 'parceria': 2086, 'parcial': 2087, 'pare': 2088, 'parece': 2089, 'parecer': 2090, 'pareco': 2091, 'paredao': 2092, 'parque': 2093, 'parreira': 2094, 'partes': 2095, 'participacoes': 2096, 'particular': 2097, 'partidaca': 2098, 'partidas': 2099, 'partir': 2100, 'pass': 2101, 'passa': 2102, 'passarela': 2103, 'passeios': 2104, 'passinhos': 2105, 'passiva': 2106, 'pastas': 2107, 'patrocinadores': 2108, 'patrocinios': 2109, 'paul': 2110, 'paulinho': 2111, 'paulistao': 2112, 'pavard': 2113, 'paysandu': 2114, 'pazes': 2115, 'pdt': 2116, 'pdv': 2117, 'pec': 2118, 'peca': 2119, 'pede': 2120, 'pedida': 2121, 'pedindo': 2122, 'pedir': 2123, 'pedrada': 2124, 'pegadinhas': 2125, 'pegaria': 2126, 'pegou': 2127, 'peguei': 2128, 'pelada': 2129, 'pele': 2130, 'pelosport': 2131, 'penal': 2132, 'penaltis': 2133, 'penalty': 2134, 'penitenciario': 2135, 'penitenciarios': 2136, 'penn': 2137, 'pensando': 2138, 'pensao': 2139, 'pentacampeao': 2140, 'pentefino': 2141, 'pequente': 2142, 'percentual': 2143, 'percorre': 2144, 'perdao': 2145, 'perde': 2146, 'perdedor': 2147, 'perderao': 2148, 'perfil': 2149, 'perfuracao': 2150, 'perigoso': 2151, 'permanecerao': 2152, 'permissao': 2153, 'permitiu': 2154, 'perna': 2155, 'pernambucano': 2156, 'perrella': 2157, 'perseguir': 2158, 'personagem': 2159, 'personal': 2160, 'personalizadas': 2161, 'perspectiva': 2162, 'perturba': 2163, 'pes': 2164, 'pesageme': 2165, 'pesar': 2166, 'pesogalo': 2167, 'pesopena': 2168, 'pesospesados': 2169, 'pesquisador': 2170, 'pesquisados': 2171, 'pessoa': 2172, 'philadelphia': 2173, 'piada': 2174, 'pico': 2175, 'pietro': 2176, 'pijamas': 2177, 'pilotar': 2178, 'pinguepongue': 2179, 'pinheiros': 2180, 'pior': 2181, 'pipeline': 2182, 'pipoca': 2183, 'pique': 2184, 'pires': 2185, 'pitombo': 2186, 'pizzonia': 2187, 'plastica': 2188, 'plataforma': 2189, 'play': 2190, 'plena': 2191, 'pmdb': 2192, 'poas': 2193, 'pobre': 2194, 'podedestronar': 2195, 'podera': 2196, 'poderia': 2197, 'podiam': 2198, 'pogba': 2199, 'poirier': 2200, 'polegar': 2201, 'polemicos': 2202, 'policiais': 2203, 'policial': 2204, 'politico': 2205, 'polo': 2206, 'poloniex': 2207, 'pontuais': 2208, 'pontuar': 2209, 'pop': 2210, 'popo': 2211, 'popstar': 2212, 'porao': 2213, 'porn': 2214, 'porque': 2215, 'portugueses': 2216, 'posdesmanche': 2217, 'posiciona': 2218, 'posicionamento': 2219, 'positivas': 2220, 'poslesao': 2221, 'posqueda': 2222, 'possi': 2223, 'possibilidades': 2224, 'possiveis': 2225, 'posso': 2226, 'postam': 2227, 'potiguar': 2228, 'pouca': 2229, 'pouco': 2230, 'poupadores': 2231, 'povo': 2232, 'pp': 2233, 'pra': 2234, 'prancheta': 2235, 'pratto': 2236, 'pravcarrasar': 2237, 'precisamos': 2238, 'precisara': 2239, 'preco': 2240, 'predesfile': 2241, 'prefeitos': 2242, 'preferem': 2243, 'preferido': 2244, 'prega': 2245, 'pregao': 2246, 'prejudicado': 2247, 'prejudicando': 2248, 'premiada': 2249, 'premiadas': 2250, 'prende': 2251, 'preocupam': 2252, 'preocupante': 2253, 'preolimpico': 2254, 'preparado': 2255, 'presal': 2256, 'preservar': 2257, 'presidenciaveis': 2258, 'pressionado': 2259, 'pressionam': 2260, 'pressionou': 2261, 'prestaram': 2262, 'prestigia': 2263, 'pretinha': 2264, 'prevencao': 2265, 'prever': 2266, 'previdenciarias': 2267, 'princesa': 2268, 'principais': 2269, 'prisoes': 2270, 'privacidade': 2271, 'privatizacao': 2272, 'privatizacoes': 2273, 'processam': 2274, 'produtiva': 2275, 'produtores': 2276, 'professor': 2277, 'profissionais': 2278, 'profissionalmente': 2279, 'programam': 2280, 'proiba': 2281, 'proibicao': 2282, 'proibidas': 2283, 'proimpeachment': 2284, 'projecao': 2285, 'projeta': 2286, 'promessa': 2287, 'prometem': 2288, 'promovido': 2289, 'pronunciamento': 2290, 'propaganda': 2291, 'propinas': 2292, 'propoe': 2293, 'propoem': 2294, 'propor': 2295, 'proprios': 2296, 'prostituta': 2297, 'protagonismo': 2298, 'protagoniza': 2299, 'protecionismo': 2300, 'protegelo': 2301, 'protesta': 2302, 'protestar': 2303, 'protocolo': 2304, 'provavel': 2305, 'providencias': 2306, 'provisoria': 2307, 'provisorias': 2308, 'provocacoes': 2309, 'provocam': 2310, 'provocar': 2311, 'proximidade': 2312, 'psb': 2313, 'psiquiatrico': 2314, 'publica': 2315, 'publicidade': 2316, 'publicitarias': 2317, 'punidos': 2318, 'pv': 2319, 'pyong': 2320, 'qualcomm': 2321, 'quando': 2322, 'quantidade': 2323, 'quarteto': 2324, 'quatros': 2325, 'quedas': 2326, 'queimadas': 2327, 'queixa': 2328, 'queixo': 2329, 'quem': 2330, 'queretaro': 2331, 'quesitos': 2332, 'questionado': 2333, 'quimica': 2334, 'quintoandar': 2335, 'quitanda': 2336, 'quotas': 2337, 'raca': 2338, 'racao': 2339, 'radical': 2340, 'rafinha': 2341, 'raiders': 2342, 'raizes': 2343, 'ramiro': 2344, 'ramos': 2345, 'rangel': 2346, 'ranking': 2347, 'readequacao': 2348, 'reagiu': 2349, 'realizacao': 2350, 'realizado': 2351, 'realizara': 2352, 'realizaram': 2353, 'reapresentacao': 2354, 'reavaliar': 2355, 'reaver': 2356, 'rebate': 2357, 'rebeca': 2358, 'rebeliao': 2359, 'rebelioes': 2360, 'rebulico': 2361, 'recebem': 2362, 'receberem': 2363, 'recebeum': 2364, 'receio': 2365, 'receios': 2366, 'receita': 2367, 'receitas': 2368, 'recemcontratado': 2369, 'recepcao': 2370, 'rechaca': 2371, 'reclamacoes': 2372, 'recomendacoes': 2373, 'recompor': 2374, 'reconhecimento': 2375, 'recorde': 2376, 'recorre': 2377, 'recorrem': 2378, 'recuar': 2379, 'recuperandose': 2380, 'recurso': 2381, 'recusar': 2382, 'red': 2383, 'redefinicao': 2384, 'rediscutir': 2385, 'reedicao': 2386, 'reeditar': 2387, 'reembolso': 2388, 'reencontro': 2389, 'reestruturacao': 2390, 'reestruturar': 2391, 'reexaminar': 2392, 'refaz': 2393, 'referencia': 2394, 'referente': 2395, 'referiu': 2396, 'refinarias': 2397, 'refino': 2398, 'reflexiva': 2399, 'reforcar': 2400, 'reforcos': 2401, 'refugia': 2402, 'reginaldo': 2403, 'regional': 2404, 'registro': 2405, 'regras': 2406, 'regularizacao': 2407, 'rei': 2408, 'reinicio': 2409, 'reinventar': 2410, 'relaciona': 2411, 'relatar': 2412, 'relaxamento': 2413, 'relembra': 2414, 'relevante': 2415, 'remedios': 2416, 'remo': 2417, 'remover': 2418, 'renasci': 2419, 'renascimento': 2420, 'renda': 2421, 'rendem': 2422, 'rene': 2423, 'renegociar': 2424, 'renovadas': 2425, 'renovado': 2426, 'renovara': 2427, 'renovou': 2428, 'renunciara': 2429, 'repassa': 2430, 'repassara': 2431, 'repatriacao': 2432, 'repatriar': 2433, 'repercussao': 2434, 'repercutiu': 2435, 'repete': 2436, 'repetindo': 2437, 'repoe': 2438, 'reportagem': 2439, 'represalias': 2440, 'representante': 2441, 'representativo': 2442, 'reprovacao': 2443, 'reprovam': 2444, 'requer': 2445, 'rescaldo': 2446, 'reservatorio': 2447, 'resgate': 2448, 'residencia': 2449, 'residencias': 2450, 'residual': 2451, 'resistente': 2452, 'resolucao': 2453, 'respiradores': 2454, 'responsaveis': 2455, 'respostas': 2456, 'ressalvas': 2457, 'ressarcirem': 2458, 'restante': 2459, 'restantes': 2460, 'restricao': 2461, 'restringir': 2462, 'restritivas': 2463, 'restrito': 2464, 'retiram': 2465, 'retomei': 2466, 'retoques': 2467, 'retorno': 2468, 'retrata': 2469, 'retrovisor': 2470, 'reu': 2471, 'revanche': 2472, 'reve': 2473, 'reveja': 2474, 'revela': 2475, 'revelacoes': 2476, 'revelou': 2477, 'revezamentos': 2478, 'revitalizar': 2479, 'revoga': 2480, 'revoltado': 2481, 'revoltam': 2482, 'revolucao': 2483, 'revolucionar': 2484, 'rezende': 2485, 'rhodes': 2486, 'ribeiro': 2487, 'ricardinho': 2488, 'ricca': 2489, 'ricciardo': 2490, 'rico': 2491, 'ridiculo': 2492, 'rights': 2493, 'rildo': 2494, 'rio': 2495, 'riqueza': 2496, 'risada': 2497, 'risco': 2498, 'riscopais': 2499, 'risos': 2500, 'rithely': 2501, 'rivais': 2502, 'rixa': 2503, 'robbie': 2504, 'robo': 2505, 'robotica': 2506, 'rock': 2507, 'rodrigo': 2508, 'rodrigues': 2509, 'rodriguinho': 2510, 'roitman': 2511, 'roland': 2512, 'role': 2513, 'romantica': 2514, 'romenia': 2515, 'rompeu': 2516, 'rompimento': 2517, 'ronny': 2518, 'rory': 2519, 'rosas': 2520, 'rosenborg': 2521, 'rosto': 2522, 'rotas': 2523, 'roteiro': 2524, 'roth': 2525, 'rotinas': 2526, 'round': 2527, 'roupas': 2528, 'roupinha': 2529, 'roxo': 2530, 'roy': 2531, 'rr': 2532, 'rs': 2533, 'ruben': 2534, 'rueda': 2535, 'ruir': 2536, 'ruiz': 2537, 'rumo': 2538, 'rumoaobi': 2539, 'runner': 2540, 'rural': 2541, 'ruruzinho': 2542, 'rusga': 2543, 'sabemos': 2544, 'sabendo': 2545, 'saber': 2546, 'sabia': 2547, 'sacados': 2548, 'sacaneia': 2549, 'sacudir': 2550, 'saem': 2551, 'saffiedine': 2552, 'sagra': 2553, 'saintgermain': 2554, 'saitama': 2555, 'saiu': 2556, 'sala': 2557, 'salarios': 2558, 'salivando': 2559, 'salle': 2560, 'saltam': 2561, 'salva': 2562, 'salvadora': 2563, 'salvo': 2564, 'salvou': 2565, 'samba': 2566, 'sampaoli': 2567, 'sampras': 2568, 'samuel': 2569, 'sanches': 2570, 'saneamento': 2571, 'sangrando': 2572, 'sangrar': 2573, 'sanitaria': 2574, 'santana': 2575, 'santuario': 2576, 'sapato': 2577, 'sapo': 2578, 'saraiva': 2579, 'sasaki': 2580, 'sassuolo': 2581, 'satelites': 2582, 'satisfatoria': 2583, 'saunders': 2584, 'sbm': 2585, 'scalon': 2586, 'scheidt': 2587, 'schumacher': 2588, 'schumi': 2589, 'scott': 2590, 'script': 2591, 'sebastiao': 2592, 'secel': 2593, 'secretarios': 2594, 'sede': 2595, 'seedorf': 2596, 'seery': 2597, 'segue': 2598, 'seguidor': 2599, 'seguram': 2600, 'seijas': 2601, 'seios': 2602, 'sela': 2603, 'seleto': 2604, 'selfie': 2605, 'selva': 2606, 'sem': 2607, 'semana': 2608, 'semanal': 2609, 'semestre': 2610, 'semiaberto': 2611, 'semifinais': 2612, 'seminario': 2613, 'senado': 2614, 'sendo': 2615, 'senek': 2616, 'seneme': 2617, 'senna': 2618, 'sensacional': 2619, 'sensiveis': 2620, 'sensivel': 2621, 'senti': 2622, 'sentimentos': 2623, 'sentiram': 2624, 'sentiria': 2625, 'sergio': 2626, 'seria': 2627, 'series': 2628, 'setlist': 2629, 'seu': 2630, 'sexies': 2631, 'sexismo': 2632, 'sg': 2633, 'shake': 2634, 'shaquille': 2635, 'sheffiled': 2636, 'shelton': 2637, 'shirley': 2638, 'shopping': 2639, 'show': 2640, 'shower': 2641, 'si': 2642, 'sido': 2643, 'sigilos': 2644, 'significam': 2645, 'silva': 2646, 'simeone': 2647, 'sinal': 2648, 'sinceridade': 2649, 'sindicalista': 2650, 'sindicatos': 2651, 'singapura': 2652, 'sinto': 2653, 'siri': 2654, 'sites': 2655, 'sitio': 2656, 'situacao': 2657, 'sixers': 2658, 'skate': 2659, 'skype': 2660, 'smalling': 2661, 'smart': 2662, 'snapchat': 2663, 'sobrenatural': 2664, 'sobria': 2665, 'sobriedade': 2666, 'socia': 2667, 'sociedad': 2668, 'sociotorcedor': 2669, 'sofrem': 2670, 'sofreria': 2671, 'software': 2672, 'solidas': 2673, 'soltura': 2674, 'somados': 2675, 'somam': 2676, 'somaram': 2677, 'somem': 2678, 'sondado': 2679, 'sondagem': 2680, 'sonho': 2681, 'soro': 2682, 'southampton': 2683, 'soy': 2684, 'sozinho': 2685, 'spears': 2686, 'spencer': 2687, 'splash': 2688, 'sport': 2689, 'spotify': 2690, 'spurssurram': 2691, 'st': 2692, 'stars': 2693, 'status': 2694, 'steelers': 2695, 'stefan': 2696, 'sterblitch': 2697, 'stipe': 2698, 'stj': 2699, 'stone': 2700, 'stopthetable': 2701, 'store': 2702, 'streaming': 2703, 'strongest': 2704, 'sub': 2705, 'subestimalo': 2706, 'subiram': 2707, 'subito': 2708, 'subordinada': 2709, 'subsidio': 2710, 'substituto': 2711, 'suecas': 2712, 'suecia': 2713, 'suecos': 2714, 'suede': 2715, 'sunderland': 2716, 'sundhage': 2717, 'superavit': 2718, 'superfaturamento': 2719, 'supermoderna': 2720, 'supervisor': 2721, 'suplementar': 2722, 'suplemento': 2723, 'suplentes': 2724, 'suporte': 2725, 'supremo': 2726, 'suprir': 2727, 'surpreende': 2728, 'surtado': 2729, 'suspenso': 2730, 'sutil': 2731, 'swansea': 2732, 'taekwondo': 2733, 'tai': 2734, 'tailson': 2735, 'taiti': 2736, 'talisca': 2737, 'talvez': 2738, 'tapas': 2739, 'tardelli': 2740, 'tarefas': 2741, 'tas': 2742, 'tatuagem': 2743, 'taxar': 2744, 'tcheco': 2745, 'team': 2746, 'teatro': 2747, 'tecnologica': 2748, 'teixeira': 2749, 'tela': 2750, 'televisao': 2751, 'temas': 2752, 'tematico': 2753, 'temerosos': 2754, 'temores': 2755, 'tempao': 2756, 'tempo': 2757, 'temporada': 2758, 'temporaria': 2759, 'tenista': 2760, 'tensao': 2761, 'terao': 2762, 'terashakira': 2763, 'terceirona': 2764, 'teria': 2765, 'termico': 2766, 'termos': 2767, 'terror': 2768, 'terry': 2769, 'tesla': 2770, 'tesoura': 2771, 'testar': 2772, 'testara': 2773, 'testemunhas': 2774, 'testes': 2775, 'teto': 2776, 'tetra': 2777, 'tevez': 2778, 'texas': 2779, 'textos': 2780, 'thai': 2781, 'the': 2782, 'thunder': 2783, 'tibau': 2784, 'tibauquer': 2785, 'tiburcio': 2786, 'tido': 2787, 'tieta': 2788, 'tietado': 2789, 'tigre': 2790, 'tijuca': 2791, 'till': 2792, 'tinha': 2793, 'tinham': 2794, 'tipica': 2795, 'tipos': 2796, 'tiquinho': 2797, 'tirado': 2798, 'tiraduvidas': 2799, 'tire': 2800, 'tiroteio': 2801, 'tito': 2802, 'titular': 2803, 'titularidade': 2804, 'tive': 2805, 'tiverem': 2806, 'tocado': 2807, 'tocantins': 2808, 'tockers': 2809, 'toco': 2810, 'tomadas': 2811, 'tomate': 2812, 'tomic': 2813, 'torcidada': 2814, 'torino': 2815, 'tornar': 2816, 'tornara': 2817, 'torno': 2818, 'torto': 2819, 'toulouse': 2820, 'toure': 2821, 'touro': 2822, 'trabalhadores': 2823, 'traficar': 2824, 'traidor': 2825, 'tranquilizou': 2826, 'transferencia': 2827, 'transformar': 2828, 'transmissao': 2829, 'transmite': 2830, 'transparencia': 2831, 'transplante': 2832, 'transportadores': 2833, 'tratamento': 2834, 'trator': 2835, 'traumatismo': 2836, 'traz': 2837, 'treina': 2838, 'treinam': 2839, 'treinamento': 2840, 'treinos': 2841, 'trens': 2842, 'tributacao': 2843, 'tributaristas': 2844, 'tricampeao': 2845, 'tricolor': 2846, 'trilhao': 2847, 'trilogia': 2848, 'trimestrais': 2849, 'trocado': 2850, 'troco': 2851, 'trofeu': 2852, 'trofeus': 2853, 'tropas': 2854, 'tropeco': 2855, 'trote': 2856, 'tucuman': 2857, 'turma': 2858, 'tv': 2859, 'uhlmann': 2860, 'ultima': 2861, 'unai': 2862, 'unem': 2863, 'unico': 2864, 'unido': 2865, 'uniformes': 2866, 'universal': 2867, 'uruguai': 2868, 'usa': 2869, 'usara': 2870, 'usava': 2871, 'usb': 2872, 'utopia': 2873, 'v': 2874, 'vaiado': 2875, 'vaidosa': 2876, 'valdes': 2877, 'valdiram': 2878, 'valdivia': 2879, 'vale': 2880, 'valer': 2881, 'valor': 2882, 'valverde': 2883, 'vandoorne': 2884, 'vardy': 2885, 'varejao': 2886, 'varia': 2887, 'variacao': 2888, 'varrer': 2889, 'veganos': 2890, 'velodromo': 2891, 'veloso': 2892, 'vemola': 2893, 'venal': 2894, 'vencedor': 2895, 'vencerei': 2896, 'vendia': 2897, 'vendidas': 2898, 'vendido': 2899, 'vendramini': 2900, 'veneno': 2901, 'verba': 2902, 'verbo': 2903, 'verde': 2904, 'vergonha': 2905, 'versatilidade': 2906, 'verstappen': 2907, 'vespas': 2908, 'vettel': 2909, 'viagem': 2910, 'viaja': 2911, 'viajara': 2912, 'viana': 2913, 'vibra': 2914, 'vibrantes': 2915, 'vice': 2916, 'vicelider': 2917, 'vida': 2918, 'vietna': 2919, 'vigor': 2920, 'vila': 2921, 'villa': 2922, 'villas': 2923, 'vinculados': 2924, 'vinculante': 2925, 'vinicius': 2926, 'violacao': 2927, 'violacoes': 2928, 'violao': 2929, 'violencia': 2930, 'vir': 2931, 'virada': 2932, 'viradas': 2933, 'virais': 2934, 'viralizar': 2935, 'viraram': 2936, 'virgem': 2937, 'virus': 2938, 'visa': 2939, 'vissel': 2940, 'vitoriosa': 2941, 'vitti': 2942, 'viuvas': 2943, 'vizinha': 2944, 'voadora': 2945, 'voar': 2946, 'voleio': 2947, 'voleios': 2948, 'voltaco': 2949, 'voltando': 2950, 'volte': 2951, 'volume': 2952, 'vontade': 2953, 'votado': 2954, 'votara': 2955, 'votos': 2956, 'vovo': 2957, 'vuitton': 2958, 'vulgar': 2959, 'wagnao': 2960, 'wagner': 2961, 'wake': 2962, 'walmart': 2963, 'walt': 2964, 'wanderlei': 2965, 'wanessa': 2966, 'warley': 2967, 'warren': 2968, 'web': 2969, 'wedding': 2970, 'wehda': 2971, 'wells': 2972, 'wendel': 2973, 'werley': 2974, 'werneck': 2975, 'wickr': 2976, 'william': 2977, 'willians': 2978, 'winits': 2979, 'works': 2980, 'world': 2981, 'xara': 2982, 'xi': 2983, 'xingados': 2984, 'xingar': 2985, 'xr': 2986, 'yang': 2987, 'yoel': 2988, 'yony': 2989, 'younan': 2990, 'young': 2991, 'youtube': 2992, 'yuri': 2993, 'zabit': 2994, 'zaid': 2995, 'zebra': 2996, 'zelotes': 2997, 'zica': 2998, 'zuniga': 2999}\n",
            "O input: Mesmo com alta do dólar, gastos de brasileiros no exterior batem recorde\n",
            "O Token do input: [0, 592, 0, 0, 0, 0, 0, 0, 0, 0, 0, 2376]\n",
            "O decode do Token do input: ['<OAV>', 'com', '<OAV>', '<OAV>', '<OAV>', '<OAV>', '<OAV>', '<OAV>', '<OAV>', '<OAV>', '<OAV>', 'recorde']\n"
          ],
          "name": "stdout"
        },
        {
          "output_type": "stream",
          "text": [
            "/usr/local/lib/python3.7/dist-packages/ipykernel_launcher.py:54: VisibleDeprecationWarning: Creating an ndarray from ragged nested sequences (which is a list-or-tuple of lists-or-tuples-or ndarrays with different lengths or shapes) is deprecated. If you meant to do this, you must specify 'dtype=object' when creating the ndarray\n"
          ],
          "name": "stderr"
        }
      ]
    },
    {
      "cell_type": "markdown",
      "metadata": {
        "id": "43FCVoZxTx0x"
      },
      "source": [
        "## Seq2value"
      ]
    },
    {
      "cell_type": "markdown",
      "metadata": {
        "id": "KxA3ZbhYpPLG"
      },
      "source": [
        "### Dataset"
      ]
    },
    {
      "cell_type": "code",
      "metadata": {
        "colab": {
          "base_uri": "https://localhost:8080/"
        },
        "id": "qJOeYv8U9Lmx",
        "outputId": "b59f31bd-ac77-4e63-dcec-f4ce679973d0"
      },
      "source": [
        "#MAX_LENGTH_ASSUNTO = 5 \n",
        "MAX_LENGTH_TITLE = 20\n",
        "\n",
        "hot_titulos[200].shape\n",
        "hot_assuntos.shape\n",
        "# Masking one-hot-encode\n",
        "exemplo1 = pad_sequences(hot_assuntos[0:3,:], maxlen=2, padding='post', truncating='post')\n",
        "exemplo2 = pad_sequences(hot_assuntos[0:3,:], maxlen=7, padding='post', truncating='post')\n",
        "\n",
        "exemplo1.shape\n",
        "print(f'Tamanho padrão:{len(assuntos_tokenizer.word_index)} \\nCom pad 2:\\n{exemplo1}\\nCom pad 7:\\n{exemplo2}')\n",
        "\n",
        "\n",
        "data_titulos = pad_sequences(hot_titulos, maxlen=MAX_LENGTH_TITLE, padding='post', truncating='post')\n",
        "data_titulos[0].shape\n",
        "\n",
        "# data_Decoder_targets = pad_sequences(data['Decoder_targets'], maxlen=MAX_LENGTH_POEM, padding='post', truncating='post')\n",
        "\n",
        "\n",
        "X_train, X_test, Y_train, Y_test = train_test_split(data_titulos, hot_assuntos, test_size = 0.2, random_state=5)\n",
        "\n",
        "# Decoder_Train, Decoder_Test, Target_Train, Target_Test  =  train_test_split(data_Decoder_inputs, data_Decoder_targets, test_size = 0.2, random_state=5)\n",
        "# Target_Train = keras.utils.to_categorical(Target_Train, num_classes=VOCAB_SIZE_DECODER)\n",
        "# Target_Test = keras.utils.to_categorical(Target_Test, num_classes=VOCAB_SIZE_DECODER)\n",
        "X_train.shape\n",
        "Y_train.shape"
      ],
      "execution_count": 12,
      "outputs": [
        {
          "output_type": "stream",
          "text": [
            "Tamanho padrão:5 \n",
            "Com pad 2:\n",
            "[[0 1]\n",
            " [0 1]\n",
            " [0 1]]\n",
            "Com pad 7:\n",
            "[[0 1 0 0 0 0 0]\n",
            " [0 1 0 0 0 0 0]\n",
            " [0 1 0 0 0 0 0]]\n"
          ],
          "name": "stdout"
        },
        {
          "output_type": "execute_result",
          "data": {
            "text/plain": [
              "(8079, 5)"
            ]
          },
          "metadata": {
            "tags": []
          },
          "execution_count": 12
        }
      ]
    },
    {
      "cell_type": "markdown",
      "metadata": {
        "id": "NJVapiQ6pVgj"
      },
      "source": [
        "### Modelo"
      ]
    },
    {
      "cell_type": "code",
      "metadata": {
        "colab": {
          "base_uri": "https://localhost:8080/",
          "height": 1000
        },
        "id": "0vP-K8-ShRJQ",
        "outputId": "03c3d081-bd26-4826-b667-2c85d9b9cadc"
      },
      "source": [
        "from tensorflow import keras\n",
        "from keras import layers\n",
        "\n",
        "VOCAB_SIZE_X = len(titulo_tokenizer.dic) # 1000\n",
        "TIME_STEPS = MAX_LENGTH_TITLE # 77\n",
        "VOCAB_SIZE_Y = len(assuntos_tokenizer.word_index) # 5\n",
        "\n",
        "\n",
        "# Modelo RNN\n",
        "modelo = keras.Sequential(\n",
        "    [\n",
        "     keras.Input(shape=(TIME_STEPS, VOCAB_SIZE_X), name=\"Input\"),\n",
        "     layers.LSTM(1, return_sequences=True),\n",
        "     layers.LSTM(1),\n",
        "     layers.Dense(VOCAB_SIZE_Y, activation= \"softmax\")\n",
        "    ]\n",
        ")\n",
        "\n",
        "modelo.summary()\n",
        "\n",
        "# Treinando modelo\n",
        "modelo.compile(optimizer='adam', metrics=['accuracy'], loss= keras.losses.categorical_crossentropy)\n",
        "\n",
        "y = modelo(X_train[0:1])\n",
        "\n",
        "\n",
        "hist = modelo.fit(x = X_train,\n",
        "                  y = Y_train,\n",
        "                  validation_split=0.2,\n",
        "                  batch_size = 1000,\n",
        "                  epochs=200,\n",
        "                  verbose=0,\n",
        "                  callbacks=keras.callbacks.EarlyStopping('accuracy',\n",
        "                                                          patience=10,\n",
        "                                                          min_delta=0.05,\n",
        "                                                          restore_best_weights=True)\n",
        "                  )\n",
        "\n",
        "# Grafico\n",
        "plot(hist)\n",
        "\n",
        "# Previsões\n",
        "y_hat = modelo(X_test[0:10])\n",
        "\n",
        "x = [one_hot_decode(y) for y in X_test[0:10] ]\n",
        "y_hat_num = [np.argmax(k) for k in y_hat]\n",
        "y = one_hot_decode(Y_test[0:10])\n",
        "\n",
        "x_tx = titulo_tokenizer.for_idx_data2_text(x)\n",
        "y__hat_tx = [assuntos_tokenizer.index_word[n + 1] for n in y_hat_num]\n",
        "y_tx = [assuntos_tokenizer.index_word[n + 1] for n in y]\n",
        "\n",
        "y_hat_v = modelo.evaluate(X_test, Y_test, verbose=0)\n",
        "x_tx = \"\\n\".join([re.sub(\"<OAV>\",\"*\",' '.join(x)) for x in x_tx])\n",
        "\n",
        "\n",
        "print(\"--Algumas previsões---\")\n",
        "print(f'Acurácia no banco de teste: {round(y_hat_v[1]*100, 2)}%')\n",
        "print(f'x:\\n{x_tx}\\ny_hat:\\n{y__hat_tx}\\ny:\\n{y_tx}')\n",
        "\n",
        "keras.backend.clear_session()\n"
      ],
      "execution_count": 16,
      "outputs": [
        {
          "output_type": "stream",
          "text": [
            "Model: \"sequential\"\n",
            "_________________________________________________________________\n",
            "Layer (type)                 Output Shape              Param #   \n",
            "=================================================================\n",
            "lstm (LSTM)                  (None, 20, 1)             12008     \n",
            "_________________________________________________________________\n",
            "lstm_1 (LSTM)                (None, 1)                 12        \n",
            "_________________________________________________________________\n",
            "dense (Dense)                (None, 5)                 10        \n",
            "=================================================================\n",
            "Total params: 12,030\n",
            "Trainable params: 12,030\n",
            "Non-trainable params: 0\n",
            "_________________________________________________________________\n"
          ],
          "name": "stdout"
        },
        {
          "output_type": "display_data",
          "data": {
            "image/png": "[encoded data removed]",
            "text/plain": [
              "<Figure size 432x288 with 1 Axes>"
            ]
          },
          "metadata": {
            "tags": [],
            "needs_background": "light"
          }
        },
        {
          "output_type": "display_data",
          "data": {
            "image/png": "[encoded data removed]",
            "text/plain": [
              "<Figure size 432x288 with 1 Axes>"
            ]
          },
          "metadata": {
            "tags": [],
            "needs_background": "light"
          }
        },
        {
          "output_type": "stream",
          "text": [
            "--Algumas previsões---\n",
            "Acurácia no banco de teste: 14.11%\n",
            "x:\n",
            "alisson * * * * * * * as * equipes estao * * * brasil * * * *\n",
            "youtube * * * * streaming * europa * * * * * * * * * * * *\n",
            "* * felipe * * * com felipao * * * * * * * * * * * *\n",
            "caixa * * * * * * * * * * * * * * * * * * *\n",
            "* * * * ribeiro * * * * * * * * * * * * * * *\n",
            "* ganha * * * * * funciona * * * * * * * * * * * *\n",
            "* * revela * * * com * * * * * * * * * * * * *\n",
            "murray * * * * * * * * * roland * * * * * * * * *\n",
            "* * * * sabemos * * * * * * clube com * * * * * * *\n",
            "* hypolito revela * * bullying * * * * * * * * * * * * * *\n",
            "y_hat:\n",
            "['politica', 'politica', 'politica', 'politica', 'politica', 'politica', 'politica', 'politica', 'politica', 'politica']\n",
            "y:\n",
            "['esportes', 'tecnologia', 'esportes', 'economia', 'esportes', 'tecnologia', 'esportes', 'esportes', 'esportes', 'esportes']\n"
          ],
          "name": "stdout"
        }
      ]
    },
    {
      "cell_type": "markdown",
      "metadata": {
        "id": "akrp1IGzah0n"
      },
      "source": [
        "## Seq-Seq"
      ]
    },
    {
      "cell_type": "markdown",
      "metadata": {
        "id": "Y4gw0BKj_TWs"
      },
      "source": [
        "### Modelo: *teaching forcing*\n",
        "\n",
        "Em vez de calcular o erro da predição, colocamos a resposta $y$ no output para que o modelo se adeque rápido."
      ]
    },
    {
      "cell_type": "code",
      "metadata": {
        "colab": {
          "base_uri": "https://localhost:8080/",
          "height": 843
        },
        "id": "D458rH_d_TW2",
        "outputId": "09f6ec59-268b-436b-d8ae-12a76add4f71"
      },
      "source": [
        "from tensorflow import keras\n",
        "from keras import layers\n",
        "\n",
        "VOCAB_SIZE = len(content_tokenizer.dic)\n",
        "TIME_STEPS = SEQ_LENGTH + 2 # 30 + (<START> e <END>)\n",
        "\n",
        "# Modelo RNN\n",
        "modelo = keras.Sequential(\n",
        "    [\n",
        "     keras.Input(shape=(TIME_STEPS, VOCAB_SIZE), name=\"Input\"),\n",
        "     layers.LSTM(20, return_sequences=True),\n",
        "     layers.LSTM(50, return_sequences=True),\n",
        "     layers.LSTM(20, return_sequences=True),\n",
        "     layers.TimeDistributed(layers.Dense(VOCAB_SIZE, activation= \"softmax\"))\n",
        "    ]\n",
        ")\n",
        "\n",
        "modelo.summary()\n",
        "\n",
        "# Treinando modelo\n",
        "modelo.compile(optimizer='adam', metrics=['accuracy'], loss= keras.losses.categorical_crossentropy)\n",
        "\n",
        "y = modelo(hot_X[0:3])\n",
        "\n",
        "\n",
        "hist = modelo.fit(x = hot_X,\n",
        "                  y = hot_Y,\n",
        "                  validation_split=0.2,\n",
        "                  batch_size = 1000,\n",
        "                  epochs=200,\n",
        "                  verbose=0,\n",
        "                  callbacks=keras.callbacks.EarlyStopping('accuracy',\n",
        "                                                          patience=10,\n",
        "                                                          min_delta=0.005,\n",
        "                                                          restore_best_weights=True)\n",
        "                  )\n",
        "\n",
        "hot_X.shape\n",
        "hot_Y.shape\n",
        "\n",
        "# Grafico\n",
        "plot(hist)\n",
        "\n",
        "# Previsões\n",
        "y_hat = modelo(hot_X[0:10])\n",
        "\n",
        "keras.backend.clear_session()"
      ],
      "execution_count": 15,
      "outputs": [
        {
          "output_type": "stream",
          "text": [
            "Model: \"sequential\"\n",
            "_________________________________________________________________\n",
            "Layer (type)                 Output Shape              Param #   \n",
            "=================================================================\n",
            "lstm (LSTM)                  (None, 12, 20)            5360      \n",
            "_________________________________________________________________\n",
            "lstm_1 (LSTM)                (None, 12, 50)            14200     \n",
            "_________________________________________________________________\n",
            "lstm_2 (LSTM)                (None, 12, 20)            5680      \n",
            "_________________________________________________________________\n",
            "time_distributed (TimeDistri (None, 12, 46)            966       \n",
            "=================================================================\n",
            "Total params: 26,206\n",
            "Trainable params: 26,206\n",
            "Non-trainable params: 0\n",
            "_________________________________________________________________\n"
          ],
          "name": "stdout"
        },
        {
          "output_type": "display_data",
          "data": {
            "image/png": "[encoded data removed]",
            "text/plain": [
              "<Figure size 432x288 with 1 Axes>"
            ]
          },
          "metadata": {
            "tags": [],
            "needs_background": "light"
          }
        },
        {
          "output_type": "display_data",
          "data": {
            "image/png": "[encoded data removed]",
            "text/plain": [
              "<Figure size 432x288 with 1 Axes>"
            ]
          },
          "metadata": {
            "tags": [],
            "needs_background": "light"
          }
        }
      ]
    },
    {
      "cell_type": "markdown",
      "metadata": {
        "id": "gLMulGF5IFmy"
      },
      "source": [
        "# (EM DESENVOLVIMENTO)"
      ]
    },
    {
      "cell_type": "markdown",
      "metadata": {
        "id": "b06KTcSQGYDt"
      },
      "source": [
        "## Encode-Decode (Seq2Seq)"
      ]
    },
    {
      "cell_type": "code",
      "metadata": {
        "id": "-FviOrtB45y4"
      },
      "source": [
        "MAX_LENGTH_TITLE = 26\n",
        "MAX_LENGTH_POEM = 30\n",
        "\n",
        "\n",
        "\n",
        "data_Econder_inputs = pad_sequences(data['Econder_inputs'], maxlen=MAX_LENGTH_TITLE, padding='post', truncating='post')\n",
        "\n",
        "data_Decoder_inputs = pad_sequences(data['Decoder_inputs'], maxlen=MAX_LENGTH_POEM, padding='post', truncating='post')\n",
        "\n",
        "data_Decoder_targets = pad_sequences(data['Decoder_targets'], maxlen=MAX_LENGTH_POEM, padding='post', truncating='post')\n",
        "\n",
        "\n",
        "Encoder_Train, Encoder_Test, _, _ = train_test_split(data_Econder_inputs, data_Decoder_inputs, test_size = 0.2, random_state=5)\n",
        "Decoder_Train, Decoder_Test, Target_Train, Target_Test  =  train_test_split(data_Decoder_inputs, data_Decoder_targets, test_size = 0.2, random_state=5)\n",
        "\n",
        "Target_Train = keras.utils.to_categorical(Target_Train, num_classes=VOCAB_SIZE_DECODER)\n",
        "Target_Test = keras.utils.to_categorical(Target_Test, num_classes=VOCAB_SIZE_DECODER)\n"
      ],
      "execution_count": null,
      "outputs": []
    },
    {
      "cell_type": "code",
      "metadata": {
        "id": "9OvEtyZy8jXy"
      },
      "source": [
        "# The embedding dimension\n",
        "embedding_dim_Encoder = 60\n",
        "embedding_dim_Decoder =  300\n",
        "VOCAB_SIZE_ENCODER = VOCAB_SIZE_DECODER\n",
        "\n",
        "# Number of RNN units\n",
        "rnn_units = 100\n",
        "\n",
        "\n",
        "## Encoder\n",
        "encode_input = keras.Input(shape=(None,), name=\"title\")\n",
        "encode_features = layers.Embedding(VOCAB_SIZE_ENCODER, embedding_dim_Encoder)(encode_input) \n",
        "encoder = layers.LSTM(rnn_units, return_state=True, name = 'encode')\n",
        "encode_output, state_h, state_c = encoder(encode_features)\n",
        "\n",
        "# Estado da celula \n",
        "encoder_state = [state_h, state_c]\n",
        "\n",
        "#layers.Bidirectional\n",
        "\n",
        "#layers.CuDNNLSTM\n",
        "\n",
        "## Decoder\n",
        "decode_input = keras.Input(shape=(None,), name=\"content\")\n",
        "decode_features = layers.Embedding(VOCAB_SIZE_DECODER, embedding_dim_Decoder)(decode_input)\n",
        "decode = layers.LSTM(rnn_units, return_state=True, return_sequences=True, name = 'decode')\n",
        "decode_out, _, _ = decode(decode_features, initial_state = encoder_state)\n",
        "decoder_outputs = layers.Dense(VOCAB_SIZE_DECODER, activation=\"softmax\")(decode_out)\n",
        "\n",
        "# Estado da celula \n",
        "\n",
        "\n",
        "model = keras.Model([encode_input, decode_input], decoder_outputs)\n",
        "model.summary()\n",
        "\n",
        "#keras.backend.clear_session()\n",
        "\n",
        "#keras.utils.plot_model(model, \"multi_input_and_output_model.png\", show_shapes=True)\n",
        "\n",
        "hist = model.compile(\n",
        "    optimizer=keras.optimizers.Adam(1e-2),\n",
        "    loss = \"categorical_crossentropy\",\n",
        "    metrics = \"acc\"\n",
        ")\n",
        "\n",
        "#class CustomCallback(keras.callbacks.Callback):\n",
        "#  def on_epoch_end(self, epoch, logs=None):\n",
        "#    if 0 == epoch%1: \n",
        "#        print(f'Época: {epoch} \\n output:{logs[\"predict\"]}')\n",
        "        \n",
        "\n",
        "history = model.fit([Encoder_Train, Decoder_Train], Target_Train,\n",
        "          batch_size = 5000,\n",
        "          validation_split=0.2,\n",
        "          callbacks=[keras.callbacks.EarlyStopping('loss', min_delta=0.1, patience=3, restore_best_weights=True)],\n",
        "          epochs=10, verbose=2)\n",
        "\n",
        "\n",
        "plt.plot(history.history['acc'])\n",
        "plt.title('model accuracy')\n",
        "plt.ylabel('accuracy')\n",
        "plt.xlabel('epoch')\n",
        "plt.legend(['train', 'val'], loc='upper left')\n",
        "plt.show()\n"
      ],
      "execution_count": null,
      "outputs": []
    },
    {
      "cell_type": "code",
      "metadata": {
        "id": "wQMciqCLNjWf"
      },
      "source": [
        "# Predições \n",
        "pred = model.predict([Encoder_Test, Decoder_Test])\n",
        "\n",
        "def deconder_as(pred, num):\n",
        "  \n",
        "  nums = [int(u) for u in (np.random.uniform(0, len(Encoder_Test), 3))]\n",
        "  \n",
        "  for i in nums:\n",
        "    print(i)\n",
        "    preds = tf.random.categorical(pred[i], num_samples=1).numpy()\n",
        "\n",
        "    enc = tokenizer_Encoder.sequences_to_texts(np.array([ [idx] for idx in tf.squeeze(Encoder_Test[(i):(i+1)])]))\n",
        "    res = tokenizer_Decoder.sequences_to_texts(preds)\n",
        "    tgt = tokenizer_Decoder.sequences_to_texts([[idx] for idx in Decoder_Test[i]])\n",
        "    print(f'Encode: \\n>{\"\".join(enc)}')\n",
        "    print(f'Previsto:  \\n>{\" \".join(res)}')\n",
        "    print(f'Real: \\n>{\" \".join(tgt)}' )\n",
        "    print('-------------------\\n')\n",
        "deconder_as(pred,3)\n",
        "\n",
        "\n",
        "#def generating(title, num_words):\n",
        "#  words = []\n",
        "#  # Encoded\n",
        "#  e_text = tokenizer_Encoder.texts_to_sequences(\"title\")\n",
        "#\n",
        "#  encode_output, state_h, state_c = Econder_model(e_text)\n",
        "#  encoder_state = [state_h, state_c]\n",
        "#\n",
        "#  # Decoded\n",
        "#  decode_input = keras.Input(shape=(None,), name=\"content\")\n",
        "#  decode_features = layers.Embedding(VOCAB_SIZE_DECODER, embedding_dim_Decoder)(decode_input)\n",
        "#  decode = layers.LSTM(rnn_units, return_state=True, return_sequences=True, name = 'decode')\n",
        "#  decode_out, state_h, state_c = decode(decode_features, initial_state = encoder_state)\n",
        "#\n",
        "#  decoder_state = [state_h, state_c]\n",
        "#\n",
        "#\n",
        "#  decoder_outputs = layers.Dense(VOCAB_SIZE_DECODER, activation=\"softmax\")(decode_out)\n",
        "#\n",
        "#\n",
        "#\n",
        "#  decoded_model = keras.Model(decode_input, decode_out)\n",
        "#  \n",
        "#  pred = Decoder_model()\n",
        "#\n",
        "#  words.append(decode_out)\n",
        "#  \n",
        "#  for word in range(num_words):\n",
        "#\n",
        "#    decode_out, state_h, state_c = decode(decode_features, initial_state = encoder_state)\n",
        "#\n",
        "#    decoder_state = [state_h, state_c]\n",
        "#\n",
        "#    words.append(decode_out)\n",
        "\n",
        "#    decoder_outputs = layers.Dense(VOCAB_SIZE_DECODER, activation=\"softmax\")(decode_out)\n",
        "#    decoded_model = keras.Model(decode_input, decode_out)\n",
        "\n",
        "\n"
      ],
      "execution_count": null,
      "outputs": []
    }
  ]
}