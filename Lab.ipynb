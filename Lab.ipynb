{
  "nbformat": 4,
  "nbformat_minor": 0,
  "metadata": {
    "colab": {
      "name": "Lab.ipynb",
      "provenance": [],
      "collapsed_sections": [],
      "authorship_tag": "ABX9TyOJnLTvxVbcSRy3ft3ZADFs",
      "include_colab_link": true
    },
    "kernelspec": {
      "name": "python3",
      "display_name": "Python 3"
    },
    "language_info": {
      "name": "python"
    },
    "accelerator": "GPU"
  },
  "cells": [
    {
      "cell_type": "markdown",
      "metadata": {
        "id": "view-in-github",
        "colab_type": "text"
      },
      "source": [
        "<a href=\"https://colab.research.google.com/github/BecomeAllan/RNN/blob/main/Lab.ipynb\" target=\"_parent\"><img src=\"https://colab.research.google.com/assets/colab-badge.svg\" alt=\"Open In Colab\"/></a>"
      ]
    },
    {
      "cell_type": "markdown",
      "metadata": {
        "id": "BdgNtVwJtz4b"
      },
      "source": [
        "# Laboratório\n",
        "\n",
        "## Implementações com RNNs"
      ]
    },
    {
      "cell_type": "markdown",
      "metadata": {
        "id": "v4mmQSmK7UMI"
      },
      "source": [
        "# O que é uma RNN ?"
      ]
    },
    {
      "cell_type": "markdown",
      "metadata": {
        "id": "_cxqL5BZ9Yhf"
      },
      "source": [
        "Uma Recurrent neural network (RNN) é uma arquitetura de Rede Neural que processa dados sequenciais, como palavra por palavra em uma frase ou informações através do tempo.\n",
        "\n",
        "Algo notável na RNN é a capacidade de processar sequências independente do tamanho do vetor de entrada, não precisando ter um tamanho fixo para poder rodar a rede. Por exemplo, uma única rede poderia processar frases com 3, 5, 10 ou mais palavras na mesma rede.\n",
        "\n",
        "Algumas aplicações são mostradas na imagem a seguir, no qual a *one to one* seria uma rede do tipo *FeedFoward*.\n"
      ]
    },
    {
      "cell_type": "markdown",
      "metadata": {
        "id": "G-cbN7-q9SgL"
      },
      "source": [
        "![image](https://raw.githubusercontent.com/BecomeAllan/RNN/main/images/Aquitetura.png)\n",
        "\n",
        "[Imagem retirada daqui](http://karpathy.github.io/2015/05/21/rnn-effectiveness/)\n"
      ]
    },
    {
      "cell_type": "markdown",
      "metadata": {
        "id": "CB21kFiqdI-n"
      },
      "source": [
        "# Comportamento de uma RNN\n",
        "\n",
        "O comportamento de uma célula padrão de RNN é através de um loop, onde o $x_t$ é o input confome o tempo $t$ e está célula representada por $h_t$ transporta a informação para a próxima $h_{t+1}$ com a informação adicional para atualizar junto com o $x_{t+1}$.\n",
        "\n",
        "O comportamento de um estado de célula $h_t$ diz conforme a próxima informação vai ser processada, criando uma correlação do estado passado para o presente $t$."
      ]
    },
    {
      "cell_type": "markdown",
      "metadata": {
        "id": "a0zgJjW0HEYm"
      },
      "source": [
        "<img src=\"https://raw.githubusercontent.com/BecomeAllan/RNN/main/images/Esquelto.png\" alt=\"rnn\" width=\"700\"/>\n",
        "\n",
        "\n",
        "<img src=\"https://raw.githubusercontent.com/BecomeAllan/RNN/main/images/Feedfoward.png\" alt=\"rnn\" width=\"700\"/>\n",
        "\n",
        "[Imagens retiradas daqui](http://introtodeeplearning.com/slides/6S191_MIT_DeepLearning_L2.pdf)"
      ]
    },
    {
      "cell_type": "markdown",
      "metadata": {
        "id": "PUaIU0sSf2EI"
      },
      "source": [
        "## Pseudo-código de uma célula RNN\n",
        "\n",
        "Queremos que a célula de RNN complete a frase:\n",
        "+ \"I love recurrent neural\"\n",
        "\n",
        "prevendo na última interação a palavra:\n",
        "+ \"network\"."
      ]
    },
    {
      "cell_type": "code",
      "metadata": {
        "id": "xMH3-P_Af10R"
      },
      "source": [
        "rnn_cell = RNN()\n",
        "\n",
        "# Inicial h_t\n",
        "hidden_state = [0,0,0,0]\n",
        "\n",
        "X_t = ['I', 'love', 'recurrent', 'neural'] ## input [x_1, x_2, x_3, x_4 ] output da Y_4 = ['network']\n",
        "\n",
        "for word in X_t:\n",
        "  y_hat, hidden_state = rnn_cell(word, hidden_state)\n",
        "\n",
        "# ['network']\n",
        "next_word_predict = y_hat"
      ],
      "execution_count": null,
      "outputs": []
    },
    {
      "cell_type": "markdown",
      "metadata": {
        "id": "27QE7eEijWXP"
      },
      "source": [
        "## Pseudo-código de uma célula RNN para amantes do KERAS"
      ]
    },
    {
      "cell_type": "code",
      "metadata": {
        "cellView": "code",
        "id": "I8YMBGjqjqco"
      },
      "source": [
        "# Bibliotecas usadas\n",
        "import tensorflow as tf\n",
        "from tensorflow import keras\n",
        "import numpy as np\n",
        "    \n",
        "dot = tf.matmul\n",
        "   \n",
        "# Criando a layer RNN\n",
        "class RNN_cell(keras.layers.Layer):\n",
        "  def __init__(self, rnn_units, input_dim, output_dim):\n",
        "    super(RNN_cell, self).__init__()\n",
        "\n",
        "    # Pesos\n",
        "    self.W_xh = self.add_weight(shape = (rnn_units, input_dim), initializer=\"random_normal\", dtype='float32')\n",
        "    self.W_hh = self.add_weight(shape = (rnn_units, rnn_units), initializer=\"random_normal\", dtype='float32')\n",
        "    self.W_hy = self.add_weight(shape = (output_dim, rnn_units), initializer=\"random_normal\", dtype='float32')\n",
        "\n",
        "    # Estado (h_0) inicial \n",
        "    self.h = tf.zeros([rnn_units, 1])\n",
        "  \n",
        "  def call(self, x):\n",
        "    # x -> h\n",
        "    # Atualiza o estado h_t\n",
        "    self.h = tf.tanh( dot(self.W_hh, self.h) + dot( self.W_xh, x))\n",
        "\n",
        "    # h -> y\n",
        "    # 'Dense'\n",
        "    predict = dot( self.W_hy, self.h)\n",
        "    return predict\n",
        "\n",
        "  def get_config(self):\n",
        "    return {\"W_xh\": self.W_xh.numpy(),\n",
        "            \"W_hh\": self.W_hh.numpy(),\n",
        "            \"W_hy\": self.W_hy.numpy(),\n",
        "            \"h\": self.h.numpy()}\n",
        "\n",
        "\n",
        "# Constantes\n",
        "RNN_UNITS = 2\n",
        "INPUT_DIM = 2\n",
        "OUTPUT_DIM = 1\n",
        "\n",
        "\n",
        "\n",
        "x = np.array([[1,3,5,7,9],\n",
        "              [2,4,6,8,10]], dtype='float32')\n",
        "print(f'Shape do input: {x.shape}')\n",
        "\n",
        "hidden = RNN_cell(RNN_UNITS, INPUT_DIM, OUTPUT_DIM)\n",
        "\n",
        "temp = x.shape[1]\n",
        "\n",
        "config = hidden.get_config()\n",
        "####\n",
        "print(f\"Pesos: \\n W_xh:\\n{config['W_xh']}\\n\\n W_hh:\\n{config['W_hh']}\\n\\n W_hy:\\n{config['W_hy']}\\n\\n h:\\n{config['h']}\")"
      ],
      "execution_count": null,
      "outputs": []
    },
    {
      "cell_type": "code",
      "metadata": {
        "id": "aSZbN0zNO5p_"
      },
      "source": [
        "print(f'rnn_units: {RNN_UNITS} | input_dim: {INPUT_DIM} | output_dim: {OUTPUT_DIM} |  Número de sequencias: {temp}')\n",
        "print(f\"Input: \\n {x}\\n\")\n",
        "for t in range(0, temp):\n",
        "  ht = hidden.get_config()\n",
        "  xt = x[:,t]\n",
        "  xt = xt.reshape((2,1))\n",
        "  y_hat = hidden(xt)\n",
        "  print(f\"> Tempo (t):{t} \\n> Valor do estado (h):\\n{ht['h']} \\n> Previu (y_hat): \\n{y_hat}\")\n",
        "  print('----\\n')\n",
        "\n",
        "keras.backend.clear_session()"
      ],
      "execution_count": null,
      "outputs": []
    },
    {
      "cell_type": "markdown",
      "metadata": {
        "id": "uEUHJIYAckOI"
      },
      "source": [
        "## Quantidade de  células (unidades) de RNN\n",
        "\n",
        "+ Veja pelo diagrama que não existe conexão entre as unidades de RNN mas apenas entre suas próprias células.\n",
        "\n",
        "<img src=\"https://raw.githubusercontent.com/BecomeAllan/RNN/main/images/Units.png\" alt=\"units\" width=\"700\"/>"
      ]
    },
    {
      "cell_type": "markdown",
      "metadata": {
        "id": "cR_Qb7Li8uY7"
      },
      "source": [
        "# Quando usar uma RNN ?"
      ]
    },
    {
      "cell_type": "markdown",
      "metadata": {
        "id": "9SZyaa6wz4aP"
      },
      "source": [
        "Como já introduzido, uma RNN é usada quando os dados tem interação conforme o \"tempo\" passa, ou melhor dizendo, se suas variáveis de *input* tem uma correlação com as dadas sequências destas.\n",
        "\n",
        "Ou seja, se uma sequência é passada para uma RNN, como $x_1=[1,2,3]$ e sua \"resposta\" seria o inverso dela, $y=[3,2,1]$, observa-se que existe uma relação entre a sequência do *input* $x$ que diz muito sobre como será o *output*.\n",
        "\n",
        "Há muitos outros exemplos que podem ser explorados com RNNs e alguns deles serão abordados por este documento.\n",
        "\n",
        "Alguns tipos de dados que são usados para utilizar RNNs:\n",
        "+ **Tipo de dados:** Sequências, One-Hot-Encode..."
      ]
    },
    {
      "cell_type": "code",
      "metadata": {
        "id": "lx5BHmXw6D6R"
      },
      "source": [
        "#@title Funções auxiliares\n",
        "\n",
        "from random import randint, seed\n",
        "\n",
        "def sequence(zero_to , n):\t\n",
        "  return [randint(0, zero_to) for _ in range(n)]\n",
        "\n",
        "def backsequence(seq):\n",
        "  return seq[::-1]\n",
        "\n",
        "def one_hot_encode(data, max_lenght):\n",
        "  new_data = list()\n",
        "  for x in data:\n",
        "    hot = [0]*(max_lenght)\n",
        "    hot[x] = 1\n",
        "    new_data.append(hot)\n",
        "\n",
        "  return new_data\n",
        "\n",
        "def one_hot_decode(data):\n",
        "  return [np.argmax(x) for x in data]\n",
        "\n",
        "\n",
        "def create_dataset(train_size, test_size, time_steps, vocabulary_size):\n",
        "  x = [sequence(vocabulary_size - 1 , time_steps) for _ in range(train_size)]\n",
        "  y = [backsequence(y) for y in x]\n",
        "  X_train = np.array([one_hot_encode(x, vocabulary_size) for x in x])\n",
        "  Y_train = np.array([one_hot_encode(y, vocabulary_size) for y in y])\n",
        "  \n",
        "  x = [sequence(vocabulary_size - 1 , time_steps) for _ in range(test_size)]\n",
        "  y = [backsequence(y) for y in x]\n",
        "  X_test = np.array([one_hot_encode(x, vocabulary_size) for x in x])\n",
        "  Y_test = np.array([one_hot_encode(y, vocabulary_size) for y in y])\n",
        "\n",
        "  return X_train, Y_train, X_test, \tY_test\n",
        "\n",
        "def plot(p):\n",
        "\tplt.plot(p.history['accuracy'])\n",
        "\tplt.plot(p.history['val_accuracy'])\n",
        "\tplt.title('accuracy')\n",
        "\tplt.ylabel('accuracy')\n",
        "\tplt.xlabel('epoch')\n",
        "\tplt.legend(['train', 'val'], loc='upper left')\n",
        "\tplt.show()\n",
        " \n",
        "\tplt.plot(p.history['loss'])\n",
        "\tplt.plot(p.history['val_loss'])\n",
        "\tplt.title('loss')\n",
        "\tplt.ylabel('loss')\n",
        "\tplt.xlabel('epoch')\n",
        "\tplt.legend(['train', 'val'], loc='upper left')\n",
        "\tplt.show()"
      ],
      "execution_count": 308,
      "outputs": []
    },
    {
      "cell_type": "markdown",
      "metadata": {
        "id": "J-88GFwW3cBa"
      },
      "source": [
        "## Exemplo 1.1: Artificial neural network\n",
        "\n",
        "Conforme o exemplo da sequência $x_1=[1,2,3]$ e $y=[3,2,1]$, exploramos estes dados com uma rede neural *feedfoward* para avaliar sua resposta."
      ]
    },
    {
      "cell_type": "markdown",
      "metadata": {
        "id": "IWCVsWc4Jus6"
      },
      "source": [
        "### Criando o dataset"
      ]
    },
    {
      "cell_type": "code",
      "metadata": {
        "id": "MaJWxyQ-3bb0"
      },
      "source": [
        "# Dados em one-hot-encode\n",
        "X_train, Y_train, X_test, Y_test = create_dataset(train_size=20000, test_size=200, time_steps=5, vocabulary_size=10)\n",
        "\n",
        "print(f'Amostra 1:\\n\\\n",
        "x = {one_hot_decode(X_train[0])}\\n \\\n",
        "one_hot_encode do x:\\n \\\n",
        "{X_train[0]}\\n\\n \\\n",
        "y = {one_hot_decode(Y_train[0])}\\n \\\n",
        "one_hot_encode do y:\\n \\\n",
        "{Y_train[0]}')"
      ],
      "execution_count": null,
      "outputs": []
    },
    {
      "cell_type": "markdown",
      "metadata": {
        "id": "4MItf7-ycatD"
      },
      "source": [
        "### Modelo"
      ]
    },
    {
      "cell_type": "code",
      "metadata": {
        "colab": {
          "base_uri": "https://localhost:8080/",
          "height": 995
        },
        "id": "MCEt6XynNfIL",
        "outputId": "dca4a851-5307-4aad-fc4f-1b00ba41e9ea"
      },
      "source": [
        "from tensorflow import keras\n",
        "from keras import layers\n",
        "import matplotlib.pyplot as plt\n",
        "\n",
        "VOCAB_SIZE = 10\n",
        "TIME_STEPS = 5\n",
        "\n",
        "# Modelo RNA feedfoward\n",
        "modelo = keras.Sequential(\n",
        "    [\n",
        "     keras.Input(shape=(TIME_STEPS ,VOCAB_SIZE), name=\"Input\"),\n",
        "     layers.Dense(32, activation='sigmoid'),\n",
        "     layers.BatchNormalization(),\n",
        "     layers.Dense(64, activation='sigmoid'),\n",
        "     layers.BatchNormalization(),\n",
        "     layers.Dense(10, activation= \"softmax\")\n",
        "    ]\n",
        ")\n",
        "\n",
        "modelo.summary()\n",
        "\n",
        "# Treinando modelo\n",
        "modelo.compile(optimizer='adam', metrics=['accuracy'], loss= keras.losses.categorical_crossentropy)\n",
        "hist = modelo.fit(x = X_train,\n",
        "                  y = Y_train,\n",
        "                  validation_split=0.2,\n",
        "                  batch_size = 1000,\n",
        "                  epochs=200,\n",
        "                  callbacks=keras.callbacks.EarlyStopping('loss', patience=10),\n",
        "                  verbose=0)\n",
        "\n",
        "# Grafico\n",
        "plot(hist)\n",
        "\n",
        "# Previsões\n",
        "y_hat = modelo(X_test[0:10])\n",
        "\n",
        "\n",
        "x = [one_hot_decode(y) for y in X_test[0:10] ]\n",
        "y_hat_num = [[np.argmax(y) for y in k] for k in y_hat]\n",
        "y = [one_hot_decode(y) for y in Y_test[0:10] ]\n",
        "\n",
        "print(\"--Algumas previsões---\")\n",
        "print(f'x:\\n{x}\\ny_hat:\\n{y_hat_num}\\ny:\\n{y}')\n",
        "\n",
        "keras.backend.clear_session()"
      ],
      "execution_count": 671,
      "outputs": [
        {
          "output_type": "stream",
          "text": [
            "Model: \"sequential\"\n",
            "_________________________________________________________________\n",
            "Layer (type)                 Output Shape              Param #   \n",
            "=================================================================\n",
            "dense (Dense)                (None, 5, 32)             352       \n",
            "_________________________________________________________________\n",
            "batch_normalization (BatchNo (None, 5, 32)             128       \n",
            "_________________________________________________________________\n",
            "dense_1 (Dense)              (None, 5, 64)             2112      \n",
            "_________________________________________________________________\n",
            "batch_normalization_1 (Batch (None, 5, 64)             256       \n",
            "_________________________________________________________________\n",
            "dense_2 (Dense)              (None, 5, 10)             650       \n",
            "=================================================================\n",
            "Total params: 3,498\n",
            "Trainable params: 3,306\n",
            "Non-trainable params: 192\n",
            "_________________________________________________________________\n"
          ],
          "name": "stdout"
        },
        {
          "output_type": "display_data",
          "data": {
            "image/png": "[encoded data removed]",
            "text/plain": [
              "<Figure size 432x288 with 1 Axes>"
            ]
          },
          "metadata": {
            "tags": [],
            "needs_background": "light"
          }
        },
        {
          "output_type": "display_data",
          "data": {
            "image/png": "[encoded data removed]",
            "text/plain": [
              "<Figure size 432x288 with 1 Axes>"
            ]
          },
          "metadata": {
            "tags": [],
            "needs_background": "light"
          }
        },
        {
          "output_type": "stream",
          "text": [
            "--Algumas previsões---\n",
            "x:\n",
            "[[0, 5, 8, 9, 0], [4, 7, 7, 4, 0], [6, 9, 6, 7, 5], [7, 5, 3, 7, 5], [7, 1, 6, 1, 2], [3, 3, 6, 8, 2], [3, 7, 5, 1, 4], [6, 2, 2, 5, 4], [2, 3, 2, 5, 8], [3, 9, 6, 0, 7]]\n",
            "y_hat:\n",
            "[[1, 1, 1, 1, 1], [1, 1, 1, 1, 1], [1, 1, 1, 1, 1], [1, 1, 1, 1, 1], [1, 1, 1, 1, 1], [1, 1, 1, 1, 1], [1, 1, 1, 1, 1], [1, 1, 1, 1, 1], [1, 1, 1, 1, 1], [1, 1, 1, 1, 1]]\n",
            "y:\n",
            "[[0, 9, 8, 5, 0], [0, 4, 7, 7, 4], [5, 7, 6, 9, 6], [5, 7, 3, 5, 7], [2, 1, 6, 1, 7], [2, 8, 6, 3, 3], [4, 1, 5, 7, 3], [4, 5, 2, 2, 6], [8, 5, 2, 3, 2], [7, 0, 6, 9, 3]]\n"
          ],
          "name": "stdout"
        }
      ]
    },
    {
      "cell_type": "markdown",
      "metadata": {
        "id": "GjkGqpXTb__R"
      },
      "source": [
        "## Exemplo 1.2: RNN\n",
        "\n",
        "Agora, o exemplo vai ser aplicado com uma RNN para avaliar sua capacidade."
      ]
    },
    {
      "cell_type": "markdown",
      "metadata": {
        "id": "bFKHpePMc1vm"
      },
      "source": [
        "### Modelo"
      ]
    },
    {
      "cell_type": "code",
      "metadata": {
        "id": "SiOx0WCOcyA_"
      },
      "source": [
        "from tensorflow import keras\n",
        "from keras import layers\n",
        "\n",
        "VOCAB_SIZE = 10\n",
        "TIME_STEPS = 5\n",
        "\n",
        "# Modelo RNN\n",
        "modelo = keras.Sequential(\n",
        "    [\n",
        "     keras.Input(shape=(TIME_STEPS, VOCAB_SIZE), name=\"Input\"),\n",
        "     # Output do RNN é o ultimo valor da sequencia\n",
        "     layers.SimpleRNN(16),\n",
        "     # Replica o valor do output TIME_STEPS vezes\n",
        "     layers.RepeatVector(TIME_STEPS),\n",
        "     layers.Dense(VOCAB_SIZE, activation= \"softmax\")\n",
        "    ]\n",
        ")\n",
        "\n",
        "modelo.summary()\n",
        "\n",
        "# Treinando modelo\n",
        "modelo.compile(optimizer='adam', metrics=['accuracy'], loss= keras.losses.categorical_crossentropy)\n",
        "hist = modelo.fit(x = X_train,\n",
        "                  y = Y_train,\n",
        "                  validation_split=0.2,\n",
        "                  batch_size = 1000,\n",
        "                  epochs=200,\n",
        "                  callbacks=keras.callbacks.EarlyStopping('loss', patience=10),\n",
        "                  verbose=0)\n",
        "\n",
        "# Grafico\n",
        "plot(hist)\n",
        "\n",
        "# Previsões\n",
        "y_hat = modelo(X_test[0:10])\n",
        "\n",
        "\n",
        "x = [one_hot_decode(y) for y in X_test[0:10] ]\n",
        "y_hat_num = [[np.argmax(y) for y in k] for k in y_hat]\n",
        "y = [one_hot_decode(y) for y in Y_test[0:10] ]\n",
        "\n",
        "print(\"--Algumas previsões---\")\n",
        "print(f'x:\\n{x}\\ny_hat:\\n{y_hat_num}\\ny:\\n{y}')\n",
        "\n",
        "keras.backend.clear_session()"
      ],
      "execution_count": null,
      "outputs": []
    },
    {
      "cell_type": "markdown",
      "metadata": {
        "id": "Iq5niDHhplh9"
      },
      "source": [
        "### Diferentes tamanhos de células de RNN"
      ]
    },
    {
      "cell_type": "code",
      "metadata": {
        "id": "eZMEuRp-h1A2"
      },
      "source": [
        "#@title Funções auxiliares\n",
        "def rnn_model(unn):\n",
        "  modelo = keras.Sequential(\n",
        "      [\n",
        "       keras.Input(shape=(TIME_STEPS, VOCAB_SIZE), name=\"Input\"),\n",
        "       # Output do RNN é o ultimo valor da sequencia\n",
        "       layers.SimpleRNN(unn),\n",
        "       # Replica o valor do output TIME_STEPS vezes\n",
        "       layers.RepeatVector(TIME_STEPS),\n",
        "       layers.Dense(VOCAB_SIZE, activation= \"softmax\")\n",
        "     ]\n",
        "    )\n",
        "  modelo.compile(optimizer='adam', metrics=['accuracy'],\n",
        "                 loss= keras.losses.categorical_crossentropy)\n",
        "  hist = modelo.fit(x = X_train,\n",
        "                  y = Y_train,\n",
        "                  validation_split=0.2,\n",
        "                  batch_size = 1000,\n",
        "                  epochs=200,\n",
        "                  callbacks=keras.callbacks.EarlyStopping('loss', patience=10),\n",
        "                  verbose=0)\n",
        "\n",
        "  # Previsões\n",
        "  y_hat = modelo(X_test[0:10])\n",
        "  y_hat_v = modelo.evaluate(X_test, Y_test, verbose=0)\n",
        "\n",
        "  x = [one_hot_decode(y) for y in X_test[0:10] ]\n",
        "  y_hat_num = [[np.argmax(y) for y in k] for k in y_hat]\n",
        "  y = [one_hot_decode(y) for y in Y_test[0:10] ]\n",
        "\n",
        "  print(f\"Acurácia: {round(y_hat_v[1],2)}\")\n",
        "  print(\"--Algumas previsões---\")\n",
        "  print(f'x:\\n{x}\\ny_hat:\\n{y_hat_num}\\ny:\\n{y}')\n",
        "  keras.backend.clear_session()\n"
      ],
      "execution_count": 675,
      "outputs": []
    },
    {
      "cell_type": "code",
      "metadata": {
        "colab": {
          "base_uri": "https://localhost:8080/"
        },
        "id": "JSWx8sOAp-Wf",
        "outputId": "bb4c6f85-c647-44f8-e235-009ea09ee1b7"
      },
      "source": [
        "## Unidades de RNN\n",
        "for u in [2,4,16]:\n",
        "  print(f'Unidades de RNN: {u}')\n",
        "  rnn_model(u)\n",
        "  print('\\n\\n')"
      ],
      "execution_count": 676,
      "outputs": [
        {
          "output_type": "stream",
          "text": [
            "Unidades de RNN: 2\n",
            "Acurácia: 0.21\n",
            "--Algumas previsões---\n",
            "x:\n",
            "[[0, 5, 8, 9, 0], [4, 7, 7, 4, 0], [6, 9, 6, 7, 5], [7, 5, 3, 7, 5], [7, 1, 6, 1, 2], [3, 3, 6, 8, 2], [3, 7, 5, 1, 4], [6, 2, 2, 5, 4], [2, 3, 2, 5, 8], [3, 9, 6, 0, 7]]\n",
            "y_hat:\n",
            "[[3, 3, 3, 3, 3], [6, 6, 6, 6, 6], [6, 6, 6, 6, 6], [3, 3, 3, 3, 3], [1, 1, 1, 1, 1], [3, 3, 3, 3, 3], [1, 1, 1, 1, 1], [1, 1, 1, 1, 1], [2, 2, 2, 2, 2], [8, 8, 8, 8, 8]]\n",
            "y:\n",
            "[[0, 9, 8, 5, 0], [0, 4, 7, 7, 4], [5, 7, 6, 9, 6], [5, 7, 3, 5, 7], [2, 1, 6, 1, 7], [2, 8, 6, 3, 3], [4, 1, 5, 7, 3], [4, 5, 2, 2, 6], [8, 5, 2, 3, 2], [7, 0, 6, 9, 3]]\n",
            "\n",
            "\n",
            "\n",
            "Unidades de RNN: 4\n",
            "Acurácia: 0.29\n",
            "--Algumas previsões---\n",
            "x:\n",
            "[[0, 5, 8, 9, 0], [4, 7, 7, 4, 0], [6, 9, 6, 7, 5], [7, 5, 3, 7, 5], [7, 1, 6, 1, 2], [3, 3, 6, 8, 2], [3, 7, 5, 1, 4], [6, 2, 2, 5, 4], [2, 3, 2, 5, 8], [3, 9, 6, 0, 7]]\n",
            "y_hat:\n",
            "[[5, 5, 5, 5, 5], [4, 4, 4, 4, 4], [9, 9, 9, 9, 9], [0, 0, 0, 0, 0], [1, 1, 1, 1, 1], [8, 8, 8, 8, 8], [3, 3, 3, 3, 3], [5, 5, 5, 5, 5], [2, 2, 2, 2, 2], [7, 7, 7, 7, 7]]\n",
            "y:\n",
            "[[0, 9, 8, 5, 0], [0, 4, 7, 7, 4], [5, 7, 6, 9, 6], [5, 7, 3, 5, 7], [2, 1, 6, 1, 7], [2, 8, 6, 3, 3], [4, 1, 5, 7, 3], [4, 5, 2, 2, 6], [8, 5, 2, 3, 2], [7, 0, 6, 9, 3]]\n",
            "\n",
            "\n",
            "\n",
            "Unidades de RNN: 16\n",
            "Acurácia: 0.34\n",
            "--Algumas previsões---\n",
            "x:\n",
            "[[0, 5, 8, 9, 0], [4, 7, 7, 4, 0], [6, 9, 6, 7, 5], [7, 5, 3, 7, 5], [7, 1, 6, 1, 2], [3, 3, 6, 8, 2], [3, 7, 5, 1, 4], [6, 2, 2, 5, 4], [2, 3, 2, 5, 8], [3, 9, 6, 0, 7]]\n",
            "y_hat:\n",
            "[[0, 0, 0, 0, 0], [4, 4, 4, 4, 4], [6, 6, 6, 6, 6], [5, 5, 5, 5, 5], [1, 1, 1, 1, 1], [3, 3, 3, 3, 3], [3, 3, 3, 3, 3], [2, 2, 2, 2, 2], [2, 2, 2, 2, 2], [3, 3, 3, 3, 3]]\n",
            "y:\n",
            "[[0, 9, 8, 5, 0], [0, 4, 7, 7, 4], [5, 7, 6, 9, 6], [5, 7, 3, 5, 7], [2, 1, 6, 1, 7], [2, 8, 6, 3, 3], [4, 1, 5, 7, 3], [4, 5, 2, 2, 6], [8, 5, 2, 3, 2], [7, 0, 6, 9, 3]]\n",
            "\n",
            "\n",
            "\n"
          ],
          "name": "stdout"
        }
      ]
    },
    {
      "cell_type": "markdown",
      "metadata": {
        "id": "qQhwSfMhqpVm"
      },
      "source": [
        "# Aplicações com RNN"
      ]
    },
    {
      "cell_type": "markdown",
      "metadata": {
        "id": "zk7F6x-GrFpU"
      },
      "source": [
        "Assim como foi visto"
      ]
    },
    {
      "cell_type": "code",
      "metadata": {
        "cellView": "form",
        "id": "N6WT2upL3RaF"
      },
      "source": [
        "#@title Funções Auxiliares\n",
        "\n",
        "def one_hot_decode(data):\n",
        "  return [np.argmax(x) for x in data]\n",
        "\n",
        "def plot(p):\n",
        "\tplt.plot(p.history['accuracy'])\n",
        "\tplt.plot(p.history['val_accuracy'])\n",
        "\tplt.title('accuracy')\n",
        "\tplt.ylabel('accuracy')\n",
        "\tplt.xlabel('epoch')\n",
        "\tplt.legend(['train', 'val'], loc='upper left')\n",
        "\tplt.show()\n",
        " \n",
        "\tplt.plot(p.history['loss'])\n",
        "\tplt.plot(p.history['val_loss'])\n",
        "\tplt.title('loss')\n",
        "\tplt.ylabel('loss')\n",
        "\tplt.xlabel('epoch')\n",
        "\tplt.legend(['train', 'val'], loc='upper left')\n",
        "\tplt.show()\n",
        " \n",
        "def one_hot_encode_K(data, max_lenght):\n",
        "  new_data = list()\n",
        "  for x in data:\n",
        "    hot = [0]*(max_lenght)\n",
        "    hot[x-1] = 1\n",
        "    new_data.append(hot)\n",
        "  return new_data\n",
        "\n",
        "def one_hot_encode(data, max_lenght):\n",
        "  new_data = list()\n",
        "  for x in data:\n",
        "    hot = [0]*(max_lenght)\n",
        "    hot[x] = 1\n",
        "    new_data.append(hot)\n",
        "  return new_data\n",
        "\n",
        "class Tokenizer_text():\n",
        "  def __init__(self):\n",
        "    self.regex = \"[\\'\\n\\t\\d\\\\!\\\"\\#\\$\\%\\&\\(\\)\\*\\+,-./:;<=>\\?@\\[\\]\\^_`\\{\\|\\}~]\"\n",
        "\n",
        "  def treat_text(self, text, regex = None):\n",
        "    if regex:\n",
        "      self.regex = regex\n",
        "    \n",
        "    return re.sub(self.regex, '', unidecode(text).lower())\n",
        "  \n",
        "  def treat_data(self, data, max_vocab = 0, regex = None):\n",
        "    if regex:\n",
        "      self.regex = regex\n",
        "      \n",
        "\n",
        "    treat = [self.treat_text(m) for m in data]\n",
        "    \n",
        "    join = ' '.join(treat)\n",
        "    vocab = set(join.split())\n",
        "\n",
        "    if (max_vocab==0):\n",
        "      max_vocab = vocab\n",
        "\n",
        "    elif len(vocab) <= max_vocab:\n",
        "      self.vocab = sorted(vocab)\n",
        "      self.dic = {u:(i+1) for i, u in enumerate(self.vocab)}\n",
        "      idx_data = self.text2idx(treat)\n",
        "      return idx_data\n",
        "\n",
        "    new_vocab = ['<OAV>'] + sorted(sample(vocab, max_vocab-1))\n",
        "    vocab = vocab - set(new_vocab)\n",
        "\n",
        "    self.vocab = new_vocab\n",
        "    self.dic = {u:i for i, u in enumerate(self.vocab)}\n",
        "    self.dic['<OAV>'] = 0\n",
        "\n",
        "   # text_data = [d.split(' ') for d in treat]\n",
        "    idx_data = self.text2idx(treat)\n",
        "\n",
        "    return idx_data\n",
        "\n",
        "  def idx2text(self, idex):\n",
        "    return [self.vocab[x] for x in idex]\n",
        "\n",
        "  def text2idx(self, text):\n",
        "    return [list(map(lambda x: self.dic[x] if x in self.dic else 0 , u.split(' '))) for u in text]\n",
        "\n",
        "  def for_idx_data2_text(self, data):\n",
        "    return [self.idx2text(x) for x in data]\n"
      ],
      "execution_count": 4,
      "outputs": []
    },
    {
      "cell_type": "code",
      "metadata": {
        "id": "LqnJPUzMrbNx",
        "colab": {
          "base_uri": "https://localhost:8080/"
        },
        "cellView": "form",
        "outputId": "775255e3-6fa1-467b-8b73-d6c7d1684a8e"
      },
      "source": [
        "#@title Bibliotecas\n",
        "import pandas as pd\n",
        "import numpy as np\n",
        "import tensorflow as tf\n",
        "\n",
        "from tensorflow import keras\n",
        "from tensorflow.keras import layers\n",
        "\n",
        "from keras.preprocessing.text import Tokenizer\n",
        "from keras.preprocessing.sequence import pad_sequences\n",
        "\n",
        "from sklearn.model_selection import train_test_split\n",
        "\n",
        "from matplotlib import pyplot as plt\n",
        "from random import sample\n",
        "\n",
        "import os\n",
        "import time\n",
        "import re\n",
        "\n",
        "!pip install unidecode\n",
        "from unidecode import unidecode\n",
        "\n",
        "tf.config.list_physical_devices('GPU')"
      ],
      "execution_count": 5,
      "outputs": [
        {
          "output_type": "stream",
          "text": [
            "Requirement already satisfied: unidecode in /usr/local/lib/python3.7/dist-packages (1.2.0)\n"
          ],
          "name": "stdout"
        },
        {
          "output_type": "execute_result",
          "data": {
            "text/plain": [
              "[PhysicalDevice(name='/physical_device:GPU:0', device_type='GPU')]"
            ]
          },
          "metadata": {
            "tags": []
          },
          "execution_count": 5
        }
      ]
    },
    {
      "cell_type": "markdown",
      "metadata": {
        "id": "Q-bCz5eclRam"
      },
      "source": [
        "## Tratamento de dados"
      ]
    },
    {
      "cell_type": "code",
      "metadata": {
        "id": "LAfxkvsat4A0",
        "colab": {
          "base_uri": "https://localhost:8080/"
        },
        "cellView": "form",
        "outputId": "9210e602-622c-4582-e2ec-74aed7260de5"
      },
      "source": [
        "#@title Baixando os dados\n",
        "# Baixar dataset\n",
        "!gdown --id 15FhPHu7Hx6ul_k-EEBZwzpUWznK0gBR3\n",
        "\n",
        "!gdown --id 1Eq9oi3_1PuSZ5hoZS5M1A5pTMSyy3K_a\n",
        "\n",
        "!gdown --id 1uqM4Mc2kynrFZQaDMpnfFOuYa0vw3vhn\n"
      ],
      "execution_count": 35,
      "outputs": [
        {
          "output_type": "stream",
          "text": [
            "Downloading...\n",
            "From: https://drive.google.com/uc?id=15FhPHu7Hx6ul_k-EEBZwzpUWznK0gBR3\n",
            "To: /content/portuguese-poems.csv\n",
            "13.3MB [00:00, 50.1MB/s]\n"
          ],
          "name": "stdout"
        }
      ]
    },
    {
      "cell_type": "code",
      "metadata": {
        "id": "rlafdjkFuxw4",
        "cellView": "form"
      },
      "source": [
        "#@title Dados\n",
        "# Data1\n",
        "poem_data = pd.read_csv(\"portuguese-poems.csv\", encoding='UTF-8')\n",
        "\n",
        "# Data2\n",
        "cript_data = pd.read_csv(\"Ethereum Historical Data.csv\", encoding='UTF-8')\n",
        "\n",
        "# Data3\n",
        "materias_data = pd.read_csv(\"Historico_de_materias.csv\", encoding='UTF-8')\n",
        "\n",
        "poem_data = poem_data.dropna()\n",
        "cript_data = cript_data.dropna()\n",
        "materias_data = materias_data.dropna()"
      ],
      "execution_count": 36,
      "outputs": []
    },
    {
      "cell_type": "markdown",
      "metadata": {
        "id": "GDMOUkDvp1Yy"
      },
      "source": [
        "### Tratamento portuguese-poems.csv"
      ]
    },
    {
      "cell_type": "code",
      "metadata": {
        "colab": {
          "base_uri": "https://localhost:8080/",
          "height": 202
        },
        "cellView": "form",
        "id": "KfLrdY6Rr02i",
        "outputId": "8003da85-93c9-4fb4-c380-6d4dc652f943"
      },
      "source": [
        "#@title Dados(poem_data): portuguese-poems.csv\n",
        "poem_data.head()"
      ],
      "execution_count": 37,
      "outputs": [
        {
          "output_type": "execute_result",
          "data": {
            "text/html": [
              "<div>\n",
              "<style scoped>\n",
              "    .dataframe tbody tr th:only-of-type {\n",
              "        vertical-align: middle;\n",
              "    }\n",
              "\n",
              "    .dataframe tbody tr th {\n",
              "        vertical-align: top;\n",
              "    }\n",
              "\n",
              "    .dataframe thead th {\n",
              "        text-align: right;\n",
              "    }\n",
              "</style>\n",
              "<table border=\"1\" class=\"dataframe\">\n",
              "  <thead>\n",
              "    <tr style=\"text-align: right;\">\n",
              "      <th></th>\n",
              "      <th>Author</th>\n",
              "      <th>Title</th>\n",
              "      <th>Content</th>\n",
              "      <th>Views</th>\n",
              "    </tr>\n",
              "  </thead>\n",
              "  <tbody>\n",
              "    <tr>\n",
              "      <th>0</th>\n",
              "      <td>Cecília Meireles</td>\n",
              "      <td>Retrato</td>\n",
              "      <td>Eu não tinha este rosto de hoje,\\r\\nAssim calm...</td>\n",
              "      <td>1018431</td>\n",
              "    </tr>\n",
              "    <tr>\n",
              "      <th>1</th>\n",
              "      <td>Fernando Pessoa</td>\n",
              "      <td>Para ser grande, sê inteiro: nada</td>\n",
              "      <td>Para ser grande, sê inteiro: nada\\r\\nTeu exage...</td>\n",
              "      <td>1979413</td>\n",
              "    </tr>\n",
              "    <tr>\n",
              "      <th>2</th>\n",
              "      <td>Marina Colasanti</td>\n",
              "      <td>Eu sei, mas não devia</td>\n",
              "      <td>Eu sei que a gente se acostuma. Mas não devia....</td>\n",
              "      <td>301509</td>\n",
              "    </tr>\n",
              "    <tr>\n",
              "      <th>3</th>\n",
              "      <td>Carlos Drummond de Andrade</td>\n",
              "      <td>Quadrilha</td>\n",
              "      <td>João amava Teresa que amava Raimundo\\r\\nque am...</td>\n",
              "      <td>1421206</td>\n",
              "    </tr>\n",
              "    <tr>\n",
              "      <th>4</th>\n",
              "      <td>Eugénio de Andrade</td>\n",
              "      <td>É urgente o amor</td>\n",
              "      <td>É urgente o amor.\\r\\nÉ urgente um barco no mar...</td>\n",
              "      <td>621197</td>\n",
              "    </tr>\n",
              "  </tbody>\n",
              "</table>\n",
              "</div>"
            ],
            "text/plain": [
              "                       Author  ...    Views\n",
              "0            Cecília Meireles  ...  1018431\n",
              "1             Fernando Pessoa  ...  1979413\n",
              "2            Marina Colasanti  ...   301509\n",
              "3  Carlos Drummond de Andrade  ...  1421206\n",
              "4          Eugénio de Andrade  ...   621197\n",
              "\n",
              "[5 rows x 4 columns]"
            ]
          },
          "metadata": {
            "tags": []
          },
          "execution_count": 37
        }
      ]
    },
    {
      "cell_type": "code",
      "metadata": {
        "colab": {
          "base_uri": "https://localhost:8080/"
        },
        "id": "C7GFpA5Tp1Y8",
        "outputId": "8c8a177c-67a0-46f4-80ca-935cfe41f7e2"
      },
      "source": [
        "poem_data\n",
        "### Noticias dados\n",
        "materias_data.shape\n",
        "# Quantos assuntos\n",
        "len(materias_data['assunto'].unique())\n",
        "\n",
        "# Assuntos\n",
        "assuntos_tokenizer = Tokenizer(char_level=False, lower=True)\n",
        "assuntos_tokenizer.fit_on_texts(materias_data['assunto'])\n",
        "\n",
        "dictionary_Encoder = assuntos_tokenizer.word_index\n",
        "\n",
        "assuntos_tk = assuntos_tokenizer.texts_to_sequences(materias_data['assunto'][0:1])\n",
        "assuntos_tx = assuntos_tokenizer.sequences_to_texts(assuntos_tk)\n",
        "\n",
        "print(dictionary_Encoder)\n",
        "print(f'O input: {materias_data[\"assunto\"][0]}')\n",
        "print(f'O Token do input: {assuntos_tk}')\n",
        "print(f'O decode do Token do input: {assuntos_tx}')\n",
        "\n",
        "n = len(dictionary_Encoder)\n",
        "\n",
        "assuntos_tk = assuntos_tokenizer.texts_to_sequences(materias_data['assunto'])\n",
        "assuntos_tk = np.array(assuntos_tk)\n",
        "assuntos_tk = assuntos_tk.squeeze()\n",
        "\n",
        "hot_assuntos = np.array(one_hot_encode_K(assuntos_tk, n))\n",
        "\n",
        "hot_assuntos.shape\n",
        "\n",
        "print('\\n')\n",
        "\n",
        "# Titulo\n",
        "\n",
        "materias_data['titulo'].shape\n",
        "\n",
        "titulo_tokenizer = Tokenizer_text()\n",
        "titulos_tk = titulo_tokenizer.treat_data(materias_data['titulo'], max_vocab = 3000)\n",
        "\n",
        "\n",
        "dictionary_Encoder = titulo_tokenizer.dic\n",
        "len(dictionary_Encoder)\n",
        "\n",
        "titulo_tx = titulo_tokenizer.idx2text(titulos_tk[0])\n",
        "\n",
        "\n",
        "print(dictionary_Encoder)\n",
        "print(f'O input: {materias_data[\"titulo\"][0]}')\n",
        "print(f'O Token do input: {titulos_tk[0]}')\n",
        "print(f'O decode do Token do input: {titulo_tx}')\n",
        "\n",
        "n = len(dictionary_Encoder)\n",
        "\n",
        "\n",
        "hot_titulos = np.array([np.array(one_hot_encode(x, n)) for x in titulos_tk ])"
      ],
      "execution_count": null,
      "outputs": [
        {
          "output_type": "stream",
          "text": [
            "{'esportes': 1, 'economia': 2, 'politica': 3, 'tecnologia': 4, 'famosos': 5}\n",
            "O input: economia\n",
            "O Token do input: [[2]]\n",
            "O decode do Token do input: ['economia']\n",
            "\n",
            "\n",
            "{'<OAV>': 0, 'abaixo': 1, 'abalado': 2, 'abastecer': 3, 'abatido': 4, 'abdiquei': 5, 'aberta': 6, 'aberto': 7, 'abertos': 8, 'abertura': 9, 'abono': 10, 'abortar': 11, 'abpa': 12, 'abracadinha': 13, 'abriga': 14, 'absolutos': 15, 'abstencao': 16, 'abusa': 17, 'abutres': 18, 'acabaria': 19, 'acabe': 20, 'acabo': 21, 'access': 22, 'acende': 23, 'acessaram': 24, 'acesso': 25, 'acham': 26, 'acho': 27, 'acirra': 28, 'acirrar': 29, 'aciv': 30, 'aclamacao': 31, 'acoes': 32, 'acontecem': 33, 'acontecendo': 34, 'acontecer': 35, 'aconteceu': 36, 'acordo': 37, 'acostumados': 38, 'acougueiro': 39, 'acreditamos': 40, 'acrescentar': 41, 'acumularam': 42, 'acusar': 43, 'adel': 44, 'adelaide': 45, 'adere': 46, 'aderiram': 47, 'adiar': 48, 'adicionados': 49, 'adicionar': 50, 'adidas': 51, 'adivinhar': 52, 'administra': 53, 'administrador': 54, 'admiraveis': 55, 'adrenalina': 56, 'adrian': 57, 'adutor': 58, 'adversarios': 59, 'aecio': 60, 'aerohonda': 61, 'afagam': 62, 'afastado': 63, 'afeta': 64, 'afetado': 65, 'afetados': 66, 'afirma': 67, 'aflicao': 68, 'aflitos': 69, 'afonso': 70, 'afronta': 71, 'agatha': 72, 'agathaduda': 73, 'agencia': 74, 'agencias': 75, 'agendada': 76, 'agilizar': 77, 'agitado': 78, 'agitam': 79, 'agradecimento': 80, 'agredidos': 81, 'agressao': 82, 'agressiva': 83, 'agressoes': 84, 'agu': 85, 'aguardam': 86, 'aguero': 87, 'aguilar': 88, 'aguirre': 89, 'ajoelha': 90, 'ajuiza': 91, 'akim': 92, 'ala': 93, 'alagoas': 94, 'alas': 95, 'alcanca': 96, 'alckmin': 97, 'aldo': 98, 'aleatorio': 99, 'alem': 100, 'alemanha': 101, 'alemao': 102, 'alexandre': 103, 'alfarroba': 104, 'alfineta': 105, 'alguns': 106, 'alias': 107, 'alisson': 108, 'almeida': 109, 'almoca': 110, 'aloizio': 111, 'alok': 112, 'alonso': 113, 'alpargatas': 114, 'alta': 115, 'alucinante': 116, 'aluguel': 117, 'aluminio': 118, 'alusao': 119, 'alvarez': 120, 'alvoroco': 121, 'alvos': 122, 'amadeu': 123, 'amado': 124, 'amadurecimento': 125, 'amapaenses': 126, 'amarela': 127, 'amarelos': 128, 'amargo': 129, 'amarilla': 130, 'amassa': 131, 'amassar': 132, 'amazon': 133, 'ambicao': 134, 'ambiental': 135, 'ambientalistas': 136, 'ambiente': 137, 'ambulancia': 138, 'ameaca': 139, 'ameacada': 140, 'ameacado': 141, 'ameacar': 142, 'amedronta': 143, 'america': 144, 'american': 145, 'amigo': 146, 'amor': 147, 'amoroso': 148, 'amplia': 149, 'ampliam': 150, 'ampliar': 151, 'amuleto': 152, 'anabolizantes': 153, 'analisados': 154, 'analisar': 155, 'anao': 156, 'andre': 157, 'angelina': 158, 'angustia': 159, 'anjos': 160, 'anonimas': 161, 'anselmo': 162, 'ansiedade': 163, 'antecipado': 164, 'antecipar': 165, 'antecipou': 166, 'anticorrupcao': 167, 'antidoping': 168, 'antigos': 169, 'antirronco': 170, 'antony': 171, 'antt': 172, 'antunes': 173, 'anuais': 174, 'anuencia': 175, 'anular': 176, 'anunciam': 177, 'anunciantes': 178, 'anuncio': 179, 'anvisa': 180, 'ap': 181, 'apaga': 182, 'apagava': 183, 'apaixonada': 184, 'apegada': 185, 'apenas': 186, 'apendicite': 187, 'aperitivo': 188, 'apice': 189, 'apitar': 190, 'aplausos': 191, 'aplicativo': 192, 'apoiadores': 193, 'apoiar': 194, 'apoiara': 195, 'apontando': 196, 'aposentadoria': 197, 'aposentadorias': 198, 'aposentados': 199, 'aposentando': 200, 'aposta': 201, 'aposte': 202, 'apple': 203, 'apreciado': 204, 'apreensao': 205, 'aprender': 206, 'apresentacao': 207, 'apresentarem': 208, 'aprimorar': 209, 'aproveitamento': 210, 'aptas': 211, 'apurar': 212, 'aquecido': 213, 'aquela': 214, 'aquino': 215, 'arancam': 216, 'aras': 217, 'arbitro': 218, 'areia': 219, 'arestas': 220, 'argelia': 221, 'armador': 222, 'armazenamento': 223, 'armazens': 224, 'arouca': 225, 'arquiteto': 226, 'arquivados': 227, 'arquivar': 228, 'arranca': 229, 'arrase': 230, 'arrastar': 231, 'arrecada': 232, 'arrecadar': 233, 'arrematada': 234, 'arrependimento': 235, 'arritmia': 236, 'arte': 237, 'articulam': 238, 'artificial': 239, 'artistica': 240, 'artisticos': 241, 'arvore': 242, 'ascensao': 243, 'asiaticas': 244, 'asing': 245, 'aspas': 246, 'assaltado': 247, 'assedio': 248, 'assegurar': 249, 'assembleia': 250, 'assessores': 251, 'assis': 252, 'assiste': 253, 'associcao': 254, 'assumem': 255, 'assumir': 256, 'assumiu': 257, 'assuncao': 258, 'assuntos': 259, 'astro': 260, 'atacaram': 261, 'ate': 262, 'athletico': 263, 'atibaia': 264, 'atingidos': 265, 'atingiu': 266, 'atira': 267, 'atitude': 268, 'atletiba': 269, 'atleticano': 270, 'ato': 271, 'atras': 272, 'atribuidos': 273, 'atriz': 274, 'atropela': 275, 'atua': 276, 'atualizacoes': 277, 'atualizar': 278, 'atuara': 279, 'auckland': 280, 'audio': 281, 'auditar': 282, 'auditor': 283, 'audrei': 284, 'augustin': 285, 'augusto': 286, 'aumentara': 287, 'aumentaram': 288, 'ausente': 289, 'austera': 290, 'australianas': 291, 'austria': 292, 'austriaca': 293, 'austriaco': 294, 'autoanalise': 295, 'automatica': 296, 'automatizado': 297, 'autorizacao': 298, 'autorizar': 299, 'auxiliartecnico': 300, 'auxilie': 301, 'aval': 302, 'avaliados': 303, 'avaliara': 304, 'avalie': 305, 'aventura': 306, 'aviacao': 307, 'ayrton': 308, 'azeite': 309, 'azevedo': 310, 'azul': 311, 'b': 312, 'bacana': 313, 'badalado': 314, 'bader': 315, 'baggio': 316, 'bahia': 317, 'baixados': 318, 'baixarem': 319, 'baixe': 320, 'baku': 321, 'balanco': 322, 'baleado': 323, 'bamgbose': 324, 'banca': 325, 'bancarios': 326, 'bandeiraco': 327, 'bandeirada': 328, 'bandeiras': 329, 'banheiro': 330, 'banho': 331, 'baptista': 332, 'barack': 333, 'barbarie': 334, 'barbieri': 335, 'barboza': 336, 'barrado': 337, 'barreira': 338, 'barros': 339, 'bartomeu': 340, 'batalha': 341, 'bateestaca': 342, 'bateram': 343, 'bayer': 344, 'bbb': 345, 'bbc': 346, 'beach': 347, 'bebado': 348, 'beckham': 349, 'beijam': 350, 'beira': 351, 'belezas': 352, 'ben': 353, 'bendine': 354, 'benedetto': 355, 'beneficentes': 356, 'beneficiado': 357, 'beneficiar': 358, 'benicio': 359, 'benitez': 360, 'bento': 361, 'berco': 362, 'bernard': 363, 'bertolli': 364, 'besouro': 365, 'betinense': 366, 'beto': 367, 'bh': 368, 'bi': 369, 'bicampea': 370, 'bielsa': 371, 'bigode': 372, 'biles': 373, 'bilionaria': 374, 'bin': 375, 'binance': 376, 'biofeedback': 377, 'biologo': 378, 'biometrico': 379, 'biometricos': 380, 'bira': 381, 'bird': 382, 'biro': 383, 'bitcoin': 384, 'bj': 385, 'blade': 386, 'blog': 387, 'bloqueia': 388, 'bode': 389, 'boetsch': 390, 'boletim': 391, 'boletins': 392, 'boleto': 393, 'bolo': 394, 'bologna': 395, 'bom': 396, 'bombas': 397, 'bone': 398, 'boni': 399, 'bonito': 400, 'bons': 401, 'borrachinha': 402, 'borussia': 403, 'botafogosp': 404, 'boticario': 405, 'braco': 406, 'brad': 407, 'bragantino': 408, 'brait': 409, 'brasileirae': 410, 'brasileirinho': 411, 'brasileiro': 412, 'brasileirofica': 413, 'brasileiros': 414, 'braulio': 415, 'breese': 416, 'brenner': 417, 'brigar': 418, 'brilho': 419, 'brinca': 420, 'brinquedo': 421, 'britanica': 422, 'britney': 423, 'brocador': 424, 'bromwich': 425, 'bronzeado': 426, 'bronzes': 427, 'brothers': 428, 'brusque': 429, 'buffon': 430, 'bulls': 431, 'bunitinho': 432, 'buraco': 433, 'buracos': 434, 'burns': 435, 'busca': 436, 'buscam': 437, 'cabide': 438, 'cacado': 439, 'cacar': 440, 'cacarato': 441, 'cacas': 442, 'caceres': 443, 'cachoeira': 444, 'cachorrinhos': 445, 'cachorroquente': 446, 'caco': 447, 'cactus': 448, 'cade': 449, 'cadeado': 450, 'cadeira': 451, 'cadeiras': 452, 'cafona': 453, 'cai': 454, 'caia': 455, 'caio': 456, 'caixapreta': 457, 'cala': 458, 'calamidade': 459, 'calaram': 460, 'calazans': 461, 'calcanhar': 462, 'calcio': 463, 'calculos': 464, 'calejado': 465, 'calheiros': 466, 'calibrada': 467, 'calmas': 468, 'calorias': 469, 'camaroes': 470, 'camas': 471, 'cambial': 472, 'cambista': 473, 'cambridge': 474, 'cameras': 475, 'camex': 476, 'caminha': 477, 'caminham': 478, 'caminhaobau': 479, 'caminhos': 480, 'camozzi': 481, 'campeonato': 482, 'campeonatos': 483, 'campo': 484, 'camuflagem': 485, 'cana': 486, 'canais': 487, 'cancelamento': 488, 'cancelar': 489, 'candidato': 490, 'candidatura': 491, 'candidaturae': 492, 'canhoes': 493, 'canhota': 494, 'canoagem': 495, 'canoas': 496, 'cansa': 497, 'cantadas': 498, 'cantora': 499, 'capacidade': 500, 'capapreta': 501, 'capilar': 502, 'capita': 503, 'capivari': 504, 'capri': 505, 'caraglio': 506, 'carano': 507, 'carbonero': 508, 'carcerario': 509, 'cardapio': 510, 'cardiaco': 511, 'carf': 512, 'cargas': 513, 'cargo': 514, 'cargos': 515, 'caribe': 516, 'caribenhos': 517, 'cariocaboavista': 518, 'cariocas': 519, 'carlo': 520, 'carmelo': 521, 'carmen': 522, 'carrasco': 523, 'carrega': 524, 'carreira': 525, 'carreno': 526, 'carta': 527, 'cartaoe': 528, 'cartolas': 529, 'cas': 530, 'casa': 531, 'casaco': 532, 'casam': 533, 'casamento': 534, 'casaram': 535, 'cassar': 536, 'castigo': 537, 'categoria': 538, 'categorias': 539, 'caterham': 540, 'catolica': 541, 'catolicos': 542, 'cauan': 543, 'cauboi': 544, 'cavaleiro': 545, 'caxumbaos': 546, 'cedido': 547, 'cedo': 548, 'celebra': 549, 'celso': 550, 'celulares': 551, 'cena': 552, 'cenas': 553, 'centenas': 554, 'cento': 555, 'cercada': 556, 'cerebro': 557, 'cerrone': 558, 'cervero': 559, 'cesp': 560, 'cezar': 561, 'chamar': 562, 'chamberlain': 563, 'chapeuzinho': 564, 'charles': 565, 'checamos': 566, 'chefao': 567, 'chefe': 568, 'chegando': 569, 'chego': 570, 'cheia': 571, 'cher': 572, 'china': 573, 'chinaeua': 574, 'chinelo': 575, 'chines': 576, 'chutar': 577, 'chutes': 578, 'ciclista': 579, 'cidade': 580, 'cifrao': 581, 'cinemas': 582, 'cirurgia': 583, 'cita': 584, 'civica': 585, 'clarin': 586, 'classicorei': 587, 'cleber': 588, 'cleo': 589, 'clientes': 590, 'clinicas': 591, 'clipe': 592, 'cliques': 593, 'cnc': 594, 'cnmp': 595, 'cobrancas': 596, 'cobrar': 597, 'coercitiva': 598, 'cogitados': 599, 'coibir': 600, 'cola': 601, 'colar': 602, 'colby': 603, 'coletivo': 604, 'colin': 605, 'colocar': 606, 'colorados': 607, 'comandam': 608, 'comeca': 609, 'comediante': 610, 'comemoram': 611, 'comemorar': 612, 'comentar': 613, 'comentou': 614, 'comercial': 615, 'comercializava': 616, 'cometeu': 617, 'cometida': 618, 'como': 619, 'companhia': 620, 'compara': 621, 'compare': 622, 'compatriota': 623, 'competencia': 624, 'completa': 625, 'completo': 626, 'complicam': 627, 'comportamento': 628, 'compra': 629, 'compram': 630, 'comprometida': 631, 'comum': 632, 'comunica': 633, 'comunicativo': 634, 'comunitarias': 635, 'comunitario': 636, 'concentracao': 637, 'concluida': 638, 'concluido': 639, 'condecorado': 640, 'condena': 641, 'condenacoes': 642, 'condenavel': 643, 'condit': 644, 'condiz': 645, 'confessa': 646, 'confiante': 647, 'configuracao': 648, 'confirma': 649, 'confundiu': 650, 'congonhas': 651, 'conhece': 652, 'conhecem': 653, 'conhecidos': 654, 'conquistas': 655, 'consciencia': 656, 'conscientize': 657, 'conselhao': 658, 'consenso': 659, 'considera': 660, 'console': 661, 'consome': 662, 'conspiracao': 663, 'constitucionalmente': 664, 'construir': 665, 'consulta': 666, 'consultoria': 667, 'contaminacao': 668, 'contas': 669, 'contatos': 670, 'contem': 671, 'conter': 672, 'contexto': 673, 'contido': 674, 'continuo': 675, 'contorce': 676, 'contracena': 677, 'contramao': 678, 'contrariar': 679, 'contratacao': 680, 'contratou': 681, 'contratual': 682, 'contribuicao': 683, 'controladora': 684, 'controlam': 685, 'controles': 686, 'convencao': 687, 'convencer': 688, 'conversa': 689, 'convidara': 690, 'convites': 691, 'convoca': 692, 'convocacoes': 693, 'convulsao': 694, 'cookie': 695, 'coordenacao': 696, 'coordenador': 697, 'copiar': 698, 'copinha': 699, 'coreografia': 700, 'coritiba': 701, 'coroar': 702, 'corporal': 703, 'corra': 704, 'corredores': 705, 'correia': 706, 'cortes': 707, 'cortez': 708, 'costurado': 709, 'cotado': 710, 'cova': 711, 'cover': 712, 'cowboy': 713, 'cozinha': 714, 'cpf': 715, 'cpmf': 716, 'crava': 717, 'crb': 718, 'cre': 719, 'credito': 720, 'creem': 721, 'crescem': 722, 'crescer': 723, 'crespo': 724, 'criancas': 725, 'criminalidade': 726, 'criminosa': 727, 'criptografia': 728, 'cristiane': 729, 'croacia': 730, 'crocota': 731, 'crossfit': 732, 'crucis': 733, 'cruzeiro': 734, 'csa': 735, 'cuba': 736, 'cubana': 737, 'cueva': 738, 'cui': 739, 'cuidados': 740, 'cunha': 741, 'curtas': 742, 'custa': 743, 'custas': 744, 'custou': 745, 'cutuca': 746, 'dado': 747, 'daespanha': 748, 'dai': 749, 'dalavia': 750, 'dalia': 751, 'dallagnol': 752, 'danadinho': 753, 'dance': 754, 'danni': 755, 'dany': 756, 'dao': 757, 'das': 758, 'datafolha': 759, 'dating': 760, 'david': 761, 'de': 762, 'dea': 763, 'debate': 764, 'debocha': 765, 'deborah': 766, 'decepcao': 767, 'decepcionado': 768, 'dedada': 769, 'dede': 770, 'dedicar': 771, 'dedo': 772, 'defende': 773, 'defensivas': 774, 'defensivo': 775, 'defensor': 776, 'definindo': 777, 'definitivas': 778, 'definitivo': 779, 'deixam': 780, 'deixarem': 781, 'deixem': 782, 'dele': 783, 'delegacia': 784, 'delegados': 785, 'deleta': 786, 'delgado': 787, 'delicada': 788, 'demetrious': 789, 'demi': 790, 'demissao': 791, 'demite': 792, 'demitira': 793, 'demole': 794, 'demonstra': 795, 'demonstracoes': 796, 'demonstram': 797, 'demostenes': 798, 'dener': 799, 'denunciado': 800, 'denunciam': 801, 'deodoro': 802, 'dependendo': 803, 'deportivo': 804, 'depredado': 805, 'derrotado': 806, 'derrubam': 807, 'derrubou': 808, 'desabam': 809, 'desafia': 810, 'desafiado': 811, 'desafiador': 812, 'desafialo': 813, 'desafiantes': 814, 'desafios': 815, 'desaparecido': 816, 'desativar': 817, 'descartados': 818, 'descer': 819, 'descida': 820, 'desclassifica': 821, 'desclassificacao': 822, 'descobri': 823, 'descomissionamento': 824, 'descontraido': 825, 'descredenciados': 826, 'desde': 827, 'desejos': 828, 'desembargadores': 829, 'desencanta': 830, 'desenhados': 831, 'desesperados': 832, 'desestruturar': 833, 'desfalcados': 834, 'desfalcar': 835, 'desfalque': 836, 'desfaz': 837, 'desinformacao': 838, 'desistem': 839, 'desistido': 840, 'desistir': 841, 'desmaia': 842, 'desnacionalizar': 843, 'desoneracao': 844, 'despertador': 845, 'despontar': 846, 'desrespeito': 847, 'destaca': 848, 'destacadas': 849, 'destrona': 850, 'desvalorizacao': 851, 'desvendar': 852, 'desvio': 853, 'desviou': 854, 'detalha': 855, 'detectam': 856, 'detencao': 857, 'determinante': 858, 'detido': 859, 'devolva': 860, 'devolve': 861, 'diagnostico': 862, 'diamond': 863, 'diante': 864, 'diaria': 865, 'dicas': 866, 'dida': 867, 'didatico': 868, 'didico': 869, 'diferencas': 870, 'dificuldades': 871, 'diminuiu': 872, 'dinamica': 873, 'dinamismo': 874, 'dinamite': 875, 'dinastia': 876, 'diplomata': 877, 'dirceu': 878, 'direcao': 879, 'direcaogeral': 880, 'direcionar': 881, 'direito': 882, 'diretora': 883, 'diretoria': 884, 'diretorias': 885, 'diretriz': 886, 'diretrizes': 887, 'dirige': 888, 'dirigentes': 889, 'disciplina': 890, 'disciplinar': 891, 'discordar': 892, 'discreto': 893, 'discute': 894, 'discutir': 895, 'dispersa': 896, 'disponivel': 897, 'dispositivo': 898, 'disputa': 899, 'disputados': 900, 'disputarem': 901, 'disseminacao': 902, 'disseram': 903, 'disso': 904, 'distorcoes': 905, 'distrai': 906, 'disturbio': 907, 'ditadura': 908, 'dito': 909, 'diversao': 910, 'dividendo': 911, 'dividir': 912, 'divisoes': 913, 'divulgacao': 914, 'dizer': 915, 'dj': 916, 'dna': 917, 'doa': 918, 'dobram': 919, 'dobravel': 920, 'dobrou': 921, 'doce': 922, 'dodo': 923, 'doenca': 924, 'doha': 925, 'doi': 926, 'doideira': 927, 'dollaway': 928, 'domingos': 929, 'dominguez': 930, 'dono': 931, 'dopam': 932, 'dorigon': 933, 'dorival': 934, 'dou': 935, 'douglas': 936, 'dovasco': 937, 'drama': 938, 'dramaturgia': 939, 'drasticas': 940, 'dreno': 941, 'drilling': 942, 'drones': 943, 'duarte': 944, 'dudamel': 945, 'dumont': 946, 'dupla': 947, 'duplicara': 948, 'durant': 949, 'duras': 950, 'durinho': 951, 'durissimas': 952, 'durou': 953, 'e': 954, 'economicos': 955, 'eder': 956, 'ederson': 957, 'edimar': 958, 'edita': 959, 'editado': 960, 'ee': 961, 'ef': 962, 'efeitos': 963, 'egidio': 964, 'eike': 965, 'el': 966, 'elabora': 967, 'elana': 968, 'elastico': 969, 'elege': 970, 'eleicoes': 971, 'elenco': 972, 'eletrica': 973, 'eletrizantes': 974, 'eletroeletronico': 975, 'elevada': 976, 'eliminacoes': 977, 'elogia': 978, 'elogiar': 979, 'elogios': 980, 'emana': 981, 'embaixada': 982, 'embaixadinha': 983, 'embala': 984, 'embarcam': 985, 'embora': 986, 'embutido': 987, 'emergentes': 988, 'empatada': 989, 'empatado': 990, 'empolgante': 991, 'empreendedor': 992, 'empregador': 993, 'emprego': 994, 'empresario': 995, 'empresta': 996, 'emprestados': 997, 'emprestimo': 998, 'empurrao': 999, 'emretorno': 1000, 'emsao': 1001, 'encabeca': 1002, 'encaixa': 1003, 'encaminhamentos': 1004, 'encanada': 1005, 'encaralo': 1006, 'encharcado': 1007, 'enche': 1008, 'encolhe': 1009, 'encolhem': 1010, 'encontrada': 1011, 'encontro': 1012, 'encostam': 1013, 'endossa': 1014, 'enfatizar': 1015, 'enforcado': 1016, 'enfraquecer': 1017, 'enfrenta': 1018, 'enfrentalo': 1019, 'enfrentar': 1020, 'engano': 1021, 'enganosa': 1022, 'engata': 1023, 'engatilha': 1024, 'engolida': 1025, 'engrenam': 1026, 'enlouquece': 1027, 'enner': 1028, 'enquadrar': 1029, 'enredo': 1030, 'entao': 1031, 'entende': 1032, 'entendendo': 1033, 'enterrada': 1034, 'enterradas': 1035, 'entrara': 1036, 'entre': 1037, 'entrega': 1038, 'entrosamento': 1039, 'envelhece': 1040, 'enviam': 1041, 'epede': 1042, 'epicentro': 1043, 'equilibrar': 1044, 'equilibrio': 1045, 'equipamentos': 1046, 'ergueria': 1047, 'erick': 1048, 'ericsson': 1049, 'erik': 1050, 'ernesto': 1051, 'erra': 1052, 'escancara': 1053, 'escapulida': 1054, 'escolta': 1055, 'escrevem': 1056, 'escrevi': 1057, 'escritorios': 1058, 'esforcos': 1059, 'esfria': 1060, 'esfriada': 1061, 'esfriam': 1062, 'esfriou': 1063, 'esgotado': 1064, 'esl': 1065, 'esmagada': 1066, 'esmurra': 1067, 'espalha': 1068, 'especialistas': 1069, 'especie': 1070, 'esperado': 1071, 'esperancas': 1072, 'esperto': 1073, 'espetacular': 1074, 'espiga': 1075, 'esplanada': 1076, 'esqueceu': 1077, 'esquerdo': 1078, 'essa': 1079, 'esse': 1080, 'estabelece': 1081, 'estabelecimentos': 1082, 'estacao': 1083, 'estadio': 1084, 'estadios': 1085, 'estado': 1086, 'estadual': 1087, 'estagio': 1088, 'estampa': 1089, 'estapafurdia': 1090, 'estatisticas': 1091, 'estatistico': 1092, 'estavel': 1093, 'esteja': 1094, 'estejam': 1095, 'estimulo': 1096, 'estocolmo': 1097, 'estoril': 1098, 'estou': 1099, 'estreando': 1100, 'estreiano': 1101, 'estrela': 1102, 'estrogenio': 1103, 'estruturas': 1104, 'estudam': 1105, 'estudar': 1106, 'etanol': 1107, 'etapa': 1108, 'etchgoyen': 1109, 'eternizou': 1110, 'eternos': 1111, 'euaira': 1112, 'euforia': 1113, 'euro': 1114, 'europeia': 1115, 'europeus': 1116, 'eventoteste': 1117, 'eventual': 1118, 'everson': 1119, 'evita': 1120, 'evite': 1121, 'evoluo': 1122, 'ex': 1123, 'exaltam': 1124, 'exame': 1125, 'exausto': 1126, 'exauxiliar': 1127, 'excampeao': 1128, 'exchape': 1129, 'exclube': 1130, 'exdeputado': 1131, 'exdiretores': 1132, 'exdirigentes': 1133, 'executa': 1134, 'exengenheiro': 1135, 'exercicios': 1136, 'exgovernador': 1137, 'exhacker': 1138, 'exibe': 1139, 'exigem': 1140, 'exigencia': 1141, 'exigiu': 1142, 'exministro': 1143, 'expansao': 1144, 'explicacao': 1145, 'explicacoes': 1146, 'explode': 1147, 'explorado': 1148, 'exportadores': 1149, 'exposicao': 1150, 'expressa': 1151, 'exsenador': 1152, 'extecnico': 1153, 'exterior': 1154, 'externos': 1155, 'extime': 1156, 'extinguiu': 1157, 'extinta': 1158, 'extracampo': 1159, 'exvice': 1160, 'exzagueiro': 1161, 'faber': 1162, 'fabiano': 1163, 'fabrina': 1164, 'faceid': 1165, 'facetime': 1166, 'facil': 1167, 'faco': 1168, 'fadas': 1169, 'faf': 1170, 'fair': 1171, 'fake': 1172, 'falam': 1173, 'falcons': 1174, 'falecido': 1175, 'falham': 1176, 'falido': 1177, 'falou': 1178, 'falsificacao': 1179, 'falso': 1180, 'faltando': 1181, 'familias': 1182, 'fangio': 1183, 'fantasmas': 1184, 'farei': 1185, 'fariamos': 1186, 'farpas': 1187, 'farsa': 1188, 'fast': 1189, 'fatal': 1190, 'fatia': 1191, 'fatias': 1192, 'fatores': 1193, 'fatos': 1194, 'faturam': 1195, 'faverani': 1196, 'favor': 1197, 'favorecer': 1198, 'favoritismo': 1199, 'fazdois': 1200, 'fazendo': 1201, 'fazia': 1202, 'fc': 1203, 'febraban': 1204, 'fechamentos': 1205, 'fechou': 1206, 'federais': 1207, 'federal': 1208, 'federer': 1209, 'feia': 1210, 'feitos': 1211, 'felicio': 1212, 'felicita': 1213, 'feminina': 1214, 'femininos': 1215, 'feminista': 1216, 'ferias': 1217, 'ferido': 1218, 'fernandes': 1219, 'fernandez': 1220, 'fernandinho': 1221, 'ferrer': 1222, 'ferrovias': 1223, 'fertitta': 1224, 'ferve': 1225, 'festao': 1226, 'festejam': 1227, 'festivo': 1228, 'fez': 1229, 'fibaconcorremos': 1230, 'ficam': 1231, 'ficarao': 1232, 'fichassujas': 1233, 'fielding': 1234, 'fies': 1235, 'fifa': 1236, 'fight': 1237, 'figueirense': 1238, 'figurinha': 1239, 'filhos': 1240, 'filia': 1241, 'filiacao': 1242, 'filosofa': 1243, 'fim': 1244, 'finais': 1245, 'finale': 1246, 'finalizada': 1247, 'finalizar': 1248, 'financeiras': 1249, 'financiar': 1250, 'fiscais': 1251, 'fiscal': 1252, 'fiscalizacao': 1253, 'fischer': 1254, 'fisicamente': 1255, 'fisioterapeuta': 1256, 'fisioterapia': 1257, 'fitness': 1258, 'fiuk': 1259, 'fixara': 1260, 'fizemos': 1261, 'flapi': 1262, 'flexibilizacao': 1263, 'florestal': 1264, 'florida': 1265, 'flu': 1266, 'fluminense': 1267, 'fobia': 1268, 'foco': 1269, 'fofo': 1270, 'foice': 1271, 'folego': 1272, 'folga': 1273, 'folgas': 1274, 'follmann': 1275, 'fones': 1276, 'football': 1277, 'forcar': 1278, 'formaliza': 1279, 'formos': 1280, 'fornece': 1281, 'fornecedores': 1282, 'fornecidas': 1283, 'fortaleza': 1284, 'fortnite': 1285, 'fortuna': 1286, 'fosse': 1287, 'fotos': 1288, 'fraca': 1289, 'fracassos': 1290, 'frageis': 1291, 'frambach': 1292, 'france': 1293, 'francesco': 1294, 'francis': 1295, 'francisco': 1296, 'frankenstein': 1297, 'franquias': 1298, 'fratura': 1299, 'fraturado': 1300, 'free': 1301, 'freitas': 1302, 'frente': 1303, 'frete': 1304, 'fria': 1305, 'frios': 1306, 'friozinho': 1307, 'frouxo': 1308, 'frustra': 1309, 'frustrada': 1310, 'frustram': 1311, 'ft': 1312, 'fuga': 1313, 'fugas': 1314, 'fumus': 1315, 'funcional': 1316, 'funcionamento': 1317, 'funcionar': 1318, 'fundo': 1319, 'fundos': 1320, 'futebol': 1321, 'futevolei': 1322, 'galeano': 1323, 'galeao': 1324, 'galiotte': 1325, 'galos': 1326, 'game': 1327, 'ganesa': 1328, 'ganhadores': 1329, 'ganharam': 1330, 'ganho': 1331, 'gano': 1332, 'garambone': 1333, 'garcialopez': 1334, 'gari': 1335, 'garin': 1336, 'garrafa': 1337, 'gastos': 1338, 'gates': 1339, 'gato': 1340, 'gavea': 1341, 'geddel': 1342, 'geladeira': 1343, 'gemeos': 1344, 'genio': 1345, 'geppetto': 1346, 'gerenciavel': 1347, 'geromel': 1348, 'gestacao': 1349, 'gestante': 1350, 'gesto': 1351, 'getulio': 1352, 'geuvanio': 1353, 'giannis': 1354, 'giants': 1355, 'ginastica': 1356, 'ginobili': 1357, 'giro': 1358, 'giullia': 1359, 'glaico': 1360, 'gleici': 1361, 'glenda': 1362, 'globalcoin': 1363, 'globalizacao': 1364, 'globeleza': 1365, 'gogh': 1366, 'goiania': 1367, 'goias': 1368, 'golaco': 1369, 'goldfajn': 1370, 'goleada': 1371, 'goleiro': 1372, 'golfinhos': 1373, 'google': 1374, 'gorros': 1375, 'gosta': 1376, 'gostando': 1377, 'gostoso': 1378, 'grama': 1379, 'grampear': 1380, 'grandes': 1381, 'grandiosa': 1382, 'grant': 1383, 'graos': 1384, 'grau': 1385, 'gravadas': 1386, 'gray': 1387, 'grecia': 1388, 'gringo': 1389, 'gritaria': 1390, 'grosjean': 1391, 'grupo': 1392, 'gshow': 1393, 'guaranimg': 1394, 'guardados': 1395, 'guatemala': 1396, 'guerra': 1397, 'guetta': 1398, 'guilheiro': 1399, 'guilherme': 1400, 'guimaraes': 1401, 'guize': 1402, 'guns': 1403, 'h': 1404, 'habilitados': 1405, 'hackeada': 1406, 'hackear': 1407, 'hacker': 1408, 'haja': 1409, 'hall': 1410, 'hamburguer': 1411, 'hannover': 1412, 'harry': 1413, 'harvard': 1414, 'hashtag': 1415, 'hassan': 1416, 'havaianagaucha': 1417, 'havan': 1418, 'haver': 1419, 'helena': 1420, 'heleno': 1421, 'helicopteros': 1422, 'heroi': 1423, 'hexa': 1424, 'hilal': 1425, 'hilbert': 1426, 'hill': 1427, 'hillsborough': 1428, 'hioki': 1429, 'hipismo': 1430, 'historiadores': 1431, 'historicas': 1432, 'hiv': 1433, 'holloway': 1434, 'hollywood': 1435, 'holofotes': 1436, 'holohan': 1437, 'homem': 1438, 'homenageado': 1439, 'homicidio': 1440, 'homofobia': 1441, 'honduras': 1442, 'honestidade': 1443, 'honrosa': 1444, 'hoquei': 1445, 'horizontal': 1446, 'hortencia': 1447, 'hossegor': 1448, 'hotel': 1449, 'house': 1450, 'hpe': 1451, 'hrc': 1452, 'huachipato': 1453, 'hubert': 1454, 'hull': 1455, 'humorista': 1456, 'hyoran': 1457, 'hypolito': 1458, 'ibm': 1459, 'icatu': 1460, 'icone': 1461, 'identifica': 1462, 'identificam': 1463, 'identificou': 1464, 'idolo': 1465, 'igarashi': 1466, 'igrejas': 1467, 'iguais': 1468, 'ilan': 1469, 'ilegalmente': 1470, 'ilustram': 1471, 'imagens': 1472, 'imagine': 1473, 'imaginou': 1474, 'imaturidade': 1475, 'imbroglio': 1476, 'imitacoes': 1477, 'imitei': 1478, 'imoveis': 1479, 'imovel': 1480, 'impacto': 1481, 'impede': 1482, 'impedida': 1483, 'impedir': 1484, 'imperador': 1485, 'impoem': 1486, 'importadoras': 1487, 'importante': 1488, 'importantes': 1489, 'impossivel': 1490, 'imprensa': 1491, 'impressionante': 1492, 'imprevisivel': 1493, 'improbidade': 1494, 'improviso': 1495, 'impugnacao': 1496, 'impulsionada': 1497, 'impunidade': 1498, 'inacessiveis': 1499, 'inadmissiveis': 1500, 'incentivam': 1501, 'incentivar': 1502, 'incerto': 1503, 'incluem': 1504, 'incluindo': 1505, 'incluira': 1506, 'inclusao': 1507, 'incompleto': 1508, 'inconsciente': 1509, 'incriminado': 1510, 'indexados': 1511, 'india': 1512, 'indicados': 1513, 'indice': 1514, 'indices': 1515, 'indicou': 1516, 'indignidade': 1517, 'inedita': 1518, 'inedito': 1519, 'inercia': 1520, 'inferior': 1521, 'inferiores': 1522, 'inferno': 1523, 'influenciadora': 1524, 'influentes': 1525, 'infopen': 1526, 'informados': 1527, 'informam': 1528, 'ingresso': 1529, 'inicialmente': 1530, 'inidoneidade': 1531, 'injecao': 1532, 'inocente': 1533, 'inofensivo': 1534, 'inova': 1535, 'inovacao': 1536, 'inquerito': 1537, 'inquieto': 1538, 'inscricoes': 1539, 'insegura': 1540, 'inseguro': 1541, 'insensatez': 1542, 'inshallah': 1543, 'insistencia': 1544, 'inspiracao': 1545, 'inspirada': 1546, 'inspirei': 1547, 'inspiro': 1548, 'instala': 1549, 'insuficiente': 1550, 'integracao': 1551, 'integrante': 1552, 'inteira': 1553, 'interagem': 1554, 'intercederia': 1555, 'interessados': 1556, 'interinos': 1557, 'internacional': 1558, 'internada': 1559, 'internautas': 1560, 'interpretado': 1561, 'interromper': 1562, 'intervem': 1563, 'intocavel': 1564, 'introduz': 1565, 'introduzir': 1566, 'intruso': 1567, 'invasao': 1568, 'invenciveis': 1569, 'inverno': 1570, 'inviavel': 1571, 'invictos': 1572, 'invictus': 1573, 'iowa': 1574, 'iozzi': 1575, 'ipea': 1576, 'ipva': 1577, 'irada': 1578, 'ironizam': 1579, 'irredutivel': 1580, 'isaac': 1581, 'isabel': 1582, 'isco': 1583, 'isotonicos': 1584, 'issa': 1585, 'italiana': 1586, 'itamaraty': 1587, 'itu': 1588, 'ituano': 1589, 'iuan': 1590, 'ivair': 1591, 'ivete': 1592, 'jaba': 1593, 'jacarta': 1594, 'jackson': 1595, 'jacobina': 1596, 'jadson': 1597, 'jaffar': 1598, 'jagger': 1599, 'jamaicana': 1600, 'janeiro': 1601, 'janot': 1602, 'jantar': 1603, 'japan': 1604, 'jatinho': 1605, 'jaula': 1606, 'jaws': 1607, 'jayz': 1608, 'jejum': 1609, 'jemerson': 1610, 'jeniffer': 1611, 'jennifer': 1612, 'jeremy': 1613, 'jf': 1614, 'jhonny': 1615, 'jk': 1616, 'joachim': 1617, 'joesley': 1618, 'jogada': 1619, 'jogador': 1620, 'jogala': 1621, 'jogao': 1622, 'jogo': 1623, 'jogotreino': 1624, 'joguei': 1625, 'johanna': 1626, 'johnny': 1627, 'joia': 1628, 'jon': 1629, 'jonathan': 1630, 'jong': 1631, 'jorginho': 1632, 'joseph': 1633, 'joziane': 1634, 'judiciais': 1635, 'judicial': 1636, 'judo': 1637, 'juiza': 1638, 'juizo': 1639, 'julgada': 1640, 'julgados': 1641, 'julgar': 1642, 'julgarem': 1643, 'julgue': 1644, 'julguem': 1645, 'juncker': 1646, 'junina': 1647, 'juninho': 1648, 'junto': 1649, 'juntos': 1650, 'juntou': 1651, 'juridica': 1652, 'juridico': 1653, 'juro': 1654, 'just': 1655, 'juve': 1656, 'k': 1657, 'kalindra': 1658, 'kanu': 1659, 'karlos': 1660, 'kart': 1661, 'kelades': 1662, 'kemba': 1663, 'keulla': 1664, 'kieza': 1665, 'kimi': 1666, 'kozlowski': 1667, 'kraft': 1668, 'kramer': 1669, 'kuzma': 1670, 'kuznetsova': 1671, 'kyra': 1672, 'labia': 1673, 'laden': 1674, 'lady': 1675, 'lahm': 1676, 'lama': 1677, 'lamas': 1678, 'lamentam': 1679, 'lamm': 1680, 'lanca': 1681, 'lancada': 1682, 'lance': 1683, 'larga': 1684, 'largada': 1685, 'larghi': 1686, 'larissatalita': 1687, 'larvas': 1688, 'laser': 1689, 'lastpass': 1690, 'lateraldireito': 1691, 'lateralesquerdo': 1692, 'latina': 1693, 'laura': 1694, 'lava': 1695, 'lavadeira': 1696, 'lavagem': 1697, 'lazio': 1698, 'lda': 1699, 'ldo': 1700, 'le': 1701, 'leaks': 1702, 'leandrinho': 1703, 'lee': 1704, 'leeds': 1705, 'legado': 1706, 'legends': 1707, 'legislador': 1708, 'legislatura': 1709, 'legumes': 1710, 'lei': 1711, 'leica': 1712, 'leicester': 1713, 'leila': 1714, 'leilao': 1715, 'leiloes': 1716, 'leite': 1717, 'leites': 1718, 'lembre': 1719, 'lemmertz': 1720, 'lencol': 1721, 'lenta': 1722, 'lentidao': 1723, 'lentz': 1724, 'leoni': 1725, 'lera': 1726, 'lesionados': 1727, 'leslie': 1728, 'letra': 1729, 'levado': 1730, 'levalo': 1731, 'levantou': 1732, 'levara': 1733, 'libano': 1734, 'libera': 1735, 'liberacao': 1736, 'libido': 1737, 'lifajc': 1738, 'ligada': 1739, 'ligado': 1740, 'ligados': 1741, 'ligamentos': 1742, 'ligo': 1743, 'limitacao': 1744, 'limite': 1745, 'lincoln': 1746, 'linda': 1747, 'lindalva': 1748, 'lindao': 1749, 'lineageos': 1750, 'lingerie': 1751, 'linguinha': 1752, 'linkedin': 1753, 'lino': 1754, 'liquido': 1755, 'lista': 1756, 'listas': 1757, 'live': 1758, 'livra': 1759, 'lnf': 1760, 'lobianco': 1761, 'lobistas': 1762, 'lochte': 1763, 'logo': 1764, 'loirissima': 1765, 'loiro': 1766, 'loja': 1767, 'lojas': 1768, 'lojista': 1769, 'lomba': 1770, 'longas': 1771, 'longe': 1772, 'loreto': 1773, 'loteria': 1774, 'loureiro': 1775, 'love': 1776, 'lrf': 1777, 'lucarelli': 1778, 'lucas': 1779, 'lucciola': 1780, 'lucio': 1781, 'lucro': 1782, 'lugano': 1783, 'lukaku': 1784, 'luke': 1785, 'luna': 1786, 'lutador': 1787, 'lutaram': 1788, 'lyotoresponde': 1789, 'macacao': 1790, 'macarena': 1791, 'machida': 1792, 'machine': 1793, 'machismo': 1794, 'maga': 1795, 'magica': 1796, 'magnussen': 1797, 'magomedsharipov': 1798, 'maiara': 1799, 'maioridade': 1800, 'majestoso': 1801, 'makashvili': 1802, 'malacostumados': 1803, 'malasia': 1804, 'malcom': 1805, 'maldoso': 1806, 'malhacao': 1807, 'malicia': 1808, 'malta': 1809, 'mancuello': 1810, 'mandar': 1811, 'mangas': 1812, 'manha': 1813, 'manifestacao': 1814, 'manifestacoes': 1815, 'manipulacao': 1816, 'manny': 1817, 'mansur': 1818, 'mapfre': 1819, 'maps': 1820, 'maquinas': 1821, 'maraca': 1822, 'marasmo': 1823, 'maratona': 1824, 'maravilhosa': 1825, 'marcar': 1826, 'marcas': 1827, 'marcella': 1828, 'marcelo': 1829, 'marcha': 1830, 'marciel': 1831, 'marcio': 1832, 'marco': 1833, 'marfim': 1834, 'mariana': 1835, 'marilson': 1836, 'marin': 1837, 'marinho': 1838, 'marioto': 1839, 'marisqueira': 1840, 'marra': 1841, 'marsiglia': 1842, 'martin': 1843, 'martine': 1844, 'martins': 1845, 'massacra': 1846, 'mastigo': 1847, 'matanca': 1848, 'matar': 1849, 'matematico': 1850, 'materazzi': 1851, 'material': 1852, 'matos': 1853, 'mattos': 1854, 'max': 1855, 'maximo': 1856, 'maycon': 1857, 'mccollum': 1858, 'mcenroe': 1859, 'mclarenhonda': 1860, 'mecanismo': 1861, 'mecanismos': 1862, 'medalha': 1863, 'medica': 1864, 'meditacao': 1865, 'megaleilao': 1866, 'meirelles': 1867, 'meis': 1868, 'melhores': 1869, 'meme': 1870, 'meninas': 1871, 'mensalidade': 1872, 'mentalidade': 1873, 'mentira': 1874, 'mercadante': 1875, 'mercados': 1876, 'mercosulue': 1877, 'mereceu': 1878, 'mergulho': 1879, 'merito': 1880, 'merkel': 1881, 'mesma': 1882, 'messi': 1883, 'mestre': 1884, 'mesversario': 1885, 'metais': 1886, 'meteu': 1887, 'meu': 1888, 'meurer': 1889, 'mexe': 1890, 'mg': 1891, 'mgf': 1892, 'mi': 1893, 'micro': 1894, 'mikey': 1895, 'milenio': 1896, 'milhao': 1897, 'milhoes': 1898, 'milionarios': 1899, 'mim': 1900, 'minimo': 1901, 'minisserie': 1902, 'minucioso': 1903, 'mirando': 1904, 'missa': 1905, 'missil': 1906, 'mista': 1907, 'mister': 1908, 'misteriosa': 1909, 'misteriosas': 1910, 'misto': 1911, 'mmae': 1912, 'mobiliza': 1913, 'mobilizacao': 1914, 'modesto': 1915, 'modifica': 1916, 'modric': 1917, 'moedas': 1918, 'moicanos': 1919, 'molecada': 1920, 'momento': 1921, 'momo': 1922, 'monitora': 1923, 'monitorar': 1924, 'monta': 1925, 'montagens': 1926, 'montante': 1927, 'monumental': 1928, 'mora': 1929, 'moraes': 1930, 'morata': 1931, 'morato': 1932, 'moreira': 1933, 'morena': 1934, 'morgado': 1935, 'moscas': 1936, 'mostra': 1937, 'mostram': 1938, 'mostrar': 1939, 'moteis': 1940, 'motocicleta': 1941, 'motor': 1942, 'motta': 1943, 'mouhamed': 1944, 'moura': 1945, 'mourinho': 1946, 'movimentacao': 1947, 'movimentos': 1948, 'moyes': 1949, 'muda': 1950, 'mudanca': 1951, 'muita': 1952, 'muito': 1953, 'multado': 1954, 'multicampeao': 1955, 'multipla': 1956, 'multiplan': 1957, 'mundo': 1958, 'mundos': 1959, 'muralha': 1960, 'musa': 1961, 'museu': 1962, 'mutua': 1963, 'mutuo': 1964, 'nadadora': 1965, 'namoro': 1966, 'nanda': 1967, 'nao': 1968, 'narcotrafico': 1969, 'narrador': 1970, 'nas': 1971, 'nasceu': 1972, 'nata': 1973, 'natalino': 1974, 'natel': 1975, 'naturaliza': 1976, 'nautico': 1977, 'navas': 1978, 'navegar': 1979, 'nec': 1980, 'negativo': 1981, 'negligencia': 1982, 'nego': 1983, 'negociadores': 1984, 'negou': 1985, 'negredo': 1986, 'negro': 1987, 'negros': 1988, 'nepotismo': 1989, 'nero': 1990, 'nevada': 1991, 'newey': 1992, 'newgarden': 1993, 'nezinho': 1994, 'nfl': 1995, 'nico': 1996, 'nicolas': 1997, 'nik': 1998, 'nobel': 1999, 'nocauteador': 2000, 'nocauteia': 2001, 'noite': 2002, 'nokia': 2003, 'nome': 2004, 'nomear': 2005, 'nomes': 2006, 'normal': 2007, 'nortao': 2008, 'norteamericana': 2009, 'nortesul': 2010, 'norueguesa': 2011, 'notebook': 2012, 'notificada': 2013, 'nova': 2014, 'noval': 2015, 'novideo': 2016, 'nu': 2017, 'nucleo': 2018, 'nurmagomedov': 2019, 'nuzman': 2020, 'obedecer': 2021, 'objetivos': 2022, 'obriga': 2023, 'observando': 2024, 'obtencao': 2025, 'ocorrencia': 2026, 'oculos': 2027, 'ocupar': 2028, 'odessa': 2029, 'odio': 2030, 'oea': 2031, 'ofensa': 2032, 'ofensivas': 2033, 'ofereceu': 2034, 'okimoto': 2035, 'old': 2036, 'oldair': 2037, 'olho': 2038, 'oliveira': 2039, 'olivia': 2040, 'omb': 2041, 'omitiu': 2042, 'omnes': 2043, 'onda': 2044, 'online': 2045, 'opcao': 2046, 'opera': 2047, 'operador': 2048, 'opinioes': 2049, 'opoe': 2050, 'oponente': 2051, 'oposicao': 2052, 'opositores': 2053, 'orcamento': 2054, 'ordem': 2055, 'ordens': 2056, 'orelha': 2057, 'organizado': 2058, 'oricchio': 2059, 'orquestrada': 2060, 'os': 2061, 'osasco': 2062, 'osorio': 2063, 'otaviano': 2064, 'ottawa': 2065, 'ouro': 2066, 'outros': 2067, 'ovacionado': 2068, 'ovario': 2069, 'oxigenio': 2070, 'paciente': 2071, 'padre': 2072, 'pagarem': 2073, 'pago': 2074, 'paixao': 2075, 'palmas': 2076, 'palmeirense': 2077, 'palmo': 2078, 'panamenha': 2079, 'panelaco': 2080, 'panetone': 2081, 'panetones': 2082, 'paolla': 2083, 'papo': 2084, 'para': 2085, 'parabeniza': 2086, 'parada': 2087, 'paraty': 2088, 'parca': 2089, 'parceiros': 2090, 'parcela': 2091, 'parcerias': 2092, 'parlamentar': 2093, 'parou': 2094, 'parreira': 2095, 'participa': 2096, 'participacoes': 2097, 'particular': 2098, 'partiu': 2099, 'pasadena': 2100, 'pascoa': 2101, 'pasquim': 2102, 'passagem': 2103, 'passaram': 2104, 'passarinhos': 2105, 'passeios': 2106, 'passes': 2107, 'patient': 2108, 'patinetes': 2109, 'patria': 2110, 'patriots': 2111, 'patrocinadora': 2112, 'patrocinios': 2113, 'patroes': 2114, 'paul': 2115, 'pautara': 2116, 'pavilhao': 2117, 'pavorosa': 2118, 'paz': 2119, 'pcdob': 2120, 'pedersoli': 2121, 'pedida': 2122, 'pedir': 2123, 'pediu': 2124, 'pegadinha': 2125, 'pegam': 2126, 'peito': 2127, 'pekerman': 2128, 'pela': 2129, 'peladas': 2130, 'pelo': 2131, 'pena': 2132, 'penaltis': 2133, 'penelope': 2134, 'penn': 2135, 'pensando': 2136, 'pensou': 2137, 'pentefino': 2138, 'pepey': 2139, 'pequenos': 2140, 'perceber': 2141, 'perceberam': 2142, 'percebeu': 2143, 'perdas': 2144, 'perdendo': 2145, 'perdeu': 2146, 'perdida': 2147, 'perdidas': 2148, 'perfeitos': 2149, 'perfis': 2150, 'pergunta': 2151, 'perguntam': 2152, 'perigo': 2153, 'permanencia': 2154, 'permite': 2155, 'perrengue': 2156, 'persepolis': 2157, 'persistir': 2158, 'personalizadas': 2159, 'perto': 2160, 'pes': 2161, 'pesadelo': 2162, 'pesado': 2163, 'pesados': 2164, 'pesageme': 2165, 'peso': 2166, 'pesogalo': 2167, 'pesoleve': 2168, 'pesoporpeso': 2169, 'pesosmoscas': 2170, 'pesquisa': 2171, 'petroleiros': 2172, 'petroleo': 2173, 'petrolina': 2174, 'phelps': 2175, 'philadelphia': 2176, 'piadas': 2177, 'picape': 2178, 'pietro': 2179, 'pilotar': 2180, 'pilotos': 2181, 'pinoquio': 2182, 'pinto': 2183, 'piora': 2184, 'pique': 2185, 'pisa': 2186, 'pista': 2187, 'placas': 2188, 'planalto': 2189, 'planeja': 2190, 'planejamento': 2191, 'plastica': 2192, 'plataforma': 2193, 'plate': 2194, 'play': 2195, 'playstation': 2196, 'pleno': 2197, 'pm': 2198, 'podcasts': 2199, 'podedestronar': 2200, 'podemos': 2201, 'points': 2202, 'pois': 2203, 'polegadas': 2204, 'pomarola': 2205, 'pombo': 2206, 'pontas': 2207, 'pontual': 2208, 'popovich': 2209, 'porque': 2210, 'porta': 2211, 'portabilidade': 2212, 'porto': 2213, 'portugal': 2214, 'posicao': 2215, 'posicionado': 2216, 'posou': 2217, 'possamos': 2218, 'possivel': 2219, 'postal': 2220, 'postamfotos': 2221, 'posts': 2222, 'poupam': 2223, 'poupanca': 2224, 'ppsa': 2225, 'prada': 2226, 'praga': 2227, 'praia': 2228, 'praias': 2229, 'prancheta': 2230, 'prata': 2231, 'pratica': 2232, 'pratto': 2233, 'prazeroso': 2234, 'prazo': 2235, 'precandidato': 2236, 'precario': 2237, 'precatorios': 2238, 'precipitada': 2239, 'precisavamos': 2240, 'precisou': 2241, 'preconceito': 2242, 'preconvocados': 2243, 'preferida': 2244, 'preferir': 2245, 'prefesta': 2246, 'pregao': 2247, 'prejudicar': 2248, 'prejuizo': 2249, 'premiada': 2250, 'preocupados': 2251, 'preocupante': 2252, 'preocupar': 2253, 'preolimpicos': 2254, 'prepara': 2255, 'preparacao': 2256, 'preparam': 2257, 'prepotencia': 2258, 'presal': 2259, 'presente': 2260, 'preservacao': 2261, 'preservativo': 2262, 'presidencia': 2263, 'pressionou': 2264, 'prestigia': 2265, 'preto': 2266, 'prever': 2267, 'previne': 2268, 'previstas': 2269, 'prf': 2270, 'prima': 2271, 'principal': 2272, 'principe': 2273, 'prioriza': 2274, 'prisao': 2275, 'privatizada': 2276, 'processam': 2277, 'proconsp': 2278, 'producao': 2279, 'produto': 2280, 'produtores': 2281, 'programa': 2282, 'progrediu': 2283, 'proiba': 2284, 'prometida': 2285, 'promotor': 2286, 'promovido': 2287, 'propina': 2288, 'propoem': 2289, 'propos': 2290, 'proposto': 2291, 'proprietario': 2292, 'proprios': 2293, 'prorrogar': 2294, 'protagonismo': 2295, 'protagonista': 2296, 'protagonizado': 2297, 'protein': 2298, 'protestar': 2299, 'protesto': 2300, 'prova': 2301, 'provisorias': 2302, 'provoca': 2303, 'provocacao': 2304, 'provocam': 2305, 'provocar': 2306, 'provocou': 2307, 'psg': 2308, 'psl': 2309, 'publicidade': 2310, 'publicitario': 2311, 'publico': 2312, 'pudesse': 2313, 'pulmoes': 2314, 'punicoes': 2315, 'puskas': 2316, 'quadras': 2317, 'quadrimestre': 2318, 'quadrinhos': 2319, 'qualquer': 2320, 'quatro': 2321, 'queimadas': 2322, 'quilometros': 2323, 'quiserem': 2324, 'quitanda': 2325, 'quiz': 2326, 'raca': 2327, 'racao': 2328, 'rachaduras': 2329, 'racing': 2330, 'radar': 2331, 'radicais': 2332, 'rafaela': 2333, 'rafinha': 2334, 'rambinho': 2335, 'rambo': 2336, 'ramiro': 2337, 'rams': 2338, 'rancho': 2339, 'rancor': 2340, 'rangel': 2341, 'ranger': 2342, 'ranking': 2343, 'raposa': 2344, 'raspa': 2345, 'rastreamento': 2346, 'razao': 2347, 'razoavel': 2348, 'reagir': 2349, 'realista': 2350, 'reality': 2351, 'realizada': 2352, 'realizara': 2353, 'realocados': 2354, 'realocar': 2355, 'reapresenta': 2356, 'reavaliado': 2357, 'reavaliar': 2358, 'reaver': 2359, 'rebaixada': 2360, 'rebeca': 2361, 'rebocado': 2362, 'reboucas': 2363, 'recaptcha': 2364, 'recebem': 2365, 'recebera': 2366, 'receios': 2367, 'receitas': 2368, 'recemcontratado': 2369, 'recemnascida': 2370, 'recemnascido': 2371, 'recessao': 2372, 'reclamacao': 2373, 'reconhece': 2374, 'recorda': 2375, 'recorde': 2376, 'recorrer': 2377, 'recrutar': 2378, 'recua': 2379, 'recuam': 2380, 'recuo': 2381, 'redefinir': 2382, 'redimirem': 2383, 'reedicao': 2384, 'reencontro': 2385, 'reerguer': 2386, 'reestreia': 2387, 'referencia': 2388, 'referindose': 2389, 'referiu': 2390, 'refez': 2391, 'refinaria': 2392, 'refino': 2393, 'reflete': 2394, 'refletir': 2395, 'reforcar': 2396, 'reformas': 2397, 'reformulado': 2398, 'regiao': 2399, 'regimento': 2400, 'regional': 2401, 'registros': 2402, 'regra': 2403, 'regras': 2404, 'regressiva': 2405, 'rei': 2406, 'reintegra': 2407, 'reis': 2408, 'reitera': 2409, 'rejeita': 2410, 'rejeitam': 2411, 'relacionamento': 2412, 'relacionando': 2413, 'relatados': 2414, 'relataram': 2415, 'relaxamento': 2416, 'relaxar': 2417, 'relogio': 2418, 'remam': 2419, 'remedio': 2420, 'remove': 2421, 'remover': 2422, 'renais': 2423, 'render': 2424, 'renegociacao': 2425, 'renegociar': 2426, 'renova': 2427, 'renovado': 2428, 'renunciara': 2429, 'repassara': 2430, 'repasse': 2431, 'repassem': 2432, 'repasses': 2433, 'repleto': 2434, 'reportagem': 2435, 'represalias': 2436, 'representam': 2437, 'repudia': 2438, 'rescindir': 2439, 'rescindiram': 2440, 'resgata': 2441, 'residencia': 2442, 'residencial': 2443, 'resolvido': 2444, 'resolvidos': 2445, 'respeitado': 2446, 'respeitosas': 2447, 'responda': 2448, 'responde': 2449, 'responder': 2450, 'responsabilizada': 2451, 'ressalvas': 2452, 'ressurgir': 2453, 'restaurantes': 2454, 'resultado': 2455, 'resumem': 2456, 'retirada': 2457, 'retirados': 2458, 'retiro': 2459, 'retomei': 2460, 'retorna': 2461, 'retrato': 2462, 'reveja': 2463, 'revela': 2464, 'reverteu': 2465, 'reviravolta': 2466, 'revisita': 2467, 'revoga': 2468, 'revolucionando': 2469, 'revolucionar': 2470, 'rezende': 2471, 'ribeirao': 2472, 'rica': 2473, 'risadas': 2474, 'riscado': 2475, 'riso': 2476, 'rita': 2477, 'rixa': 2478, 'rizin': 2479, 'rizzi': 2480, 'rj': 2481, 'rn': 2482, 'robben': 2483, 'rocha': 2484, 'rochele': 2485, 'rockhold': 2486, 'rocky': 2487, 'rodovias': 2488, 'rodrigo': 2489, 'romagnoli': 2490, 'romantica': 2491, 'romario': 2492, 'romenia': 2493, 'rompeu': 2494, 'rondae': 2495, 'rondonia': 2496, 'rondoniense': 2497, 'ronny': 2498, 'rooney': 2499, 'rory': 2500, 'rose': 2501, 'ross': 2502, 'rossi': 2503, 'rosto': 2504, 'rostov': 2505, 'rota': 2506, 'rotas': 2507, 'rotina': 2508, 'rotulo': 2509, 'rouba': 2510, 'roubada': 2511, 'roupa': 2512, 'roxo': 2513, 'roy': 2514, 'rs': 2515, 'rubronegro': 2516, 'rueda': 2517, 'rugby': 2518, 'ruim': 2519, 'ruins': 2520, 'ruiz': 2521, 'rural': 2522, 'russell': 2523, 'ruy': 2524, 'sa': 2525, 'sabado': 2526, 'sacados': 2527, 'sacaneia': 2528, 'sacyr': 2529, 'safadao': 2530, 'sagra': 2531, 'sai': 2532, 'saiajusta': 2533, 'saiba': 2534, 'saidade': 2535, 'saintgermain': 2536, 'salgados': 2537, 'salmin': 2538, 'salta': 2539, 'salvador': 2540, 'salvar': 2541, 'salvei': 2542, 'salvio': 2543, 'salzburg': 2544, 'samba': 2545, 'sambaenredo': 2546, 'sancionada': 2547, 'sandoval': 2548, 'sandy': 2549, 'saneamento': 2550, 'sangra': 2551, 'sangue': 2552, 'santoro': 2553, 'santos': 2554, 'santuario': 2555, 'sanz': 2556, 'sapo': 2557, 'saque': 2558, 'saques': 2559, 'sarafian': 2560, 'saraiva': 2561, 'sarney': 2562, 'satelite': 2563, 'saudade': 2564, 'scarpa': 2565, 'scherer': 2566, 'schumi': 2567, 'se': 2568, 'secar': 2569, 'secreta': 2570, 'secreto': 2571, 'seculo': 2572, 'sede': 2573, 'sedes': 2574, 'seduz': 2575, 'segall': 2576, 'segovia': 2577, 'seguem': 2578, 'seguidores': 2579, 'seguidos': 2580, 'seguranca': 2581, 'segurancas': 2582, 'segurar': 2583, 'segurodesemprego': 2584, 'selebaba': 2585, 'seletiva': 2586, 'seleto': 2587, 'selfie': 2588, 'selo': 2589, 'semelhantes': 2590, 'semifinais': 2591, 'semis': 2592, 'senadores': 2593, 'sendo': 2594, 'senegal': 2595, 'senil': 2596, 'sensacao': 2597, 'sensacional': 2598, 'sensual': 2599, 'sensualidade': 2600, 'sentem': 2601, 'sentir': 2602, 'sepang': 2603, 'separada': 2604, 'sequestrado': 2605, 'seriam': 2606, 'sertanejo': 2607, 'sertoes': 2608, 'serve': 2609, 'servia': 2610, 'servico': 2611, 'servicos': 2612, 'servio': 2613, 'sessenta': 2614, 'sexismo': 2615, 'sextou': 2616, 'sexy': 2617, 'shallow': 2618, 'shamrock': 2619, 'shandong': 2620, 'sharenting': 2621, 'sheffiled': 2622, 'shevchenko': 2623, 'shields': 2624, 'shlemenko': 2625, 'shogun': 2626, 'shoppings': 2627, 'siemsen': 2628, 'silenciar': 2629, 'silicio': 2630, 'simas': 2631, 'simbolo': 2632, 'simbolos': 2633, 'simona': 2634, 'simone': 2635, 'simplifica': 2636, 'simulacao': 2637, 'sinaliza': 2638, 'sindicatos': 2639, 'sinop': 2640, 'sinto': 2641, 'sistematica': 2642, 'site': 2643, 'slice': 2644, 'slim': 2645, 'smartphone': 2646, 'smashes': 2647, 'snapchat': 2648, 'soaresmelo': 2649, 'sob': 2650, 'sobretaxa': 2651, 'sobrevida': 2652, 'sobrevivente': 2653, 'sochi': 2654, 'sociotorcedor': 2655, 'socorro': 2656, 'sofrendo': 2657, 'sofria': 2658, 'sofrimento': 2659, 'solicitar': 2660, 'somaram': 2661, 'sonegacao': 2662, 'sonha': 2663, 'sonho': 2664, 'sonnen': 2665, 'sorgo': 2666, 'sosia': 2667, 'soubak': 2668, 'soy': 2669, 'spc': 2670, 'spencer': 2671, 'splitter': 2672, 'sportv': 2673, 'spurs': 2674, 'st': 2675, 'startup': 2676, 'strada': 2677, 'stuttgart': 2678, 'suado': 2679, 'sub': 2680, 'subirem': 2681, 'submundo': 2682, 'substitui': 2683, 'substituida': 2684, 'substituido': 2685, 'suco': 2686, 'sudeste': 2687, 'suja': 2688, 'sujeito': 2689, 'sulamericano': 2690, 'suns': 2691, 'super': 2692, 'superado': 2693, 'superioridade': 2694, 'superlicenca': 2695, 'superliga': 2696, 'supermoderna': 2697, 'suporto': 2698, 'suposta': 2699, 'surfando': 2700, 'surfista': 2701, 'surge': 2702, 'surpreendido': 2703, 'surpresas': 2704, 'surtado': 2705, 'susie': 2706, 'suspeitas': 2707, 'suspenda': 2708, 'suspendem': 2709, 'suspender': 2710, 'suspensas': 2711, 'sustentar': 2712, 'susto': 2713, 'sustos': 2714, 'swansea': 2715, 'swift': 2716, 'sylvinho': 2717, 'szabo': 2718, 'tabelamento': 2719, 'tablets': 2720, 'talentos': 2721, 'tande': 2722, 'tantos': 2723, 'tarefas': 2724, 'tatame': 2725, 'tatum': 2726, 'taxacao': 2727, 'taxar': 2728, 'taxi': 2729, 'taxistas': 2730, 'teatral': 2731, 'tecnica': 2732, 'tecnologico': 2733, 'tecnologicos': 2734, 'teixeira': 2735, 'telebras': 2736, 'telo': 2737, 'tema': 2738, 'temas': 2739, 'tempestade': 2740, 'tendao': 2741, 'tendencias': 2742, 'tensao': 2743, 'tenso': 2744, 'tentei': 2745, 'teori': 2746, 'teralista': 2747, 'terashakira': 2748, 'terceira': 2749, 'terceirona': 2750, 'teria': 2751, 'termeletricas': 2752, 'termicas': 2753, 'terminado': 2754, 'terminou': 2755, 'terno': 2756, 'terrorismo': 2757, 'tessalia': 2758, 'testara': 2759, 'testiculo': 2760, 'teve': 2761, 'texas': 2762, 'thaila': 2763, 'thavyne': 2764, 'thomas': 2765, 'thominhas': 2766, 'thunder': 2767, 'tibauquer': 2768, 'tiffany': 2769, 'tigre': 2770, 'timao': 2771, 'tira': 2772, 'tiraram': 2773, 'tire': 2774, 'titas': 2775, 'titi': 2776, 'titulo': 2777, 'tivesse': 2778, 'tj': 2779, 'tjdrj': 2780, 'toco': 2781, 'todos': 2782, 'tolima': 2783, 'tolo': 2784, 'tomara': 2785, 'tomarem': 2786, 'tomas': 2787, 'toneladas': 2788, 'torcedor': 2789, 'torcedores': 2790, 'torcidada': 2791, 'torino': 2792, 'tornar': 2793, 'tornei': 2794, 'torneio': 2795, 'torturante': 2796, 'totais': 2797, 'trabalha': 2798, 'trabalho': 2799, 'tracos': 2800, 'trafego': 2801, 'tragedias': 2802, 'transexuais': 2803, 'transplante': 2804, 'transportadores': 2805, 'trapaca': 2806, 'tras': 2807, 'tratativa': 2808, 'trauco': 2809, 'traves': 2810, 'travis': 2811, 'traz': 2812, 'trazem': 2813, 'treina': 2814, 'treinador': 2815, 'treinadores': 2816, 'treinamentos': 2817, 'treinos': 2818, 'trem': 2819, 'tremia': 2820, 'trend': 2821, 'tribunais': 2822, 'tributos': 2823, 'trio': 2824, 'tripla': 2825, 'triplex': 2826, 'triplosduplos': 2827, 'triste': 2828, 'trocaria': 2829, 'trocou': 2830, 'trofeu': 2831, 'trofeus': 2832, 'tropeca': 2833, 'trouxe': 2834, 'trt': 2835, 'trujillo': 2836, 'truque': 2837, 'tudo': 2838, 'tuf': 2839, 'tuivasa': 2840, 'turinabol': 2841, 'tyrone': 2842, 'tyson': 2843, 'u': 2844, 'ucranianos': 2845, 'uisque': 2846, 'unibanco': 2847, 'unidos': 2848, 'unificacao': 2849, 'uniformes': 2850, 'union': 2851, 'uniu': 2852, 'universidades': 2853, 'update': 2854, 'urbana': 2855, 'urijah': 2856, 'uruguai': 2857, 'usa': 2858, 'usman': 2859, 'uti': 2860, 'util': 2861, 'utilizada': 2862, 'utilizara': 2863, 'va': 2864, 'vacinado': 2865, 'vaiado': 2866, 'valcke': 2867, 'valdiram': 2868, 'valec': 2869, 'valente': 2870, 'valiosos': 2871, 'valle': 2872, 'valor': 2873, 'valverde': 2874, 'valvula': 2875, 'vamos': 2876, 'vandick': 2877, 'vandoorne': 2878, 'vaquejada': 2879, 'var': 2880, 'vardy': 2881, 'varia': 2882, 'varrer': 2883, 'vascaino': 2884, 'vasconcelloso': 2885, 'vaza': 2886, 'vazam': 2887, 'veganos': 2888, 'vegetativo': 2889, 'veja': 2890, 'velha': 2891, 'velhos': 2892, 'vencedores': 2893, 'venceu': 2894, 'venda': 2895, 'vendidas': 2896, 'venezuelano': 2897, 'vera': 2898, 'verao': 2899, 'verdade': 2900, 'verdes': 2901, 'versatil': 2902, 'versoes': 2903, 'verstappen': 2904, 'vertebra': 2905, 'vetara': 2906, 'vetem': 2907, 'vetos': 2908, 'viabiliza': 2909, 'viagens': 2910, 'vibracao': 2911, 'vicegovernador': 2912, 'vicelider': 2913, 'viciado': 2914, 'viciando': 2915, 'victory': 2916, 'video': 2917, 'viena': 2918, 'vies': 2919, 'vietna': 2920, 'vigilancia': 2921, 'villani': 2922, 'vindo': 2923, 'vinganca': 2924, 'vinheta': 2925, 'vinho': 2926, 'vinicius': 2927, 'violentas': 2928, 'violentos': 2929, 'viralizou': 2930, 'viram': 2931, 'virtude': 2932, 'visivelmente': 2933, 'vissel': 2934, 'vistoria': 2935, 'vital': 2936, 'vitima': 2937, 'vitimas': 2938, 'vitor': 2939, 'vitoria': 2940, 'vivem': 2941, 'vocalista': 2942, 'volpi': 2943, 'volta': 2944, 'voltado': 2945, 'voltara': 2946, 'voltaria': 2947, 'volto': 2948, 'votar': 2949, 'vou': 2950, 'vpnfilter': 2951, 'w': 2952, 'walt': 2953, 'walter': 2954, 'warley': 2955, 'warner': 2956, 'warriors': 2957, 'waters': 2958, 'wellington': 2959, 'wells': 2960, 'wenger': 2961, 'werder': 2962, 'weverton': 2963, 'whey': 2964, 'wickr': 2965, 'wiggolly': 2966, 'wijnaldum': 2967, 'willians': 2968, 'wimbledon': 2969, 'wolff': 2970, 'woods': 2971, 'works': 2972, 'world': 2973, 'wyllys': 2974, 'xeque': 2975, 'xfci': 2976, 'ximenes': 2977, 'xinga': 2978, 'xingados': 2979, 'xuxa': 2980, 'yoel': 2981, 'yony': 2982, 'young': 2983, 'z': 2984, 'zabit': 2985, 'zago': 2986, 'zagueira': 2987, 'zagueiros': 2988, 'zanetti': 2989, 'zap': 2990, 'zapata': 2991, 'ze': 2992, 'zeca': 2993, 'zera': 2994, 'zica': 2995, 'zika': 2996, 'zorro': 2997, 'zotto': 2998, 'zuniga': 2999}\n",
            "O input: Mesmo com alta do dólar, gastos de brasileiros no exterior batem recorde\n",
            "O Token do input: [0, 0, 115, 0, 0, 1338, 762, 414, 0, 1154, 0, 2376]\n",
            "O decode do Token do input: ['<OAV>', '<OAV>', 'alta', '<OAV>', '<OAV>', 'gastos', 'de', 'brasileiros', '<OAV>', 'exterior', '<OAV>', 'recorde']\n"
          ],
          "name": "stdout"
        },
        {
          "output_type": "stream",
          "text": [
            "/usr/local/lib/python3.7/dist-packages/ipykernel_launcher.py:54: VisibleDeprecationWarning: Creating an ndarray from ragged nested sequences (which is a list-or-tuple of lists-or-tuples-or ndarrays with different lengths or shapes) is deprecated. If you meant to do this, you must specify 'dtype=object' when creating the ndarray\n"
          ],
          "name": "stderr"
        }
      ]
    },
    {
      "cell_type": "code",
      "metadata": {
        "id": "lUzqx4kdsfFZ"
      },
      "source": [
        "#@title Dados(cript_data): Ethereum Historical Data.csv\n",
        "\n",
        "cript_data.head()"
      ],
      "execution_count": null,
      "outputs": []
    },
    {
      "cell_type": "markdown",
      "metadata": {
        "id": "rGhT3eFX4lyu"
      },
      "source": [
        "### Tratamento Historico_de_materias.csv"
      ]
    },
    {
      "cell_type": "code",
      "metadata": {
        "id": "YV2DJ2cqu32h"
      },
      "source": [
        "#@title Dados(materias_data): Historico_de_materias.csv\n",
        "materias_data.head()"
      ],
      "execution_count": null,
      "outputs": []
    },
    {
      "cell_type": "code",
      "metadata": {
        "id": "pirlCPfptiF5",
        "colab": {
          "base_uri": "https://localhost:8080/"
        },
        "outputId": "8c8a177c-67a0-46f4-80ca-935cfe41f7e2"
      },
      "source": [
        "### Noticias dados\n",
        "materias_data.shape\n",
        "# Quantos assuntos\n",
        "len(materias_data['assunto'].unique())\n",
        "\n",
        "# Assuntos\n",
        "assuntos_tokenizer = Tokenizer(char_level=False, lower=True)\n",
        "assuntos_tokenizer.fit_on_texts(materias_data['assunto'])\n",
        "\n",
        "dictionary_Encoder = assuntos_tokenizer.word_index\n",
        "\n",
        "assuntos_tk = assuntos_tokenizer.texts_to_sequences(materias_data['assunto'][0:1])\n",
        "assuntos_tx = assuntos_tokenizer.sequences_to_texts(assuntos_tk)\n",
        "\n",
        "print(dictionary_Encoder)\n",
        "print(f'O input: {materias_data[\"assunto\"][0]}')\n",
        "print(f'O Token do input: {assuntos_tk}')\n",
        "print(f'O decode do Token do input: {assuntos_tx}')\n",
        "\n",
        "n = len(dictionary_Encoder)\n",
        "\n",
        "assuntos_tk = assuntos_tokenizer.texts_to_sequences(materias_data['assunto'])\n",
        "assuntos_tk = np.array(assuntos_tk)\n",
        "assuntos_tk = assuntos_tk.squeeze()\n",
        "\n",
        "hot_assuntos = np.array(one_hot_encode_K(assuntos_tk, n))\n",
        "\n",
        "hot_assuntos.shape\n",
        "\n",
        "print('\\n')\n",
        "\n",
        "# Titulo\n",
        "\n",
        "materias_data['titulo'].shape\n",
        "\n",
        "titulo_tokenizer = Tokenizer_text()\n",
        "titulos_tk = titulo_tokenizer.treat_data(materias_data['titulo'], max_vocab = 3000)\n",
        "\n",
        "\n",
        "dictionary_Encoder = titulo_tokenizer.dic\n",
        "len(dictionary_Encoder)\n",
        "\n",
        "titulo_tx = titulo_tokenizer.idx2text(titulos_tk[0])\n",
        "\n",
        "\n",
        "print(dictionary_Encoder)\n",
        "print(f'O input: {materias_data[\"titulo\"][0]}')\n",
        "print(f'O Token do input: {titulos_tk[0]}')\n",
        "print(f'O decode do Token do input: {titulo_tx}')\n",
        "\n",
        "n = len(dictionary_Encoder)\n",
        "\n",
        "\n",
        "hot_titulos = np.array([np.array(one_hot_encode(x, n)) for x in titulos_tk ])"
      ],
      "execution_count": 7,
      "outputs": [
        {
          "output_type": "stream",
          "text": [
            "{'esportes': 1, 'economia': 2, 'politica': 3, 'tecnologia': 4, 'famosos': 5}\n",
            "O input: economia\n",
            "O Token do input: [[2]]\n",
            "O decode do Token do input: ['economia']\n",
            "\n",
            "\n",
            "{'<OAV>': 0, 'abaixo': 1, 'abalado': 2, 'abastecer': 3, 'abatido': 4, 'abdiquei': 5, 'aberta': 6, 'aberto': 7, 'abertos': 8, 'abertura': 9, 'abono': 10, 'abortar': 11, 'abpa': 12, 'abracadinha': 13, 'abriga': 14, 'absolutos': 15, 'abstencao': 16, 'abusa': 17, 'abutres': 18, 'acabaria': 19, 'acabe': 20, 'acabo': 21, 'access': 22, 'acende': 23, 'acessaram': 24, 'acesso': 25, 'acham': 26, 'acho': 27, 'acirra': 28, 'acirrar': 29, 'aciv': 30, 'aclamacao': 31, 'acoes': 32, 'acontecem': 33, 'acontecendo': 34, 'acontecer': 35, 'aconteceu': 36, 'acordo': 37, 'acostumados': 38, 'acougueiro': 39, 'acreditamos': 40, 'acrescentar': 41, 'acumularam': 42, 'acusar': 43, 'adel': 44, 'adelaide': 45, 'adere': 46, 'aderiram': 47, 'adiar': 48, 'adicionados': 49, 'adicionar': 50, 'adidas': 51, 'adivinhar': 52, 'administra': 53, 'administrador': 54, 'admiraveis': 55, 'adrenalina': 56, 'adrian': 57, 'adutor': 58, 'adversarios': 59, 'aecio': 60, 'aerohonda': 61, 'afagam': 62, 'afastado': 63, 'afeta': 64, 'afetado': 65, 'afetados': 66, 'afirma': 67, 'aflicao': 68, 'aflitos': 69, 'afonso': 70, 'afronta': 71, 'agatha': 72, 'agathaduda': 73, 'agencia': 74, 'agencias': 75, 'agendada': 76, 'agilizar': 77, 'agitado': 78, 'agitam': 79, 'agradecimento': 80, 'agredidos': 81, 'agressao': 82, 'agressiva': 83, 'agressoes': 84, 'agu': 85, 'aguardam': 86, 'aguero': 87, 'aguilar': 88, 'aguirre': 89, 'ajoelha': 90, 'ajuiza': 91, 'akim': 92, 'ala': 93, 'alagoas': 94, 'alas': 95, 'alcanca': 96, 'alckmin': 97, 'aldo': 98, 'aleatorio': 99, 'alem': 100, 'alemanha': 101, 'alemao': 102, 'alexandre': 103, 'alfarroba': 104, 'alfineta': 105, 'alguns': 106, 'alias': 107, 'alisson': 108, 'almeida': 109, 'almoca': 110, 'aloizio': 111, 'alok': 112, 'alonso': 113, 'alpargatas': 114, 'alta': 115, 'alucinante': 116, 'aluguel': 117, 'aluminio': 118, 'alusao': 119, 'alvarez': 120, 'alvoroco': 121, 'alvos': 122, 'amadeu': 123, 'amado': 124, 'amadurecimento': 125, 'amapaenses': 126, 'amarela': 127, 'amarelos': 128, 'amargo': 129, 'amarilla': 130, 'amassa': 131, 'amassar': 132, 'amazon': 133, 'ambicao': 134, 'ambiental': 135, 'ambientalistas': 136, 'ambiente': 137, 'ambulancia': 138, 'ameaca': 139, 'ameacada': 140, 'ameacado': 141, 'ameacar': 142, 'amedronta': 143, 'america': 144, 'american': 145, 'amigo': 146, 'amor': 147, 'amoroso': 148, 'amplia': 149, 'ampliam': 150, 'ampliar': 151, 'amuleto': 152, 'anabolizantes': 153, 'analisados': 154, 'analisar': 155, 'anao': 156, 'andre': 157, 'angelina': 158, 'angustia': 159, 'anjos': 160, 'anonimas': 161, 'anselmo': 162, 'ansiedade': 163, 'antecipado': 164, 'antecipar': 165, 'antecipou': 166, 'anticorrupcao': 167, 'antidoping': 168, 'antigos': 169, 'antirronco': 170, 'antony': 171, 'antt': 172, 'antunes': 173, 'anuais': 174, 'anuencia': 175, 'anular': 176, 'anunciam': 177, 'anunciantes': 178, 'anuncio': 179, 'anvisa': 180, 'ap': 181, 'apaga': 182, 'apagava': 183, 'apaixonada': 184, 'apegada': 185, 'apenas': 186, 'apendicite': 187, 'aperitivo': 188, 'apice': 189, 'apitar': 190, 'aplausos': 191, 'aplicativo': 192, 'apoiadores': 193, 'apoiar': 194, 'apoiara': 195, 'apontando': 196, 'aposentadoria': 197, 'aposentadorias': 198, 'aposentados': 199, 'aposentando': 200, 'aposta': 201, 'aposte': 202, 'apple': 203, 'apreciado': 204, 'apreensao': 205, 'aprender': 206, 'apresentacao': 207, 'apresentarem': 208, 'aprimorar': 209, 'aproveitamento': 210, 'aptas': 211, 'apurar': 212, 'aquecido': 213, 'aquela': 214, 'aquino': 215, 'arancam': 216, 'aras': 217, 'arbitro': 218, 'areia': 219, 'arestas': 220, 'argelia': 221, 'armador': 222, 'armazenamento': 223, 'armazens': 224, 'arouca': 225, 'arquiteto': 226, 'arquivados': 227, 'arquivar': 228, 'arranca': 229, 'arrase': 230, 'arrastar': 231, 'arrecada': 232, 'arrecadar': 233, 'arrematada': 234, 'arrependimento': 235, 'arritmia': 236, 'arte': 237, 'articulam': 238, 'artificial': 239, 'artistica': 240, 'artisticos': 241, 'arvore': 242, 'ascensao': 243, 'asiaticas': 244, 'asing': 245, 'aspas': 246, 'assaltado': 247, 'assedio': 248, 'assegurar': 249, 'assembleia': 250, 'assessores': 251, 'assis': 252, 'assiste': 253, 'associcao': 254, 'assumem': 255, 'assumir': 256, 'assumiu': 257, 'assuncao': 258, 'assuntos': 259, 'astro': 260, 'atacaram': 261, 'ate': 262, 'athletico': 263, 'atibaia': 264, 'atingidos': 265, 'atingiu': 266, 'atira': 267, 'atitude': 268, 'atletiba': 269, 'atleticano': 270, 'ato': 271, 'atras': 272, 'atribuidos': 273, 'atriz': 274, 'atropela': 275, 'atua': 276, 'atualizacoes': 277, 'atualizar': 278, 'atuara': 279, 'auckland': 280, 'audio': 281, 'auditar': 282, 'auditor': 283, 'audrei': 284, 'augustin': 285, 'augusto': 286, 'aumentara': 287, 'aumentaram': 288, 'ausente': 289, 'austera': 290, 'australianas': 291, 'austria': 292, 'austriaca': 293, 'austriaco': 294, 'autoanalise': 295, 'automatica': 296, 'automatizado': 297, 'autorizacao': 298, 'autorizar': 299, 'auxiliartecnico': 300, 'auxilie': 301, 'aval': 302, 'avaliados': 303, 'avaliara': 304, 'avalie': 305, 'aventura': 306, 'aviacao': 307, 'ayrton': 308, 'azeite': 309, 'azevedo': 310, 'azul': 311, 'b': 312, 'bacana': 313, 'badalado': 314, 'bader': 315, 'baggio': 316, 'bahia': 317, 'baixados': 318, 'baixarem': 319, 'baixe': 320, 'baku': 321, 'balanco': 322, 'baleado': 323, 'bamgbose': 324, 'banca': 325, 'bancarios': 326, 'bandeiraco': 327, 'bandeirada': 328, 'bandeiras': 329, 'banheiro': 330, 'banho': 331, 'baptista': 332, 'barack': 333, 'barbarie': 334, 'barbieri': 335, 'barboza': 336, 'barrado': 337, 'barreira': 338, 'barros': 339, 'bartomeu': 340, 'batalha': 341, 'bateestaca': 342, 'bateram': 343, 'bayer': 344, 'bbb': 345, 'bbc': 346, 'beach': 347, 'bebado': 348, 'beckham': 349, 'beijam': 350, 'beira': 351, 'belezas': 352, 'ben': 353, 'bendine': 354, 'benedetto': 355, 'beneficentes': 356, 'beneficiado': 357, 'beneficiar': 358, 'benicio': 359, 'benitez': 360, 'bento': 361, 'berco': 362, 'bernard': 363, 'bertolli': 364, 'besouro': 365, 'betinense': 366, 'beto': 367, 'bh': 368, 'bi': 369, 'bicampea': 370, 'bielsa': 371, 'bigode': 372, 'biles': 373, 'bilionaria': 374, 'bin': 375, 'binance': 376, 'biofeedback': 377, 'biologo': 378, 'biometrico': 379, 'biometricos': 380, 'bira': 381, 'bird': 382, 'biro': 383, 'bitcoin': 384, 'bj': 385, 'blade': 386, 'blog': 387, 'bloqueia': 388, 'bode': 389, 'boetsch': 390, 'boletim': 391, 'boletins': 392, 'boleto': 393, 'bolo': 394, 'bologna': 395, 'bom': 396, 'bombas': 397, 'bone': 398, 'boni': 399, 'bonito': 400, 'bons': 401, 'borrachinha': 402, 'borussia': 403, 'botafogosp': 404, 'boticario': 405, 'braco': 406, 'brad': 407, 'bragantino': 408, 'brait': 409, 'brasileirae': 410, 'brasileirinho': 411, 'brasileiro': 412, 'brasileirofica': 413, 'brasileiros': 414, 'braulio': 415, 'breese': 416, 'brenner': 417, 'brigar': 418, 'brilho': 419, 'brinca': 420, 'brinquedo': 421, 'britanica': 422, 'britney': 423, 'brocador': 424, 'bromwich': 425, 'bronzeado': 426, 'bronzes': 427, 'brothers': 428, 'brusque': 429, 'buffon': 430, 'bulls': 431, 'bunitinho': 432, 'buraco': 433, 'buracos': 434, 'burns': 435, 'busca': 436, 'buscam': 437, 'cabide': 438, 'cacado': 439, 'cacar': 440, 'cacarato': 441, 'cacas': 442, 'caceres': 443, 'cachoeira': 444, 'cachorrinhos': 445, 'cachorroquente': 446, 'caco': 447, 'cactus': 448, 'cade': 449, 'cadeado': 450, 'cadeira': 451, 'cadeiras': 452, 'cafona': 453, 'cai': 454, 'caia': 455, 'caio': 456, 'caixapreta': 457, 'cala': 458, 'calamidade': 459, 'calaram': 460, 'calazans': 461, 'calcanhar': 462, 'calcio': 463, 'calculos': 464, 'calejado': 465, 'calheiros': 466, 'calibrada': 467, 'calmas': 468, 'calorias': 469, 'camaroes': 470, 'camas': 471, 'cambial': 472, 'cambista': 473, 'cambridge': 474, 'cameras': 475, 'camex': 476, 'caminha': 477, 'caminham': 478, 'caminhaobau': 479, 'caminhos': 480, 'camozzi': 481, 'campeonato': 482, 'campeonatos': 483, 'campo': 484, 'camuflagem': 485, 'cana': 486, 'canais': 487, 'cancelamento': 488, 'cancelar': 489, 'candidato': 490, 'candidatura': 491, 'candidaturae': 492, 'canhoes': 493, 'canhota': 494, 'canoagem': 495, 'canoas': 496, 'cansa': 497, 'cantadas': 498, 'cantora': 499, 'capacidade': 500, 'capapreta': 501, 'capilar': 502, 'capita': 503, 'capivari': 504, 'capri': 505, 'caraglio': 506, 'carano': 507, 'carbonero': 508, 'carcerario': 509, 'cardapio': 510, 'cardiaco': 511, 'carf': 512, 'cargas': 513, 'cargo': 514, 'cargos': 515, 'caribe': 516, 'caribenhos': 517, 'cariocaboavista': 518, 'cariocas': 519, 'carlo': 520, 'carmelo': 521, 'carmen': 522, 'carrasco': 523, 'carrega': 524, 'carreira': 525, 'carreno': 526, 'carta': 527, 'cartaoe': 528, 'cartolas': 529, 'cas': 530, 'casa': 531, 'casaco': 532, 'casam': 533, 'casamento': 534, 'casaram': 535, 'cassar': 536, 'castigo': 537, 'categoria': 538, 'categorias': 539, 'caterham': 540, 'catolica': 541, 'catolicos': 542, 'cauan': 543, 'cauboi': 544, 'cavaleiro': 545, 'caxumbaos': 546, 'cedido': 547, 'cedo': 548, 'celebra': 549, 'celso': 550, 'celulares': 551, 'cena': 552, 'cenas': 553, 'centenas': 554, 'cento': 555, 'cercada': 556, 'cerebro': 557, 'cerrone': 558, 'cervero': 559, 'cesp': 560, 'cezar': 561, 'chamar': 562, 'chamberlain': 563, 'chapeuzinho': 564, 'charles': 565, 'checamos': 566, 'chefao': 567, 'chefe': 568, 'chegando': 569, 'chego': 570, 'cheia': 571, 'cher': 572, 'china': 573, 'chinaeua': 574, 'chinelo': 575, 'chines': 576, 'chutar': 577, 'chutes': 578, 'ciclista': 579, 'cidade': 580, 'cifrao': 581, 'cinemas': 582, 'cirurgia': 583, 'cita': 584, 'civica': 585, 'clarin': 586, 'classicorei': 587, 'cleber': 588, 'cleo': 589, 'clientes': 590, 'clinicas': 591, 'clipe': 592, 'cliques': 593, 'cnc': 594, 'cnmp': 595, 'cobrancas': 596, 'cobrar': 597, 'coercitiva': 598, 'cogitados': 599, 'coibir': 600, 'cola': 601, 'colar': 602, 'colby': 603, 'coletivo': 604, 'colin': 605, 'colocar': 606, 'colorados': 607, 'comandam': 608, 'comeca': 609, 'comediante': 610, 'comemoram': 611, 'comemorar': 612, 'comentar': 613, 'comentou': 614, 'comercial': 615, 'comercializava': 616, 'cometeu': 617, 'cometida': 618, 'como': 619, 'companhia': 620, 'compara': 621, 'compare': 622, 'compatriota': 623, 'competencia': 624, 'completa': 625, 'completo': 626, 'complicam': 627, 'comportamento': 628, 'compra': 629, 'compram': 630, 'comprometida': 631, 'comum': 632, 'comunica': 633, 'comunicativo': 634, 'comunitarias': 635, 'comunitario': 636, 'concentracao': 637, 'concluida': 638, 'concluido': 639, 'condecorado': 640, 'condena': 641, 'condenacoes': 642, 'condenavel': 643, 'condit': 644, 'condiz': 645, 'confessa': 646, 'confiante': 647, 'configuracao': 648, 'confirma': 649, 'confundiu': 650, 'congonhas': 651, 'conhece': 652, 'conhecem': 653, 'conhecidos': 654, 'conquistas': 655, 'consciencia': 656, 'conscientize': 657, 'conselhao': 658, 'consenso': 659, 'considera': 660, 'console': 661, 'consome': 662, 'conspiracao': 663, 'constitucionalmente': 664, 'construir': 665, 'consulta': 666, 'consultoria': 667, 'contaminacao': 668, 'contas': 669, 'contatos': 670, 'contem': 671, 'conter': 672, 'contexto': 673, 'contido': 674, 'continuo': 675, 'contorce': 676, 'contracena': 677, 'contramao': 678, 'contrariar': 679, 'contratacao': 680, 'contratou': 681, 'contratual': 682, 'contribuicao': 683, 'controladora': 684, 'controlam': 685, 'controles': 686, 'convencao': 687, 'convencer': 688, 'conversa': 689, 'convidara': 690, 'convites': 691, 'convoca': 692, 'convocacoes': 693, 'convulsao': 694, 'cookie': 695, 'coordenacao': 696, 'coordenador': 697, 'copiar': 698, 'copinha': 699, 'coreografia': 700, 'coritiba': 701, 'coroar': 702, 'corporal': 703, 'corra': 704, 'corredores': 705, 'correia': 706, 'cortes': 707, 'cortez': 708, 'costurado': 709, 'cotado': 710, 'cova': 711, 'cover': 712, 'cowboy': 713, 'cozinha': 714, 'cpf': 715, 'cpmf': 716, 'crava': 717, 'crb': 718, 'cre': 719, 'credito': 720, 'creem': 721, 'crescem': 722, 'crescer': 723, 'crespo': 724, 'criancas': 725, 'criminalidade': 726, 'criminosa': 727, 'criptografia': 728, 'cristiane': 729, 'croacia': 730, 'crocota': 731, 'crossfit': 732, 'crucis': 733, 'cruzeiro': 734, 'csa': 735, 'cuba': 736, 'cubana': 737, 'cueva': 738, 'cui': 739, 'cuidados': 740, 'cunha': 741, 'curtas': 742, 'custa': 743, 'custas': 744, 'custou': 745, 'cutuca': 746, 'dado': 747, 'daespanha': 748, 'dai': 749, 'dalavia': 750, 'dalia': 751, 'dallagnol': 752, 'danadinho': 753, 'dance': 754, 'danni': 755, 'dany': 756, 'dao': 757, 'das': 758, 'datafolha': 759, 'dating': 760, 'david': 761, 'de': 762, 'dea': 763, 'debate': 764, 'debocha': 765, 'deborah': 766, 'decepcao': 767, 'decepcionado': 768, 'dedada': 769, 'dede': 770, 'dedicar': 771, 'dedo': 772, 'defende': 773, 'defensivas': 774, 'defensivo': 775, 'defensor': 776, 'definindo': 777, 'definitivas': 778, 'definitivo': 779, 'deixam': 780, 'deixarem': 781, 'deixem': 782, 'dele': 783, 'delegacia': 784, 'delegados': 785, 'deleta': 786, 'delgado': 787, 'delicada': 788, 'demetrious': 789, 'demi': 790, 'demissao': 791, 'demite': 792, 'demitira': 793, 'demole': 794, 'demonstra': 795, 'demonstracoes': 796, 'demonstram': 797, 'demostenes': 798, 'dener': 799, 'denunciado': 800, 'denunciam': 801, 'deodoro': 802, 'dependendo': 803, 'deportivo': 804, 'depredado': 805, 'derrotado': 806, 'derrubam': 807, 'derrubou': 808, 'desabam': 809, 'desafia': 810, 'desafiado': 811, 'desafiador': 812, 'desafialo': 813, 'desafiantes': 814, 'desafios': 815, 'desaparecido': 816, 'desativar': 817, 'descartados': 818, 'descer': 819, 'descida': 820, 'desclassifica': 821, 'desclassificacao': 822, 'descobri': 823, 'descomissionamento': 824, 'descontraido': 825, 'descredenciados': 826, 'desde': 827, 'desejos': 828, 'desembargadores': 829, 'desencanta': 830, 'desenhados': 831, 'desesperados': 832, 'desestruturar': 833, 'desfalcados': 834, 'desfalcar': 835, 'desfalque': 836, 'desfaz': 837, 'desinformacao': 838, 'desistem': 839, 'desistido': 840, 'desistir': 841, 'desmaia': 842, 'desnacionalizar': 843, 'desoneracao': 844, 'despertador': 845, 'despontar': 846, 'desrespeito': 847, 'destaca': 848, 'destacadas': 849, 'destrona': 850, 'desvalorizacao': 851, 'desvendar': 852, 'desvio': 853, 'desviou': 854, 'detalha': 855, 'detectam': 856, 'detencao': 857, 'determinante': 858, 'detido': 859, 'devolva': 860, 'devolve': 861, 'diagnostico': 862, 'diamond': 863, 'diante': 864, 'diaria': 865, 'dicas': 866, 'dida': 867, 'didatico': 868, 'didico': 869, 'diferencas': 870, 'dificuldades': 871, 'diminuiu': 872, 'dinamica': 873, 'dinamismo': 874, 'dinamite': 875, 'dinastia': 876, 'diplomata': 877, 'dirceu': 878, 'direcao': 879, 'direcaogeral': 880, 'direcionar': 881, 'direito': 882, 'diretora': 883, 'diretoria': 884, 'diretorias': 885, 'diretriz': 886, 'diretrizes': 887, 'dirige': 888, 'dirigentes': 889, 'disciplina': 890, 'disciplinar': 891, 'discordar': 892, 'discreto': 893, 'discute': 894, 'discutir': 895, 'dispersa': 896, 'disponivel': 897, 'dispositivo': 898, 'disputa': 899, 'disputados': 900, 'disputarem': 901, 'disseminacao': 902, 'disseram': 903, 'disso': 904, 'distorcoes': 905, 'distrai': 906, 'disturbio': 907, 'ditadura': 908, 'dito': 909, 'diversao': 910, 'dividendo': 911, 'dividir': 912, 'divisoes': 913, 'divulgacao': 914, 'dizer': 915, 'dj': 916, 'dna': 917, 'doa': 918, 'dobram': 919, 'dobravel': 920, 'dobrou': 921, 'doce': 922, 'dodo': 923, 'doenca': 924, 'doha': 925, 'doi': 926, 'doideira': 927, 'dollaway': 928, 'domingos': 929, 'dominguez': 930, 'dono': 931, 'dopam': 932, 'dorigon': 933, 'dorival': 934, 'dou': 935, 'douglas': 936, 'dovasco': 937, 'drama': 938, 'dramaturgia': 939, 'drasticas': 940, 'dreno': 941, 'drilling': 942, 'drones': 943, 'duarte': 944, 'dudamel': 945, 'dumont': 946, 'dupla': 947, 'duplicara': 948, 'durant': 949, 'duras': 950, 'durinho': 951, 'durissimas': 952, 'durou': 953, 'e': 954, 'economicos': 955, 'eder': 956, 'ederson': 957, 'edimar': 958, 'edita': 959, 'editado': 960, 'ee': 961, 'ef': 962, 'efeitos': 963, 'egidio': 964, 'eike': 965, 'el': 966, 'elabora': 967, 'elana': 968, 'elastico': 969, 'elege': 970, 'eleicoes': 971, 'elenco': 972, 'eletrica': 973, 'eletrizantes': 974, 'eletroeletronico': 975, 'elevada': 976, 'eliminacoes': 977, 'elogia': 978, 'elogiar': 979, 'elogios': 980, 'emana': 981, 'embaixada': 982, 'embaixadinha': 983, 'embala': 984, 'embarcam': 985, 'embora': 986, 'embutido': 987, 'emergentes': 988, 'empatada': 989, 'empatado': 990, 'empolgante': 991, 'empreendedor': 992, 'empregador': 993, 'emprego': 994, 'empresario': 995, 'empresta': 996, 'emprestados': 997, 'emprestimo': 998, 'empurrao': 999, 'emretorno': 1000, 'emsao': 1001, 'encabeca': 1002, 'encaixa': 1003, 'encaminhamentos': 1004, 'encanada': 1005, 'encaralo': 1006, 'encharcado': 1007, 'enche': 1008, 'encolhe': 1009, 'encolhem': 1010, 'encontrada': 1011, 'encontro': 1012, 'encostam': 1013, 'endossa': 1014, 'enfatizar': 1015, 'enforcado': 1016, 'enfraquecer': 1017, 'enfrenta': 1018, 'enfrentalo': 1019, 'enfrentar': 1020, 'engano': 1021, 'enganosa': 1022, 'engata': 1023, 'engatilha': 1024, 'engolida': 1025, 'engrenam': 1026, 'enlouquece': 1027, 'enner': 1028, 'enquadrar': 1029, 'enredo': 1030, 'entao': 1031, 'entende': 1032, 'entendendo': 1033, 'enterrada': 1034, 'enterradas': 1035, 'entrara': 1036, 'entre': 1037, 'entrega': 1038, 'entrosamento': 1039, 'envelhece': 1040, 'enviam': 1041, 'epede': 1042, 'epicentro': 1043, 'equilibrar': 1044, 'equilibrio': 1045, 'equipamentos': 1046, 'ergueria': 1047, 'erick': 1048, 'ericsson': 1049, 'erik': 1050, 'ernesto': 1051, 'erra': 1052, 'escancara': 1053, 'escapulida': 1054, 'escolta': 1055, 'escrevem': 1056, 'escrevi': 1057, 'escritorios': 1058, 'esforcos': 1059, 'esfria': 1060, 'esfriada': 1061, 'esfriam': 1062, 'esfriou': 1063, 'esgotado': 1064, 'esl': 1065, 'esmagada': 1066, 'esmurra': 1067, 'espalha': 1068, 'especialistas': 1069, 'especie': 1070, 'esperado': 1071, 'esperancas': 1072, 'esperto': 1073, 'espetacular': 1074, 'espiga': 1075, 'esplanada': 1076, 'esqueceu': 1077, 'esquerdo': 1078, 'essa': 1079, 'esse': 1080, 'estabelece': 1081, 'estabelecimentos': 1082, 'estacao': 1083, 'estadio': 1084, 'estadios': 1085, 'estado': 1086, 'estadual': 1087, 'estagio': 1088, 'estampa': 1089, 'estapafurdia': 1090, 'estatisticas': 1091, 'estatistico': 1092, 'estavel': 1093, 'esteja': 1094, 'estejam': 1095, 'estimulo': 1096, 'estocolmo': 1097, 'estoril': 1098, 'estou': 1099, 'estreando': 1100, 'estreiano': 1101, 'estrela': 1102, 'estrogenio': 1103, 'estruturas': 1104, 'estudam': 1105, 'estudar': 1106, 'etanol': 1107, 'etapa': 1108, 'etchgoyen': 1109, 'eternizou': 1110, 'eternos': 1111, 'euaira': 1112, 'euforia': 1113, 'euro': 1114, 'europeia': 1115, 'europeus': 1116, 'eventoteste': 1117, 'eventual': 1118, 'everson': 1119, 'evita': 1120, 'evite': 1121, 'evoluo': 1122, 'ex': 1123, 'exaltam': 1124, 'exame': 1125, 'exausto': 1126, 'exauxiliar': 1127, 'excampeao': 1128, 'exchape': 1129, 'exclube': 1130, 'exdeputado': 1131, 'exdiretores': 1132, 'exdirigentes': 1133, 'executa': 1134, 'exengenheiro': 1135, 'exercicios': 1136, 'exgovernador': 1137, 'exhacker': 1138, 'exibe': 1139, 'exigem': 1140, 'exigencia': 1141, 'exigiu': 1142, 'exministro': 1143, 'expansao': 1144, 'explicacao': 1145, 'explicacoes': 1146, 'explode': 1147, 'explorado': 1148, 'exportadores': 1149, 'exposicao': 1150, 'expressa': 1151, 'exsenador': 1152, 'extecnico': 1153, 'exterior': 1154, 'externos': 1155, 'extime': 1156, 'extinguiu': 1157, 'extinta': 1158, 'extracampo': 1159, 'exvice': 1160, 'exzagueiro': 1161, 'faber': 1162, 'fabiano': 1163, 'fabrina': 1164, 'faceid': 1165, 'facetime': 1166, 'facil': 1167, 'faco': 1168, 'fadas': 1169, 'faf': 1170, 'fair': 1171, 'fake': 1172, 'falam': 1173, 'falcons': 1174, 'falecido': 1175, 'falham': 1176, 'falido': 1177, 'falou': 1178, 'falsificacao': 1179, 'falso': 1180, 'faltando': 1181, 'familias': 1182, 'fangio': 1183, 'fantasmas': 1184, 'farei': 1185, 'fariamos': 1186, 'farpas': 1187, 'farsa': 1188, 'fast': 1189, 'fatal': 1190, 'fatia': 1191, 'fatias': 1192, 'fatores': 1193, 'fatos': 1194, 'faturam': 1195, 'faverani': 1196, 'favor': 1197, 'favorecer': 1198, 'favoritismo': 1199, 'fazdois': 1200, 'fazendo': 1201, 'fazia': 1202, 'fc': 1203, 'febraban': 1204, 'fechamentos': 1205, 'fechou': 1206, 'federais': 1207, 'federal': 1208, 'federer': 1209, 'feia': 1210, 'feitos': 1211, 'felicio': 1212, 'felicita': 1213, 'feminina': 1214, 'femininos': 1215, 'feminista': 1216, 'ferias': 1217, 'ferido': 1218, 'fernandes': 1219, 'fernandez': 1220, 'fernandinho': 1221, 'ferrer': 1222, 'ferrovias': 1223, 'fertitta': 1224, 'ferve': 1225, 'festao': 1226, 'festejam': 1227, 'festivo': 1228, 'fez': 1229, 'fibaconcorremos': 1230, 'ficam': 1231, 'ficarao': 1232, 'fichassujas': 1233, 'fielding': 1234, 'fies': 1235, 'fifa': 1236, 'fight': 1237, 'figueirense': 1238, 'figurinha': 1239, 'filhos': 1240, 'filia': 1241, 'filiacao': 1242, 'filosofa': 1243, 'fim': 1244, 'finais': 1245, 'finale': 1246, 'finalizada': 1247, 'finalizar': 1248, 'financeiras': 1249, 'financiar': 1250, 'fiscais': 1251, 'fiscal': 1252, 'fiscalizacao': 1253, 'fischer': 1254, 'fisicamente': 1255, 'fisioterapeuta': 1256, 'fisioterapia': 1257, 'fitness': 1258, 'fiuk': 1259, 'fixara': 1260, 'fizemos': 1261, 'flapi': 1262, 'flexibilizacao': 1263, 'florestal': 1264, 'florida': 1265, 'flu': 1266, 'fluminense': 1267, 'fobia': 1268, 'foco': 1269, 'fofo': 1270, 'foice': 1271, 'folego': 1272, 'folga': 1273, 'folgas': 1274, 'follmann': 1275, 'fones': 1276, 'football': 1277, 'forcar': 1278, 'formaliza': 1279, 'formos': 1280, 'fornece': 1281, 'fornecedores': 1282, 'fornecidas': 1283, 'fortaleza': 1284, 'fortnite': 1285, 'fortuna': 1286, 'fosse': 1287, 'fotos': 1288, 'fraca': 1289, 'fracassos': 1290, 'frageis': 1291, 'frambach': 1292, 'france': 1293, 'francesco': 1294, 'francis': 1295, 'francisco': 1296, 'frankenstein': 1297, 'franquias': 1298, 'fratura': 1299, 'fraturado': 1300, 'free': 1301, 'freitas': 1302, 'frente': 1303, 'frete': 1304, 'fria': 1305, 'frios': 1306, 'friozinho': 1307, 'frouxo': 1308, 'frustra': 1309, 'frustrada': 1310, 'frustram': 1311, 'ft': 1312, 'fuga': 1313, 'fugas': 1314, 'fumus': 1315, 'funcional': 1316, 'funcionamento': 1317, 'funcionar': 1318, 'fundo': 1319, 'fundos': 1320, 'futebol': 1321, 'futevolei': 1322, 'galeano': 1323, 'galeao': 1324, 'galiotte': 1325, 'galos': 1326, 'game': 1327, 'ganesa': 1328, 'ganhadores': 1329, 'ganharam': 1330, 'ganho': 1331, 'gano': 1332, 'garambone': 1333, 'garcialopez': 1334, 'gari': 1335, 'garin': 1336, 'garrafa': 1337, 'gastos': 1338, 'gates': 1339, 'gato': 1340, 'gavea': 1341, 'geddel': 1342, 'geladeira': 1343, 'gemeos': 1344, 'genio': 1345, 'geppetto': 1346, 'gerenciavel': 1347, 'geromel': 1348, 'gestacao': 1349, 'gestante': 1350, 'gesto': 1351, 'getulio': 1352, 'geuvanio': 1353, 'giannis': 1354, 'giants': 1355, 'ginastica': 1356, 'ginobili': 1357, 'giro': 1358, 'giullia': 1359, 'glaico': 1360, 'gleici': 1361, 'glenda': 1362, 'globalcoin': 1363, 'globalizacao': 1364, 'globeleza': 1365, 'gogh': 1366, 'goiania': 1367, 'goias': 1368, 'golaco': 1369, 'goldfajn': 1370, 'goleada': 1371, 'goleiro': 1372, 'golfinhos': 1373, 'google': 1374, 'gorros': 1375, 'gosta': 1376, 'gostando': 1377, 'gostoso': 1378, 'grama': 1379, 'grampear': 1380, 'grandes': 1381, 'grandiosa': 1382, 'grant': 1383, 'graos': 1384, 'grau': 1385, 'gravadas': 1386, 'gray': 1387, 'grecia': 1388, 'gringo': 1389, 'gritaria': 1390, 'grosjean': 1391, 'grupo': 1392, 'gshow': 1393, 'guaranimg': 1394, 'guardados': 1395, 'guatemala': 1396, 'guerra': 1397, 'guetta': 1398, 'guilheiro': 1399, 'guilherme': 1400, 'guimaraes': 1401, 'guize': 1402, 'guns': 1403, 'h': 1404, 'habilitados': 1405, 'hackeada': 1406, 'hackear': 1407, 'hacker': 1408, 'haja': 1409, 'hall': 1410, 'hamburguer': 1411, 'hannover': 1412, 'harry': 1413, 'harvard': 1414, 'hashtag': 1415, 'hassan': 1416, 'havaianagaucha': 1417, 'havan': 1418, 'haver': 1419, 'helena': 1420, 'heleno': 1421, 'helicopteros': 1422, 'heroi': 1423, 'hexa': 1424, 'hilal': 1425, 'hilbert': 1426, 'hill': 1427, 'hillsborough': 1428, 'hioki': 1429, 'hipismo': 1430, 'historiadores': 1431, 'historicas': 1432, 'hiv': 1433, 'holloway': 1434, 'hollywood': 1435, 'holofotes': 1436, 'holohan': 1437, 'homem': 1438, 'homenageado': 1439, 'homicidio': 1440, 'homofobia': 1441, 'honduras': 1442, 'honestidade': 1443, 'honrosa': 1444, 'hoquei': 1445, 'horizontal': 1446, 'hortencia': 1447, 'hossegor': 1448, 'hotel': 1449, 'house': 1450, 'hpe': 1451, 'hrc': 1452, 'huachipato': 1453, 'hubert': 1454, 'hull': 1455, 'humorista': 1456, 'hyoran': 1457, 'hypolito': 1458, 'ibm': 1459, 'icatu': 1460, 'icone': 1461, 'identifica': 1462, 'identificam': 1463, 'identificou': 1464, 'idolo': 1465, 'igarashi': 1466, 'igrejas': 1467, 'iguais': 1468, 'ilan': 1469, 'ilegalmente': 1470, 'ilustram': 1471, 'imagens': 1472, 'imagine': 1473, 'imaginou': 1474, 'imaturidade': 1475, 'imbroglio': 1476, 'imitacoes': 1477, 'imitei': 1478, 'imoveis': 1479, 'imovel': 1480, 'impacto': 1481, 'impede': 1482, 'impedida': 1483, 'impedir': 1484, 'imperador': 1485, 'impoem': 1486, 'importadoras': 1487, 'importante': 1488, 'importantes': 1489, 'impossivel': 1490, 'imprensa': 1491, 'impressionante': 1492, 'imprevisivel': 1493, 'improbidade': 1494, 'improviso': 1495, 'impugnacao': 1496, 'impulsionada': 1497, 'impunidade': 1498, 'inacessiveis': 1499, 'inadmissiveis': 1500, 'incentivam': 1501, 'incentivar': 1502, 'incerto': 1503, 'incluem': 1504, 'incluindo': 1505, 'incluira': 1506, 'inclusao': 1507, 'incompleto': 1508, 'inconsciente': 1509, 'incriminado': 1510, 'indexados': 1511, 'india': 1512, 'indicados': 1513, 'indice': 1514, 'indices': 1515, 'indicou': 1516, 'indignidade': 1517, 'inedita': 1518, 'inedito': 1519, 'inercia': 1520, 'inferior': 1521, 'inferiores': 1522, 'inferno': 1523, 'influenciadora': 1524, 'influentes': 1525, 'infopen': 1526, 'informados': 1527, 'informam': 1528, 'ingresso': 1529, 'inicialmente': 1530, 'inidoneidade': 1531, 'injecao': 1532, 'inocente': 1533, 'inofensivo': 1534, 'inova': 1535, 'inovacao': 1536, 'inquerito': 1537, 'inquieto': 1538, 'inscricoes': 1539, 'insegura': 1540, 'inseguro': 1541, 'insensatez': 1542, 'inshallah': 1543, 'insistencia': 1544, 'inspiracao': 1545, 'inspirada': 1546, 'inspirei': 1547, 'inspiro': 1548, 'instala': 1549, 'insuficiente': 1550, 'integracao': 1551, 'integrante': 1552, 'inteira': 1553, 'interagem': 1554, 'intercederia': 1555, 'interessados': 1556, 'interinos': 1557, 'internacional': 1558, 'internada': 1559, 'internautas': 1560, 'interpretado': 1561, 'interromper': 1562, 'intervem': 1563, 'intocavel': 1564, 'introduz': 1565, 'introduzir': 1566, 'intruso': 1567, 'invasao': 1568, 'invenciveis': 1569, 'inverno': 1570, 'inviavel': 1571, 'invictos': 1572, 'invictus': 1573, 'iowa': 1574, 'iozzi': 1575, 'ipea': 1576, 'ipva': 1577, 'irada': 1578, 'ironizam': 1579, 'irredutivel': 1580, 'isaac': 1581, 'isabel': 1582, 'isco': 1583, 'isotonicos': 1584, 'issa': 1585, 'italiana': 1586, 'itamaraty': 1587, 'itu': 1588, 'ituano': 1589, 'iuan': 1590, 'ivair': 1591, 'ivete': 1592, 'jaba': 1593, 'jacarta': 1594, 'jackson': 1595, 'jacobina': 1596, 'jadson': 1597, 'jaffar': 1598, 'jagger': 1599, 'jamaicana': 1600, 'janeiro': 1601, 'janot': 1602, 'jantar': 1603, 'japan': 1604, 'jatinho': 1605, 'jaula': 1606, 'jaws': 1607, 'jayz': 1608, 'jejum': 1609, 'jemerson': 1610, 'jeniffer': 1611, 'jennifer': 1612, 'jeremy': 1613, 'jf': 1614, 'jhonny': 1615, 'jk': 1616, 'joachim': 1617, 'joesley': 1618, 'jogada': 1619, 'jogador': 1620, 'jogala': 1621, 'jogao': 1622, 'jogo': 1623, 'jogotreino': 1624, 'joguei': 1625, 'johanna': 1626, 'johnny': 1627, 'joia': 1628, 'jon': 1629, 'jonathan': 1630, 'jong': 1631, 'jorginho': 1632, 'joseph': 1633, 'joziane': 1634, 'judiciais': 1635, 'judicial': 1636, 'judo': 1637, 'juiza': 1638, 'juizo': 1639, 'julgada': 1640, 'julgados': 1641, 'julgar': 1642, 'julgarem': 1643, 'julgue': 1644, 'julguem': 1645, 'juncker': 1646, 'junina': 1647, 'juninho': 1648, 'junto': 1649, 'juntos': 1650, 'juntou': 1651, 'juridica': 1652, 'juridico': 1653, 'juro': 1654, 'just': 1655, 'juve': 1656, 'k': 1657, 'kalindra': 1658, 'kanu': 1659, 'karlos': 1660, 'kart': 1661, 'kelades': 1662, 'kemba': 1663, 'keulla': 1664, 'kieza': 1665, 'kimi': 1666, 'kozlowski': 1667, 'kraft': 1668, 'kramer': 1669, 'kuzma': 1670, 'kuznetsova': 1671, 'kyra': 1672, 'labia': 1673, 'laden': 1674, 'lady': 1675, 'lahm': 1676, 'lama': 1677, 'lamas': 1678, 'lamentam': 1679, 'lamm': 1680, 'lanca': 1681, 'lancada': 1682, 'lance': 1683, 'larga': 1684, 'largada': 1685, 'larghi': 1686, 'larissatalita': 1687, 'larvas': 1688, 'laser': 1689, 'lastpass': 1690, 'lateraldireito': 1691, 'lateralesquerdo': 1692, 'latina': 1693, 'laura': 1694, 'lava': 1695, 'lavadeira': 1696, 'lavagem': 1697, 'lazio': 1698, 'lda': 1699, 'ldo': 1700, 'le': 1701, 'leaks': 1702, 'leandrinho': 1703, 'lee': 1704, 'leeds': 1705, 'legado': 1706, 'legends': 1707, 'legislador': 1708, 'legislatura': 1709, 'legumes': 1710, 'lei': 1711, 'leica': 1712, 'leicester': 1713, 'leila': 1714, 'leilao': 1715, 'leiloes': 1716, 'leite': 1717, 'leites': 1718, 'lembre': 1719, 'lemmertz': 1720, 'lencol': 1721, 'lenta': 1722, 'lentidao': 1723, 'lentz': 1724, 'leoni': 1725, 'lera': 1726, 'lesionados': 1727, 'leslie': 1728, 'letra': 1729, 'levado': 1730, 'levalo': 1731, 'levantou': 1732, 'levara': 1733, 'libano': 1734, 'libera': 1735, 'liberacao': 1736, 'libido': 1737, 'lifajc': 1738, 'ligada': 1739, 'ligado': 1740, 'ligados': 1741, 'ligamentos': 1742, 'ligo': 1743, 'limitacao': 1744, 'limite': 1745, 'lincoln': 1746, 'linda': 1747, 'lindalva': 1748, 'lindao': 1749, 'lineageos': 1750, 'lingerie': 1751, 'linguinha': 1752, 'linkedin': 1753, 'lino': 1754, 'liquido': 1755, 'lista': 1756, 'listas': 1757, 'live': 1758, 'livra': 1759, 'lnf': 1760, 'lobianco': 1761, 'lobistas': 1762, 'lochte': 1763, 'logo': 1764, 'loirissima': 1765, 'loiro': 1766, 'loja': 1767, 'lojas': 1768, 'lojista': 1769, 'lomba': 1770, 'longas': 1771, 'longe': 1772, 'loreto': 1773, 'loteria': 1774, 'loureiro': 1775, 'love': 1776, 'lrf': 1777, 'lucarelli': 1778, 'lucas': 1779, 'lucciola': 1780, 'lucio': 1781, 'lucro': 1782, 'lugano': 1783, 'lukaku': 1784, 'luke': 1785, 'luna': 1786, 'lutador': 1787, 'lutaram': 1788, 'lyotoresponde': 1789, 'macacao': 1790, 'macarena': 1791, 'machida': 1792, 'machine': 1793, 'machismo': 1794, 'maga': 1795, 'magica': 1796, 'magnussen': 1797, 'magomedsharipov': 1798, 'maiara': 1799, 'maioridade': 1800, 'majestoso': 1801, 'makashvili': 1802, 'malacostumados': 1803, 'malasia': 1804, 'malcom': 1805, 'maldoso': 1806, 'malhacao': 1807, 'malicia': 1808, 'malta': 1809, 'mancuello': 1810, 'mandar': 1811, 'mangas': 1812, 'manha': 1813, 'manifestacao': 1814, 'manifestacoes': 1815, 'manipulacao': 1816, 'manny': 1817, 'mansur': 1818, 'mapfre': 1819, 'maps': 1820, 'maquinas': 1821, 'maraca': 1822, 'marasmo': 1823, 'maratona': 1824, 'maravilhosa': 1825, 'marcar': 1826, 'marcas': 1827, 'marcella': 1828, 'marcelo': 1829, 'marcha': 1830, 'marciel': 1831, 'marcio': 1832, 'marco': 1833, 'marfim': 1834, 'mariana': 1835, 'marilson': 1836, 'marin': 1837, 'marinho': 1838, 'marioto': 1839, 'marisqueira': 1840, 'marra': 1841, 'marsiglia': 1842, 'martin': 1843, 'martine': 1844, 'martins': 1845, 'massacra': 1846, 'mastigo': 1847, 'matanca': 1848, 'matar': 1849, 'matematico': 1850, 'materazzi': 1851, 'material': 1852, 'matos': 1853, 'mattos': 1854, 'max': 1855, 'maximo': 1856, 'maycon': 1857, 'mccollum': 1858, 'mcenroe': 1859, 'mclarenhonda': 1860, 'mecanismo': 1861, 'mecanismos': 1862, 'medalha': 1863, 'medica': 1864, 'meditacao': 1865, 'megaleilao': 1866, 'meirelles': 1867, 'meis': 1868, 'melhores': 1869, 'meme': 1870, 'meninas': 1871, 'mensalidade': 1872, 'mentalidade': 1873, 'mentira': 1874, 'mercadante': 1875, 'mercados': 1876, 'mercosulue': 1877, 'mereceu': 1878, 'mergulho': 1879, 'merito': 1880, 'merkel': 1881, 'mesma': 1882, 'messi': 1883, 'mestre': 1884, 'mesversario': 1885, 'metais': 1886, 'meteu': 1887, 'meu': 1888, 'meurer': 1889, 'mexe': 1890, 'mg': 1891, 'mgf': 1892, 'mi': 1893, 'micro': 1894, 'mikey': 1895, 'milenio': 1896, 'milhao': 1897, 'milhoes': 1898, 'milionarios': 1899, 'mim': 1900, 'minimo': 1901, 'minisserie': 1902, 'minucioso': 1903, 'mirando': 1904, 'missa': 1905, 'missil': 1906, 'mista': 1907, 'mister': 1908, 'misteriosa': 1909, 'misteriosas': 1910, 'misto': 1911, 'mmae': 1912, 'mobiliza': 1913, 'mobilizacao': 1914, 'modesto': 1915, 'modifica': 1916, 'modric': 1917, 'moedas': 1918, 'moicanos': 1919, 'molecada': 1920, 'momento': 1921, 'momo': 1922, 'monitora': 1923, 'monitorar': 1924, 'monta': 1925, 'montagens': 1926, 'montante': 1927, 'monumental': 1928, 'mora': 1929, 'moraes': 1930, 'morata': 1931, 'morato': 1932, 'moreira': 1933, 'morena': 1934, 'morgado': 1935, 'moscas': 1936, 'mostra': 1937, 'mostram': 1938, 'mostrar': 1939, 'moteis': 1940, 'motocicleta': 1941, 'motor': 1942, 'motta': 1943, 'mouhamed': 1944, 'moura': 1945, 'mourinho': 1946, 'movimentacao': 1947, 'movimentos': 1948, 'moyes': 1949, 'muda': 1950, 'mudanca': 1951, 'muita': 1952, 'muito': 1953, 'multado': 1954, 'multicampeao': 1955, 'multipla': 1956, 'multiplan': 1957, 'mundo': 1958, 'mundos': 1959, 'muralha': 1960, 'musa': 1961, 'museu': 1962, 'mutua': 1963, 'mutuo': 1964, 'nadadora': 1965, 'namoro': 1966, 'nanda': 1967, 'nao': 1968, 'narcotrafico': 1969, 'narrador': 1970, 'nas': 1971, 'nasceu': 1972, 'nata': 1973, 'natalino': 1974, 'natel': 1975, 'naturaliza': 1976, 'nautico': 1977, 'navas': 1978, 'navegar': 1979, 'nec': 1980, 'negativo': 1981, 'negligencia': 1982, 'nego': 1983, 'negociadores': 1984, 'negou': 1985, 'negredo': 1986, 'negro': 1987, 'negros': 1988, 'nepotismo': 1989, 'nero': 1990, 'nevada': 1991, 'newey': 1992, 'newgarden': 1993, 'nezinho': 1994, 'nfl': 1995, 'nico': 1996, 'nicolas': 1997, 'nik': 1998, 'nobel': 1999, 'nocauteador': 2000, 'nocauteia': 2001, 'noite': 2002, 'nokia': 2003, 'nome': 2004, 'nomear': 2005, 'nomes': 2006, 'normal': 2007, 'nortao': 2008, 'norteamericana': 2009, 'nortesul': 2010, 'norueguesa': 2011, 'notebook': 2012, 'notificada': 2013, 'nova': 2014, 'noval': 2015, 'novideo': 2016, 'nu': 2017, 'nucleo': 2018, 'nurmagomedov': 2019, 'nuzman': 2020, 'obedecer': 2021, 'objetivos': 2022, 'obriga': 2023, 'observando': 2024, 'obtencao': 2025, 'ocorrencia': 2026, 'oculos': 2027, 'ocupar': 2028, 'odessa': 2029, 'odio': 2030, 'oea': 2031, 'ofensa': 2032, 'ofensivas': 2033, 'ofereceu': 2034, 'okimoto': 2035, 'old': 2036, 'oldair': 2037, 'olho': 2038, 'oliveira': 2039, 'olivia': 2040, 'omb': 2041, 'omitiu': 2042, 'omnes': 2043, 'onda': 2044, 'online': 2045, 'opcao': 2046, 'opera': 2047, 'operador': 2048, 'opinioes': 2049, 'opoe': 2050, 'oponente': 2051, 'oposicao': 2052, 'opositores': 2053, 'orcamento': 2054, 'ordem': 2055, 'ordens': 2056, 'orelha': 2057, 'organizado': 2058, 'oricchio': 2059, 'orquestrada': 2060, 'os': 2061, 'osasco': 2062, 'osorio': 2063, 'otaviano': 2064, 'ottawa': 2065, 'ouro': 2066, 'outros': 2067, 'ovacionado': 2068, 'ovario': 2069, 'oxigenio': 2070, 'paciente': 2071, 'padre': 2072, 'pagarem': 2073, 'pago': 2074, 'paixao': 2075, 'palmas': 2076, 'palmeirense': 2077, 'palmo': 2078, 'panamenha': 2079, 'panelaco': 2080, 'panetone': 2081, 'panetones': 2082, 'paolla': 2083, 'papo': 2084, 'para': 2085, 'parabeniza': 2086, 'parada': 2087, 'paraty': 2088, 'parca': 2089, 'parceiros': 2090, 'parcela': 2091, 'parcerias': 2092, 'parlamentar': 2093, 'parou': 2094, 'parreira': 2095, 'participa': 2096, 'participacoes': 2097, 'particular': 2098, 'partiu': 2099, 'pasadena': 2100, 'pascoa': 2101, 'pasquim': 2102, 'passagem': 2103, 'passaram': 2104, 'passarinhos': 2105, 'passeios': 2106, 'passes': 2107, 'patient': 2108, 'patinetes': 2109, 'patria': 2110, 'patriots': 2111, 'patrocinadora': 2112, 'patrocinios': 2113, 'patroes': 2114, 'paul': 2115, 'pautara': 2116, 'pavilhao': 2117, 'pavorosa': 2118, 'paz': 2119, 'pcdob': 2120, 'pedersoli': 2121, 'pedida': 2122, 'pedir': 2123, 'pediu': 2124, 'pegadinha': 2125, 'pegam': 2126, 'peito': 2127, 'pekerman': 2128, 'pela': 2129, 'peladas': 2130, 'pelo': 2131, 'pena': 2132, 'penaltis': 2133, 'penelope': 2134, 'penn': 2135, 'pensando': 2136, 'pensou': 2137, 'pentefino': 2138, 'pepey': 2139, 'pequenos': 2140, 'perceber': 2141, 'perceberam': 2142, 'percebeu': 2143, 'perdas': 2144, 'perdendo': 2145, 'perdeu': 2146, 'perdida': 2147, 'perdidas': 2148, 'perfeitos': 2149, 'perfis': 2150, 'pergunta': 2151, 'perguntam': 2152, 'perigo': 2153, 'permanencia': 2154, 'permite': 2155, 'perrengue': 2156, 'persepolis': 2157, 'persistir': 2158, 'personalizadas': 2159, 'perto': 2160, 'pes': 2161, 'pesadelo': 2162, 'pesado': 2163, 'pesados': 2164, 'pesageme': 2165, 'peso': 2166, 'pesogalo': 2167, 'pesoleve': 2168, 'pesoporpeso': 2169, 'pesosmoscas': 2170, 'pesquisa': 2171, 'petroleiros': 2172, 'petroleo': 2173, 'petrolina': 2174, 'phelps': 2175, 'philadelphia': 2176, 'piadas': 2177, 'picape': 2178, 'pietro': 2179, 'pilotar': 2180, 'pilotos': 2181, 'pinoquio': 2182, 'pinto': 2183, 'piora': 2184, 'pique': 2185, 'pisa': 2186, 'pista': 2187, 'placas': 2188, 'planalto': 2189, 'planeja': 2190, 'planejamento': 2191, 'plastica': 2192, 'plataforma': 2193, 'plate': 2194, 'play': 2195, 'playstation': 2196, 'pleno': 2197, 'pm': 2198, 'podcasts': 2199, 'podedestronar': 2200, 'podemos': 2201, 'points': 2202, 'pois': 2203, 'polegadas': 2204, 'pomarola': 2205, 'pombo': 2206, 'pontas': 2207, 'pontual': 2208, 'popovich': 2209, 'porque': 2210, 'porta': 2211, 'portabilidade': 2212, 'porto': 2213, 'portugal': 2214, 'posicao': 2215, 'posicionado': 2216, 'posou': 2217, 'possamos': 2218, 'possivel': 2219, 'postal': 2220, 'postamfotos': 2221, 'posts': 2222, 'poupam': 2223, 'poupanca': 2224, 'ppsa': 2225, 'prada': 2226, 'praga': 2227, 'praia': 2228, 'praias': 2229, 'prancheta': 2230, 'prata': 2231, 'pratica': 2232, 'pratto': 2233, 'prazeroso': 2234, 'prazo': 2235, 'precandidato': 2236, 'precario': 2237, 'precatorios': 2238, 'precipitada': 2239, 'precisavamos': 2240, 'precisou': 2241, 'preconceito': 2242, 'preconvocados': 2243, 'preferida': 2244, 'preferir': 2245, 'prefesta': 2246, 'pregao': 2247, 'prejudicar': 2248, 'prejuizo': 2249, 'premiada': 2250, 'preocupados': 2251, 'preocupante': 2252, 'preocupar': 2253, 'preolimpicos': 2254, 'prepara': 2255, 'preparacao': 2256, 'preparam': 2257, 'prepotencia': 2258, 'presal': 2259, 'presente': 2260, 'preservacao': 2261, 'preservativo': 2262, 'presidencia': 2263, 'pressionou': 2264, 'prestigia': 2265, 'preto': 2266, 'prever': 2267, 'previne': 2268, 'previstas': 2269, 'prf': 2270, 'prima': 2271, 'principal': 2272, 'principe': 2273, 'prioriza': 2274, 'prisao': 2275, 'privatizada': 2276, 'processam': 2277, 'proconsp': 2278, 'producao': 2279, 'produto': 2280, 'produtores': 2281, 'programa': 2282, 'progrediu': 2283, 'proiba': 2284, 'prometida': 2285, 'promotor': 2286, 'promovido': 2287, 'propina': 2288, 'propoem': 2289, 'propos': 2290, 'proposto': 2291, 'proprietario': 2292, 'proprios': 2293, 'prorrogar': 2294, 'protagonismo': 2295, 'protagonista': 2296, 'protagonizado': 2297, 'protein': 2298, 'protestar': 2299, 'protesto': 2300, 'prova': 2301, 'provisorias': 2302, 'provoca': 2303, 'provocacao': 2304, 'provocam': 2305, 'provocar': 2306, 'provocou': 2307, 'psg': 2308, 'psl': 2309, 'publicidade': 2310, 'publicitario': 2311, 'publico': 2312, 'pudesse': 2313, 'pulmoes': 2314, 'punicoes': 2315, 'puskas': 2316, 'quadras': 2317, 'quadrimestre': 2318, 'quadrinhos': 2319, 'qualquer': 2320, 'quatro': 2321, 'queimadas': 2322, 'quilometros': 2323, 'quiserem': 2324, 'quitanda': 2325, 'quiz': 2326, 'raca': 2327, 'racao': 2328, 'rachaduras': 2329, 'racing': 2330, 'radar': 2331, 'radicais': 2332, 'rafaela': 2333, 'rafinha': 2334, 'rambinho': 2335, 'rambo': 2336, 'ramiro': 2337, 'rams': 2338, 'rancho': 2339, 'rancor': 2340, 'rangel': 2341, 'ranger': 2342, 'ranking': 2343, 'raposa': 2344, 'raspa': 2345, 'rastreamento': 2346, 'razao': 2347, 'razoavel': 2348, 'reagir': 2349, 'realista': 2350, 'reality': 2351, 'realizada': 2352, 'realizara': 2353, 'realocados': 2354, 'realocar': 2355, 'reapresenta': 2356, 'reavaliado': 2357, 'reavaliar': 2358, 'reaver': 2359, 'rebaixada': 2360, 'rebeca': 2361, 'rebocado': 2362, 'reboucas': 2363, 'recaptcha': 2364, 'recebem': 2365, 'recebera': 2366, 'receios': 2367, 'receitas': 2368, 'recemcontratado': 2369, 'recemnascida': 2370, 'recemnascido': 2371, 'recessao': 2372, 'reclamacao': 2373, 'reconhece': 2374, 'recorda': 2375, 'recorde': 2376, 'recorrer': 2377, 'recrutar': 2378, 'recua': 2379, 'recuam': 2380, 'recuo': 2381, 'redefinir': 2382, 'redimirem': 2383, 'reedicao': 2384, 'reencontro': 2385, 'reerguer': 2386, 'reestreia': 2387, 'referencia': 2388, 'referindose': 2389, 'referiu': 2390, 'refez': 2391, 'refinaria': 2392, 'refino': 2393, 'reflete': 2394, 'refletir': 2395, 'reforcar': 2396, 'reformas': 2397, 'reformulado': 2398, 'regiao': 2399, 'regimento': 2400, 'regional': 2401, 'registros': 2402, 'regra': 2403, 'regras': 2404, 'regressiva': 2405, 'rei': 2406, 'reintegra': 2407, 'reis': 2408, 'reitera': 2409, 'rejeita': 2410, 'rejeitam': 2411, 'relacionamento': 2412, 'relacionando': 2413, 'relatados': 2414, 'relataram': 2415, 'relaxamento': 2416, 'relaxar': 2417, 'relogio': 2418, 'remam': 2419, 'remedio': 2420, 'remove': 2421, 'remover': 2422, 'renais': 2423, 'render': 2424, 'renegociacao': 2425, 'renegociar': 2426, 'renova': 2427, 'renovado': 2428, 'renunciara': 2429, 'repassara': 2430, 'repasse': 2431, 'repassem': 2432, 'repasses': 2433, 'repleto': 2434, 'reportagem': 2435, 'represalias': 2436, 'representam': 2437, 'repudia': 2438, 'rescindir': 2439, 'rescindiram': 2440, 'resgata': 2441, 'residencia': 2442, 'residencial': 2443, 'resolvido': 2444, 'resolvidos': 2445, 'respeitado': 2446, 'respeitosas': 2447, 'responda': 2448, 'responde': 2449, 'responder': 2450, 'responsabilizada': 2451, 'ressalvas': 2452, 'ressurgir': 2453, 'restaurantes': 2454, 'resultado': 2455, 'resumem': 2456, 'retirada': 2457, 'retirados': 2458, 'retiro': 2459, 'retomei': 2460, 'retorna': 2461, 'retrato': 2462, 'reveja': 2463, 'revela': 2464, 'reverteu': 2465, 'reviravolta': 2466, 'revisita': 2467, 'revoga': 2468, 'revolucionando': 2469, 'revolucionar': 2470, 'rezende': 2471, 'ribeirao': 2472, 'rica': 2473, 'risadas': 2474, 'riscado': 2475, 'riso': 2476, 'rita': 2477, 'rixa': 2478, 'rizin': 2479, 'rizzi': 2480, 'rj': 2481, 'rn': 2482, 'robben': 2483, 'rocha': 2484, 'rochele': 2485, 'rockhold': 2486, 'rocky': 2487, 'rodovias': 2488, 'rodrigo': 2489, 'romagnoli': 2490, 'romantica': 2491, 'romario': 2492, 'romenia': 2493, 'rompeu': 2494, 'rondae': 2495, 'rondonia': 2496, 'rondoniense': 2497, 'ronny': 2498, 'rooney': 2499, 'rory': 2500, 'rose': 2501, 'ross': 2502, 'rossi': 2503, 'rosto': 2504, 'rostov': 2505, 'rota': 2506, 'rotas': 2507, 'rotina': 2508, 'rotulo': 2509, 'rouba': 2510, 'roubada': 2511, 'roupa': 2512, 'roxo': 2513, 'roy': 2514, 'rs': 2515, 'rubronegro': 2516, 'rueda': 2517, 'rugby': 2518, 'ruim': 2519, 'ruins': 2520, 'ruiz': 2521, 'rural': 2522, 'russell': 2523, 'ruy': 2524, 'sa': 2525, 'sabado': 2526, 'sacados': 2527, 'sacaneia': 2528, 'sacyr': 2529, 'safadao': 2530, 'sagra': 2531, 'sai': 2532, 'saiajusta': 2533, 'saiba': 2534, 'saidade': 2535, 'saintgermain': 2536, 'salgados': 2537, 'salmin': 2538, 'salta': 2539, 'salvador': 2540, 'salvar': 2541, 'salvei': 2542, 'salvio': 2543, 'salzburg': 2544, 'samba': 2545, 'sambaenredo': 2546, 'sancionada': 2547, 'sandoval': 2548, 'sandy': 2549, 'saneamento': 2550, 'sangra': 2551, 'sangue': 2552, 'santoro': 2553, 'santos': 2554, 'santuario': 2555, 'sanz': 2556, 'sapo': 2557, 'saque': 2558, 'saques': 2559, 'sarafian': 2560, 'saraiva': 2561, 'sarney': 2562, 'satelite': 2563, 'saudade': 2564, 'scarpa': 2565, 'scherer': 2566, 'schumi': 2567, 'se': 2568, 'secar': 2569, 'secreta': 2570, 'secreto': 2571, 'seculo': 2572, 'sede': 2573, 'sedes': 2574, 'seduz': 2575, 'segall': 2576, 'segovia': 2577, 'seguem': 2578, 'seguidores': 2579, 'seguidos': 2580, 'seguranca': 2581, 'segurancas': 2582, 'segurar': 2583, 'segurodesemprego': 2584, 'selebaba': 2585, 'seletiva': 2586, 'seleto': 2587, 'selfie': 2588, 'selo': 2589, 'semelhantes': 2590, 'semifinais': 2591, 'semis': 2592, 'senadores': 2593, 'sendo': 2594, 'senegal': 2595, 'senil': 2596, 'sensacao': 2597, 'sensacional': 2598, 'sensual': 2599, 'sensualidade': 2600, 'sentem': 2601, 'sentir': 2602, 'sepang': 2603, 'separada': 2604, 'sequestrado': 2605, 'seriam': 2606, 'sertanejo': 2607, 'sertoes': 2608, 'serve': 2609, 'servia': 2610, 'servico': 2611, 'servicos': 2612, 'servio': 2613, 'sessenta': 2614, 'sexismo': 2615, 'sextou': 2616, 'sexy': 2617, 'shallow': 2618, 'shamrock': 2619, 'shandong': 2620, 'sharenting': 2621, 'sheffiled': 2622, 'shevchenko': 2623, 'shields': 2624, 'shlemenko': 2625, 'shogun': 2626, 'shoppings': 2627, 'siemsen': 2628, 'silenciar': 2629, 'silicio': 2630, 'simas': 2631, 'simbolo': 2632, 'simbolos': 2633, 'simona': 2634, 'simone': 2635, 'simplifica': 2636, 'simulacao': 2637, 'sinaliza': 2638, 'sindicatos': 2639, 'sinop': 2640, 'sinto': 2641, 'sistematica': 2642, 'site': 2643, 'slice': 2644, 'slim': 2645, 'smartphone': 2646, 'smashes': 2647, 'snapchat': 2648, 'soaresmelo': 2649, 'sob': 2650, 'sobretaxa': 2651, 'sobrevida': 2652, 'sobrevivente': 2653, 'sochi': 2654, 'sociotorcedor': 2655, 'socorro': 2656, 'sofrendo': 2657, 'sofria': 2658, 'sofrimento': 2659, 'solicitar': 2660, 'somaram': 2661, 'sonegacao': 2662, 'sonha': 2663, 'sonho': 2664, 'sonnen': 2665, 'sorgo': 2666, 'sosia': 2667, 'soubak': 2668, 'soy': 2669, 'spc': 2670, 'spencer': 2671, 'splitter': 2672, 'sportv': 2673, 'spurs': 2674, 'st': 2675, 'startup': 2676, 'strada': 2677, 'stuttgart': 2678, 'suado': 2679, 'sub': 2680, 'subirem': 2681, 'submundo': 2682, 'substitui': 2683, 'substituida': 2684, 'substituido': 2685, 'suco': 2686, 'sudeste': 2687, 'suja': 2688, 'sujeito': 2689, 'sulamericano': 2690, 'suns': 2691, 'super': 2692, 'superado': 2693, 'superioridade': 2694, 'superlicenca': 2695, 'superliga': 2696, 'supermoderna': 2697, 'suporto': 2698, 'suposta': 2699, 'surfando': 2700, 'surfista': 2701, 'surge': 2702, 'surpreendido': 2703, 'surpresas': 2704, 'surtado': 2705, 'susie': 2706, 'suspeitas': 2707, 'suspenda': 2708, 'suspendem': 2709, 'suspender': 2710, 'suspensas': 2711, 'sustentar': 2712, 'susto': 2713, 'sustos': 2714, 'swansea': 2715, 'swift': 2716, 'sylvinho': 2717, 'szabo': 2718, 'tabelamento': 2719, 'tablets': 2720, 'talentos': 2721, 'tande': 2722, 'tantos': 2723, 'tarefas': 2724, 'tatame': 2725, 'tatum': 2726, 'taxacao': 2727, 'taxar': 2728, 'taxi': 2729, 'taxistas': 2730, 'teatral': 2731, 'tecnica': 2732, 'tecnologico': 2733, 'tecnologicos': 2734, 'teixeira': 2735, 'telebras': 2736, 'telo': 2737, 'tema': 2738, 'temas': 2739, 'tempestade': 2740, 'tendao': 2741, 'tendencias': 2742, 'tensao': 2743, 'tenso': 2744, 'tentei': 2745, 'teori': 2746, 'teralista': 2747, 'terashakira': 2748, 'terceira': 2749, 'terceirona': 2750, 'teria': 2751, 'termeletricas': 2752, 'termicas': 2753, 'terminado': 2754, 'terminou': 2755, 'terno': 2756, 'terrorismo': 2757, 'tessalia': 2758, 'testara': 2759, 'testiculo': 2760, 'teve': 2761, 'texas': 2762, 'thaila': 2763, 'thavyne': 2764, 'thomas': 2765, 'thominhas': 2766, 'thunder': 2767, 'tibauquer': 2768, 'tiffany': 2769, 'tigre': 2770, 'timao': 2771, 'tira': 2772, 'tiraram': 2773, 'tire': 2774, 'titas': 2775, 'titi': 2776, 'titulo': 2777, 'tivesse': 2778, 'tj': 2779, 'tjdrj': 2780, 'toco': 2781, 'todos': 2782, 'tolima': 2783, 'tolo': 2784, 'tomara': 2785, 'tomarem': 2786, 'tomas': 2787, 'toneladas': 2788, 'torcedor': 2789, 'torcedores': 2790, 'torcidada': 2791, 'torino': 2792, 'tornar': 2793, 'tornei': 2794, 'torneio': 2795, 'torturante': 2796, 'totais': 2797, 'trabalha': 2798, 'trabalho': 2799, 'tracos': 2800, 'trafego': 2801, 'tragedias': 2802, 'transexuais': 2803, 'transplante': 2804, 'transportadores': 2805, 'trapaca': 2806, 'tras': 2807, 'tratativa': 2808, 'trauco': 2809, 'traves': 2810, 'travis': 2811, 'traz': 2812, 'trazem': 2813, 'treina': 2814, 'treinador': 2815, 'treinadores': 2816, 'treinamentos': 2817, 'treinos': 2818, 'trem': 2819, 'tremia': 2820, 'trend': 2821, 'tribunais': 2822, 'tributos': 2823, 'trio': 2824, 'tripla': 2825, 'triplex': 2826, 'triplosduplos': 2827, 'triste': 2828, 'trocaria': 2829, 'trocou': 2830, 'trofeu': 2831, 'trofeus': 2832, 'tropeca': 2833, 'trouxe': 2834, 'trt': 2835, 'trujillo': 2836, 'truque': 2837, 'tudo': 2838, 'tuf': 2839, 'tuivasa': 2840, 'turinabol': 2841, 'tyrone': 2842, 'tyson': 2843, 'u': 2844, 'ucranianos': 2845, 'uisque': 2846, 'unibanco': 2847, 'unidos': 2848, 'unificacao': 2849, 'uniformes': 2850, 'union': 2851, 'uniu': 2852, 'universidades': 2853, 'update': 2854, 'urbana': 2855, 'urijah': 2856, 'uruguai': 2857, 'usa': 2858, 'usman': 2859, 'uti': 2860, 'util': 2861, 'utilizada': 2862, 'utilizara': 2863, 'va': 2864, 'vacinado': 2865, 'vaiado': 2866, 'valcke': 2867, 'valdiram': 2868, 'valec': 2869, 'valente': 2870, 'valiosos': 2871, 'valle': 2872, 'valor': 2873, 'valverde': 2874, 'valvula': 2875, 'vamos': 2876, 'vandick': 2877, 'vandoorne': 2878, 'vaquejada': 2879, 'var': 2880, 'vardy': 2881, 'varia': 2882, 'varrer': 2883, 'vascaino': 2884, 'vasconcelloso': 2885, 'vaza': 2886, 'vazam': 2887, 'veganos': 2888, 'vegetativo': 2889, 'veja': 2890, 'velha': 2891, 'velhos': 2892, 'vencedores': 2893, 'venceu': 2894, 'venda': 2895, 'vendidas': 2896, 'venezuelano': 2897, 'vera': 2898, 'verao': 2899, 'verdade': 2900, 'verdes': 2901, 'versatil': 2902, 'versoes': 2903, 'verstappen': 2904, 'vertebra': 2905, 'vetara': 2906, 'vetem': 2907, 'vetos': 2908, 'viabiliza': 2909, 'viagens': 2910, 'vibracao': 2911, 'vicegovernador': 2912, 'vicelider': 2913, 'viciado': 2914, 'viciando': 2915, 'victory': 2916, 'video': 2917, 'viena': 2918, 'vies': 2919, 'vietna': 2920, 'vigilancia': 2921, 'villani': 2922, 'vindo': 2923, 'vinganca': 2924, 'vinheta': 2925, 'vinho': 2926, 'vinicius': 2927, 'violentas': 2928, 'violentos': 2929, 'viralizou': 2930, 'viram': 2931, 'virtude': 2932, 'visivelmente': 2933, 'vissel': 2934, 'vistoria': 2935, 'vital': 2936, 'vitima': 2937, 'vitimas': 2938, 'vitor': 2939, 'vitoria': 2940, 'vivem': 2941, 'vocalista': 2942, 'volpi': 2943, 'volta': 2944, 'voltado': 2945, 'voltara': 2946, 'voltaria': 2947, 'volto': 2948, 'votar': 2949, 'vou': 2950, 'vpnfilter': 2951, 'w': 2952, 'walt': 2953, 'walter': 2954, 'warley': 2955, 'warner': 2956, 'warriors': 2957, 'waters': 2958, 'wellington': 2959, 'wells': 2960, 'wenger': 2961, 'werder': 2962, 'weverton': 2963, 'whey': 2964, 'wickr': 2965, 'wiggolly': 2966, 'wijnaldum': 2967, 'willians': 2968, 'wimbledon': 2969, 'wolff': 2970, 'woods': 2971, 'works': 2972, 'world': 2973, 'wyllys': 2974, 'xeque': 2975, 'xfci': 2976, 'ximenes': 2977, 'xinga': 2978, 'xingados': 2979, 'xuxa': 2980, 'yoel': 2981, 'yony': 2982, 'young': 2983, 'z': 2984, 'zabit': 2985, 'zago': 2986, 'zagueira': 2987, 'zagueiros': 2988, 'zanetti': 2989, 'zap': 2990, 'zapata': 2991, 'ze': 2992, 'zeca': 2993, 'zera': 2994, 'zica': 2995, 'zika': 2996, 'zorro': 2997, 'zotto': 2998, 'zuniga': 2999}\n",
            "O input: Mesmo com alta do dólar, gastos de brasileiros no exterior batem recorde\n",
            "O Token do input: [0, 0, 115, 0, 0, 1338, 762, 414, 0, 1154, 0, 2376]\n",
            "O decode do Token do input: ['<OAV>', '<OAV>', 'alta', '<OAV>', '<OAV>', 'gastos', 'de', 'brasileiros', '<OAV>', 'exterior', '<OAV>', 'recorde']\n"
          ],
          "name": "stdout"
        },
        {
          "output_type": "stream",
          "text": [
            "/usr/local/lib/python3.7/dist-packages/ipykernel_launcher.py:54: VisibleDeprecationWarning: Creating an ndarray from ragged nested sequences (which is a list-or-tuple of lists-or-tuples-or ndarrays with different lengths or shapes) is deprecated. If you meant to do this, you must specify 'dtype=object' when creating the ndarray\n"
          ],
          "name": "stderr"
        }
      ]
    },
    {
      "cell_type": "markdown",
      "metadata": {
        "id": "43FCVoZxTx0x"
      },
      "source": [
        "## Seq2value"
      ]
    },
    {
      "cell_type": "markdown",
      "metadata": {
        "id": "KxA3ZbhYpPLG"
      },
      "source": [
        "### Dataset"
      ]
    },
    {
      "cell_type": "code",
      "metadata": {
        "colab": {
          "base_uri": "https://localhost:8080/"
        },
        "id": "qJOeYv8U9Lmx",
        "outputId": "64c5b787-69c7-48c2-a09f-b7de5a9470c6"
      },
      "source": [
        "#MAX_LENGTH_ASSUNTO = 5 \n",
        "MAX_LENGTH_TITLE = 20\n",
        "\n",
        "hot_titulos[200].shape\n",
        "hot_assuntos.shape\n",
        "# Masking one-hot-encode\n",
        "exemplo1 = pad_sequences(hot_assuntos[0:3,:], maxlen=2, padding='post', truncating='post')\n",
        "exemplo2 = pad_sequences(hot_assuntos[0:3,:], maxlen=7, padding='post', truncating='post')\n",
        "\n",
        "exemplo1.shape\n",
        "print(f'Tamanho padrão:{len(assuntos_tokenizer.word_index)} \\nCom pad 2:\\n{exemplo1}\\nCom pad 7:\\n{exemplo2}')\n",
        "\n",
        "\n",
        "data_titulos = pad_sequences(hot_titulos, maxlen=MAX_LENGTH_TITLE, padding='post', truncating='post')\n",
        "data_titulos[0].shape\n",
        "\n",
        "# data_Decoder_targets = pad_sequences(data['Decoder_targets'], maxlen=MAX_LENGTH_POEM, padding='post', truncating='post')\n",
        "\n",
        "\n",
        "X_train, X_test, Y_train, Y_test = train_test_split(data_titulos, hot_assuntos, test_size = 0.2, random_state=5)\n",
        "\n",
        "# Decoder_Train, Decoder_Test, Target_Train, Target_Test  =  train_test_split(data_Decoder_inputs, data_Decoder_targets, test_size = 0.2, random_state=5)\n",
        "# Target_Train = keras.utils.to_categorical(Target_Train, num_classes=VOCAB_SIZE_DECODER)\n",
        "# Target_Test = keras.utils.to_categorical(Target_Test, num_classes=VOCAB_SIZE_DECODER)\n",
        "X_train.shape\n",
        "Y_train.shape"
      ],
      "execution_count": 8,
      "outputs": [
        {
          "output_type": "stream",
          "text": [
            "Tamanho padrão:5 \n",
            "Com pad 2:\n",
            "[[0 1]\n",
            " [0 1]\n",
            " [0 1]]\n",
            "Com pad 7:\n",
            "[[0 1 0 0 0 0 0]\n",
            " [0 1 0 0 0 0 0]\n",
            " [0 1 0 0 0 0 0]]\n"
          ],
          "name": "stdout"
        },
        {
          "output_type": "execute_result",
          "data": {
            "text/plain": [
              "(8087, 5)"
            ]
          },
          "metadata": {
            "tags": []
          },
          "execution_count": 8
        }
      ]
    },
    {
      "cell_type": "markdown",
      "metadata": {
        "id": "NJVapiQ6pVgj"
      },
      "source": [
        "### Modelo"
      ]
    },
    {
      "cell_type": "code",
      "metadata": {
        "colab": {
          "base_uri": "https://localhost:8080/"
        },
        "id": "0vP-K8-ShRJQ",
        "outputId": "e723e4ab-94ee-403f-898c-4637afc987ba"
      },
      "source": [
        "from tensorflow import keras\n",
        "from keras import layers\n",
        "\n",
        "VOCAB_SIZE_X = len(titulo_tokenizer.dic) # 1000\n",
        "TIME_STEPS = MAX_LENGTH_TITLE # 77\n",
        "VOCAB_SIZE_Y = len(assuntos_tokenizer.word_index) # 5\n",
        "\n",
        "\n",
        "# Modelo RNN\n",
        "modelo = keras.Sequential(\n",
        "    [\n",
        "     keras.Input(shape=(TIME_STEPS, VOCAB_SIZE_X), name=\"Input\"),\n",
        "     layers.LSTM(1, return_sequences=True),\n",
        "     layers.LSTM(1),\n",
        "     layers.Dense(VOCAB_SIZE_Y, activation= \"softmax\")\n",
        "    ]\n",
        ")\n",
        "\n",
        "modelo.summary()\n",
        "\n",
        "# Treinando modelo\n",
        "modelo.compile(optimizer='adam', metrics=['accuracy'], loss= keras.losses.categorical_crossentropy)\n",
        "\n",
        "y = modelo(X_train[0:1])\n",
        "\n",
        "\n",
        "hist = modelo.fit(x = X_train,\n",
        "                  y = Y_train,\n",
        "                  validation_split=0.2,\n",
        "                  batch_size = 1000,\n",
        "                  epochs=200,\n",
        "                  verbose=1,\n",
        "                  callbacks=keras.callbacks.EarlyStopping('accuracy',\n",
        "                                                          patience=10,\n",
        "                                                          min_delta=0.05,\n",
        "                                                          restore_best_weights=True)\n",
        "                  )\n",
        "\n",
        "# Grafico\n",
        "plot(hist)\n",
        "\n",
        "# Previsões\n",
        "y_hat = modelo(X_test[0:10])\n",
        "\n",
        "x = [one_hot_decode(y) for y in X_test[0:10] ]\n",
        "y_hat_num = [np.argmax(k) for k in y_hat]\n",
        "y = one_hot_decode(Y_test[0:10])\n",
        "\n",
        "x_tx = titulo_tokenizer.for_idx_data2_text(x)\n",
        "y__hat_tx = [assuntos_tokenizer.index_word[n + 1] for n in y_hat_num]\n",
        "y_tx = [assuntos_tokenizer.index_word[n + 1] for n in y]\n",
        "\n",
        "y_hat_v = modelo.evaluate(X_test, Y_test, verbose=0)\n",
        "x_tx = \"\\n\".join([re.sub(\"<OAV>\",\"*\",' '.join(x)) for x in x_tx])\n",
        "\n",
        "\n",
        "print(\"--Algumas previsões---\")\n",
        "print(f'Acurácia no banco de teste: {round(y_hat_v[1]*100, 2)}%')\n",
        "print(f'x:\\n{x_tx}\\ny_hat:\\n{y__hat_tx}\\ny:\\n{y_tx}')\n",
        "\n",
        "keras.backend.clear_session()\n"
      ],
      "execution_count": 34,
      "outputs": [
        {
          "output_type": "stream",
          "text": [
            "--Algumas previsões---\n",
            "Acurácia no banco de teste: 58.7%\n",
            "x:\n",
            "* * desafios * * * * * * brilho dele * * * * * * * * *\n",
            "* * * * finais e * guerra * * * * * * * futebol * * * *\n",
            "para * * de * * * * beneficiar cunha * * * * * * * * * *\n",
            "* elenco e * * * e * * * * * * planejamento * * * * * *\n",
            "* * provoca rockhold * e * * * * * * * * * * * * * *\n",
            "* de * * e * * * * * ala * * * * * * * * *\n",
            "* apaga * * * e * * * * * * viciando * * * * * * *\n",
            "* de * e ate * * * perdeu * * * * * * de * * * *\n",
            "arbitro * * * * de * * * e * * * * campeonato * * * * *\n",
            "* de servicos * * * * * * * * * * * * * * * * *\n",
            "y_hat:\n",
            "['esportes', 'esportes', 'esportes', 'esportes', 'esportes', 'esportes', 'esportes', 'esportes', 'esportes', 'esportes']\n",
            "y:\n",
            "['esportes', 'esportes', 'politica', 'esportes', 'esportes', 'esportes', 'esportes', 'esportes', 'esportes', 'economia']\n"
          ],
          "name": "stdout"
        }
      ]
    },
    {
      "cell_type": "code",
      "metadata": {
        "id": "yrFvsM7XT47k"
      },
      "source": [
        "df2.head()\n",
        "\n",
        "from keras.layers.normalization import BatchNormalization\n",
        "\n",
        "Model = keras.Sequential()\n",
        "\n",
        "Model.add(layers.LSTM(64, input_shape=(None, 3), return_sequences=True))\n",
        "Model.add(layers.LSTM(64))\n",
        "Model.add(layers.Dense(10, activation=keras.activations.elu))\n",
        "Model.add(BatchNormalization())\n",
        "Model.add(layers.Dense(1, activation='linear'))\n",
        "\n",
        "Model.summary()\n",
        "\n",
        "df2.columns\n",
        "\n",
        "\n",
        "\n",
        "X_train, X_test, Y_train, Y_test = train_test_split(df2[[\"Open\",\"Low\", 'High']].to_numpy(), df2[['Price']].to_numpy(), test_size = 0.2)\n",
        "\n",
        "X_train[1]\n",
        "\n",
        "Model(X_train)"
      ],
      "execution_count": null,
      "outputs": []
    },
    {
      "cell_type": "markdown",
      "metadata": {
        "id": "akrp1IGzah0n"
      },
      "source": [
        "## Seq-Seq"
      ]
    },
    {
      "cell_type": "code",
      "metadata": {
        "id": "Bos8pRQgaU09"
      },
      "source": [
        "# Treina os Tokens\n",
        "tokenizer1 = Tokenizer(char_level=True, lower=False)\n",
        "\n",
        "vocab = sorted(set(Generative_inputs))\n",
        "char2idx = {u:i for i, u in enumerate(vocab)}\n",
        "\n",
        "idx2char = np.array(vocab)"
      ],
      "execution_count": null,
      "outputs": []
    },
    {
      "cell_type": "code",
      "metadata": {
        "id": "I3eQMB7YG4CC"
      },
      "source": [
        "def vectorize_string(string):\n",
        "  vectorized_output = np.array([char2idx[char] for char in string])\n",
        "  return vectorized_output\n",
        "\n",
        "def get_batch(vectorized_songs, seq_length, batch_size):\n",
        "  # the length of the vectorized songs string\n",
        "  n = vectorized_songs.shape[0] - 1\n",
        "  # randomly choose the starting indices for the examples in the training batch\n",
        "  idx = np.random.choice(n-seq_length, batch_size)\n",
        "\n",
        "  input_batch = [vectorized_songs[i : i+seq_length] for i in idx]\n",
        "  output_batch = [vectorized_songs[i+1 : i+seq_length+1] for i in idx]\n",
        "\n",
        "  # x_batch, y_batch provide the true inputs and targets for network training\n",
        "  x_batch = np.reshape(input_batch, [batch_size, seq_length])\n",
        "  y_batch = np.reshape(output_batch, [batch_size, seq_length])\n",
        "  return x_batch, y_batch\n",
        "\n",
        "\n",
        "\n",
        "X, Y = get_batch(vectorize_string(Generative_inputs), 30, 1000)"
      ],
      "execution_count": null,
      "outputs": []
    },
    {
      "cell_type": "code",
      "metadata": {
        "id": "8rxY8wc2eTJR"
      },
      "source": [
        "Model = keras.Sequential()\n",
        "\n",
        "Model.add(layers.Embedding(len(vocab), 250, batch_input_shape=[1000, None]))\n",
        "Model.add(layers.LSTM(100))\n",
        "Model.add(layers.Dense(len(vocab)))\n",
        "\n",
        "Model.compile(\n",
        "    optimizer=keras.optimizers.Adam(1e-1),\n",
        "    loss = \"sparse_categorical_crossentropy\",\n",
        "    metrics = keras.metrics.categorical_accuracy\n",
        ")\n",
        "\n",
        "Y.shape\n",
        "\n",
        "Model.fit(x= X,y=Y, epochs=100)\n",
        "\n",
        "Model(X)\n"
      ],
      "execution_count": null,
      "outputs": []
    },
    {
      "cell_type": "markdown",
      "metadata": {
        "id": "b06KTcSQGYDt"
      },
      "source": [
        "## Encode-Decode (Seq2Seq)"
      ]
    },
    {
      "cell_type": "code",
      "metadata": {
        "id": "-FviOrtB45y4"
      },
      "source": [
        "MAX_LENGTH_TITLE = 26\n",
        "MAX_LENGTH_POEM = 30\n",
        "\n",
        "\n",
        "\n",
        "data_Econder_inputs = pad_sequences(data['Econder_inputs'], maxlen=MAX_LENGTH_TITLE, padding='post', truncating='post')\n",
        "\n",
        "data_Decoder_inputs = pad_sequences(data['Decoder_inputs'], maxlen=MAX_LENGTH_POEM, padding='post', truncating='post')\n",
        "\n",
        "data_Decoder_targets = pad_sequences(data['Decoder_targets'], maxlen=MAX_LENGTH_POEM, padding='post', truncating='post')\n",
        "\n",
        "\n",
        "Encoder_Train, Encoder_Test, _, _ = train_test_split(data_Econder_inputs, data_Decoder_inputs, test_size = 0.2, random_state=5)\n",
        "Decoder_Train, Decoder_Test, Target_Train, Target_Test  =  train_test_split(data_Decoder_inputs, data_Decoder_targets, test_size = 0.2, random_state=5)\n",
        "\n",
        "Target_Train = keras.utils.to_categorical(Target_Train, num_classes=VOCAB_SIZE_DECODER)\n",
        "Target_Test = keras.utils.to_categorical(Target_Test, num_classes=VOCAB_SIZE_DECODER)\n"
      ],
      "execution_count": null,
      "outputs": []
    },
    {
      "cell_type": "code",
      "metadata": {
        "id": "9OvEtyZy8jXy",
        "colab": {
          "base_uri": "https://localhost:8080/",
          "height": 1000
        },
        "outputId": "d47ffe0f-74d8-4bee-d9c6-ada7997a1a6c"
      },
      "source": [
        "# The embedding dimension\n",
        "embedding_dim_Encoder = 60\n",
        "embedding_dim_Decoder =  300\n",
        "VOCAB_SIZE_ENCODER = VOCAB_SIZE_DECODER\n",
        "\n",
        "# Number of RNN units\n",
        "rnn_units = 100\n",
        "\n",
        "\n",
        "## Encoder\n",
        "encode_input = keras.Input(shape=(None,), name=\"title\")\n",
        "encode_features = layers.Embedding(VOCAB_SIZE_ENCODER, embedding_dim_Encoder)(encode_input) \n",
        "encoder = layers.LSTM(rnn_units, return_state=True, name = 'encode')\n",
        "encode_output, state_h, state_c = encoder(encode_features)\n",
        "\n",
        "# Estado da celula \n",
        "encoder_state = [state_h, state_c]\n",
        "\n",
        "#layers.Bidirectional\n",
        "\n",
        "#layers.CuDNNLSTM\n",
        "\n",
        "## Decoder\n",
        "decode_input = keras.Input(shape=(None,), name=\"content\")\n",
        "decode_features = layers.Embedding(VOCAB_SIZE_DECODER, embedding_dim_Decoder)(decode_input)\n",
        "decode = layers.LSTM(rnn_units, return_state=True, return_sequences=True, name = 'decode')\n",
        "decode_out, _, _ = decode(decode_features, initial_state = encoder_state)\n",
        "decoder_outputs = layers.Dense(VOCAB_SIZE_DECODER, activation=\"softmax\")(decode_out)\n",
        "\n",
        "# Estado da celula \n",
        "\n",
        "\n",
        "model = keras.Model([encode_input, decode_input], decoder_outputs)\n",
        "model.summary()\n",
        "\n",
        "#keras.backend.clear_session()\n",
        "\n",
        "#keras.utils.plot_model(model, \"multi_input_and_output_model.png\", show_shapes=True)\n",
        "\n",
        "hist = model.compile(\n",
        "    optimizer=keras.optimizers.Adam(1e-2),\n",
        "    loss = \"categorical_crossentropy\",\n",
        "    metrics = \"acc\"\n",
        ")\n",
        "\n",
        "#class CustomCallback(keras.callbacks.Callback):\n",
        "#  def on_epoch_end(self, epoch, logs=None):\n",
        "#    if 0 == epoch%1: \n",
        "#        print(f'Época: {epoch} \\n output:{logs[\"predict\"]}')\n",
        "        \n",
        "\n",
        "history = model.fit([Encoder_Train, Decoder_Train], Target_Train,\n",
        "          batch_size = 5000,\n",
        "          validation_split=0.2,\n",
        "          callbacks=[keras.callbacks.EarlyStopping('loss', min_delta=0.1, patience=3, restore_best_weights=True)],\n",
        "          epochs=10, verbose=2)\n",
        "\n",
        "\n",
        "plt.plot(history.history['acc'])\n",
        "plt.title('model accuracy')\n",
        "plt.ylabel('accuracy')\n",
        "plt.xlabel('epoch')\n",
        "plt.legend(['train', 'val'], loc='upper left')\n",
        "plt.show()\n"
      ],
      "execution_count": null,
      "outputs": [
        {
          "output_type": "stream",
          "text": [
            "Model: \"model_25\"\n",
            "__________________________________________________________________________________________________\n",
            "Layer (type)                    Output Shape         Param #     Connected to                     \n",
            "==================================================================================================\n",
            "title (InputLayer)              [(None, None)]       0                                            \n",
            "__________________________________________________________________________________________________\n",
            "content (InputLayer)            [(None, None)]       0                                            \n",
            "__________________________________________________________________________________________________\n",
            "embedding_57 (Embedding)        (None, None, 60)     18000       title[0][0]                      \n",
            "__________________________________________________________________________________________________\n",
            "embedding_58 (Embedding)        (None, None, 300)    90000       content[0][0]                    \n",
            "__________________________________________________________________________________________________\n",
            "encode (LSTM)                   [(None, 100), (None, 64400       embedding_57[0][0]               \n",
            "__________________________________________________________________________________________________\n",
            "decode (LSTM)                   [(None, None, 100),  160400      embedding_58[0][0]               \n",
            "                                                                 encode[0][1]                     \n",
            "                                                                 encode[0][2]                     \n",
            "__________________________________________________________________________________________________\n",
            "dense_25 (Dense)                (None, None, 300)    30300       decode[0][0]                     \n",
            "==================================================================================================\n",
            "Total params: 363,100\n",
            "Trainable params: 363,100\n",
            "Non-trainable params: 0\n",
            "__________________________________________________________________________________________________\n",
            "Epoch 1/10\n",
            "WARNING:tensorflow:5 out of the last 13 calls to <function Model.make_test_function.<locals>.test_function at 0x7ff9a3461170> triggered tf.function retracing. Tracing is expensive and the excessive number of tracings could be due to (1) creating @tf.function repeatedly in a loop, (2) passing tensors with different shapes, (3) passing Python objects instead of tensors. For (1), please define your @tf.function outside of the loop. For (2), @tf.function has experimental_relax_shapes=True option that relaxes argument shapes that can avoid unnecessary retracing. For (3), please refer to https://www.tensorflow.org/guide/function#controlling_retracing and https://www.tensorflow.org/api_docs/python/tf/function for  more details.\n",
            "2/2 - 16s - loss: 5.6659 - acc: 0.1302 - val_loss: 4.7715 - val_acc: 0.4190\n",
            "Epoch 2/10\n",
            "2/2 - 12s - loss: 4.4573 - acc: 0.4189 - val_loss: 3.3924 - val_acc: 0.4190\n",
            "Epoch 3/10\n",
            "2/2 - 12s - loss: 3.4001 - acc: 0.4186 - val_loss: 3.3534 - val_acc: 0.4190\n",
            "Epoch 4/10\n",
            "2/2 - 12s - loss: 3.3521 - acc: 0.4186 - val_loss: 3.3245 - val_acc: 0.4190\n",
            "Epoch 5/10\n",
            "2/2 - 12s - loss: 3.3218 - acc: 0.4186 - val_loss: 3.2718 - val_acc: 0.4190\n",
            "Epoch 6/10\n",
            "2/2 - 12s - loss: 3.2665 - acc: 0.4186 - val_loss: 3.2324 - val_acc: 0.4190\n",
            "Epoch 7/10\n",
            "2/2 - 12s - loss: 3.2317 - acc: 0.4186 - val_loss: 3.2057 - val_acc: 0.4209\n",
            "Epoch 8/10\n",
            "2/2 - 12s - loss: 3.2015 - acc: 0.4262 - val_loss: 3.1676 - val_acc: 0.4411\n",
            "Epoch 9/10\n",
            "2/2 - 12s - loss: 3.1640 - acc: 0.4423 - val_loss: 3.1435 - val_acc: 0.4430\n",
            "Epoch 10/10\n",
            "2/2 - 13s - loss: 3.1409 - acc: 0.4436 - val_loss: 3.1272 - val_acc: 0.4430\n"
          ],
          "name": "stdout"
        },
        {
          "output_type": "display_data",
          "data": {
            "image/png": "[encoded data removed]",
            "text/plain": [
              "<Figure size 432x288 with 1 Axes>"
            ]
          },
          "metadata": {
            "tags": [],
            "needs_background": "light"
          }
        }
      ]
    },
    {
      "cell_type": "code",
      "metadata": {
        "id": "wQMciqCLNjWf",
        "colab": {
          "base_uri": "https://localhost:8080/"
        },
        "outputId": "847cf0f8-9ec9-43f4-f453-6ac706de9afc"
      },
      "source": [
        "# Predições \n",
        "pred = model.predict([Encoder_Test, Decoder_Test])\n",
        "\n",
        "def deconder_as(pred, num):\n",
        "  \n",
        "  nums = [int(u) for u in (np.random.uniform(0, len(Encoder_Test), 3))]\n",
        "  \n",
        "  for i in nums:\n",
        "    print(i)\n",
        "    preds = tf.random.categorical(pred[i], num_samples=1).numpy()\n",
        "\n",
        "    enc = tokenizer_Encoder.sequences_to_texts(np.array([ [idx] for idx in tf.squeeze(Encoder_Test[(i):(i+1)])]))\n",
        "    res = tokenizer_Decoder.sequences_to_texts(preds)\n",
        "    tgt = tokenizer_Decoder.sequences_to_texts([[idx] for idx in Decoder_Test[i]])\n",
        "    print(f'Encode: \\n>{\"\".join(enc)}')\n",
        "    print(f'Previsto:  \\n>{\" \".join(res)}')\n",
        "    print(f'Real: \\n>{\" \".join(tgt)}' )\n",
        "    print('-------------------\\n')\n",
        "deconder_as(pred,3)\n",
        "\n",
        "\n",
        "#def generating(title, num_words):\n",
        "#  words = []\n",
        "#  # Encoded\n",
        "#  e_text = tokenizer_Encoder.texts_to_sequences(\"title\")\n",
        "#\n",
        "#  encode_output, state_h, state_c = Econder_model(e_text)\n",
        "#  encoder_state = [state_h, state_c]\n",
        "#\n",
        "#  # Decoded\n",
        "#  decode_input = keras.Input(shape=(None,), name=\"content\")\n",
        "#  decode_features = layers.Embedding(VOCAB_SIZE_DECODER, embedding_dim_Decoder)(decode_input)\n",
        "#  decode = layers.LSTM(rnn_units, return_state=True, return_sequences=True, name = 'decode')\n",
        "#  decode_out, state_h, state_c = decode(decode_features, initial_state = encoder_state)\n",
        "#\n",
        "#  decoder_state = [state_h, state_c]\n",
        "#\n",
        "#\n",
        "#  decoder_outputs = layers.Dense(VOCAB_SIZE_DECODER, activation=\"softmax\")(decode_out)\n",
        "#\n",
        "#\n",
        "#\n",
        "#  decoded_model = keras.Model(decode_input, decode_out)\n",
        "#  \n",
        "#  pred = Decoder_model()\n",
        "#\n",
        "#  words.append(decode_out)\n",
        "#  \n",
        "#  for word in range(num_words):\n",
        "#\n",
        "#    decode_out, state_h, state_c = decode(decode_features, initial_state = encoder_state)\n",
        "#\n",
        "#    decoder_state = [state_h, state_c]\n",
        "#\n",
        "#    words.append(decode_out)\n",
        "\n",
        "#    decoder_outputs = layers.Dense(VOCAB_SIZE_DECODER, activation=\"softmax\")(decode_out)\n",
        "#    decoded_model = keras.Model(decode_input, decode_out)\n",
        "\n",
        "\n"
      ],
      "execution_count": null,
      "outputs": [
        {
          "output_type": "stream",
          "text": [
            "2888\n",
            "Encode: \n",
            ">barra de santos\n",
            "Previsto:  \n",
            ">sera quando que em luz estar janeiro pelas palavras ali hoje ja en outro nosso en ti que em outro <OOV> is aqui olhar nao azul oh es and vezes\n",
            "Real: \n",
            ">bos <OOV> \r <OOV> que o mar <OOV> <OOV> ou <OOV> \r em que as <OOV> vem <OOV> <OOV> a <OOV> do meio dia \r e a tarde <OOV> <OOV>\n",
            "-------------------\n",
            "\n",
            "1980\n",
            "Encode: \n",
            ">comer cu, chupar bocetatem\n",
            "Previsto:  \n",
            ">fora paulo los esta no fogo peito maos alem dia rosto com dois sol y and ao medo agua pela amor diz entao \r na pelas me amar in minhas\n",
            "Real: \n",
            ">bos <OOV> \r no <OOV> da <OOV> enquanto <OOV> <OOV> outros <OOV> entre a mulher e o <OOV> quem mais <OOV> tem <OOV> o <OOV> e uma <OOV> que nao\n",
            "-------------------\n",
            "\n",
            "1752\n",
            "Encode: \n",
            ">num zoologico de letras\n",
            "Previsto:  \n",
            ">the vao pode oh sao melhor olhos por ali los my outro tal esta todo ar sonho the pag desejo <OOV> no ser belo sob longe versos dor manha sob\n",
            "Real: \n",
            ">bos <OOV> <OOV> <OOV> <OOV> <OOV> <OOV> <OOV> <OOV> <OOV> <OOV> <OOV> <OOV> <OOV> <OOV> <OOV> <OOV> <OOV> <OOV> <OOV> <OOV> <OOV> <OOV> <OOV> <OOV> <OOV> <OOV> <OOV> <OOV> <OOV>\n",
            "-------------------\n",
            "\n"
          ],
          "name": "stdout"
        }
      ]
    }
  ]
}