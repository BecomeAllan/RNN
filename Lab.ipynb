{
  "nbformat": 4,
  "nbformat_minor": 0,
  "metadata": {
    "colab": {
      "name": "Lab.ipynb",
      "provenance": [],
      "collapsed_sections": [],
      "authorship_tag": "ABX9TyM3H9HUkMUc7aH7rGX7x8+f",
      "include_colab_link": true
    },
    "kernelspec": {
      "name": "python3",
      "display_name": "Python 3"
    },
    "language_info": {
      "name": "python"
    }
  },
  "cells": [
    {
      "cell_type": "markdown",
      "metadata": {
        "id": "view-in-github",
        "colab_type": "text"
      },
      "source": [
        "<a href=\"https://colab.research.google.com/github/BecomeAllan/RNN/blob/main/Lab.ipynb\" target=\"_parent\"><img src=\"https://colab.research.google.com/assets/colab-badge.svg\" alt=\"Open In Colab\"/></a>"
      ]
    },
    {
      "cell_type": "markdown",
      "metadata": {
        "id": "BdgNtVwJtz4b"
      },
      "source": [
        "# Laboratório\n",
        "\n",
        "## Implementações com RNNs"
      ]
    },
    {
      "cell_type": "markdown",
      "metadata": {
        "id": "v4mmQSmK7UMI"
      },
      "source": [
        "# O que é uma RNN ?"
      ]
    },
    {
      "cell_type": "markdown",
      "metadata": {
        "id": "_cxqL5BZ9Yhf"
      },
      "source": [
        "Uma Recurrent neural network (RNN) é uma arquitetura de Rede Neural que processa dados sequenciais, como palavra por palavra em uma frase ou informações através do tempo.\n",
        "\n",
        "Algo notável na RNN é a capacidade de processar sequências independente do tamanho do vetor de entrada, não precisando ter um tamanho fixo para poder rodar a rede. Por exemplo, uma única rede poderia processar frases com 3, 5, 10 ou mais palavras na mesma rede.\n",
        "\n",
        "Algumas aplicações são mostradas na imagem a seguir, no qual a *one to one* seria uma rede do tipo *FeedFoward*.\n"
      ]
    },
    {
      "cell_type": "markdown",
      "metadata": {
        "id": "G-cbN7-q9SgL"
      },
      "source": [
        "![image](https://raw.githubusercontent.com/BecomeAllan/RNN/main/images/Aquitetura.png)\n",
        "\n",
        "[Imagem retirada daqui](http://karpathy.github.io/2015/05/21/rnn-effectiveness/)\n"
      ]
    },
    {
      "cell_type": "markdown",
      "metadata": {
        "id": "CB21kFiqdI-n"
      },
      "source": [
        "# Comportamento de uma RNN\n",
        "\n",
        "O comportamento de uma célula padrão de RNN é através de um loop, onde o $x_t$ é o input confome o tempo $t$ e está célula representada por $h_t$ transporta a informação para a próxima $h_{t+1}$ com a informação adicional para atualizar junto com o $x_{t+1}$.\n",
        "\n",
        "O comportamento de um estado de célula $h_t$ diz conforme a próxima informação vai ser processada, criando uma correlação do estado passado para o presente $t$."
      ]
    },
    {
      "cell_type": "markdown",
      "metadata": {
        "id": "a0zgJjW0HEYm"
      },
      "source": [
        "<img src=\"https://raw.githubusercontent.com/BecomeAllan/RNN/main/images/Esquelto.png\" alt=\"rnn\" width=\"700\"/>\n",
        "\n",
        "\n",
        "<img src=\"https://raw.githubusercontent.com/BecomeAllan/RNN/main/images/Feedfoward.png\" alt=\"rnn\" width=\"700\"/>\n",
        "\n",
        "[Imagens retiradas daqui](http://introtodeeplearning.com/slides/6S191_MIT_DeepLearning_L2.pdf)"
      ]
    },
    {
      "cell_type": "markdown",
      "metadata": {
        "id": "PUaIU0sSf2EI"
      },
      "source": [
        "## Pseudo-código de uma célula RNN\n",
        "\n",
        "Queremos que a célula de RNN complete a frase:\n",
        "+ \"I love recurrent neural\"\n",
        "\n",
        "prevendo na última interação a palavra:\n",
        "+ \"network\"."
      ]
    },
    {
      "cell_type": "code",
      "metadata": {
        "id": "xMH3-P_Af10R"
      },
      "source": [
        "rnn_cell = RNN()\n",
        "\n",
        "# Inicial h_t\n",
        "hidden_state = [0,0,0,0]\n",
        "\n",
        "X_t = ['I', 'love', 'recurrent', 'neural'] ## input [x_1, x_2, x_3, x_4 ] output da Y_4 = ['network']\n",
        "\n",
        "for word in X_t:\n",
        "  y_hat, hidden_state = rnn_cell(word, hidden_state)\n",
        "\n",
        "# ['network']\n",
        "next_word_predict = y_hat"
      ],
      "execution_count": null,
      "outputs": []
    },
    {
      "cell_type": "markdown",
      "metadata": {
        "id": "27QE7eEijWXP"
      },
      "source": [
        "## Pseudo-código de uma célula RNN para amantes do KERAS"
      ]
    },
    {
      "cell_type": "code",
      "metadata": {
        "cellView": "code",
        "id": "I8YMBGjqjqco"
      },
      "source": [
        "# Bibliotecas usadas\n",
        "import tensorflow as tf\n",
        "from tensorflow import keras\n",
        "import numpy as np\n",
        "    \n",
        "dot = tf.matmul\n",
        "   \n",
        "# Criando a layer RNN\n",
        "class RNN_cell(keras.layers.Layer):\n",
        "  def __init__(self, rnn_units, input_dim, output_dim):\n",
        "    super(RNN_cell, self).__init__()\n",
        "\n",
        "    # Pesos\n",
        "    self.W_xh = self.add_weight(shape = (rnn_units, input_dim), initializer=\"random_normal\", dtype='float32')\n",
        "    self.W_hh = self.add_weight(shape = (rnn_units, rnn_units), initializer=\"random_normal\", dtype='float32')\n",
        "    self.W_hy = self.add_weight(shape = (output_dim, rnn_units), initializer=\"random_normal\", dtype='float32')\n",
        "\n",
        "    # Estado (h_0) inicial \n",
        "    self.h = tf.zeros([rnn_units, 1])\n",
        "  \n",
        "  def call(self, x):\n",
        "    # x -> h\n",
        "    # Atualiza o estado h_t\n",
        "    self.h = tf.tanh( dot(self.W_hh, self.h) + dot( self.W_xh, x))\n",
        "\n",
        "    # h -> y\n",
        "    # 'Dense'\n",
        "    predict = dot( self.W_hy, self.h)\n",
        "    return predict\n",
        "\n",
        "  def get_config(self):\n",
        "    return {\"W_xh\": self.W_xh.numpy(),\n",
        "            \"W_hh\": self.W_hh.numpy(),\n",
        "            \"W_hy\": self.W_hy.numpy(),\n",
        "            \"h\": self.h.numpy()}\n",
        "\n",
        "\n",
        "# Constantes\n",
        "RNN_UNITS = 2\n",
        "INPUT_DIM = 2\n",
        "OUTPUT_DIM = 1\n",
        "\n",
        "\n",
        "\n",
        "x = np.array([[1,3,5,7,9],\n",
        "              [2,4,6,8,10]], dtype='float32')\n",
        "print(f'Shape do input: {x.shape}')\n",
        "\n",
        "hidden = RNN_cell(RNN_UNITS, INPUT_DIM, OUTPUT_DIM)\n",
        "\n",
        "temp = x.shape[1]\n",
        "\n",
        "config = hidden.get_config()\n",
        "####\n",
        "print(f\"Pesos: \\n W_xh:\\n{config['W_xh']}\\n\\n W_hh:\\n{config['W_hh']}\\n\\n W_hy:\\n{config['W_hy']}\\n\\n h:\\n{config['h']}\")"
      ],
      "execution_count": null,
      "outputs": []
    },
    {
      "cell_type": "code",
      "metadata": {
        "id": "aSZbN0zNO5p_"
      },
      "source": [
        "print(f'rnn_units: {RNN_UNITS} | input_dim: {INPUT_DIM} | output_dim: {OUTPUT_DIM} |  Número de sequencias: {temp}')\n",
        "print(f\"Input: \\n {x}\\n\")\n",
        "for t in range(0, temp):\n",
        "  ht = hidden.get_config()\n",
        "  xt = x[:,t]\n",
        "  xt = xt.reshape((2,1))\n",
        "  y_hat = hidden(xt)\n",
        "  print(f\"> Tempo (t):{t} \\n> Valor do estado (h):\\n{ht['h']} \\n> Previu (y_hat): \\n{y_hat}\")\n",
        "  print('----\\n')\n",
        "\n",
        "keras.backend.clear_session()"
      ],
      "execution_count": null,
      "outputs": []
    },
    {
      "cell_type": "markdown",
      "metadata": {
        "id": "uEUHJIYAckOI"
      },
      "source": [
        "## Quantidade de  células (unidades) de RNN\n",
        "\n",
        "+ Veja pelo diagrama que não existe conexão entre as unidades de RNN mas apenas entre suas próprias células.\n",
        "\n",
        "<img src=\"https://raw.githubusercontent.com/BecomeAllan/RNN/main/images/Units.png\" alt=\"units\" width=\"700\"/>"
      ]
    },
    {
      "cell_type": "markdown",
      "metadata": {
        "id": "cR_Qb7Li8uY7"
      },
      "source": [
        "# Quando usar uma RNN ?"
      ]
    },
    {
      "cell_type": "markdown",
      "metadata": {
        "id": "9SZyaa6wz4aP"
      },
      "source": [
        "Como já introduzido, uma RNN é usada quando os dados tem interação conforme o \"tempo\" passa, ou melhor dizendo, se suas variáveis de *input* tem uma correlação com as dadas sequências destas.\n",
        "\n",
        "Ou seja, se uma sequência é passada para uma RNN, como $x_1=[1,2,3]$ e sua \"resposta\" seria o inverso dela, $y=[3,2,1]$, observa-se que existe uma relação entre a sequência do *input* $x$ que diz muito sobre como será o *output*.\n",
        "\n",
        "Há muitos outros exemplos que podem ser explorados com RNNs e alguns deles serão abordados por este documento.\n",
        "\n",
        "Alguns tipos de dados que são usados para utilizar RNNs:\n",
        "+ **Tipo de dados:** Sequências, One-Hot-Encode..."
      ]
    },
    {
      "cell_type": "markdown",
      "metadata": {
        "id": "J-88GFwW3cBa"
      },
      "source": [
        "## Exemplo 1.1: Artificial neural network\n",
        "\n",
        "Conforme o exemplo da sequência $x_1=[1,2,3]$ e $y=[3,2,1]$, exploramos estes dados com uma rede neural *feedfoward* para avaliar sua resposta."
      ]
    },
    {
      "cell_type": "code",
      "metadata": {
        "cellView": "form",
        "id": "lx5BHmXw6D6R"
      },
      "source": [
        "#@title Funções auxiliares\n",
        "\n",
        "from random import randint, seed\n",
        "\n",
        "def sequence(zero_to , n):\t\n",
        "  return [randint(0, zero_to) for _ in range(n)]\n",
        "\n",
        "def backsequence(seq):\n",
        "  return seq[::-1]\n",
        "\n",
        "def one_hot_encode(data, max_lenght):\n",
        "  new_data = [None]*(len(data))\n",
        "  c = 0\n",
        "  for x in data:\n",
        "    hot = [0]*(max_lenght)\n",
        "    hot[x] = 1\n",
        "    new_data[c] = hot\n",
        "    c = c+1\n",
        "  return new_data\n",
        "\n",
        "def one_hot_decode(data):\n",
        "  return [np.argmax(x) for x in data]\n",
        "\n",
        "\n",
        "def create_dataset(train_size, test_size, time_steps, vocabulary_size):\n",
        "  x = [sequence(vocabulary_size - 1 , time_steps) for _ in range(train_size)]\n",
        "  y = [backsequence(y) for y in x]\n",
        "  X_train = np.array([one_hot_encode(x, vocabulary_size) for x in x])\n",
        "  Y_train = np.array([one_hot_encode(y, vocabulary_size) for y in y])\n",
        "  \n",
        "  x = [sequence(vocabulary_size - 1 , time_steps) for _ in range(test_size)]\n",
        "  y = [backsequence(y) for y in x]\n",
        "  X_test = np.array([one_hot_encode(x, vocabulary_size) for x in x])\n",
        "  Y_test = np.array([one_hot_encode(y, vocabulary_size) for y in y])\n",
        "\n",
        "  return X_train, Y_train, X_test, \tY_test\n",
        "\n",
        "def plot(p):\n",
        "\tplt.plot(p.history['accuracy'])\n",
        "\tplt.plot(p.history['val_accuracy'])\n",
        "\tplt.title('accuracy')\n",
        "\tplt.ylabel('accuracy')\n",
        "\tplt.xlabel('epoch')\n",
        "\tplt.legend(['train', 'val'], loc='upper left')\n",
        "\tplt.show()\n",
        " \n",
        "\tplt.plot(p.history['loss'])\n",
        "\tplt.plot(p.history['val_loss'])\n",
        "\tplt.title('loss')\n",
        "\tplt.ylabel('loss')\n",
        "\tplt.xlabel('epoch')\n",
        "\tplt.legend(['train', 'val'], loc='upper left')\n",
        "\tplt.show()"
      ],
      "execution_count": 598,
      "outputs": []
    },
    {
      "cell_type": "markdown",
      "metadata": {
        "id": "IWCVsWc4Jus6"
      },
      "source": [
        "### Criando o dataset"
      ]
    },
    {
      "cell_type": "code",
      "metadata": {
        "id": "MaJWxyQ-3bb0"
      },
      "source": [
        "# Dados em one-hot-encode\n",
        "X_train, Y_train, X_test, Y_test = create_dataset(train_size=20000, test_size=200, time_steps=5, vocabulary_size=10)\n",
        "\n",
        "print(f'Amostra 1:\\n\\\n",
        "x = {one_hot_decode(X_train[0])}\\n \\\n",
        "one_hot_encode do x:\\n \\\n",
        "{X_train[0]}\\n\\n \\\n",
        "y = {one_hot_decode(Y_train[0])}\\n \\\n",
        "one_hot_encode do y:\\n \\\n",
        "{Y_train[0]}')"
      ],
      "execution_count": null,
      "outputs": []
    },
    {
      "cell_type": "markdown",
      "metadata": {
        "id": "4MItf7-ycatD"
      },
      "source": [
        "### Modelo"
      ]
    },
    {
      "cell_type": "code",
      "metadata": {
        "id": "MCEt6XynNfIL",
        "outputId": "dca4a851-5307-4aad-fc4f-1b00ba41e9ea",
        "colab": {
          "base_uri": "https://localhost:8080/",
          "height": 992
        }
      },
      "source": [
        "from tensorflow import keras\n",
        "from keras import layers\n",
        "import matplotlib.pyplot as plt\n",
        "\n",
        "VOCAB_SIZE = 10\n",
        "TIME_STEPS = 5\n",
        "\n",
        "# Modelo RNA feedfoward\n",
        "modelo = keras.Sequential(\n",
        "    [\n",
        "     keras.Input(shape=(TIME_STEPS ,VOCAB_SIZE), name=\"Input\"),\n",
        "     layers.Dense(32, activation='sigmoid'),\n",
        "     layers.BatchNormalization(),\n",
        "     layers.Dense(64, activation='sigmoid'),\n",
        "     layers.BatchNormalization(),\n",
        "     layers.Dense(10, activation= \"softmax\")\n",
        "    ]\n",
        ")\n",
        "\n",
        "modelo.summary()\n",
        "\n",
        "# Treinando modelo\n",
        "modelo.compile(optimizer='adam', metrics=['accuracy'], loss= keras.losses.categorical_crossentropy)\n",
        "hist = modelo.fit(x = X_train,\n",
        "                  y = Y_train,\n",
        "                  validation_split=0.2,\n",
        "                  batch_size = 1000,\n",
        "                  epochs=200,\n",
        "                  callbacks=keras.callbacks.EarlyStopping('loss', patience=10),\n",
        "                  verbose=0)\n",
        "\n",
        "# Grafico\n",
        "plot(hist)\n",
        "\n",
        "# Previsões\n",
        "y_hat = modelo(X_test[0:10])\n",
        "\n",
        "\n",
        "x = [one_hot_decode(y) for y in X_test[0:10] ]\n",
        "y_hat_num = [[np.argmax(y) for y in k] for k in y_hat]\n",
        "y = [one_hot_decode(y) for y in Y_test[0:10] ]\n",
        "\n",
        "print(\"--Algumas previsões---\")\n",
        "print(f'x:\\n{x}\\ny_hat:\\n{y_hat_num}\\ny:\\n{y}')\n",
        "\n",
        "keras.backend.clear_session()"
      ],
      "execution_count": 671,
      "outputs": [
        {
          "output_type": "stream",
          "text": [
            "Model: \"sequential\"\n",
            "_________________________________________________________________\n",
            "Layer (type)                 Output Shape              Param #   \n",
            "=================================================================\n",
            "dense (Dense)                (None, 5, 32)             352       \n",
            "_________________________________________________________________\n",
            "batch_normalization (BatchNo (None, 5, 32)             128       \n",
            "_________________________________________________________________\n",
            "dense_1 (Dense)              (None, 5, 64)             2112      \n",
            "_________________________________________________________________\n",
            "batch_normalization_1 (Batch (None, 5, 64)             256       \n",
            "_________________________________________________________________\n",
            "dense_2 (Dense)              (None, 5, 10)             650       \n",
            "=================================================================\n",
            "Total params: 3,498\n",
            "Trainable params: 3,306\n",
            "Non-trainable params: 192\n",
            "_________________________________________________________________\n"
          ],
          "name": "stdout"
        },
        {
          "output_type": "display_data",
          "data": {
            "image/png": "[encoded data removed]",
            "text/plain": [
              "<Figure size 432x288 with 1 Axes>"
            ]
          },
          "metadata": {
            "tags": [],
            "needs_background": "light"
          }
        },
        {
          "output_type": "display_data",
          "data": {
            "image/png": "[encoded data removed]",
            "text/plain": [
              "<Figure size 432x288 with 1 Axes>"
            ]
          },
          "metadata": {
            "tags": [],
            "needs_background": "light"
          }
        },
        {
          "output_type": "stream",
          "text": [
            "--Algumas previsões---\n",
            "x:\n",
            "[[0, 5, 8, 9, 0], [4, 7, 7, 4, 0], [6, 9, 6, 7, 5], [7, 5, 3, 7, 5], [7, 1, 6, 1, 2], [3, 3, 6, 8, 2], [3, 7, 5, 1, 4], [6, 2, 2, 5, 4], [2, 3, 2, 5, 8], [3, 9, 6, 0, 7]]\n",
            "y_hat:\n",
            "[[1, 1, 1, 1, 1], [1, 1, 1, 1, 1], [1, 1, 1, 1, 1], [1, 1, 1, 1, 1], [1, 1, 1, 1, 1], [1, 1, 1, 1, 1], [1, 1, 1, 1, 1], [1, 1, 1, 1, 1], [1, 1, 1, 1, 1], [1, 1, 1, 1, 1]]\n",
            "y:\n",
            "[[0, 9, 8, 5, 0], [0, 4, 7, 7, 4], [5, 7, 6, 9, 6], [5, 7, 3, 5, 7], [2, 1, 6, 1, 7], [2, 8, 6, 3, 3], [4, 1, 5, 7, 3], [4, 5, 2, 2, 6], [8, 5, 2, 3, 2], [7, 0, 6, 9, 3]]\n"
          ],
          "name": "stdout"
        }
      ]
    },
    {
      "cell_type": "markdown",
      "metadata": {
        "id": "GjkGqpXTb__R"
      },
      "source": [
        "### Exemplo 1.2: RNN\n",
        "\n",
        "Agora, o exemplo vai ser aplicado com uma RNN para avaliar sua capacidade."
      ]
    },
    {
      "cell_type": "markdown",
      "metadata": {
        "id": "bFKHpePMc1vm"
      },
      "source": [
        "### Modelo"
      ]
    },
    {
      "cell_type": "code",
      "metadata": {
        "id": "SiOx0WCOcyA_",
        "outputId": "dbc789b2-6153-45e4-e014-ad45b0d161e4",
        "colab": {
          "base_uri": "https://localhost:8080/",
          "height": 945
        }
      },
      "source": [
        "from tensorflow import keras\n",
        "from keras import layers\n",
        "\n",
        "VOCAB_SIZE = 10\n",
        "TIME_STEPS = 5\n",
        "\n",
        "# Modelo RNN\n",
        "modelo = keras.Sequential(\n",
        "    [\n",
        "     keras.Input(shape=(TIME_STEPS, VOCAB_SIZE), name=\"Input\"),\n",
        "     # Output do RNN é o ultimo valor da sequencia\n",
        "     layers.SimpleRNN(16),\n",
        "     # Replica o valor do output TIME_STEPS vezes\n",
        "     layers.RepeatVector(TIME_STEPS),\n",
        "     layers.Dense(VOCAB_SIZE, activation= \"softmax\")\n",
        "    ]\n",
        ")\n",
        "\n",
        "modelo.summary()\n",
        "\n",
        "# Treinando modelo\n",
        "modelo.compile(optimizer='adam', metrics=['accuracy'], loss= keras.losses.categorical_crossentropy)\n",
        "hist = modelo.fit(x = X_train,\n",
        "                  y = Y_train,\n",
        "                  validation_split=0.2,\n",
        "                  batch_size = 1000,\n",
        "                  epochs=200,\n",
        "                  callbacks=keras.callbacks.EarlyStopping('loss', patience=10),\n",
        "                  verbose=0)\n",
        "\n",
        "# Grafico\n",
        "plot(hist)\n",
        "\n",
        "# Previsões\n",
        "y_hat = modelo(X_test)\n",
        "\n",
        "\n",
        "x = [one_hot_decode(y) for y in X_test[0:10] ]\n",
        "y_hat_num = [[np.argmax(y) for y in k] for k in y_hat]\n",
        "y = [one_hot_decode(y) for y in Y_test[0:10] ]\n",
        "\n",
        "print(\"--Algumas previsões---\")\n",
        "print(f'x:\\n{x}\\ny_hat:\\n{y_hat_num}\\ny:\\n{y}')\n",
        "\n",
        "keras.backend.clear_session()"
      ],
      "execution_count": 673,
      "outputs": [
        {
          "output_type": "stream",
          "text": [
            "Model: \"sequential\"\n",
            "_________________________________________________________________\n",
            "Layer (type)                 Output Shape              Param #   \n",
            "=================================================================\n",
            "simple_rnn (SimpleRNN)       (None, 16)                432       \n",
            "_________________________________________________________________\n",
            "repeat_vector (RepeatVector) (None, 5, 16)             0         \n",
            "_________________________________________________________________\n",
            "dense (Dense)                (None, 5, 10)             170       \n",
            "=================================================================\n",
            "Total params: 602\n",
            "Trainable params: 602\n",
            "Non-trainable params: 0\n",
            "_________________________________________________________________\n"
          ],
          "name": "stdout"
        },
        {
          "output_type": "display_data",
          "data": {
            "image/png": "[encoded data removed]",
            "text/plain": [
              "<Figure size 432x288 with 1 Axes>"
            ]
          },
          "metadata": {
            "tags": [],
            "needs_background": "light"
          }
        },
        {
          "output_type": "display_data",
          "data": {
            "image/png": "[encoded data removed]",
            "text/plain": [
              "<Figure size 432x288 with 1 Axes>"
            ]
          },
          "metadata": {
            "tags": [],
            "needs_background": "light"
          }
        },
        {
          "output_type": "stream",
          "text": [
            "--Algumas previsões---\n",
            "x:\n",
            "[[0, 5, 8, 9, 0], [4, 7, 7, 4, 0], [6, 9, 6, 7, 5], [7, 5, 3, 7, 5], [7, 1, 6, 1, 2], [3, 3, 6, 8, 2], [3, 7, 5, 1, 4], [6, 2, 2, 5, 4], [2, 3, 2, 5, 8], [3, 9, 6, 0, 7]]\n",
            "y_hat:\n",
            "[[0, 0, 0, 0, 0], [4, 4, 4, 4, 4], [6, 6, 6, 6, 6], [5, 5, 5, 5, 5], [1, 1, 1, 1, 1], [3, 3, 3, 3, 3], [3, 3, 3, 3, 3], [2, 2, 2, 2, 2], [2, 2, 2, 2, 2], [6, 6, 6, 6, 6], [4, 4, 4, 4, 4], [1, 1, 1, 1, 1], [1, 1, 1, 1, 1], [6, 6, 6, 6, 6], [5, 5, 5, 5, 5], [3, 3, 3, 3, 3], [3, 3, 3, 3, 3], [4, 4, 4, 4, 4], [0, 0, 0, 0, 0], [7, 7, 7, 7, 7], [6, 6, 6, 6, 6], [5, 5, 5, 5, 5], [7, 7, 7, 7, 7], [3, 3, 3, 3, 3], [0, 0, 0, 0, 0], [3, 3, 3, 3, 3], [2, 2, 2, 2, 2], [8, 8, 8, 8, 8], [3, 3, 3, 3, 3], [9, 9, 9, 9, 9], [9, 9, 9, 9, 9], [2, 2, 2, 2, 2], [7, 7, 7, 7, 7], [9, 9, 9, 9, 9], [9, 9, 9, 9, 9], [6, 6, 6, 6, 6], [3, 3, 3, 3, 3], [0, 0, 0, 0, 0], [6, 6, 6, 6, 6], [2, 2, 2, 2, 2], [7, 7, 7, 7, 7], [2, 2, 2, 2, 2], [8, 8, 8, 8, 8], [5, 5, 5, 5, 5], [1, 1, 1, 1, 1], [0, 0, 0, 0, 0], [6, 6, 6, 6, 6], [1, 1, 1, 1, 1], [4, 4, 4, 4, 4], [0, 0, 0, 0, 0], [1, 1, 1, 1, 1], [5, 5, 5, 5, 5], [2, 2, 2, 2, 2], [8, 8, 8, 8, 8], [3, 3, 3, 3, 3], [4, 4, 4, 4, 4], [9, 9, 9, 9, 9], [5, 5, 5, 5, 5], [4, 4, 4, 4, 4], [3, 3, 3, 3, 3], [6, 6, 6, 6, 6], [0, 0, 0, 0, 0], [4, 4, 4, 4, 4], [9, 9, 9, 9, 9], [8, 8, 8, 8, 8], [2, 2, 2, 2, 2], [4, 4, 4, 4, 4], [8, 8, 8, 8, 8], [2, 2, 2, 2, 2], [9, 9, 9, 9, 9], [5, 5, 5, 5, 5], [1, 1, 1, 1, 1], [4, 4, 4, 4, 4], [4, 4, 4, 4, 4], [7, 7, 7, 7, 7], [5, 5, 5, 5, 5], [7, 7, 7, 7, 7], [9, 9, 9, 9, 9], [2, 2, 2, 2, 2], [8, 8, 8, 8, 8], [4, 4, 4, 4, 4], [5, 5, 5, 5, 5], [3, 3, 3, 3, 3], [6, 6, 6, 6, 6], [0, 0, 0, 0, 0], [8, 8, 8, 8, 8], [8, 8, 8, 8, 8], [4, 4, 4, 4, 4], [0, 0, 0, 0, 0], [0, 0, 0, 0, 0], [1, 1, 1, 1, 1], [9, 9, 9, 9, 9], [9, 9, 9, 9, 9], [4, 4, 4, 4, 4], [8, 8, 8, 8, 8], [1, 1, 1, 1, 1], [9, 9, 9, 9, 9], [8, 8, 8, 8, 8], [0, 0, 0, 0, 0], [3, 3, 3, 3, 3], [6, 6, 6, 6, 6], [8, 8, 8, 8, 8], [8, 8, 8, 8, 8], [8, 8, 8, 8, 8], [7, 7, 7, 7, 7], [3, 3, 3, 3, 3], [9, 9, 9, 9, 9], [3, 3, 3, 3, 3], [4, 4, 4, 4, 4], [8, 8, 8, 8, 8], [5, 5, 5, 5, 5], [5, 5, 5, 5, 5], [4, 4, 4, 4, 4], [3, 3, 3, 3, 3], [5, 5, 5, 5, 5], [5, 5, 5, 5, 5], [0, 0, 0, 0, 0], [4, 4, 4, 4, 4], [7, 7, 7, 7, 7], [8, 8, 8, 8, 8], [8, 8, 8, 8, 8], [9, 9, 9, 9, 9], [9, 9, 9, 9, 9], [0, 0, 0, 0, 0], [4, 4, 4, 4, 4], [0, 0, 0, 0, 0], [3, 3, 3, 3, 3], [5, 5, 5, 5, 5], [7, 7, 7, 7, 7], [6, 6, 6, 6, 6], [3, 3, 3, 3, 3], [6, 6, 6, 6, 6], [0, 0, 0, 0, 0], [5, 5, 5, 5, 5], [1, 1, 1, 1, 1], [1, 1, 1, 1, 1], [2, 2, 2, 2, 2], [9, 9, 9, 9, 9], [3, 3, 3, 3, 3], [1, 1, 1, 1, 1], [3, 3, 3, 3, 3], [1, 1, 1, 1, 1], [7, 7, 7, 7, 7], [2, 2, 2, 2, 2], [7, 7, 7, 7, 7], [6, 6, 6, 6, 6], [3, 3, 3, 3, 3], [9, 9, 9, 9, 9], [9, 9, 9, 9, 9], [3, 3, 3, 3, 3], [1, 1, 1, 1, 1], [2, 2, 2, 2, 2], [6, 6, 6, 6, 6], [8, 8, 8, 8, 8], [0, 0, 0, 0, 0], [7, 7, 7, 7, 7], [4, 4, 4, 4, 4], [4, 4, 4, 4, 4], [4, 4, 4, 4, 4], [9, 9, 9, 9, 9], [8, 8, 8, 8, 8], [2, 2, 2, 2, 2], [0, 0, 0, 0, 0], [2, 2, 2, 2, 2], [1, 1, 1, 1, 1], [7, 7, 7, 7, 7], [5, 5, 5, 5, 5], [9, 9, 9, 9, 9], [2, 2, 2, 2, 2], [3, 3, 3, 3, 3], [1, 1, 1, 1, 1], [2, 2, 2, 2, 2], [8, 8, 8, 8, 8], [2, 2, 2, 2, 2], [8, 8, 8, 8, 8], [4, 4, 4, 4, 4], [8, 8, 8, 8, 8], [2, 2, 2, 2, 2], [7, 7, 7, 7, 7], [5, 5, 5, 5, 5], [3, 3, 3, 3, 3], [1, 1, 1, 1, 1], [3, 3, 3, 3, 3], [1, 1, 1, 1, 1], [6, 6, 6, 6, 6], [4, 4, 4, 4, 4], [9, 9, 9, 9, 9], [9, 9, 9, 9, 9], [5, 5, 5, 5, 5], [5, 5, 5, 5, 5], [4, 4, 4, 4, 4], [7, 7, 7, 7, 7], [8, 8, 8, 8, 8], [1, 1, 1, 1, 1], [3, 3, 3, 3, 3], [8, 8, 8, 8, 8], [3, 3, 3, 3, 3], [5, 5, 5, 5, 5], [2, 2, 2, 2, 2], [2, 2, 2, 2, 2]]\n",
            "y:\n",
            "[[0, 9, 8, 5, 0], [0, 4, 7, 7, 4], [5, 7, 6, 9, 6], [5, 7, 3, 5, 7], [2, 1, 6, 1, 7], [2, 8, 6, 3, 3], [4, 1, 5, 7, 3], [4, 5, 2, 2, 6], [8, 5, 2, 3, 2], [7, 0, 6, 9, 3]]\n"
          ],
          "name": "stdout"
        }
      ]
    },
    {
      "cell_type": "markdown",
      "metadata": {
        "id": "Iq5niDHhplh9"
      },
      "source": [
        "### Diferentes tamanhos de células de RNN"
      ]
    },
    {
      "cell_type": "code",
      "metadata": {
        "cellView": "form",
        "id": "eZMEuRp-h1A2"
      },
      "source": [
        "#@title Funções auxiliares\n",
        "def rnn_model(unn):\n",
        "  modelo = keras.Sequential(\n",
        "      [\n",
        "       keras.Input(shape=(TIME_STEPS, VOCAB_SIZE), name=\"Input\"),\n",
        "       # Output do RNN é o ultimo valor da sequencia\n",
        "       layers.SimpleRNN(unn),\n",
        "       # Replica o valor do output TIME_STEPS vezes\n",
        "       layers.RepeatVector(TIME_STEPS),\n",
        "       layers.Dense(VOCAB_SIZE, activation= \"softmax\")\n",
        "     ]\n",
        "    )\n",
        "  modelo.compile(optimizer='adam', metrics=['accuracy'],\n",
        "                 loss= keras.losses.categorical_crossentropy)\n",
        "  hist = modelo.fit(x = X_train,\n",
        "                  y = Y_train,\n",
        "                  validation_split=0.2,\n",
        "                  batch_size = 1000,\n",
        "                  epochs=200,\n",
        "                  callbacks=keras.callbacks.EarlyStopping('loss', patience=10),\n",
        "                  verbose=0)\n",
        "\n",
        "  # Previsões\n",
        "  y_hat = modelo(X_test[0:10])\n",
        "  y_hat_v = modelo.evaluate(X_test, Y_test, verbose=0)\n",
        "\n",
        "  x = [one_hot_decode(y) for y in X_test[0:10] ]\n",
        "  y_hat_num = [[np.argmax(y) for y in k] for k in y_hat]\n",
        "  y = [one_hot_decode(y) for y in Y_test[0:10] ]\n",
        "\n",
        "  print(f\"Acurácia: {round(y_hat_v[1],2)}\")\n",
        "  print(\"--Algumas previsões---\")\n",
        "  print(f'x:\\n{x}\\ny_hat:\\n{y_hat_num}\\ny:\\n{y}')\n",
        "  keras.backend.clear_session()\n"
      ],
      "execution_count": 675,
      "outputs": []
    },
    {
      "cell_type": "code",
      "metadata": {
        "id": "JSWx8sOAp-Wf",
        "outputId": "bb4c6f85-c647-44f8-e235-009ea09ee1b7",
        "colab": {
          "base_uri": "https://localhost:8080/"
        }
      },
      "source": [
        "## Unidades de RNN\n",
        "for u in [2,4,16]:\n",
        "  print(f'Unidades de RNN: {u}')\n",
        "  rnn_model(u)\n",
        "  print('\\n\\n')"
      ],
      "execution_count": 676,
      "outputs": [
        {
          "output_type": "stream",
          "text": [
            "Unidades de RNN: 2\n",
            "Acurácia: 0.21\n",
            "--Algumas previsões---\n",
            "x:\n",
            "[[0, 5, 8, 9, 0], [4, 7, 7, 4, 0], [6, 9, 6, 7, 5], [7, 5, 3, 7, 5], [7, 1, 6, 1, 2], [3, 3, 6, 8, 2], [3, 7, 5, 1, 4], [6, 2, 2, 5, 4], [2, 3, 2, 5, 8], [3, 9, 6, 0, 7]]\n",
            "y_hat:\n",
            "[[3, 3, 3, 3, 3], [6, 6, 6, 6, 6], [6, 6, 6, 6, 6], [3, 3, 3, 3, 3], [1, 1, 1, 1, 1], [3, 3, 3, 3, 3], [1, 1, 1, 1, 1], [1, 1, 1, 1, 1], [2, 2, 2, 2, 2], [8, 8, 8, 8, 8]]\n",
            "y:\n",
            "[[0, 9, 8, 5, 0], [0, 4, 7, 7, 4], [5, 7, 6, 9, 6], [5, 7, 3, 5, 7], [2, 1, 6, 1, 7], [2, 8, 6, 3, 3], [4, 1, 5, 7, 3], [4, 5, 2, 2, 6], [8, 5, 2, 3, 2], [7, 0, 6, 9, 3]]\n",
            "\n",
            "\n",
            "\n",
            "Unidades de RNN: 4\n",
            "Acurácia: 0.29\n",
            "--Algumas previsões---\n",
            "x:\n",
            "[[0, 5, 8, 9, 0], [4, 7, 7, 4, 0], [6, 9, 6, 7, 5], [7, 5, 3, 7, 5], [7, 1, 6, 1, 2], [3, 3, 6, 8, 2], [3, 7, 5, 1, 4], [6, 2, 2, 5, 4], [2, 3, 2, 5, 8], [3, 9, 6, 0, 7]]\n",
            "y_hat:\n",
            "[[5, 5, 5, 5, 5], [4, 4, 4, 4, 4], [9, 9, 9, 9, 9], [0, 0, 0, 0, 0], [1, 1, 1, 1, 1], [8, 8, 8, 8, 8], [3, 3, 3, 3, 3], [5, 5, 5, 5, 5], [2, 2, 2, 2, 2], [7, 7, 7, 7, 7]]\n",
            "y:\n",
            "[[0, 9, 8, 5, 0], [0, 4, 7, 7, 4], [5, 7, 6, 9, 6], [5, 7, 3, 5, 7], [2, 1, 6, 1, 7], [2, 8, 6, 3, 3], [4, 1, 5, 7, 3], [4, 5, 2, 2, 6], [8, 5, 2, 3, 2], [7, 0, 6, 9, 3]]\n",
            "\n",
            "\n",
            "\n",
            "Unidades de RNN: 16\n",
            "Acurácia: 0.34\n",
            "--Algumas previsões---\n",
            "x:\n",
            "[[0, 5, 8, 9, 0], [4, 7, 7, 4, 0], [6, 9, 6, 7, 5], [7, 5, 3, 7, 5], [7, 1, 6, 1, 2], [3, 3, 6, 8, 2], [3, 7, 5, 1, 4], [6, 2, 2, 5, 4], [2, 3, 2, 5, 8], [3, 9, 6, 0, 7]]\n",
            "y_hat:\n",
            "[[0, 0, 0, 0, 0], [4, 4, 4, 4, 4], [6, 6, 6, 6, 6], [5, 5, 5, 5, 5], [1, 1, 1, 1, 1], [3, 3, 3, 3, 3], [3, 3, 3, 3, 3], [2, 2, 2, 2, 2], [2, 2, 2, 2, 2], [3, 3, 3, 3, 3]]\n",
            "y:\n",
            "[[0, 9, 8, 5, 0], [0, 4, 7, 7, 4], [5, 7, 6, 9, 6], [5, 7, 3, 5, 7], [2, 1, 6, 1, 7], [2, 8, 6, 3, 3], [4, 1, 5, 7, 3], [4, 5, 2, 2, 6], [8, 5, 2, 3, 2], [7, 0, 6, 9, 3]]\n",
            "\n",
            "\n",
            "\n"
          ],
          "name": "stdout"
        }
      ]
    },
    {
      "cell_type": "markdown",
      "metadata": {
        "id": "qQhwSfMhqpVm"
      },
      "source": [
        "# Aplicações com RNN"
      ]
    },
    {
      "cell_type": "markdown",
      "metadata": {
        "id": "zk7F6x-GrFpU"
      },
      "source": [
        "Assim como foi visto"
      ]
    },
    {
      "cell_type": "code",
      "metadata": {
        "id": "LqnJPUzMrbNx",
        "cellView": "form"
      },
      "source": [
        "#@title Bibliotecas\n",
        "import pandas as pd\n",
        "import numpy as np\n",
        "import tensorflow as tf\n",
        "\n",
        "from tensorflow import keras\n",
        "from tensorflow.keras import layers\n",
        "\n",
        "from keras.preprocessing.text import Tokenizer\n",
        "from keras.preprocessing.sequence import pad_sequences\n",
        "\n",
        "from sklearn.model_selection import train_test_split\n",
        "\n",
        "from matplotlib import pyplot as plt\n",
        "\n",
        "import os\n",
        "import time\n",
        "import re\n",
        "\n",
        "!pip install unidecode\n",
        "from unidecode import unidecode\n",
        "\n",
        "tf.config.list_physical_devices('GPU')"
      ],
      "execution_count": null,
      "outputs": []
    },
    {
      "cell_type": "markdown",
      "metadata": {
        "id": "Q-bCz5eclRam"
      },
      "source": [
        "## Tratamento de dados"
      ]
    },
    {
      "cell_type": "code",
      "metadata": {
        "id": "LAfxkvsat4A0",
        "cellView": "form"
      },
      "source": [
        "#@title Baixando os dados\n",
        "# Baixar dataset\n",
        "!gdown --id 15FhPHu7Hx6ul_k-EEBZwzpUWznK0gBR3\n",
        "\n",
        "!gdown --id 1Eq9oi3_1PuSZ5hoZS5M1A5pTMSyy3K_a\n"
      ],
      "execution_count": null,
      "outputs": []
    },
    {
      "cell_type": "code",
      "metadata": {
        "id": "rlafdjkFuxw4"
      },
      "source": [
        "#@title Dados\n",
        "# Data1\n",
        "poem_data = pd.read_csv(\"portuguese-poems.csv\", encoding='UTF-8')\n",
        "\n",
        "# Data2\n",
        "cript_data = pd.read_csv(\"Ethereum Historical Data.csv\", encoding='UTF-8')\n",
        "\n",
        "poem_data = poem_data.dropna()\n",
        "cript_data = cript_data.dropna()"
      ],
      "execution_count": null,
      "outputs": []
    },
    {
      "cell_type": "code",
      "metadata": {
        "cellView": "form",
        "id": "KfLrdY6Rr02i",
        "outputId": "4f007c6c-f2c1-44c3-e477-bc060ce5ed77",
        "colab": {
          "base_uri": "https://localhost:8080/",
          "height": 192
        }
      },
      "source": [
        "#@title Dados(poem_data): portuguese-poems.csv\n",
        "poem_data.head()"
      ],
      "execution_count": 683,
      "outputs": [
        {
          "output_type": "execute_result",
          "data": {
            "text/html": [
              "<div>\n",
              "<style scoped>\n",
              "    .dataframe tbody tr th:only-of-type {\n",
              "        vertical-align: middle;\n",
              "    }\n",
              "\n",
              "    .dataframe tbody tr th {\n",
              "        vertical-align: top;\n",
              "    }\n",
              "\n",
              "    .dataframe thead th {\n",
              "        text-align: right;\n",
              "    }\n",
              "</style>\n",
              "<table border=\"1\" class=\"dataframe\">\n",
              "  <thead>\n",
              "    <tr style=\"text-align: right;\">\n",
              "      <th></th>\n",
              "      <th>Author</th>\n",
              "      <th>Title</th>\n",
              "      <th>Content</th>\n",
              "      <th>Views</th>\n",
              "    </tr>\n",
              "  </thead>\n",
              "  <tbody>\n",
              "    <tr>\n",
              "      <th>0</th>\n",
              "      <td>Cecília Meireles</td>\n",
              "      <td>Retrato</td>\n",
              "      <td>Eu não tinha este rosto de hoje,\\r\\nAssim calm...</td>\n",
              "      <td>1018431</td>\n",
              "    </tr>\n",
              "    <tr>\n",
              "      <th>1</th>\n",
              "      <td>Fernando Pessoa</td>\n",
              "      <td>Para ser grande, sê inteiro: nada</td>\n",
              "      <td>Para ser grande, sê inteiro: nada\\r\\nTeu exage...</td>\n",
              "      <td>1979413</td>\n",
              "    </tr>\n",
              "    <tr>\n",
              "      <th>2</th>\n",
              "      <td>Marina Colasanti</td>\n",
              "      <td>Eu sei, mas não devia</td>\n",
              "      <td>Eu sei que a gente se acostuma. Mas não devia....</td>\n",
              "      <td>301509</td>\n",
              "    </tr>\n",
              "    <tr>\n",
              "      <th>3</th>\n",
              "      <td>Carlos Drummond de Andrade</td>\n",
              "      <td>Quadrilha</td>\n",
              "      <td>João amava Teresa que amava Raimundo\\r\\nque am...</td>\n",
              "      <td>1421206</td>\n",
              "    </tr>\n",
              "    <tr>\n",
              "      <th>4</th>\n",
              "      <td>Eugénio de Andrade</td>\n",
              "      <td>É urgente o amor</td>\n",
              "      <td>É urgente o amor.\\r\\nÉ urgente um barco no mar...</td>\n",
              "      <td>621197</td>\n",
              "    </tr>\n",
              "  </tbody>\n",
              "</table>\n",
              "</div>"
            ],
            "text/plain": [
              "                       Author  ...    Views\n",
              "0            Cecília Meireles  ...  1018431\n",
              "1             Fernando Pessoa  ...  1979413\n",
              "2            Marina Colasanti  ...   301509\n",
              "3  Carlos Drummond de Andrade  ...  1421206\n",
              "4          Eugénio de Andrade  ...   621197\n",
              "\n",
              "[5 rows x 4 columns]"
            ]
          },
          "metadata": {
            "tags": []
          },
          "execution_count": 683
        }
      ]
    },
    {
      "cell_type": "code",
      "metadata": {
        "cellView": "form",
        "id": "lUzqx4kdsfFZ",
        "outputId": "e68978af-c6e2-44b0-b5bf-878fc34f7337",
        "colab": {
          "base_uri": "https://localhost:8080/",
          "height": 192
        }
      },
      "source": [
        "#@title Dados(cript_data): Ethereum Historical Data.csv\n",
        "\n",
        "cript_data.head()"
      ],
      "execution_count": 684,
      "outputs": [
        {
          "output_type": "execute_result",
          "data": {
            "text/html": [
              "<div>\n",
              "<style scoped>\n",
              "    .dataframe tbody tr th:only-of-type {\n",
              "        vertical-align: middle;\n",
              "    }\n",
              "\n",
              "    .dataframe tbody tr th {\n",
              "        vertical-align: top;\n",
              "    }\n",
              "\n",
              "    .dataframe thead th {\n",
              "        text-align: right;\n",
              "    }\n",
              "</style>\n",
              "<table border=\"1\" class=\"dataframe\">\n",
              "  <thead>\n",
              "    <tr style=\"text-align: right;\">\n",
              "      <th></th>\n",
              "      <th>Date</th>\n",
              "      <th>Price</th>\n",
              "      <th>Open</th>\n",
              "      <th>High</th>\n",
              "      <th>Low</th>\n",
              "      <th>Vol.</th>\n",
              "      <th>Change %</th>\n",
              "    </tr>\n",
              "  </thead>\n",
              "  <tbody>\n",
              "    <tr>\n",
              "      <th>0</th>\n",
              "      <td>Mar 10, 2016</td>\n",
              "      <td>11.75</td>\n",
              "      <td>11.20</td>\n",
              "      <td>11.85</td>\n",
              "      <td>11.07</td>\n",
              "      <td>0.00K</td>\n",
              "      <td>4.91%</td>\n",
              "    </tr>\n",
              "    <tr>\n",
              "      <th>1</th>\n",
              "      <td>Mar 11, 2016</td>\n",
              "      <td>11.95</td>\n",
              "      <td>11.75</td>\n",
              "      <td>11.95</td>\n",
              "      <td>11.75</td>\n",
              "      <td>0.18K</td>\n",
              "      <td>1.70%</td>\n",
              "    </tr>\n",
              "    <tr>\n",
              "      <th>2</th>\n",
              "      <td>Mar 12, 2016</td>\n",
              "      <td>12.92</td>\n",
              "      <td>11.95</td>\n",
              "      <td>13.45</td>\n",
              "      <td>11.95</td>\n",
              "      <td>0.83K</td>\n",
              "      <td>8.12%</td>\n",
              "    </tr>\n",
              "    <tr>\n",
              "      <th>3</th>\n",
              "      <td>Mar 13, 2016</td>\n",
              "      <td>15.07</td>\n",
              "      <td>12.92</td>\n",
              "      <td>15.07</td>\n",
              "      <td>12.92</td>\n",
              "      <td>1.30K</td>\n",
              "      <td>16.64%</td>\n",
              "    </tr>\n",
              "    <tr>\n",
              "      <th>4</th>\n",
              "      <td>Mar 14, 2016</td>\n",
              "      <td>12.50</td>\n",
              "      <td>15.07</td>\n",
              "      <td>15.07</td>\n",
              "      <td>11.40</td>\n",
              "      <td>92.18K</td>\n",
              "      <td>-17.05%</td>\n",
              "    </tr>\n",
              "  </tbody>\n",
              "</table>\n",
              "</div>"
            ],
            "text/plain": [
              "           Date  Price   Open   High    Low    Vol. Change %\n",
              "0  Mar 10, 2016  11.75  11.20  11.85  11.07   0.00K    4.91%\n",
              "1  Mar 11, 2016  11.95  11.75  11.95  11.75   0.18K    1.70%\n",
              "2  Mar 12, 2016  12.92  11.95  13.45  11.95   0.83K    8.12%\n",
              "3  Mar 13, 2016  15.07  12.92  15.07  12.92   1.30K   16.64%\n",
              "4  Mar 14, 2016  12.50  15.07  15.07  11.40  92.18K  -17.05%"
            ]
          },
          "metadata": {
            "tags": []
          },
          "execution_count": 684
        }
      ]
    },
    {
      "cell_type": "code",
      "metadata": {
        "id": "pirlCPfptiF5"
      },
      "source": [
        "data = pd.DataFrame()\n",
        "\n",
        "\n",
        "Generative_inputs = '\\n\\n'.join(df1['Title'])\n",
        "\n",
        "\n",
        "df1['Title'] = df1['Title'].apply(unidecode).str.lower()\n",
        "df1['Content'] = df1['Content'].apply(unidecode).str.lower()\n",
        "\n",
        "# Criando os dados\n",
        "\n",
        "data['Econder_inputs'] = df1['Title']\n",
        "\n",
        "data['Decoder_inputs'] = df1['Content'].apply(lambda row: \"<BOS> \" + row[:-1])\n",
        "\n",
        "data['Decoder_targets'] = df1['Content'].apply(lambda row: row[1:] + \" <EOS>\")\n",
        "\n"
      ],
      "execution_count": null,
      "outputs": []
    },
    {
      "cell_type": "code",
      "metadata": {
        "id": "11wMYuGEYK-v"
      },
      "source": [
        "# Treina os Tokens - Encoder -\n",
        "tokenizer_Encoder = Tokenizer(char_level=True, lower=False)\n",
        "\n",
        "tokenizer_Encoder.fit_on_texts(data['Econder_inputs'])\n",
        "\n",
        "dictionary_Encoder = tokenizer_Encoder.word_index\n",
        "\n",
        "e = tokenizer_Encoder.texts_to_sequences(data['Econder_inputs'][0:1])\n",
        "e_text = tokenizer_Encoder.sequences_to_texts(e)\n",
        "\n",
        "print(dictionary_Encoder)\n",
        "print(f'O input: {data[\"Econder_inputs\"][0:1]}')\n",
        "print(f'O Token do input: {e}')\n",
        "print(f'O decode do Token do input: {e_text}')\n",
        "\n",
        "data['Econder_inputs'] = tokenizer_Encoder.texts_to_sequences(data['Econder_inputs'])\n",
        "\n",
        "\n",
        "\n",
        "# Treina os Tokens - Decoders -\n",
        "\n",
        "\n",
        "VOCAB_SIZE_DECODER = 500\n",
        "\n",
        "\n",
        "tokenizer_Decoder = Tokenizer(char_level=False, lower=True, oov_token='<OOV>')\n",
        "\n",
        "\n",
        "tokenizer_Decoder.fit_on_texts(data['Decoder_inputs'])\n",
        "tokenizer_Decoder.fit_on_texts(data['Decoder_targets'])\n",
        "\n",
        "\n",
        "dictionary_Decoder = tokenizer_Decoder.word_index\n",
        "len(dictionary_Decoder)\n",
        "\n",
        "tokenizer_Decoder.num_words = VOCAB_SIZE_DECODER\n",
        "\n",
        "\n",
        "d = tokenizer_Decoder.texts_to_sequences(data['Decoder_inputs'][0:1])\n",
        "d_text = tokenizer_Decoder.sequences_to_texts(d)\n",
        "\n",
        "print(\"\\n\")\n",
        "print(dictionary_Decoder)\n",
        "print(f'O input: {data[\"Decoder_inputs\"][0:1]}')\n",
        "print(f'O Token do input: {d}')\n",
        "print(f'O decode do Token do input: {d_text}')\n",
        "\n",
        "\n",
        "data['Decoder_inputs'] = tokenizer_Decoder.texts_to_sequences( data['Decoder_inputs'])\n",
        "\n",
        "data['Decoder_targets'] = tokenizer_Decoder.texts_to_sequences(data['Decoder_targets'])"
      ],
      "execution_count": null,
      "outputs": []
    },
    {
      "cell_type": "code",
      "metadata": {
        "id": "0vP-K8-ShRJQ"
      },
      "source": [
        "from tensorflow import keras\n",
        "from keras import layers\n",
        "\n",
        "VOCAB_SIZE = 10\n",
        "TIME_STEPS = 5\n",
        "\n",
        "# Modelo RNN\n",
        "modelo = keras.Sequential(\n",
        "    [\n",
        "     keras.Input(shape=(TIME_STEPS, VOCAB_SIZE), name=\"Input\"),\n",
        "     # Output do RNN é o ultimo valor da sequencia\n",
        "     layers.SimpleRNN(2, return_sequences=True),\n",
        "     # Replica o valor do output TIME_STEPS vezes\n",
        "    # layers.RepeatVector(TIME_STEPS),\n",
        "     layers.Dense(VOCAB_SIZE, activation= \"softmax\")\n",
        "    ]\n",
        ")\n",
        "\n",
        "modelo.summary()\n",
        "\n",
        "# Treinando modelo\n",
        "modelo.compile(optimizer='adam', metrics=['accuracy'], loss= keras.losses.categorical_crossentropy)\n",
        "hist = modelo.fit(x = X_train, y = Y_train, validation_split=0.2, batch_size = 1000, epochs=50, verbose=0)\n",
        "\n",
        "# Grafico\n",
        "plot(hist)\n",
        "\n",
        "# Previsões\n",
        "y_hat = modelo(X_test[0:10])\n",
        "\n",
        "n = [randint(0,199) for x in range(10)]\n",
        "x = [one_hot_decode(y) for y in X_test[n] ]\n",
        "y_hat_num = [[np.argmax(y) for y in k] for k in y_hat]\n",
        "y = [one_hot_decode(y) for y in Y_test[n] ]\n",
        "\n",
        "print(\"--Algumas previsões---\")\n",
        "print(f'x:\\n{x}\\ny_hat:\\n{y_hat_num}\\ny:\\n{y}')\n",
        "\n",
        "keras.backend.clear_session()"
      ],
      "execution_count": null,
      "outputs": []
    },
    {
      "cell_type": "markdown",
      "metadata": {
        "id": "akrp1IGzah0n"
      },
      "source": [
        "# Seq-Seq"
      ]
    },
    {
      "cell_type": "code",
      "metadata": {
        "id": "Bos8pRQgaU09"
      },
      "source": [
        "# Treina os Tokens\n",
        "tokenizer1 = Tokenizer(char_level=True, lower=False)\n",
        "\n",
        "vocab = sorted(set(Generative_inputs))\n",
        "char2idx = {u:i for i, u in enumerate(vocab)}\n",
        "\n",
        "idx2char = np.array(vocab)"
      ],
      "execution_count": null,
      "outputs": []
    },
    {
      "cell_type": "code",
      "metadata": {
        "id": "I3eQMB7YG4CC"
      },
      "source": [
        "def vectorize_string(string):\n",
        "  vectorized_output = np.array([char2idx[char] for char in string])\n",
        "  return vectorized_output\n",
        "\n",
        "def get_batch(vectorized_songs, seq_length, batch_size):\n",
        "  # the length of the vectorized songs string\n",
        "  n = vectorized_songs.shape[0] - 1\n",
        "  # randomly choose the starting indices for the examples in the training batch\n",
        "  idx = np.random.choice(n-seq_length, batch_size)\n",
        "\n",
        "  input_batch = [vectorized_songs[i : i+seq_length] for i in idx]\n",
        "  output_batch = [vectorized_songs[i+1 : i+seq_length+1] for i in idx]\n",
        "\n",
        "  # x_batch, y_batch provide the true inputs and targets for network training\n",
        "  x_batch = np.reshape(input_batch, [batch_size, seq_length])\n",
        "  y_batch = np.reshape(output_batch, [batch_size, seq_length])\n",
        "  return x_batch, y_batch\n",
        "\n",
        "\n",
        "\n",
        "X, Y = get_batch(vectorize_string(Generative_inputs), 30, 1000)"
      ],
      "execution_count": null,
      "outputs": []
    },
    {
      "cell_type": "code",
      "metadata": {
        "id": "8rxY8wc2eTJR"
      },
      "source": [
        "Model = keras.Sequential()\n",
        "\n",
        "Model.add(layers.Embedding(len(vocab), 250, batch_input_shape=[1000, None]))\n",
        "Model.add(layers.LSTM(100))\n",
        "Model.add(layers.Dense(len(vocab)))\n",
        "\n",
        "Model.compile(\n",
        "    optimizer=keras.optimizers.Adam(1e-1),\n",
        "    loss = \"sparse_categorical_crossentropy\",\n",
        "    metrics = keras.metrics.categorical_accuracy\n",
        ")\n",
        "\n",
        "Y.shape\n",
        "\n",
        "Model.fit(x= X,y=Y, epochs=100)\n",
        "\n",
        "Model(X)\n"
      ],
      "execution_count": null,
      "outputs": []
    },
    {
      "cell_type": "markdown",
      "metadata": {
        "id": "43FCVoZxTx0x"
      },
      "source": [
        "# Seq2value"
      ]
    },
    {
      "cell_type": "code",
      "metadata": {
        "id": "yrFvsM7XT47k"
      },
      "source": [
        "df2.head()\n",
        "\n",
        "from keras.layers.normalization import BatchNormalization\n",
        "\n",
        "Model = keras.Sequential()\n",
        "\n",
        "Model.add(layers.LSTM(64, input_shape=(None, 3), return_sequences=True))\n",
        "Model.add(layers.LSTM(64))\n",
        "Model.add(layers.Dense(10, activation=keras.activations.elu))\n",
        "Model.add(BatchNormalization())\n",
        "Model.add(layers.Dense(1, activation='linear'))\n",
        "\n",
        "Model.summary()\n",
        "\n",
        "df2.columns\n",
        "\n",
        "\n",
        "\n",
        "X_train, X_test, Y_train, Y_test = train_test_split(df2[[\"Open\",\"Low\", 'High']].to_numpy(), df2[['Price']].to_numpy(), test_size = 0.2)\n",
        "\n",
        "X_train[1]\n",
        "\n",
        "Model(X_train)"
      ],
      "execution_count": null,
      "outputs": []
    },
    {
      "cell_type": "markdown",
      "metadata": {
        "id": "b06KTcSQGYDt"
      },
      "source": [
        "# Encode-Decode (Seq2Seq)"
      ]
    },
    {
      "cell_type": "code",
      "metadata": {
        "id": "-FviOrtB45y4"
      },
      "source": [
        "MAX_LENGTH_TITLE = 26\n",
        "MAX_LENGTH_POEM = 30\n",
        "\n",
        "\n",
        "\n",
        "data_Econder_inputs = pad_sequences(data['Econder_inputs'], maxlen=MAX_LENGTH_TITLE, padding='post', truncating='post')\n",
        "\n",
        "data_Decoder_inputs = pad_sequences(data['Decoder_inputs'], maxlen=MAX_LENGTH_POEM, padding='post', truncating='post')\n",
        "\n",
        "data_Decoder_targets = pad_sequences(data['Decoder_targets'], maxlen=MAX_LENGTH_POEM, padding='post', truncating='post')\n",
        "\n",
        "\n",
        "Encoder_Train, Encoder_Test, _, _ = train_test_split(data_Econder_inputs, data_Decoder_inputs, test_size = 0.2, random_state=5)\n",
        "Decoder_Train, Decoder_Test, Target_Train, Target_Test  =  train_test_split(data_Decoder_inputs, data_Decoder_targets, test_size = 0.2, random_state=5)\n",
        "\n",
        "Target_Train = keras.utils.to_categorical(Target_Train, num_classes=VOCAB_SIZE_DECODER)\n",
        "Target_Test = keras.utils.to_categorical(Target_Test, num_classes=VOCAB_SIZE_DECODER)\n"
      ],
      "execution_count": null,
      "outputs": []
    },
    {
      "cell_type": "code",
      "metadata": {
        "id": "9OvEtyZy8jXy",
        "colab": {
          "base_uri": "https://localhost:8080/",
          "height": 1000
        },
        "outputId": "d47ffe0f-74d8-4bee-d9c6-ada7997a1a6c"
      },
      "source": [
        "# The embedding dimension\n",
        "embedding_dim_Encoder = 60\n",
        "embedding_dim_Decoder =  300\n",
        "VOCAB_SIZE_ENCODER = VOCAB_SIZE_DECODER\n",
        "\n",
        "# Number of RNN units\n",
        "rnn_units = 100\n",
        "\n",
        "\n",
        "## Encoder\n",
        "encode_input = keras.Input(shape=(None,), name=\"title\")\n",
        "encode_features = layers.Embedding(VOCAB_SIZE_ENCODER, embedding_dim_Encoder)(encode_input) \n",
        "encoder = layers.LSTM(rnn_units, return_state=True, name = 'encode')\n",
        "encode_output, state_h, state_c = encoder(encode_features)\n",
        "\n",
        "# Estado da celula \n",
        "encoder_state = [state_h, state_c]\n",
        "\n",
        "#layers.Bidirectional\n",
        "\n",
        "#layers.CuDNNLSTM\n",
        "\n",
        "## Decoder\n",
        "decode_input = keras.Input(shape=(None,), name=\"content\")\n",
        "decode_features = layers.Embedding(VOCAB_SIZE_DECODER, embedding_dim_Decoder)(decode_input)\n",
        "decode = layers.LSTM(rnn_units, return_state=True, return_sequences=True, name = 'decode')\n",
        "decode_out, _, _ = decode(decode_features, initial_state = encoder_state)\n",
        "decoder_outputs = layers.Dense(VOCAB_SIZE_DECODER, activation=\"softmax\")(decode_out)\n",
        "\n",
        "# Estado da celula \n",
        "\n",
        "\n",
        "model = keras.Model([encode_input, decode_input], decoder_outputs)\n",
        "model.summary()\n",
        "\n",
        "#keras.backend.clear_session()\n",
        "\n",
        "#keras.utils.plot_model(model, \"multi_input_and_output_model.png\", show_shapes=True)\n",
        "\n",
        "hist = model.compile(\n",
        "    optimizer=keras.optimizers.Adam(1e-2),\n",
        "    loss = \"categorical_crossentropy\",\n",
        "    metrics = \"acc\"\n",
        ")\n",
        "\n",
        "#class CustomCallback(keras.callbacks.Callback):\n",
        "#  def on_epoch_end(self, epoch, logs=None):\n",
        "#    if 0 == epoch%1: \n",
        "#        print(f'Época: {epoch} \\n output:{logs[\"predict\"]}')\n",
        "        \n",
        "\n",
        "history = model.fit([Encoder_Train, Decoder_Train], Target_Train,\n",
        "          batch_size = 5000,\n",
        "          validation_split=0.2,\n",
        "          callbacks=[keras.callbacks.EarlyStopping('loss', min_delta=0.1, patience=3, restore_best_weights=True)],\n",
        "          epochs=10, verbose=2)\n",
        "\n",
        "\n",
        "plt.plot(history.history['acc'])\n",
        "plt.title('model accuracy')\n",
        "plt.ylabel('accuracy')\n",
        "plt.xlabel('epoch')\n",
        "plt.legend(['train', 'val'], loc='upper left')\n",
        "plt.show()\n"
      ],
      "execution_count": null,
      "outputs": [
        {
          "output_type": "stream",
          "text": [
            "Model: \"model_25\"\n",
            "__________________________________________________________________________________________________\n",
            "Layer (type)                    Output Shape         Param #     Connected to                     \n",
            "==================================================================================================\n",
            "title (InputLayer)              [(None, None)]       0                                            \n",
            "__________________________________________________________________________________________________\n",
            "content (InputLayer)            [(None, None)]       0                                            \n",
            "__________________________________________________________________________________________________\n",
            "embedding_57 (Embedding)        (None, None, 60)     18000       title[0][0]                      \n",
            "__________________________________________________________________________________________________\n",
            "embedding_58 (Embedding)        (None, None, 300)    90000       content[0][0]                    \n",
            "__________________________________________________________________________________________________\n",
            "encode (LSTM)                   [(None, 100), (None, 64400       embedding_57[0][0]               \n",
            "__________________________________________________________________________________________________\n",
            "decode (LSTM)                   [(None, None, 100),  160400      embedding_58[0][0]               \n",
            "                                                                 encode[0][1]                     \n",
            "                                                                 encode[0][2]                     \n",
            "__________________________________________________________________________________________________\n",
            "dense_25 (Dense)                (None, None, 300)    30300       decode[0][0]                     \n",
            "==================================================================================================\n",
            "Total params: 363,100\n",
            "Trainable params: 363,100\n",
            "Non-trainable params: 0\n",
            "__________________________________________________________________________________________________\n",
            "Epoch 1/10\n",
            "WARNING:tensorflow:5 out of the last 13 calls to <function Model.make_test_function.<locals>.test_function at 0x7ff9a3461170> triggered tf.function retracing. Tracing is expensive and the excessive number of tracings could be due to (1) creating @tf.function repeatedly in a loop, (2) passing tensors with different shapes, (3) passing Python objects instead of tensors. For (1), please define your @tf.function outside of the loop. For (2), @tf.function has experimental_relax_shapes=True option that relaxes argument shapes that can avoid unnecessary retracing. For (3), please refer to https://www.tensorflow.org/guide/function#controlling_retracing and https://www.tensorflow.org/api_docs/python/tf/function for  more details.\n",
            "2/2 - 16s - loss: 5.6659 - acc: 0.1302 - val_loss: 4.7715 - val_acc: 0.4190\n",
            "Epoch 2/10\n",
            "2/2 - 12s - loss: 4.4573 - acc: 0.4189 - val_loss: 3.3924 - val_acc: 0.4190\n",
            "Epoch 3/10\n",
            "2/2 - 12s - loss: 3.4001 - acc: 0.4186 - val_loss: 3.3534 - val_acc: 0.4190\n",
            "Epoch 4/10\n",
            "2/2 - 12s - loss: 3.3521 - acc: 0.4186 - val_loss: 3.3245 - val_acc: 0.4190\n",
            "Epoch 5/10\n",
            "2/2 - 12s - loss: 3.3218 - acc: 0.4186 - val_loss: 3.2718 - val_acc: 0.4190\n",
            "Epoch 6/10\n",
            "2/2 - 12s - loss: 3.2665 - acc: 0.4186 - val_loss: 3.2324 - val_acc: 0.4190\n",
            "Epoch 7/10\n",
            "2/2 - 12s - loss: 3.2317 - acc: 0.4186 - val_loss: 3.2057 - val_acc: 0.4209\n",
            "Epoch 8/10\n",
            "2/2 - 12s - loss: 3.2015 - acc: 0.4262 - val_loss: 3.1676 - val_acc: 0.4411\n",
            "Epoch 9/10\n",
            "2/2 - 12s - loss: 3.1640 - acc: 0.4423 - val_loss: 3.1435 - val_acc: 0.4430\n",
            "Epoch 10/10\n",
            "2/2 - 13s - loss: 3.1409 - acc: 0.4436 - val_loss: 3.1272 - val_acc: 0.4430\n"
          ],
          "name": "stdout"
        },
        {
          "output_type": "display_data",
          "data": {
            "image/png": "[encoded data removed]",
            "text/plain": [
              "<Figure size 432x288 with 1 Axes>"
            ]
          },
          "metadata": {
            "tags": [],
            "needs_background": "light"
          }
        }
      ]
    },
    {
      "cell_type": "code",
      "metadata": {
        "id": "wQMciqCLNjWf",
        "colab": {
          "base_uri": "https://localhost:8080/"
        },
        "outputId": "847cf0f8-9ec9-43f4-f453-6ac706de9afc"
      },
      "source": [
        "# Predições \n",
        "pred = model.predict([Encoder_Test, Decoder_Test])\n",
        "\n",
        "def deconder_as(pred, num):\n",
        "  \n",
        "  nums = [int(u) for u in (np.random.uniform(0, len(Encoder_Test), 3))]\n",
        "  \n",
        "  for i in nums:\n",
        "    print(i)\n",
        "    preds = tf.random.categorical(pred[i], num_samples=1).numpy()\n",
        "\n",
        "    enc = tokenizer_Encoder.sequences_to_texts(np.array([ [idx] for idx in tf.squeeze(Encoder_Test[(i):(i+1)])]))\n",
        "    res = tokenizer_Decoder.sequences_to_texts(preds)\n",
        "    tgt = tokenizer_Decoder.sequences_to_texts([[idx] for idx in Decoder_Test[i]])\n",
        "    print(f'Encode: \\n>{\"\".join(enc)}')\n",
        "    print(f'Previsto:  \\n>{\" \".join(res)}')\n",
        "    print(f'Real: \\n>{\" \".join(tgt)}' )\n",
        "    print('-------------------\\n')\n",
        "deconder_as(pred,3)\n",
        "\n",
        "\n",
        "#def generating(title, num_words):\n",
        "#  words = []\n",
        "#  # Encoded\n",
        "#  e_text = tokenizer_Encoder.texts_to_sequences(\"title\")\n",
        "#\n",
        "#  encode_output, state_h, state_c = Econder_model(e_text)\n",
        "#  encoder_state = [state_h, state_c]\n",
        "#\n",
        "#  # Decoded\n",
        "#  decode_input = keras.Input(shape=(None,), name=\"content\")\n",
        "#  decode_features = layers.Embedding(VOCAB_SIZE_DECODER, embedding_dim_Decoder)(decode_input)\n",
        "#  decode = layers.LSTM(rnn_units, return_state=True, return_sequences=True, name = 'decode')\n",
        "#  decode_out, state_h, state_c = decode(decode_features, initial_state = encoder_state)\n",
        "#\n",
        "#  decoder_state = [state_h, state_c]\n",
        "#\n",
        "#\n",
        "#  decoder_outputs = layers.Dense(VOCAB_SIZE_DECODER, activation=\"softmax\")(decode_out)\n",
        "#\n",
        "#\n",
        "#\n",
        "#  decoded_model = keras.Model(decode_input, decode_out)\n",
        "#  \n",
        "#  pred = Decoder_model()\n",
        "#\n",
        "#  words.append(decode_out)\n",
        "#  \n",
        "#  for word in range(num_words):\n",
        "#\n",
        "#    decode_out, state_h, state_c = decode(decode_features, initial_state = encoder_state)\n",
        "#\n",
        "#    decoder_state = [state_h, state_c]\n",
        "#\n",
        "#    words.append(decode_out)\n",
        "\n",
        "#    decoder_outputs = layers.Dense(VOCAB_SIZE_DECODER, activation=\"softmax\")(decode_out)\n",
        "#    decoded_model = keras.Model(decode_input, decode_out)\n",
        "\n",
        "\n"
      ],
      "execution_count": null,
      "outputs": [
        {
          "output_type": "stream",
          "text": [
            "2888\n",
            "Encode: \n",
            ">barra de santos\n",
            "Previsto:  \n",
            ">sera quando que em luz estar janeiro pelas palavras ali hoje ja en outro nosso en ti que em outro <OOV> is aqui olhar nao azul oh es and vezes\n",
            "Real: \n",
            ">bos <OOV> \r <OOV> que o mar <OOV> <OOV> ou <OOV> \r em que as <OOV> vem <OOV> <OOV> a <OOV> do meio dia \r e a tarde <OOV> <OOV>\n",
            "-------------------\n",
            "\n",
            "1980\n",
            "Encode: \n",
            ">comer cu, chupar bocetatem\n",
            "Previsto:  \n",
            ">fora paulo los esta no fogo peito maos alem dia rosto com dois sol y and ao medo agua pela amor diz entao \r na pelas me amar in minhas\n",
            "Real: \n",
            ">bos <OOV> \r no <OOV> da <OOV> enquanto <OOV> <OOV> outros <OOV> entre a mulher e o <OOV> quem mais <OOV> tem <OOV> o <OOV> e uma <OOV> que nao\n",
            "-------------------\n",
            "\n",
            "1752\n",
            "Encode: \n",
            ">num zoologico de letras\n",
            "Previsto:  \n",
            ">the vao pode oh sao melhor olhos por ali los my outro tal esta todo ar sonho the pag desejo <OOV> no ser belo sob longe versos dor manha sob\n",
            "Real: \n",
            ">bos <OOV> <OOV> <OOV> <OOV> <OOV> <OOV> <OOV> <OOV> <OOV> <OOV> <OOV> <OOV> <OOV> <OOV> <OOV> <OOV> <OOV> <OOV> <OOV> <OOV> <OOV> <OOV> <OOV> <OOV> <OOV> <OOV> <OOV> <OOV> <OOV>\n",
            "-------------------\n",
            "\n"
          ],
          "name": "stdout"
        }
      ]
    }
  ]
}